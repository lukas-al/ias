{
 "cells": [
  {
   "cell_type": "markdown",
   "metadata": {},
   "source": [
    "# IAS analysis\n",
    "\n",
    "Calculate the median inflation expectations for each bracket.\n",
    "\n",
    "Inflation expectations are categorical data (answers are in buckets).\n",
    "\n",
    "Therefore we need to do the following:\n",
    "1. Split the responses into subsets by age\n",
    "2. For each age, bucket the responses across the groups\n",
    "3. Calculate the median for each age\n",
    "4. Add it to our results table"
   ]
  },
  {
   "cell_type": "code",
   "execution_count": 1,
   "metadata": {},
   "outputs": [],
   "source": [
    "import polars as pl\n",
    "import pandas as pd\n",
    "import plotly.graph_objects as go\n",
    "\n",
    "from typing import Dict, Tuple, Optional"
   ]
  },
  {
   "cell_type": "code",
   "execution_count": 2,
   "metadata": {},
   "outputs": [
    {
     "name": "stderr",
     "output_type": "stream",
     "text": [
      "Could not determine dtype for column 172, falling back to string\n",
      "Could not determine dtype for column 174, falling back to string\n",
      "Could not determine dtype for column 176, falling back to string\n"
     ]
    },
    {
     "data": {
      "text/html": [
       "<div><style>\n",
       ".dataframe > thead > tr,\n",
       ".dataframe > tbody > tr {\n",
       "  text-align: right;\n",
       "  white-space: pre-wrap;\n",
       "}\n",
       "</style>\n",
       "<small>shape: (5, 6)</small><table border=\"1\" class=\"dataframe\"><thead><tr><th>weight</th><th>yyyyqq</th><th>age</th><th>q2a_agg1</th><th>q2b_agg1</th><th>q2c_agg1</th></tr><tr><td>f64</td><td>str</td><td>i64</td><td>str</td><td>str</td><td>str</td></tr></thead><tbody><tr><td>0.741</td><td>&quot;200101&quot;</td><td>5</td><td>null</td><td>null</td><td>null</td></tr><tr><td>1.282</td><td>&quot;200101&quot;</td><td>3</td><td>null</td><td>null</td><td>null</td></tr><tr><td>1.731</td><td>&quot;200101&quot;</td><td>1</td><td>null</td><td>null</td><td>null</td></tr><tr><td>0.877</td><td>&quot;200101&quot;</td><td>3</td><td>null</td><td>null</td><td>null</td></tr><tr><td>0.947</td><td>&quot;200101&quot;</td><td>6</td><td>null</td><td>null</td><td>null</td></tr></tbody></table></div>"
      ],
      "text/plain": [
       "shape: (5, 6)\n",
       "┌────────┬────────┬─────┬──────────┬──────────┬──────────┐\n",
       "│ weight ┆ yyyyqq ┆ age ┆ q2a_agg1 ┆ q2b_agg1 ┆ q2c_agg1 │\n",
       "│ ---    ┆ ---    ┆ --- ┆ ---      ┆ ---      ┆ ---      │\n",
       "│ f64    ┆ str    ┆ i64 ┆ str      ┆ str      ┆ str      │\n",
       "╞════════╪════════╪═════╪══════════╪══════════╪══════════╡\n",
       "│ 0.741  ┆ 200101 ┆ 5   ┆ null     ┆ null     ┆ null     │\n",
       "│ 1.282  ┆ 200101 ┆ 3   ┆ null     ┆ null     ┆ null     │\n",
       "│ 1.731  ┆ 200101 ┆ 1   ┆ null     ┆ null     ┆ null     │\n",
       "│ 0.877  ┆ 200101 ┆ 3   ┆ null     ┆ null     ┆ null     │\n",
       "│ 0.947  ┆ 200101 ┆ 6   ┆ null     ┆ null     ┆ null     │\n",
       "└────────┴────────┴─────┴──────────┴──────────┴──────────┘"
      ]
     },
     "execution_count": 2,
     "metadata": {},
     "output_type": "execute_result"
    }
   ],
   "source": [
    "# Load data\n",
    "ias_raw = pl.read_excel(\n",
    "    '/Users/lukasalemu/Downloads/Inflation Attitudes Survey Feb 2025.xlsx', \n",
    "    sheet_name='Dataset', \n",
    "    columns=['weight', 'yyyyqq', 'age', 'q2a_agg1', 'q2b_agg1', 'q2c_agg1']\n",
    ")\n",
    "ias_raw.head()"
   ]
  },
  {
   "cell_type": "code",
   "execution_count": 3,
   "metadata": {},
   "outputs": [],
   "source": [
    "ias_clean = ias_raw.filter(pl.col(\"q2a_agg1\").is_not_null()) # Filter out nulls"
   ]
  },
  {
   "cell_type": "code",
   "execution_count": 4,
   "metadata": {},
   "outputs": [],
   "source": [
    "\n",
    "q2_agg_ias_class_bounds = {\n",
    "    \"1\": (-1.0, 1.0),   # Down by 1% or less\n",
    "    \"2\": (-2.0, 1.0),   # Down by 1% to <2%\n",
    "    \"3\": (-3.0, 1.0),\n",
    "    \"4\": (-4.0, 1.0),\n",
    "    \"5\": (-5.0, 1.0),\n",
    "    \"6\": (-6.0, 1.0),   # Down by 5% or more (approx.)\n",
    "    \"7\": (0.0, 0.0),    # Not changed\n",
    "    \"8\": (0.0, 1.0),\n",
    "    \"9\": (1.0, 1.0),\n",
    "    \"10\": (2.0, 1.0),\n",
    "    \"11\": (3.0, 1.0),\n",
    "    \"12\": (4.0, 1.0),\n",
    "    \"13\": (5.0, 1.0),\n",
    "    \"14\": (6.0, 1.0),\n",
    "    \"15\": (7.0, 1.0),\n",
    "    \"16\": (8.0, 1.0),\n",
    "    \"17\": (9.0, 1.0),\n",
    "    \"18\": (10.0, 1.0),  # Up by 10% or more (approx.)\n",
    "    \"20\": (10.0, 1.0),  # Up by 10% to <11%\n",
    "    \"21\": (11.0, 1.0),\n",
    "    \"22\": (12.0, 1.0),\n",
    "    \"23\": (13.0, 1.0),\n",
    "    \"24\": (14.0, 1.0),\n",
    "    \"25\": (15.0, 5.0),  # Up by 15% or more (extended width)\n",
    "}\n"
   ]
  },
  {
   "cell_type": "code",
   "execution_count": 5,
   "metadata": {},
   "outputs": [],
   "source": [
    "def clean_ias(df: pl.DataFrame): \n",
    "    df = df.filter(pl.col(\"q2a_agg1\").is_not_null())\n",
    "    df = df.with_columns([\n",
    "        pl.when(pl.col(\"age\") == 8).then(1)\n",
    "        .when(pl.col(\"age\") == 7).then(6)\n",
    "        .otherwise(pl.col(\"age\"))\n",
    "        .alias(\"age\")\n",
    "    ])\n",
    "    return df\n",
    "\n",
    "def convert_yyyyqq_to_datetime(yyyyqq: str) -> pd.Timestamp:\n",
    "    year = int(yyyyqq[:4])\n",
    "    quarter = int(yyyyqq[4:])\n",
    "    month = {1: 1, 2: 4, 3: 7, 4: 10}[quarter]\n",
    "    return pd.Timestamp(year=year, month=month, day=1)\n",
    "\n",
    "def grouped_median_unequal_widths(counts: dict, class_bounds: Dict[str, Tuple[float, float]]) -> Optional[float]:\n",
    "    \"\"\"\n",
    "    Interpolated grouped median with variable class widths.\n",
    "    \n",
    "    counts: dict of {category_label: count}\n",
    "    class_bounds: dict of {category_label: (lower_bound, width)}\n",
    "    Returns interpolated median as float, or None if no data.\n",
    "    \"\"\"\n",
    "    if not counts:\n",
    "        return None\n",
    "\n",
    "    # Sort by lower bound of the class\n",
    "    sorted_items = sorted(\n",
    "        [(label, class_bounds[label][0], class_bounds[label][1], count)\n",
    "         for label, count in counts.items() if label in class_bounds],\n",
    "        key=lambda x: x[1]\n",
    "    )\n",
    "\n",
    "    total = sum(item[3] for item in sorted_items)\n",
    "    if total == 0:\n",
    "        return None\n",
    "\n",
    "    median_pos = total / 2\n",
    "    cum = 0\n",
    "    for label, L, w, f in sorted_items:\n",
    "        prev_cum = cum\n",
    "        cum += f\n",
    "        if cum >= median_pos:\n",
    "            return L + ((median_pos - prev_cum) / f) * w\n",
    "    return None\n",
    "\n",
    "def compute_grouped_medians_polars(df: pl.DataFrame, class_bounds: Dict[str, Tuple[float, float]]):\n",
    "    \n",
    "    questions = ['q2a_agg1', 'q2b_agg1', 'q2c_agg1']\n",
    "    result_frames = {q: {} for q in questions}\n",
    "\n",
    "    # Group by timestamp and age\n",
    "    grouped = df.group_by([\"yyyyqq\", \"age\"])\n",
    "\n",
    "    for (yyyyqq, age), group in grouped:\n",
    "        for question in questions:\n",
    "            counts_df = group[question].value_counts()\n",
    "            if counts_df.height == 0:\n",
    "                median = None\n",
    "            else:\n",
    "                # Convert to dictionary\n",
    "                counts = dict(zip(counts_df[question], counts_df[\"count\"]))\n",
    "                median = grouped_median_unequal_widths(counts, class_bounds)\n",
    "\n",
    "            result_frames[question].setdefault(yyyyqq, {})[age] = median\n",
    "\n",
    "    # Convert results into DataFrames\n",
    "    output = {}\n",
    "    for question, data in result_frames.items():\n",
    "        rows = []\n",
    "        for yyyyqq, age_dict in data.items():\n",
    "            row = {\n",
    "            \"yyyyqq\": convert_yyyyqq_to_datetime(str(yyyyqq))\n",
    "        }\n",
    "            row.update({str(age): val for age, val in age_dict.items()})\n",
    "            rows.append(row)\n",
    "        output[question] = pl.DataFrame(rows).sort(\"yyyyqq\")\n",
    "\n",
    "    return output['q2a_agg1'], output['q2b_agg1'], output['q2c_agg1']\n"
   ]
  },
  {
   "cell_type": "code",
   "execution_count": 6,
   "metadata": {},
   "outputs": [],
   "source": [
    "ias_clean = clean_ias(ias_raw)\n",
    "\n",
    "q2a_median_by_age, q2b_median_by_age, q2c_median_by_age = compute_grouped_medians_polars(ias_clean, q2_agg_ias_class_bounds)"
   ]
  },
  {
   "cell_type": "code",
   "execution_count": 7,
   "metadata": {},
   "outputs": [],
   "source": [
    "\n",
    "def plot_question_medians(df: pl.DataFrame, label_mapping: dict = None, title: str = \"Grouped Median by Age\"):\n",
    "    # Convert to Pandas for Plotly compatibility\n",
    "    pdf = df.to_pandas()\n",
    "\n",
    "    # Rename age columns\n",
    "    if label_mapping:\n",
    "        pdf = pdf.rename(columns={code: label for code, label in label_mapping.items() if code in pdf.columns})\n",
    "\n",
    "    # Melt the DataFrame to long format for easier plotting\n",
    "    df_melted = pdf.melt(id_vars=\"yyyyqq\", var_name=\"Group\", value_name=\"Median\")\n",
    "\n",
    "    # Create Plotly line chart\n",
    "    fig = go.Figure()\n",
    "\n",
    "    for grp in df_melted[\"Group\"].unique():\n",
    "        group_data = df_melted[df_melted[\"Group\"] == grp]\n",
    "        fig.add_trace(go.Scatter(\n",
    "            x=group_data[\"yyyyqq\"],\n",
    "            y=group_data[\"Median\"],\n",
    "            mode='lines+markers',\n",
    "            name=grp\n",
    "        ))\n",
    "\n",
    "    fig.update_layout(\n",
    "        title=title,\n",
    "        xaxis_title=\"Quarter\",\n",
    "        yaxis_title=\"Grouped Median (Interpolated)\",\n",
    "        legend_title=\"Group\",\n",
    "        template=\"plotly_white\",\n",
    "        hovermode=\"x unified\"\n",
    "    )\n",
    "\n",
    "    fig.show()\n",
    "\n",
    "\n",
    "age_map = {\n",
    "        \"1\": \"15-24\",\n",
    "        \"2\": \"25-34\",\n",
    "        \"3\": \"35-44\",\n",
    "        \"4\": \"45-54\",\n",
    "        \"5\": \"55-64\",\n",
    "        \"6\": \"65+\"\n",
    "    }"
   ]
  },
  {
   "cell_type": "code",
   "execution_count": 8,
   "metadata": {},
   "outputs": [
    {
     "data": {
      "text/html": [
       "<div><style>\n",
       ".dataframe > thead > tr,\n",
       ".dataframe > tbody > tr {\n",
       "  text-align: right;\n",
       "  white-space: pre-wrap;\n",
       "}\n",
       "</style>\n",
       "<small>shape: (65, 7)</small><table border=\"1\" class=\"dataframe\"><thead><tr><th>yyyyqq</th><th>6</th><th>5</th><th>3</th><th>2</th><th>1</th><th>4</th></tr><tr><td>datetime[μs]</td><td>f64</td><td>f64</td><td>f64</td><td>f64</td><td>f64</td><td>f64</td></tr></thead><tbody><tr><td>2009-01-01 00:00:00</td><td>2.580645</td><td>2.384615</td><td>1.767857</td><td>1.967213</td><td>2.313725</td><td>2.255556</td></tr><tr><td>2009-04-01 00:00:00</td><td>2.675439</td><td>2.679487</td><td>1.980769</td><td>2.1640625</td><td>2.512195</td><td>2.404762</td></tr><tr><td>2009-07-01 00:00:00</td><td>2.66129</td><td>2.769231</td><td>2.232394</td><td>2.109375</td><td>2.384615</td><td>2.53</td></tr><tr><td>2009-10-01 00:00:00</td><td>2.463768</td><td>2.606383</td><td>2.404412</td><td>2.0</td><td>2.309524</td><td>2.674603</td></tr><tr><td>2010-01-01 00:00:00</td><td>2.734043</td><td>2.797414</td><td>2.399329</td><td>2.112319</td><td>2.13253</td><td>2.780822</td></tr><tr><td>&hellip;</td><td>&hellip;</td><td>&hellip;</td><td>&hellip;</td><td>&hellip;</td><td>&hellip;</td><td>&hellip;</td></tr><tr><td>2024-01-01 00:00:00</td><td>3.053333</td><td>2.906015</td><td>3.318627</td><td>2.791367</td><td>3.12069</td><td>3.090517</td></tr><tr><td>2024-04-01 00:00:00</td><td>2.931034</td><td>2.785714</td><td>2.730769</td><td>2.802469</td><td>2.714286</td><td>2.935897</td></tr><tr><td>2024-07-01 00:00:00</td><td>3.016129</td><td>2.761538</td><td>2.705479</td><td>2.613924</td><td>2.776119</td><td>2.62963</td></tr><tr><td>2024-10-01 00:00:00</td><td>3.0</td><td>3.224359</td><td>2.992958</td><td>2.712644</td><td>3.209677</td><td>2.908537</td></tr><tr><td>2025-01-01 00:00:00</td><td>3.315789</td><td>3.566901</td><td>3.580357</td><td>2.993506</td><td>3.653509</td><td>3.3375</td></tr></tbody></table></div>"
      ],
      "text/plain": [
       "shape: (65, 7)\n",
       "┌─────────────────────┬──────────┬──────────┬──────────┬───────────┬──────────┬──────────┐\n",
       "│ yyyyqq              ┆ 6        ┆ 5        ┆ 3        ┆ 2         ┆ 1        ┆ 4        │\n",
       "│ ---                 ┆ ---      ┆ ---      ┆ ---      ┆ ---       ┆ ---      ┆ ---      │\n",
       "│ datetime[μs]        ┆ f64      ┆ f64      ┆ f64      ┆ f64       ┆ f64      ┆ f64      │\n",
       "╞═════════════════════╪══════════╪══════════╪══════════╪═══════════╪══════════╪══════════╡\n",
       "│ 2009-01-01 00:00:00 ┆ 2.580645 ┆ 2.384615 ┆ 1.767857 ┆ 1.967213  ┆ 2.313725 ┆ 2.255556 │\n",
       "│ 2009-04-01 00:00:00 ┆ 2.675439 ┆ 2.679487 ┆ 1.980769 ┆ 2.1640625 ┆ 2.512195 ┆ 2.404762 │\n",
       "│ 2009-07-01 00:00:00 ┆ 2.66129  ┆ 2.769231 ┆ 2.232394 ┆ 2.109375  ┆ 2.384615 ┆ 2.53     │\n",
       "│ 2009-10-01 00:00:00 ┆ 2.463768 ┆ 2.606383 ┆ 2.404412 ┆ 2.0       ┆ 2.309524 ┆ 2.674603 │\n",
       "│ 2010-01-01 00:00:00 ┆ 2.734043 ┆ 2.797414 ┆ 2.399329 ┆ 2.112319  ┆ 2.13253  ┆ 2.780822 │\n",
       "│ …                   ┆ …        ┆ …        ┆ …        ┆ …         ┆ …        ┆ …        │\n",
       "│ 2024-01-01 00:00:00 ┆ 3.053333 ┆ 2.906015 ┆ 3.318627 ┆ 2.791367  ┆ 3.12069  ┆ 3.090517 │\n",
       "│ 2024-04-01 00:00:00 ┆ 2.931034 ┆ 2.785714 ┆ 2.730769 ┆ 2.802469  ┆ 2.714286 ┆ 2.935897 │\n",
       "│ 2024-07-01 00:00:00 ┆ 3.016129 ┆ 2.761538 ┆ 2.705479 ┆ 2.613924  ┆ 2.776119 ┆ 2.62963  │\n",
       "│ 2024-10-01 00:00:00 ┆ 3.0      ┆ 3.224359 ┆ 2.992958 ┆ 2.712644  ┆ 3.209677 ┆ 2.908537 │\n",
       "│ 2025-01-01 00:00:00 ┆ 3.315789 ┆ 3.566901 ┆ 3.580357 ┆ 2.993506  ┆ 3.653509 ┆ 3.3375   │\n",
       "└─────────────────────┴──────────┴──────────┴──────────┴───────────┴──────────┴──────────┘"
      ]
     },
     "execution_count": 8,
     "metadata": {},
     "output_type": "execute_result"
    }
   ],
   "source": [
    "q2a_median_by_age"
   ]
  },
  {
   "cell_type": "code",
   "execution_count": 9,
   "metadata": {},
   "outputs": [
    {
     "data": {
      "application/vnd.plotly.v1+json": {
       "config": {
        "plotlyServerURL": "https://plot.ly"
       },
       "data": [
        {
         "mode": "lines+markers",
         "name": "65+",
         "type": "scatter",
         "x": [
          "2009-01-01T00:00:00.000000",
          "2009-04-01T00:00:00.000000",
          "2009-07-01T00:00:00.000000",
          "2009-10-01T00:00:00.000000",
          "2010-01-01T00:00:00.000000",
          "2010-04-01T00:00:00.000000",
          "2010-07-01T00:00:00.000000",
          "2010-10-01T00:00:00.000000",
          "2011-01-01T00:00:00.000000",
          "2011-04-01T00:00:00.000000",
          "2011-07-01T00:00:00.000000",
          "2011-10-01T00:00:00.000000",
          "2012-01-01T00:00:00.000000",
          "2012-04-01T00:00:00.000000",
          "2012-07-01T00:00:00.000000",
          "2012-10-01T00:00:00.000000",
          "2013-01-01T00:00:00.000000",
          "2013-04-01T00:00:00.000000",
          "2013-07-01T00:00:00.000000",
          "2013-10-01T00:00:00.000000",
          "2014-01-01T00:00:00.000000",
          "2014-04-01T00:00:00.000000",
          "2014-07-01T00:00:00.000000",
          "2014-10-01T00:00:00.000000",
          "2015-01-01T00:00:00.000000",
          "2015-04-01T00:00:00.000000",
          "2015-07-01T00:00:00.000000",
          "2015-10-01T00:00:00.000000",
          "2016-01-01T00:00:00.000000",
          "2016-04-01T00:00:00.000000",
          "2016-07-01T00:00:00.000000",
          "2016-10-01T00:00:00.000000",
          "2017-01-01T00:00:00.000000",
          "2017-04-01T00:00:00.000000",
          "2017-07-01T00:00:00.000000",
          "2017-10-01T00:00:00.000000",
          "2018-01-01T00:00:00.000000",
          "2018-04-01T00:00:00.000000",
          "2018-07-01T00:00:00.000000",
          "2018-10-01T00:00:00.000000",
          "2019-01-01T00:00:00.000000",
          "2019-04-01T00:00:00.000000",
          "2019-07-01T00:00:00.000000",
          "2019-10-01T00:00:00.000000",
          "2020-01-01T00:00:00.000000",
          "2020-04-01T00:00:00.000000",
          "2020-07-01T00:00:00.000000",
          "2020-10-01T00:00:00.000000",
          "2021-01-01T00:00:00.000000",
          "2021-04-01T00:00:00.000000",
          "2021-07-01T00:00:00.000000",
          "2021-10-01T00:00:00.000000",
          "2022-01-01T00:00:00.000000",
          "2022-04-01T00:00:00.000000",
          "2022-07-01T00:00:00.000000",
          "2022-10-01T00:00:00.000000",
          "2023-01-01T00:00:00.000000",
          "2023-04-01T00:00:00.000000",
          "2023-07-01T00:00:00.000000",
          "2023-10-01T00:00:00.000000",
          "2024-01-01T00:00:00.000000",
          "2024-04-01T00:00:00.000000",
          "2024-07-01T00:00:00.000000",
          "2024-10-01T00:00:00.000000",
          "2025-01-01T00:00:00.000000"
         ],
         "y": {
          "bdata": "pZRSSimlBEB1FtNZTGcFQEoppZRSSgVAOzDXDsy1A0Boo76zUd8FQJDgPoL7CA5AC1nIQhayDUC4Sz0Zv10QQOQ4juM4zhBAapqmaZqmEUAAAAAAAAASQNu2bdu2bRFAhmEYhmEYDkAyOB+D8zEOQAAAAAAAAApAyEIWspCFEEAw1w7MtQMPQNy2bdu2bQ9Ajd8u9WT8CkB+V4ubML8PQCG5gNfb6AdAzssiPoFUBkA//fTTTz8FQLq5ubm5uQNApEEapEEa+j8KXk7ByykAQKnvbNR3Nv4/qqqqqqrq+j/O7bXkEFf5P355bEXQcP4/QxaykIUsAEDmnkZY7mkEQFSCPCXIUwZAQ3kN5TUUBUA++OCDDz4GQGZmZmZmJgZAv1Kg1q8UCECIh4eHh4cHQAAAAAAAwAdAQPdzP/dzB0A7v/aQy4oJQI6+Ofrm6AdA7iGXFQMlDEAjRowYMWIIQKcwzqYwzgZAKHZiJ3biB0DDSd2Xx1YIQCsGSnijqQdAjWc84xnPBkAndmIndmIDQPMT4qz8hAhACObagbl2DEBYxvY7emUIQHlKkKcEeQpA0HBS9+WxCUDUBOOt7HMMQG72C7GiNApAyOB8DM7HCEC9T3HJEKwLQC666KKLLgpAbaDTBjptCEAjLPc0wnIHQCGEEEIIIQhAAAAAAAAACEBsKK+hvIYKQA==",
          "dtype": "f8"
         }
        },
        {
         "mode": "lines+markers",
         "name": "55-64",
         "type": "scatter",
         "x": [
          "2009-01-01T00:00:00.000000",
          "2009-04-01T00:00:00.000000",
          "2009-07-01T00:00:00.000000",
          "2009-10-01T00:00:00.000000",
          "2010-01-01T00:00:00.000000",
          "2010-04-01T00:00:00.000000",
          "2010-07-01T00:00:00.000000",
          "2010-10-01T00:00:00.000000",
          "2011-01-01T00:00:00.000000",
          "2011-04-01T00:00:00.000000",
          "2011-07-01T00:00:00.000000",
          "2011-10-01T00:00:00.000000",
          "2012-01-01T00:00:00.000000",
          "2012-04-01T00:00:00.000000",
          "2012-07-01T00:00:00.000000",
          "2012-10-01T00:00:00.000000",
          "2013-01-01T00:00:00.000000",
          "2013-04-01T00:00:00.000000",
          "2013-07-01T00:00:00.000000",
          "2013-10-01T00:00:00.000000",
          "2014-01-01T00:00:00.000000",
          "2014-04-01T00:00:00.000000",
          "2014-07-01T00:00:00.000000",
          "2014-10-01T00:00:00.000000",
          "2015-01-01T00:00:00.000000",
          "2015-04-01T00:00:00.000000",
          "2015-07-01T00:00:00.000000",
          "2015-10-01T00:00:00.000000",
          "2016-01-01T00:00:00.000000",
          "2016-04-01T00:00:00.000000",
          "2016-07-01T00:00:00.000000",
          "2016-10-01T00:00:00.000000",
          "2017-01-01T00:00:00.000000",
          "2017-04-01T00:00:00.000000",
          "2017-07-01T00:00:00.000000",
          "2017-10-01T00:00:00.000000",
          "2018-01-01T00:00:00.000000",
          "2018-04-01T00:00:00.000000",
          "2018-07-01T00:00:00.000000",
          "2018-10-01T00:00:00.000000",
          "2019-01-01T00:00:00.000000",
          "2019-04-01T00:00:00.000000",
          "2019-07-01T00:00:00.000000",
          "2019-10-01T00:00:00.000000",
          "2020-01-01T00:00:00.000000",
          "2020-04-01T00:00:00.000000",
          "2020-07-01T00:00:00.000000",
          "2020-10-01T00:00:00.000000",
          "2021-01-01T00:00:00.000000",
          "2021-04-01T00:00:00.000000",
          "2021-07-01T00:00:00.000000",
          "2021-10-01T00:00:00.000000",
          "2022-01-01T00:00:00.000000",
          "2022-04-01T00:00:00.000000",
          "2022-07-01T00:00:00.000000",
          "2022-10-01T00:00:00.000000",
          "2023-01-01T00:00:00.000000",
          "2023-04-01T00:00:00.000000",
          "2023-07-01T00:00:00.000000",
          "2023-10-01T00:00:00.000000",
          "2024-01-01T00:00:00.000000",
          "2024-04-01T00:00:00.000000",
          "2024-07-01T00:00:00.000000",
          "2024-10-01T00:00:00.000000",
          "2025-01-01T00:00:00.000000"
         ],
         "y": {
          "bdata": "O7ETO7ETA0D6lm/5lm8FQHZiJ3ZiJwZApL6zUd/ZBECoEZZ7GmEGQDMzMzMzMw9AeqEXeqEXEEAK16NwPQoQQA+YPWD2gBFA1EEd1EEdEUCIh4eHh4cRQOh5nud5nhJAKJFp2G6WD0AzMzMzMzMQQB5xR9wRdwxAx3Ecx3EcDkCRMvB0a34QQD4G52NwPhBAW2uttdZaC0CIh4eHh4cQQJqZmZmZ2QhAHMdxHMdxBEDFTuzETuwFQG9ln0NqggVAVlVVVVUV/z9BQUFBQUEBQLyVfQ6pCQJATGgvob2E/j+cl0V8Aqn8P3FS9+WxFQFA532KS4ZgAUC2A3PtwFwHQK+hvIbyGghAXDIE62jzBkBmWZZlWZYJQKuqqqqqqghA2qjvbNR3CEDmsRVBw0kJQHZiJ3ZiJwtAKCgoKCgoCED5lm/5lm8LQIOYXEFMrghAVVVVVVVVCkDe3d3d3d0JQDaU11BeQwhAUvflsRVBC0C7wRT5rBsIQMprKK+hvAZAAAAAAADgBUBKR/YMRKUDQGZmZmZmZgZADuU1lNdQDkAAAAAAAEAYQDuxEzuxExlAAAAAAABAH0A5juM4juMcQJQ+6ZM+6RJAntiJndiJD0Aa60NjfWgQQGpXonYlag9A+DPhz4Q/B0CSJEmSJEkGQHqhF3qhFwZAuHzLt3zLCUAg0QqbA4kMQA==",
          "dtype": "f8"
         }
        },
        {
         "mode": "lines+markers",
         "name": "35-44",
         "type": "scatter",
         "x": [
          "2009-01-01T00:00:00.000000",
          "2009-04-01T00:00:00.000000",
          "2009-07-01T00:00:00.000000",
          "2009-10-01T00:00:00.000000",
          "2010-01-01T00:00:00.000000",
          "2010-04-01T00:00:00.000000",
          "2010-07-01T00:00:00.000000",
          "2010-10-01T00:00:00.000000",
          "2011-01-01T00:00:00.000000",
          "2011-04-01T00:00:00.000000",
          "2011-07-01T00:00:00.000000",
          "2011-10-01T00:00:00.000000",
          "2012-01-01T00:00:00.000000",
          "2012-04-01T00:00:00.000000",
          "2012-07-01T00:00:00.000000",
          "2012-10-01T00:00:00.000000",
          "2013-01-01T00:00:00.000000",
          "2013-04-01T00:00:00.000000",
          "2013-07-01T00:00:00.000000",
          "2013-10-01T00:00:00.000000",
          "2014-01-01T00:00:00.000000",
          "2014-04-01T00:00:00.000000",
          "2014-07-01T00:00:00.000000",
          "2014-10-01T00:00:00.000000",
          "2015-01-01T00:00:00.000000",
          "2015-04-01T00:00:00.000000",
          "2015-07-01T00:00:00.000000",
          "2015-10-01T00:00:00.000000",
          "2016-01-01T00:00:00.000000",
          "2016-04-01T00:00:00.000000",
          "2016-07-01T00:00:00.000000",
          "2016-10-01T00:00:00.000000",
          "2017-01-01T00:00:00.000000",
          "2017-04-01T00:00:00.000000",
          "2017-07-01T00:00:00.000000",
          "2017-10-01T00:00:00.000000",
          "2018-01-01T00:00:00.000000",
          "2018-04-01T00:00:00.000000",
          "2018-07-01T00:00:00.000000",
          "2018-10-01T00:00:00.000000",
          "2019-01-01T00:00:00.000000",
          "2019-04-01T00:00:00.000000",
          "2019-07-01T00:00:00.000000",
          "2019-10-01T00:00:00.000000",
          "2020-01-01T00:00:00.000000",
          "2020-04-01T00:00:00.000000",
          "2020-07-01T00:00:00.000000",
          "2020-10-01T00:00:00.000000",
          "2021-01-01T00:00:00.000000",
          "2021-04-01T00:00:00.000000",
          "2021-07-01T00:00:00.000000",
          "2021-10-01T00:00:00.000000",
          "2022-01-01T00:00:00.000000",
          "2022-04-01T00:00:00.000000",
          "2022-07-01T00:00:00.000000",
          "2022-10-01T00:00:00.000000",
          "2023-01-01T00:00:00.000000",
          "2023-04-01T00:00:00.000000",
          "2023-07-01T00:00:00.000000",
          "2023-10-01T00:00:00.000000",
          "2024-01-01T00:00:00.000000",
          "2024-04-01T00:00:00.000000",
          "2024-07-01T00:00:00.000000",
          "2024-10-01T00:00:00.000000",
          "2025-01-01T00:00:00.000000"
         ],
         "y": {
          "bdata": "kiRJkiRJ/D8UO7ETO7H/P3671JPx2wFAPDw8PDw8A0B9GzBU0zEDQExoL6G9hAhAaZAGaZAGCUAAAAAAAAAOQNu2bdu2DRBA3LZt27ZtD0AAAAAAAJAQQMQdcUfcERFAPc/zPM/zC0C96U1vetMNQFVVVVVVVQlASZIkSZIkD0DoC/qCvqAPQAAAAAAAwApAFl/xFV/xCUBddNFFF10OQMomm2yyyQZAD+qgDuqgBEBaqZVaqZUGQOMrvuIrvgRA2WSTTTbZAUA3ciM3ciMDQCVJkiRJkgBAuWQI1tHmAUCSJEmSJMn9P1VVVVVVVQFANu9TXDIEA0DLsizLsiwHQJqZmZmZmQdAFDuxEzuxB0DylCBPCfIEQAAAAAAAAAhAiIeHh4eHB0C4HoXrUbgIQNqo72zUdwZAuuiiiy66CkC35odFysALQIX2EtpLaAdAoQ7qoA7qCEAWX/EVX/EJQN7KPofUBAlAh9QE463sB0Dd0wjLPY0GQJZ9DqkJxgdA1Jve9KY3BUDDr8ZEeqACQL9Y8oslvwRAJUmSJEkSCEBGF1100YUSQN3c3Nzc3BBAAAAAAAAAEUBu27Zt27YUQAAAAAAAAA5AjfWhsT40CkAAAAAAAAAKQAzDMAzDMApAjIyMjIyMCkCKndiJndgFQE2aNGnSpAVAMn671JPxB0BJkiRJkqQMQA==",
          "dtype": "f8"
         }
        },
        {
         "mode": "lines+markers",
         "name": "25-34",
         "type": "scatter",
         "x": [
          "2009-01-01T00:00:00.000000",
          "2009-04-01T00:00:00.000000",
          "2009-07-01T00:00:00.000000",
          "2009-10-01T00:00:00.000000",
          "2010-01-01T00:00:00.000000",
          "2010-04-01T00:00:00.000000",
          "2010-07-01T00:00:00.000000",
          "2010-10-01T00:00:00.000000",
          "2011-01-01T00:00:00.000000",
          "2011-04-01T00:00:00.000000",
          "2011-07-01T00:00:00.000000",
          "2011-10-01T00:00:00.000000",
          "2012-01-01T00:00:00.000000",
          "2012-04-01T00:00:00.000000",
          "2012-07-01T00:00:00.000000",
          "2012-10-01T00:00:00.000000",
          "2013-01-01T00:00:00.000000",
          "2013-04-01T00:00:00.000000",
          "2013-07-01T00:00:00.000000",
          "2013-10-01T00:00:00.000000",
          "2014-01-01T00:00:00.000000",
          "2014-04-01T00:00:00.000000",
          "2014-07-01T00:00:00.000000",
          "2014-10-01T00:00:00.000000",
          "2015-01-01T00:00:00.000000",
          "2015-04-01T00:00:00.000000",
          "2015-07-01T00:00:00.000000",
          "2015-10-01T00:00:00.000000",
          "2016-01-01T00:00:00.000000",
          "2016-04-01T00:00:00.000000",
          "2016-07-01T00:00:00.000000",
          "2016-10-01T00:00:00.000000",
          "2017-01-01T00:00:00.000000",
          "2017-04-01T00:00:00.000000",
          "2017-07-01T00:00:00.000000",
          "2017-10-01T00:00:00.000000",
          "2018-01-01T00:00:00.000000",
          "2018-04-01T00:00:00.000000",
          "2018-07-01T00:00:00.000000",
          "2018-10-01T00:00:00.000000",
          "2019-01-01T00:00:00.000000",
          "2019-04-01T00:00:00.000000",
          "2019-07-01T00:00:00.000000",
          "2019-10-01T00:00:00.000000",
          "2020-01-01T00:00:00.000000",
          "2020-04-01T00:00:00.000000",
          "2020-07-01T00:00:00.000000",
          "2020-10-01T00:00:00.000000",
          "2021-01-01T00:00:00.000000",
          "2021-04-01T00:00:00.000000",
          "2021-07-01T00:00:00.000000",
          "2021-10-01T00:00:00.000000",
          "2022-01-01T00:00:00.000000",
          "2022-04-01T00:00:00.000000",
          "2022-07-01T00:00:00.000000",
          "2022-10-01T00:00:00.000000",
          "2023-01-01T00:00:00.000000",
          "2023-04-01T00:00:00.000000",
          "2023-07-01T00:00:00.000000",
          "2023-10-01T00:00:00.000000",
          "2024-01-01T00:00:00.000000",
          "2024-04-01T00:00:00.000000",
          "2024-07-01T00:00:00.000000",
          "2024-10-01T00:00:00.000000",
          "2025-01-01T00:00:00.000000"
         ],
         "y": {
          "bdata": "LhmCdbR5/z8AAAAAAFABQAAAAAAA4ABAAAAAAAAAAECuHZhrB+YAQFK4HoXrUQhA8RVf8RVfB0AjLPc0wnINQHwjCkw6NQtAEPzAD/zAC0BrrbXWWmsNQKuqqqqqqglAQHKar9WzB0BVVVVVVVUNQLSX0F5CewlAAAAAAACACEDMLrvssssKQNhQXkN5DQtAWlpaWlpaC0BhuacRlnsMQKOuqCvqigZAwcDAwMDABECodGTPQFQGQMln3WCKfARAr0TtStSuAUBFKEIRilAEQHIcx3EcxwJAt23btm3bAkDJrk2U7NoAQMs9jbDc0wJAMzMzMzMzAUCmBvaOqYEFQFTr7Iuo1gVAJedlEZ9ABkCamZmZmZkFQJo6v/aQywZAdW9AmbjSBUBmZmZmZmYGQCjhjabOrwVACCGEEEIIB0A7sRM7sRMJQBW8nIKXUwhA0UUXXXTRCEAlSZIkSRIJQGpXonYlagdAmpmZmZmZBUBVVVVVVVUFQIiIiIiIiARAjuM4juP4BEDbN6x9w9oDQAAAAAAAAAVA3ciN3MiNCEAsvMIrvMILQKuqqqqqqhBAT+zETuxEEEAQjfWhsT4QQLmnEZZ7GgtAs88hNcF4C0AAAAAAAAAKQAAAAAAAYAdAf5EzLLhUBkBikTLwdGsGQNORPQNR6QRA6Ddbh36zBUDOyk+Is/IHQA==",
          "dtype": "f8"
         }
        },
        {
         "mode": "lines+markers",
         "name": "15-24",
         "type": "scatter",
         "x": [
          "2009-01-01T00:00:00.000000",
          "2009-04-01T00:00:00.000000",
          "2009-07-01T00:00:00.000000",
          "2009-10-01T00:00:00.000000",
          "2010-01-01T00:00:00.000000",
          "2010-04-01T00:00:00.000000",
          "2010-07-01T00:00:00.000000",
          "2010-10-01T00:00:00.000000",
          "2011-01-01T00:00:00.000000",
          "2011-04-01T00:00:00.000000",
          "2011-07-01T00:00:00.000000",
          "2011-10-01T00:00:00.000000",
          "2012-01-01T00:00:00.000000",
          "2012-04-01T00:00:00.000000",
          "2012-07-01T00:00:00.000000",
          "2012-10-01T00:00:00.000000",
          "2013-01-01T00:00:00.000000",
          "2013-04-01T00:00:00.000000",
          "2013-07-01T00:00:00.000000",
          "2013-10-01T00:00:00.000000",
          "2014-01-01T00:00:00.000000",
          "2014-04-01T00:00:00.000000",
          "2014-07-01T00:00:00.000000",
          "2014-10-01T00:00:00.000000",
          "2015-01-01T00:00:00.000000",
          "2015-04-01T00:00:00.000000",
          "2015-07-01T00:00:00.000000",
          "2015-10-01T00:00:00.000000",
          "2016-01-01T00:00:00.000000",
          "2016-04-01T00:00:00.000000",
          "2016-07-01T00:00:00.000000",
          "2016-10-01T00:00:00.000000",
          "2017-01-01T00:00:00.000000",
          "2017-04-01T00:00:00.000000",
          "2017-07-01T00:00:00.000000",
          "2017-10-01T00:00:00.000000",
          "2018-01-01T00:00:00.000000",
          "2018-04-01T00:00:00.000000",
          "2018-07-01T00:00:00.000000",
          "2018-10-01T00:00:00.000000",
          "2019-01-01T00:00:00.000000",
          "2019-04-01T00:00:00.000000",
          "2019-07-01T00:00:00.000000",
          "2019-10-01T00:00:00.000000",
          "2020-01-01T00:00:00.000000",
          "2020-04-01T00:00:00.000000",
          "2020-07-01T00:00:00.000000",
          "2020-10-01T00:00:00.000000",
          "2021-01-01T00:00:00.000000",
          "2021-04-01T00:00:00.000000",
          "2021-07-01T00:00:00.000000",
          "2021-10-01T00:00:00.000000",
          "2022-01-01T00:00:00.000000",
          "2022-04-01T00:00:00.000000",
          "2022-07-01T00:00:00.000000",
          "2022-10-01T00:00:00.000000",
          "2023-01-01T00:00:00.000000",
          "2023-04-01T00:00:00.000000",
          "2023-07-01T00:00:00.000000",
          "2023-10-01T00:00:00.000000",
          "2024-01-01T00:00:00.000000",
          "2024-04-01T00:00:00.000000",
          "2024-07-01T00:00:00.000000",
          "2024-10-01T00:00:00.000000",
          "2025-01-01T00:00:00.000000"
         ],
         "y": {
          "bdata": "goKCgoKCAkAZnI/B+RgEQDuxEzuxEwNAnud5nud5AkB4o6nzaw8BQCp4OQUvpwRA60NjfWisB0ASlnsaYbkLQFiidiVqVw5AX/EVX/EVC0CSJEmSJEkOQDw8PDw8PAxA52NwPgbnB0BeQ3kN5TUKQKbIZ91gighA+xxSE4y3BkBp0qRJkyYJQAAAAAAAAApA5DiO4ziOB0AiNcF4K/sEQAQHDhw4cARAm7KmrClrAkAAAAAAAIAIQNSuRO1K1AJABn1BX9AXAEAlSZIkSRICQGWfQ2qC8QJAAAAAAACAAUBJkiRJkiQBQDI4H4PzMQBARhdddNFFBEDxFV/xFV8FQEdu5EZu5ARADqbIZ91gBkDMt3zLt3wDQAAAAAAAAARAdoMp8lk3BEAPDw8PDw8FQOGDDz744AdAAAAAAADAB0AzKqMyKqMGQLdt27Zt2wZAzczMzMzMCEBt1Hc26jsHQNOw3SxPIgdAAAAAAAAgBEBddNFFF10DQKesKWvKmgJAvEAmxQtkAkAq8lk3mCIDQAAAAAAAAP8/nN70pje9A0DwdGt+WKQSQAAAAAAAABhAetOb3vSmF0D2KFyPwvUWQAAAAAAAwBFAAAAAAAAACkBKKaWUUkoNQBBCCCGEEApAwnJPIyz3CEBu27Zt27YFQEHl7BZ+NQZArbXWWmutCUCms5jOYjoNQA==",
          "dtype": "f8"
         }
        },
        {
         "mode": "lines+markers",
         "name": "45-54",
         "type": "scatter",
         "x": [
          "2009-01-01T00:00:00.000000",
          "2009-04-01T00:00:00.000000",
          "2009-07-01T00:00:00.000000",
          "2009-10-01T00:00:00.000000",
          "2010-01-01T00:00:00.000000",
          "2010-04-01T00:00:00.000000",
          "2010-07-01T00:00:00.000000",
          "2010-10-01T00:00:00.000000",
          "2011-01-01T00:00:00.000000",
          "2011-04-01T00:00:00.000000",
          "2011-07-01T00:00:00.000000",
          "2011-10-01T00:00:00.000000",
          "2012-01-01T00:00:00.000000",
          "2012-04-01T00:00:00.000000",
          "2012-07-01T00:00:00.000000",
          "2012-10-01T00:00:00.000000",
          "2013-01-01T00:00:00.000000",
          "2013-04-01T00:00:00.000000",
          "2013-07-01T00:00:00.000000",
          "2013-10-01T00:00:00.000000",
          "2014-01-01T00:00:00.000000",
          "2014-04-01T00:00:00.000000",
          "2014-07-01T00:00:00.000000",
          "2014-10-01T00:00:00.000000",
          "2015-01-01T00:00:00.000000",
          "2015-04-01T00:00:00.000000",
          "2015-07-01T00:00:00.000000",
          "2015-10-01T00:00:00.000000",
          "2016-01-01T00:00:00.000000",
          "2016-04-01T00:00:00.000000",
          "2016-07-01T00:00:00.000000",
          "2016-10-01T00:00:00.000000",
          "2017-01-01T00:00:00.000000",
          "2017-04-01T00:00:00.000000",
          "2017-07-01T00:00:00.000000",
          "2017-10-01T00:00:00.000000",
          "2018-01-01T00:00:00.000000",
          "2018-04-01T00:00:00.000000",
          "2018-07-01T00:00:00.000000",
          "2018-10-01T00:00:00.000000",
          "2019-01-01T00:00:00.000000",
          "2019-04-01T00:00:00.000000",
          "2019-07-01T00:00:00.000000",
          "2019-10-01T00:00:00.000000",
          "2020-01-01T00:00:00.000000",
          "2020-04-01T00:00:00.000000",
          "2020-07-01T00:00:00.000000",
          "2020-10-01T00:00:00.000000",
          "2021-01-01T00:00:00.000000",
          "2021-04-01T00:00:00.000000",
          "2021-07-01T00:00:00.000000",
          "2021-10-01T00:00:00.000000",
          "2022-01-01T00:00:00.000000",
          "2022-04-01T00:00:00.000000",
          "2022-07-01T00:00:00.000000",
          "2022-10-01T00:00:00.000000",
          "2023-01-01T00:00:00.000000",
          "2023-04-01T00:00:00.000000",
          "2023-07-01T00:00:00.000000",
          "2023-10-01T00:00:00.000000",
          "2024-01-01T00:00:00.000000",
          "2024-04-01T00:00:00.000000",
          "2024-07-01T00:00:00.000000",
          "2024-10-01T00:00:00.000000",
          "2025-01-01T00:00:00.000000"
         ],
         "y": {
          "bdata": "tmALtmALAkDP8zzP8zwDQD4K16NwPQRAWpZlWZZlBUDy48ePHz8GQHlKkKcEeQpALPc0wnJPC0BCHdRBHdQQQPAcgaKtBhFAGIZhGIZhEEBCewntJbQQQOdjcD4G5xFAAAAAAAAADUDdYIp81g0QQGELtmALtgxAh/IaymsoDUCyMnwjCkwOQIXrUbgehQ9AKaWUUkopC0AV+awbTJEPQIL7CO4juAdAMKG9hPYSBkAppZRSSikFQNy2bdu27QVABHJNBHJNAECSG7mRG7kBQE8jLPc0wgBAaKwPjfWhAUAE62jzPsX9P72G8hrKawBAEEIIIYQQAkCkQRqkQRoIQPc0wnJPIwhA2zesfcPaB0CDmFxBTK4IQOLh4eHh4QdAob2E9hLaCEAAAAAAAAAIQBbE5ApicglAJEmSJEmSDUDwanET5ncNQGM6i+kspgtAwvUoXI/CC0B2gynyWTcMQAAAAAAAAAlAfg6pCcZbCUAUO7ETO7EHQAAAAAAAAAdAAAAAAACABkA5juM4juMDQB3UQR3UQQdAZCELWchCCkDc9bPFyvATQDrnnHPOORVAyz2NsNzTHEAlSZIkSZIWQKuqqqqqyhJAHMdxHMdxD0DKayivobwOQGWTTTbZZAtAEpZ7GmG5CEDMt3zLt3wHQJjQXkJ7CQVARe1K1K5EB0AzMzMzM7MKQA==",
          "dtype": "f8"
         }
        }
       ],
       "layout": {
        "hovermode": "x unified",
        "legend": {
         "title": {
          "text": "Group"
         }
        },
        "template": {
         "data": {
          "bar": [
           {
            "error_x": {
             "color": "#2a3f5f"
            },
            "error_y": {
             "color": "#2a3f5f"
            },
            "marker": {
             "line": {
              "color": "white",
              "width": 0.5
             },
             "pattern": {
              "fillmode": "overlay",
              "size": 10,
              "solidity": 0.2
             }
            },
            "type": "bar"
           }
          ],
          "barpolar": [
           {
            "marker": {
             "line": {
              "color": "white",
              "width": 0.5
             },
             "pattern": {
              "fillmode": "overlay",
              "size": 10,
              "solidity": 0.2
             }
            },
            "type": "barpolar"
           }
          ],
          "carpet": [
           {
            "aaxis": {
             "endlinecolor": "#2a3f5f",
             "gridcolor": "#C8D4E3",
             "linecolor": "#C8D4E3",
             "minorgridcolor": "#C8D4E3",
             "startlinecolor": "#2a3f5f"
            },
            "baxis": {
             "endlinecolor": "#2a3f5f",
             "gridcolor": "#C8D4E3",
             "linecolor": "#C8D4E3",
             "minorgridcolor": "#C8D4E3",
             "startlinecolor": "#2a3f5f"
            },
            "type": "carpet"
           }
          ],
          "choropleth": [
           {
            "colorbar": {
             "outlinewidth": 0,
             "ticks": ""
            },
            "type": "choropleth"
           }
          ],
          "contour": [
           {
            "colorbar": {
             "outlinewidth": 0,
             "ticks": ""
            },
            "colorscale": [
             [
              0,
              "#0d0887"
             ],
             [
              0.1111111111111111,
              "#46039f"
             ],
             [
              0.2222222222222222,
              "#7201a8"
             ],
             [
              0.3333333333333333,
              "#9c179e"
             ],
             [
              0.4444444444444444,
              "#bd3786"
             ],
             [
              0.5555555555555556,
              "#d8576b"
             ],
             [
              0.6666666666666666,
              "#ed7953"
             ],
             [
              0.7777777777777778,
              "#fb9f3a"
             ],
             [
              0.8888888888888888,
              "#fdca26"
             ],
             [
              1,
              "#f0f921"
             ]
            ],
            "type": "contour"
           }
          ],
          "contourcarpet": [
           {
            "colorbar": {
             "outlinewidth": 0,
             "ticks": ""
            },
            "type": "contourcarpet"
           }
          ],
          "heatmap": [
           {
            "colorbar": {
             "outlinewidth": 0,
             "ticks": ""
            },
            "colorscale": [
             [
              0,
              "#0d0887"
             ],
             [
              0.1111111111111111,
              "#46039f"
             ],
             [
              0.2222222222222222,
              "#7201a8"
             ],
             [
              0.3333333333333333,
              "#9c179e"
             ],
             [
              0.4444444444444444,
              "#bd3786"
             ],
             [
              0.5555555555555556,
              "#d8576b"
             ],
             [
              0.6666666666666666,
              "#ed7953"
             ],
             [
              0.7777777777777778,
              "#fb9f3a"
             ],
             [
              0.8888888888888888,
              "#fdca26"
             ],
             [
              1,
              "#f0f921"
             ]
            ],
            "type": "heatmap"
           }
          ],
          "histogram": [
           {
            "marker": {
             "pattern": {
              "fillmode": "overlay",
              "size": 10,
              "solidity": 0.2
             }
            },
            "type": "histogram"
           }
          ],
          "histogram2d": [
           {
            "colorbar": {
             "outlinewidth": 0,
             "ticks": ""
            },
            "colorscale": [
             [
              0,
              "#0d0887"
             ],
             [
              0.1111111111111111,
              "#46039f"
             ],
             [
              0.2222222222222222,
              "#7201a8"
             ],
             [
              0.3333333333333333,
              "#9c179e"
             ],
             [
              0.4444444444444444,
              "#bd3786"
             ],
             [
              0.5555555555555556,
              "#d8576b"
             ],
             [
              0.6666666666666666,
              "#ed7953"
             ],
             [
              0.7777777777777778,
              "#fb9f3a"
             ],
             [
              0.8888888888888888,
              "#fdca26"
             ],
             [
              1,
              "#f0f921"
             ]
            ],
            "type": "histogram2d"
           }
          ],
          "histogram2dcontour": [
           {
            "colorbar": {
             "outlinewidth": 0,
             "ticks": ""
            },
            "colorscale": [
             [
              0,
              "#0d0887"
             ],
             [
              0.1111111111111111,
              "#46039f"
             ],
             [
              0.2222222222222222,
              "#7201a8"
             ],
             [
              0.3333333333333333,
              "#9c179e"
             ],
             [
              0.4444444444444444,
              "#bd3786"
             ],
             [
              0.5555555555555556,
              "#d8576b"
             ],
             [
              0.6666666666666666,
              "#ed7953"
             ],
             [
              0.7777777777777778,
              "#fb9f3a"
             ],
             [
              0.8888888888888888,
              "#fdca26"
             ],
             [
              1,
              "#f0f921"
             ]
            ],
            "type": "histogram2dcontour"
           }
          ],
          "mesh3d": [
           {
            "colorbar": {
             "outlinewidth": 0,
             "ticks": ""
            },
            "type": "mesh3d"
           }
          ],
          "parcoords": [
           {
            "line": {
             "colorbar": {
              "outlinewidth": 0,
              "ticks": ""
             }
            },
            "type": "parcoords"
           }
          ],
          "pie": [
           {
            "automargin": true,
            "type": "pie"
           }
          ],
          "scatter": [
           {
            "fillpattern": {
             "fillmode": "overlay",
             "size": 10,
             "solidity": 0.2
            },
            "type": "scatter"
           }
          ],
          "scatter3d": [
           {
            "line": {
             "colorbar": {
              "outlinewidth": 0,
              "ticks": ""
             }
            },
            "marker": {
             "colorbar": {
              "outlinewidth": 0,
              "ticks": ""
             }
            },
            "type": "scatter3d"
           }
          ],
          "scattercarpet": [
           {
            "marker": {
             "colorbar": {
              "outlinewidth": 0,
              "ticks": ""
             }
            },
            "type": "scattercarpet"
           }
          ],
          "scattergeo": [
           {
            "marker": {
             "colorbar": {
              "outlinewidth": 0,
              "ticks": ""
             }
            },
            "type": "scattergeo"
           }
          ],
          "scattergl": [
           {
            "marker": {
             "colorbar": {
              "outlinewidth": 0,
              "ticks": ""
             }
            },
            "type": "scattergl"
           }
          ],
          "scattermap": [
           {
            "marker": {
             "colorbar": {
              "outlinewidth": 0,
              "ticks": ""
             }
            },
            "type": "scattermap"
           }
          ],
          "scattermapbox": [
           {
            "marker": {
             "colorbar": {
              "outlinewidth": 0,
              "ticks": ""
             }
            },
            "type": "scattermapbox"
           }
          ],
          "scatterpolar": [
           {
            "marker": {
             "colorbar": {
              "outlinewidth": 0,
              "ticks": ""
             }
            },
            "type": "scatterpolar"
           }
          ],
          "scatterpolargl": [
           {
            "marker": {
             "colorbar": {
              "outlinewidth": 0,
              "ticks": ""
             }
            },
            "type": "scatterpolargl"
           }
          ],
          "scatterternary": [
           {
            "marker": {
             "colorbar": {
              "outlinewidth": 0,
              "ticks": ""
             }
            },
            "type": "scatterternary"
           }
          ],
          "surface": [
           {
            "colorbar": {
             "outlinewidth": 0,
             "ticks": ""
            },
            "colorscale": [
             [
              0,
              "#0d0887"
             ],
             [
              0.1111111111111111,
              "#46039f"
             ],
             [
              0.2222222222222222,
              "#7201a8"
             ],
             [
              0.3333333333333333,
              "#9c179e"
             ],
             [
              0.4444444444444444,
              "#bd3786"
             ],
             [
              0.5555555555555556,
              "#d8576b"
             ],
             [
              0.6666666666666666,
              "#ed7953"
             ],
             [
              0.7777777777777778,
              "#fb9f3a"
             ],
             [
              0.8888888888888888,
              "#fdca26"
             ],
             [
              1,
              "#f0f921"
             ]
            ],
            "type": "surface"
           }
          ],
          "table": [
           {
            "cells": {
             "fill": {
              "color": "#EBF0F8"
             },
             "line": {
              "color": "white"
             }
            },
            "header": {
             "fill": {
              "color": "#C8D4E3"
             },
             "line": {
              "color": "white"
             }
            },
            "type": "table"
           }
          ]
         },
         "layout": {
          "annotationdefaults": {
           "arrowcolor": "#2a3f5f",
           "arrowhead": 0,
           "arrowwidth": 1
          },
          "autotypenumbers": "strict",
          "coloraxis": {
           "colorbar": {
            "outlinewidth": 0,
            "ticks": ""
           }
          },
          "colorscale": {
           "diverging": [
            [
             0,
             "#8e0152"
            ],
            [
             0.1,
             "#c51b7d"
            ],
            [
             0.2,
             "#de77ae"
            ],
            [
             0.3,
             "#f1b6da"
            ],
            [
             0.4,
             "#fde0ef"
            ],
            [
             0.5,
             "#f7f7f7"
            ],
            [
             0.6,
             "#e6f5d0"
            ],
            [
             0.7,
             "#b8e186"
            ],
            [
             0.8,
             "#7fbc41"
            ],
            [
             0.9,
             "#4d9221"
            ],
            [
             1,
             "#276419"
            ]
           ],
           "sequential": [
            [
             0,
             "#0d0887"
            ],
            [
             0.1111111111111111,
             "#46039f"
            ],
            [
             0.2222222222222222,
             "#7201a8"
            ],
            [
             0.3333333333333333,
             "#9c179e"
            ],
            [
             0.4444444444444444,
             "#bd3786"
            ],
            [
             0.5555555555555556,
             "#d8576b"
            ],
            [
             0.6666666666666666,
             "#ed7953"
            ],
            [
             0.7777777777777778,
             "#fb9f3a"
            ],
            [
             0.8888888888888888,
             "#fdca26"
            ],
            [
             1,
             "#f0f921"
            ]
           ],
           "sequentialminus": [
            [
             0,
             "#0d0887"
            ],
            [
             0.1111111111111111,
             "#46039f"
            ],
            [
             0.2222222222222222,
             "#7201a8"
            ],
            [
             0.3333333333333333,
             "#9c179e"
            ],
            [
             0.4444444444444444,
             "#bd3786"
            ],
            [
             0.5555555555555556,
             "#d8576b"
            ],
            [
             0.6666666666666666,
             "#ed7953"
            ],
            [
             0.7777777777777778,
             "#fb9f3a"
            ],
            [
             0.8888888888888888,
             "#fdca26"
            ],
            [
             1,
             "#f0f921"
            ]
           ]
          },
          "colorway": [
           "#636efa",
           "#EF553B",
           "#00cc96",
           "#ab63fa",
           "#FFA15A",
           "#19d3f3",
           "#FF6692",
           "#B6E880",
           "#FF97FF",
           "#FECB52"
          ],
          "font": {
           "color": "#2a3f5f"
          },
          "geo": {
           "bgcolor": "white",
           "lakecolor": "white",
           "landcolor": "white",
           "showlakes": true,
           "showland": true,
           "subunitcolor": "#C8D4E3"
          },
          "hoverlabel": {
           "align": "left"
          },
          "hovermode": "closest",
          "mapbox": {
           "style": "light"
          },
          "paper_bgcolor": "white",
          "plot_bgcolor": "white",
          "polar": {
           "angularaxis": {
            "gridcolor": "#EBF0F8",
            "linecolor": "#EBF0F8",
            "ticks": ""
           },
           "bgcolor": "white",
           "radialaxis": {
            "gridcolor": "#EBF0F8",
            "linecolor": "#EBF0F8",
            "ticks": ""
           }
          },
          "scene": {
           "xaxis": {
            "backgroundcolor": "white",
            "gridcolor": "#DFE8F3",
            "gridwidth": 2,
            "linecolor": "#EBF0F8",
            "showbackground": true,
            "ticks": "",
            "zerolinecolor": "#EBF0F8"
           },
           "yaxis": {
            "backgroundcolor": "white",
            "gridcolor": "#DFE8F3",
            "gridwidth": 2,
            "linecolor": "#EBF0F8",
            "showbackground": true,
            "ticks": "",
            "zerolinecolor": "#EBF0F8"
           },
           "zaxis": {
            "backgroundcolor": "white",
            "gridcolor": "#DFE8F3",
            "gridwidth": 2,
            "linecolor": "#EBF0F8",
            "showbackground": true,
            "ticks": "",
            "zerolinecolor": "#EBF0F8"
           }
          },
          "shapedefaults": {
           "line": {
            "color": "#2a3f5f"
           }
          },
          "ternary": {
           "aaxis": {
            "gridcolor": "#DFE8F3",
            "linecolor": "#A2B1C6",
            "ticks": ""
           },
           "baxis": {
            "gridcolor": "#DFE8F3",
            "linecolor": "#A2B1C6",
            "ticks": ""
           },
           "bgcolor": "white",
           "caxis": {
            "gridcolor": "#DFE8F3",
            "linecolor": "#A2B1C6",
            "ticks": ""
           }
          },
          "title": {
           "x": 0.05
          },
          "xaxis": {
           "automargin": true,
           "gridcolor": "#EBF0F8",
           "linecolor": "#EBF0F8",
           "ticks": "",
           "title": {
            "standoff": 15
           },
           "zerolinecolor": "#EBF0F8",
           "zerolinewidth": 2
          },
          "yaxis": {
           "automargin": true,
           "gridcolor": "#EBF0F8",
           "linecolor": "#EBF0F8",
           "ticks": "",
           "title": {
            "standoff": 15
           },
           "zerolinecolor": "#EBF0F8",
           "zerolinewidth": 2
          }
         }
        },
        "title": {
         "text": "Year ahead inflation expectations by age"
        },
        "xaxis": {
         "title": {
          "text": "Quarter"
         }
        },
        "yaxis": {
         "title": {
          "text": "Grouped Median (Interpolated)"
         }
        }
       }
      }
     },
     "metadata": {},
     "output_type": "display_data"
    }
   ],
   "source": [
    "plot_question_medians(q2a_median_by_age, age_map, title=\"Year ahead inflation expectations by age\")"
   ]
  },
  {
   "cell_type": "code",
   "execution_count": 10,
   "metadata": {},
   "outputs": [
    {
     "data": {
      "application/vnd.plotly.v1+json": {
       "config": {
        "plotlyServerURL": "https://plot.ly"
       },
       "data": [
        {
         "mode": "lines+markers",
         "name": "65+",
         "type": "scatter",
         "x": [
          "2009-01-01T00:00:00.000000",
          "2009-04-01T00:00:00.000000",
          "2009-07-01T00:00:00.000000",
          "2009-10-01T00:00:00.000000",
          "2010-01-01T00:00:00.000000",
          "2010-04-01T00:00:00.000000",
          "2010-07-01T00:00:00.000000",
          "2010-10-01T00:00:00.000000",
          "2011-01-01T00:00:00.000000",
          "2011-04-01T00:00:00.000000",
          "2011-07-01T00:00:00.000000",
          "2011-10-01T00:00:00.000000",
          "2012-01-01T00:00:00.000000",
          "2012-04-01T00:00:00.000000",
          "2012-07-01T00:00:00.000000",
          "2012-10-01T00:00:00.000000",
          "2013-01-01T00:00:00.000000",
          "2013-04-01T00:00:00.000000",
          "2013-07-01T00:00:00.000000",
          "2013-10-01T00:00:00.000000",
          "2014-01-01T00:00:00.000000",
          "2014-04-01T00:00:00.000000",
          "2014-07-01T00:00:00.000000",
          "2014-10-01T00:00:00.000000",
          "2015-01-01T00:00:00.000000",
          "2015-04-01T00:00:00.000000",
          "2015-07-01T00:00:00.000000",
          "2015-10-01T00:00:00.000000",
          "2016-01-01T00:00:00.000000",
          "2016-04-01T00:00:00.000000",
          "2016-07-01T00:00:00.000000",
          "2016-10-01T00:00:00.000000",
          "2017-01-01T00:00:00.000000",
          "2017-04-01T00:00:00.000000",
          "2017-07-01T00:00:00.000000",
          "2017-10-01T00:00:00.000000",
          "2018-01-01T00:00:00.000000",
          "2018-04-01T00:00:00.000000",
          "2018-07-01T00:00:00.000000",
          "2018-10-01T00:00:00.000000",
          "2019-01-01T00:00:00.000000",
          "2019-04-01T00:00:00.000000",
          "2019-07-01T00:00:00.000000",
          "2019-10-01T00:00:00.000000",
          "2020-01-01T00:00:00.000000",
          "2020-04-01T00:00:00.000000",
          "2020-07-01T00:00:00.000000",
          "2020-10-01T00:00:00.000000",
          "2021-01-01T00:00:00.000000",
          "2021-04-01T00:00:00.000000",
          "2021-07-01T00:00:00.000000",
          "2021-10-01T00:00:00.000000",
          "2022-01-01T00:00:00.000000",
          "2022-04-01T00:00:00.000000",
          "2022-07-01T00:00:00.000000",
          "2022-10-01T00:00:00.000000",
          "2023-01-01T00:00:00.000000",
          "2023-04-01T00:00:00.000000",
          "2023-07-01T00:00:00.000000",
          "2023-10-01T00:00:00.000000",
          "2024-01-01T00:00:00.000000",
          "2024-04-01T00:00:00.000000",
          "2024-07-01T00:00:00.000000",
          "2024-10-01T00:00:00.000000",
          "2025-01-01T00:00:00.000000"
         ],
         "y": {
          "bdata": "Bw4cOHDgAEAsZCELWcgEQN/ZqO9s1ANAREREREREBEBKDAIrhxYFQJuypqwpawpAjuM4juO4CUDctm3btm0MQGQCvVPXcgxAZmZmZmZmCkBu27Zt27YPQFFeQ3kN5Q1Af6uNoekOCkAAAAAAAAANQDx37ty5cwdAgvFW9jmkDkDPkJi3MyQOQPjee++99wpAUV5DeQ3lCUDCBx988MENQNU6+yKqdQZADuU1lNdQBUAxYsSIESMGQAAAAAAAAARAH8F9BPcRAEBP7MRO7MQAQCELWchCFgFAvuIrvuIrAEA1FaINnz/+P8ZXfMVXfAFAkiRJkiRJ/j/IQhaykIUEQEN5DeU1lAVAuuiiiy66BEB4o6nzaw8FQAAAAAAAAAZA6ciegah0CECQ93iP93gHQOmiiy666AZA3uM93uM9BkBZNr4ZWrsHQEyuICZXEAdAnDC/q8VNCEA84o64I+4GQHIeOoYX5wVAt23btm3b/j+myGfdYIoCQJtgvJV9DgFAAAAAAAAAAUC5gphcQUwAQPrRj370owNAJ3ZiJ3ZiA0CJ2pWoXYkGQLmRG7mRGwlAk0022WSTCUBVVVVVVdUJQLETO7ETOwlA0UUXXXTRCUDhehSuR+EGQLdt27Zt2whA7MRO7MROCEAw3so+h9QIQAAAAAAAoAZAonYlaleiBkByHMdxHEcKQA==",
          "dtype": "f8"
         }
        },
        {
         "mode": "lines+markers",
         "name": "55-64",
         "type": "scatter",
         "x": [
          "2009-01-01T00:00:00.000000",
          "2009-04-01T00:00:00.000000",
          "2009-07-01T00:00:00.000000",
          "2009-10-01T00:00:00.000000",
          "2010-01-01T00:00:00.000000",
          "2010-04-01T00:00:00.000000",
          "2010-07-01T00:00:00.000000",
          "2010-10-01T00:00:00.000000",
          "2011-01-01T00:00:00.000000",
          "2011-04-01T00:00:00.000000",
          "2011-07-01T00:00:00.000000",
          "2011-10-01T00:00:00.000000",
          "2012-01-01T00:00:00.000000",
          "2012-04-01T00:00:00.000000",
          "2012-07-01T00:00:00.000000",
          "2012-10-01T00:00:00.000000",
          "2013-01-01T00:00:00.000000",
          "2013-04-01T00:00:00.000000",
          "2013-07-01T00:00:00.000000",
          "2013-10-01T00:00:00.000000",
          "2014-01-01T00:00:00.000000",
          "2014-04-01T00:00:00.000000",
          "2014-07-01T00:00:00.000000",
          "2014-10-01T00:00:00.000000",
          "2015-01-01T00:00:00.000000",
          "2015-04-01T00:00:00.000000",
          "2015-07-01T00:00:00.000000",
          "2015-10-01T00:00:00.000000",
          "2016-01-01T00:00:00.000000",
          "2016-04-01T00:00:00.000000",
          "2016-07-01T00:00:00.000000",
          "2016-10-01T00:00:00.000000",
          "2017-01-01T00:00:00.000000",
          "2017-04-01T00:00:00.000000",
          "2017-07-01T00:00:00.000000",
          "2017-10-01T00:00:00.000000",
          "2018-01-01T00:00:00.000000",
          "2018-04-01T00:00:00.000000",
          "2018-07-01T00:00:00.000000",
          "2018-10-01T00:00:00.000000",
          "2019-01-01T00:00:00.000000",
          "2019-04-01T00:00:00.000000",
          "2019-07-01T00:00:00.000000",
          "2019-10-01T00:00:00.000000",
          "2020-01-01T00:00:00.000000",
          "2020-04-01T00:00:00.000000",
          "2020-07-01T00:00:00.000000",
          "2020-10-01T00:00:00.000000",
          "2021-01-01T00:00:00.000000",
          "2021-04-01T00:00:00.000000",
          "2021-07-01T00:00:00.000000",
          "2021-10-01T00:00:00.000000",
          "2022-01-01T00:00:00.000000",
          "2022-04-01T00:00:00.000000",
          "2022-07-01T00:00:00.000000",
          "2022-10-01T00:00:00.000000",
          "2023-01-01T00:00:00.000000",
          "2023-04-01T00:00:00.000000",
          "2023-07-01T00:00:00.000000",
          "2023-10-01T00:00:00.000000",
          "2024-01-01T00:00:00.000000",
          "2024-04-01T00:00:00.000000",
          "2024-07-01T00:00:00.000000",
          "2024-10-01T00:00:00.000000",
          "2025-01-01T00:00:00.000000"
         ],
         "y": {
          "bdata": "GiV+RomfAUAAAAAAAAAEQIiHh4eHhwNAdNFFF110BUDC9Shcj8IFQC7Ygi3YgglA+awbTJHPCkCrqqqqqqoKQFVVVVVVVQ1Ah/IaymsoC0CRz7rBFPkMQB4eHh4eHhBAl5aWlpaWCkAK7SW0l9AKQCh2Yid2YgZAexSuR+F6DECKS4ZgHW0OQDLGGGOMMQ5AfdYNpshnCUCxEzuxEzsNQAAAAAAA4AdA9Emf9EmfBEAAAAAAAAAGQM3MzMzMzARAq6qqqqqqAkCwjjbvU1wCQAAAAAAAAARAo4suuuiiA0D2OaQmGG8BQCS4j+A+ggNA6jsb9Z2NAkDS5n2KS4YEQKy5mqu5mgdAlpaWlpaWBkDtJbSX0F4GQF100UUXXQhAq6qqqqqqBkAWxOQKYnIJQIZhGIZhGAxAgvFW9jmkBkDfiAKTTs0HQAAAAAAAAAhAuuiiiy66CEAcx3Ecx3EIQA7hEA7hEAZABqLSkT0DAUAV+awbTJH/P4jJFcTkCgJAXurJ+O1SAUA3mCKfdYMBQFVVVVVVVQFAip3YiZ3YA0AOpshn3WAOQJVSSimllA5AMzMzMzMzDUBiGIZhGIYPQOUnxFn5CQlAX/EVX/EVA0BfQnsJ7SUIQBCTK4jJFQhAZC1DB+z2BED6pE/6pE8EQM3MzMzMzARAgrl2YK4dCEBkO99PjZcKQA==",
          "dtype": "f8"
         }
        },
        {
         "mode": "lines+markers",
         "name": "35-44",
         "type": "scatter",
         "x": [
          "2009-01-01T00:00:00.000000",
          "2009-04-01T00:00:00.000000",
          "2009-07-01T00:00:00.000000",
          "2009-10-01T00:00:00.000000",
          "2010-01-01T00:00:00.000000",
          "2010-04-01T00:00:00.000000",
          "2010-07-01T00:00:00.000000",
          "2010-10-01T00:00:00.000000",
          "2011-01-01T00:00:00.000000",
          "2011-04-01T00:00:00.000000",
          "2011-07-01T00:00:00.000000",
          "2011-10-01T00:00:00.000000",
          "2012-01-01T00:00:00.000000",
          "2012-04-01T00:00:00.000000",
          "2012-07-01T00:00:00.000000",
          "2012-10-01T00:00:00.000000",
          "2013-01-01T00:00:00.000000",
          "2013-04-01T00:00:00.000000",
          "2013-07-01T00:00:00.000000",
          "2013-10-01T00:00:00.000000",
          "2014-01-01T00:00:00.000000",
          "2014-04-01T00:00:00.000000",
          "2014-07-01T00:00:00.000000",
          "2014-10-01T00:00:00.000000",
          "2015-01-01T00:00:00.000000",
          "2015-04-01T00:00:00.000000",
          "2015-07-01T00:00:00.000000",
          "2015-10-01T00:00:00.000000",
          "2016-01-01T00:00:00.000000",
          "2016-04-01T00:00:00.000000",
          "2016-07-01T00:00:00.000000",
          "2016-10-01T00:00:00.000000",
          "2017-01-01T00:00:00.000000",
          "2017-04-01T00:00:00.000000",
          "2017-07-01T00:00:00.000000",
          "2017-10-01T00:00:00.000000",
          "2018-01-01T00:00:00.000000",
          "2018-04-01T00:00:00.000000",
          "2018-07-01T00:00:00.000000",
          "2018-10-01T00:00:00.000000",
          "2019-01-01T00:00:00.000000",
          "2019-04-01T00:00:00.000000",
          "2019-07-01T00:00:00.000000",
          "2019-10-01T00:00:00.000000",
          "2020-01-01T00:00:00.000000",
          "2020-04-01T00:00:00.000000",
          "2020-07-01T00:00:00.000000",
          "2020-10-01T00:00:00.000000",
          "2021-01-01T00:00:00.000000",
          "2021-04-01T00:00:00.000000",
          "2021-07-01T00:00:00.000000",
          "2021-10-01T00:00:00.000000",
          "2022-01-01T00:00:00.000000",
          "2022-04-01T00:00:00.000000",
          "2022-07-01T00:00:00.000000",
          "2022-10-01T00:00:00.000000",
          "2023-01-01T00:00:00.000000",
          "2023-04-01T00:00:00.000000",
          "2023-07-01T00:00:00.000000",
          "2023-10-01T00:00:00.000000",
          "2024-01-01T00:00:00.000000",
          "2024-04-01T00:00:00.000000",
          "2024-07-01T00:00:00.000000",
          "2024-10-01T00:00:00.000000",
          "2025-01-01T00:00:00.000000"
         ],
         "y": {
          "bdata": "Bn1BX9AX/D9paWlpaWkBQERERERERABAvLu7u7u7AUCQv2ZHLUICQANR6ciegQRA1Jve9KY3BUCZzmI6i+kIQERjfWisDwtAYid2Yid2CUDP8zzP8zwLQFpaWlpaWgxACu0ltJfQBkDDMAzDMAwJQHTRRRdddAdAE9pLaC+hCUDozp07d+4MQMdxHMdxHAdA78tjK4KGB0Aw6Av6gr4MQAAAAAAAAAZAzczMzMzMBEAcx3Ecx3EGQB+F61G4HgNA3eLJLZ7cAkCjiy666KIDQM7Nzc3NzQFAhOWeRljuAUCH1ATjrewBQNpLaC+hvQBAWO5phOWeAkAw3so+h9QEQNIardEarQVASE0w3so+B0C0mM5iOosFQERjfWisDwlA9+WxFUHDB0Dbtm3btm0JQM/zPM/zPAdAeQ3lNZTXCEDH1MDeMTUIQGiU+BklfgZAJ3ZiJ3ZiCECivIbyGsoJQCryWTeYIgdAOL3pTW96+z826jsb9Z0BQFVVVVVV1QNAEn1AdeytAUCQwvUoXI/+P0IIIYQQQgJAkiRJkiRJBEDbtm3btm0LQGJyBTG5ggxAyOB8DM7HDEBGF1100UUPQO/u7u7u7gZAE7UrUbsSBUCogzqogzoEQO6IO+KOuAdAkYUsZCELCUBZHxrrQ2MFQDVN0zRN0wRAJ5tssskmB0C2m+VJZBoKQA==",
          "dtype": "f8"
         }
        },
        {
         "mode": "lines+markers",
         "name": "25-34",
         "type": "scatter",
         "x": [
          "2009-01-01T00:00:00.000000",
          "2009-04-01T00:00:00.000000",
          "2009-07-01T00:00:00.000000",
          "2009-10-01T00:00:00.000000",
          "2010-01-01T00:00:00.000000",
          "2010-04-01T00:00:00.000000",
          "2010-07-01T00:00:00.000000",
          "2010-10-01T00:00:00.000000",
          "2011-01-01T00:00:00.000000",
          "2011-04-01T00:00:00.000000",
          "2011-07-01T00:00:00.000000",
          "2011-10-01T00:00:00.000000",
          "2012-01-01T00:00:00.000000",
          "2012-04-01T00:00:00.000000",
          "2012-07-01T00:00:00.000000",
          "2012-10-01T00:00:00.000000",
          "2013-01-01T00:00:00.000000",
          "2013-04-01T00:00:00.000000",
          "2013-07-01T00:00:00.000000",
          "2013-10-01T00:00:00.000000",
          "2014-01-01T00:00:00.000000",
          "2014-04-01T00:00:00.000000",
          "2014-07-01T00:00:00.000000",
          "2014-10-01T00:00:00.000000",
          "2015-01-01T00:00:00.000000",
          "2015-04-01T00:00:00.000000",
          "2015-07-01T00:00:00.000000",
          "2015-10-01T00:00:00.000000",
          "2016-01-01T00:00:00.000000",
          "2016-04-01T00:00:00.000000",
          "2016-07-01T00:00:00.000000",
          "2016-10-01T00:00:00.000000",
          "2017-01-01T00:00:00.000000",
          "2017-04-01T00:00:00.000000",
          "2017-07-01T00:00:00.000000",
          "2017-10-01T00:00:00.000000",
          "2018-01-01T00:00:00.000000",
          "2018-04-01T00:00:00.000000",
          "2018-07-01T00:00:00.000000",
          "2018-10-01T00:00:00.000000",
          "2019-01-01T00:00:00.000000",
          "2019-04-01T00:00:00.000000",
          "2019-07-01T00:00:00.000000",
          "2019-10-01T00:00:00.000000",
          "2020-01-01T00:00:00.000000",
          "2020-04-01T00:00:00.000000",
          "2020-07-01T00:00:00.000000",
          "2020-10-01T00:00:00.000000",
          "2021-01-01T00:00:00.000000",
          "2021-04-01T00:00:00.000000",
          "2021-07-01T00:00:00.000000",
          "2021-10-01T00:00:00.000000",
          "2022-01-01T00:00:00.000000",
          "2022-04-01T00:00:00.000000",
          "2022-07-01T00:00:00.000000",
          "2022-10-01T00:00:00.000000",
          "2023-01-01T00:00:00.000000",
          "2023-04-01T00:00:00.000000",
          "2023-07-01T00:00:00.000000",
          "2023-10-01T00:00:00.000000",
          "2024-01-01T00:00:00.000000",
          "2024-04-01T00:00:00.000000",
          "2024-07-01T00:00:00.000000",
          "2024-10-01T00:00:00.000000",
          "2025-01-01T00:00:00.000000"
         ],
         "y": {
          "bdata": "JEmSJEmS/D/nnHPOOecAQEHDSd2Xx/4/7HNITTDe+j94d3d3d3f/P1VVVVVVVQRAiIiIiIiIBEAAAAAAAAAIQISOCnxx9QdAKCgoKCgoCEBSE4y3ss8JQGQhC1nIQghAED744IMPBkAhC1nIQhYKQFj7hrVvWAdAzczMzMzMCEBVVVVVVVUJQA6myGfdYApArkfhehSuCUCIxvrQWB8KQLRb+NWYSAVAuPCrMZEeBEAuuuiiiy4GQAAAAAAAAARAZmZmZmZmAkCEhISEhIQEQD+jxM8o8QNAsMZEeqByAkAAAAAAANABQHZiJ3ZiJwRAPgrXo3A9AkBjjDHGGGMEQEoppZRSSgVAIJPiBTIpBkAAAAAAABAFQAAAAAAAQAdAq6qqqqqqB0BJkiRJkiQHQGZmZmZmZgZAspCFLGQhBUBuuOGGG24IQJqZmZmZmQZAVVVVVVVVCUDe3d3d3d0HQAVq/UqBWgdAkiRJkiRJ/j9c2eeQmmAAQDMzMzMzMwFAo4suuuiiAkCx9g1r37D+P8VO7MRO7ANAgh/4gR/4BUAAAAAAAAAIQEmSJEmSJA1ABQUFBQUFCUBhuacRlnsKQDU+MoHeqQdAjC666KKLBEDMKXg5BS8HQPb19fX19QVATGgvob2EBkBw+ZZv+ZYFQKalpaWlpQRAAAAAAAAABkDK+O1ST8YHQA==",
          "dtype": "f8"
         }
        },
        {
         "mode": "lines+markers",
         "name": "15-24",
         "type": "scatter",
         "x": [
          "2009-01-01T00:00:00.000000",
          "2009-04-01T00:00:00.000000",
          "2009-07-01T00:00:00.000000",
          "2009-10-01T00:00:00.000000",
          "2010-01-01T00:00:00.000000",
          "2010-04-01T00:00:00.000000",
          "2010-07-01T00:00:00.000000",
          "2010-10-01T00:00:00.000000",
          "2011-01-01T00:00:00.000000",
          "2011-04-01T00:00:00.000000",
          "2011-07-01T00:00:00.000000",
          "2011-10-01T00:00:00.000000",
          "2012-01-01T00:00:00.000000",
          "2012-04-01T00:00:00.000000",
          "2012-07-01T00:00:00.000000",
          "2012-10-01T00:00:00.000000",
          "2013-01-01T00:00:00.000000",
          "2013-04-01T00:00:00.000000",
          "2013-07-01T00:00:00.000000",
          "2013-10-01T00:00:00.000000",
          "2014-01-01T00:00:00.000000",
          "2014-04-01T00:00:00.000000",
          "2014-07-01T00:00:00.000000",
          "2014-10-01T00:00:00.000000",
          "2015-01-01T00:00:00.000000",
          "2015-04-01T00:00:00.000000",
          "2015-07-01T00:00:00.000000",
          "2015-10-01T00:00:00.000000",
          "2016-01-01T00:00:00.000000",
          "2016-04-01T00:00:00.000000",
          "2016-07-01T00:00:00.000000",
          "2016-10-01T00:00:00.000000",
          "2017-01-01T00:00:00.000000",
          "2017-04-01T00:00:00.000000",
          "2017-07-01T00:00:00.000000",
          "2017-10-01T00:00:00.000000",
          "2018-01-01T00:00:00.000000",
          "2018-04-01T00:00:00.000000",
          "2018-07-01T00:00:00.000000",
          "2018-10-01T00:00:00.000000",
          "2019-01-01T00:00:00.000000",
          "2019-04-01T00:00:00.000000",
          "2019-07-01T00:00:00.000000",
          "2019-10-01T00:00:00.000000",
          "2020-01-01T00:00:00.000000",
          "2020-04-01T00:00:00.000000",
          "2020-07-01T00:00:00.000000",
          "2020-10-01T00:00:00.000000",
          "2021-01-01T00:00:00.000000",
          "2021-04-01T00:00:00.000000",
          "2021-07-01T00:00:00.000000",
          "2021-10-01T00:00:00.000000",
          "2022-01-01T00:00:00.000000",
          "2022-04-01T00:00:00.000000",
          "2022-07-01T00:00:00.000000",
          "2022-10-01T00:00:00.000000",
          "2023-01-01T00:00:00.000000",
          "2023-04-01T00:00:00.000000",
          "2023-07-01T00:00:00.000000",
          "2023-10-01T00:00:00.000000",
          "2024-01-01T00:00:00.000000",
          "2024-04-01T00:00:00.000000",
          "2024-07-01T00:00:00.000000",
          "2024-10-01T00:00:00.000000",
          "2025-01-01T00:00:00.000000"
         ],
         "y": {
          "bdata": "btu2bds2AECRz7rBFPkAQNhQXkN5DQFAvYbyGsprAEAAAAAAAAAAQAAAAAAAAANAAAAAAAAABEAuuuiiiy4GQG7btm3btgpAfMVXfMVXCEAJyz2NsNwLQGuttdZaawlAhmEYhmEYBkAOpshn3WAKQMdxHMdxHAdANcF4K/scBkACvVPXcnAHQO1K1K5E7QZAymsor6G8BkD6gr6gL+gDQLqnEZZ7GgVA9zTCck8jAECXlpaWlpYIQCivobyG8gRA4o64I+6IAUC2YAu2YAsCQMHLKXg5BQNAlTVlTVlTAkCDmFxBTK4CQPmsG0yRzwJADqbIZ91gAkAYhmEYhmECQNaHxvrQWAVAtbS0tLS0BEB8xVd8xVcEQFVVVVVVVQRAQQu0QAu0BEDhgw8++OADQBA++OCDDwZAOqiDOqiDBkDkOI7jOI4GQF/xFV/xFQdAPo2w3NMIB0C2YAu2YAsGQG9605ve9AZAeg3lNZTX/D+qqqqqqqr8P+Q4juM4jvk/DeU1lNdQAEBWVVVVVVX/PwAAAAAAAP0/mpmZmZmZAUD44IMPPvgIQDaU11BeQwlAdmIndmInCECjiy666KILQPy+7/u+7wdAAAAAAAAAAEA7sRM7sRMDQFVVVVVVVQNAPDw8PDw8BED1pje96U0DQEQrbA4kWgVAo4suuuiiB0B4Nuo7G/UJQA==",
          "dtype": "f8"
         }
        },
        {
         "mode": "lines+markers",
         "name": "45-54",
         "type": "scatter",
         "x": [
          "2009-01-01T00:00:00.000000",
          "2009-04-01T00:00:00.000000",
          "2009-07-01T00:00:00.000000",
          "2009-10-01T00:00:00.000000",
          "2010-01-01T00:00:00.000000",
          "2010-04-01T00:00:00.000000",
          "2010-07-01T00:00:00.000000",
          "2010-10-01T00:00:00.000000",
          "2011-01-01T00:00:00.000000",
          "2011-04-01T00:00:00.000000",
          "2011-07-01T00:00:00.000000",
          "2011-10-01T00:00:00.000000",
          "2012-01-01T00:00:00.000000",
          "2012-04-01T00:00:00.000000",
          "2012-07-01T00:00:00.000000",
          "2012-10-01T00:00:00.000000",
          "2013-01-01T00:00:00.000000",
          "2013-04-01T00:00:00.000000",
          "2013-07-01T00:00:00.000000",
          "2013-10-01T00:00:00.000000",
          "2014-01-01T00:00:00.000000",
          "2014-04-01T00:00:00.000000",
          "2014-07-01T00:00:00.000000",
          "2014-10-01T00:00:00.000000",
          "2015-01-01T00:00:00.000000",
          "2015-04-01T00:00:00.000000",
          "2015-07-01T00:00:00.000000",
          "2015-10-01T00:00:00.000000",
          "2016-01-01T00:00:00.000000",
          "2016-04-01T00:00:00.000000",
          "2016-07-01T00:00:00.000000",
          "2016-10-01T00:00:00.000000",
          "2017-01-01T00:00:00.000000",
          "2017-04-01T00:00:00.000000",
          "2017-07-01T00:00:00.000000",
          "2017-10-01T00:00:00.000000",
          "2018-01-01T00:00:00.000000",
          "2018-04-01T00:00:00.000000",
          "2018-07-01T00:00:00.000000",
          "2018-10-01T00:00:00.000000",
          "2019-01-01T00:00:00.000000",
          "2019-04-01T00:00:00.000000",
          "2019-07-01T00:00:00.000000",
          "2019-10-01T00:00:00.000000",
          "2020-01-01T00:00:00.000000",
          "2020-04-01T00:00:00.000000",
          "2020-07-01T00:00:00.000000",
          "2020-10-01T00:00:00.000000",
          "2021-01-01T00:00:00.000000",
          "2021-04-01T00:00:00.000000",
          "2021-07-01T00:00:00.000000",
          "2021-10-01T00:00:00.000000",
          "2022-01-01T00:00:00.000000",
          "2022-04-01T00:00:00.000000",
          "2022-07-01T00:00:00.000000",
          "2022-10-01T00:00:00.000000",
          "2023-01-01T00:00:00.000000",
          "2023-04-01T00:00:00.000000",
          "2023-07-01T00:00:00.000000",
          "2023-10-01T00:00:00.000000",
          "2024-01-01T00:00:00.000000",
          "2024-04-01T00:00:00.000000",
          "2024-07-01T00:00:00.000000",
          "2024-10-01T00:00:00.000000",
          "2025-01-01T00:00:00.000000"
         ],
         "y": {
          "bdata": "EQ7hEA7hAEB1FtNZTGcBQKfg5RS8nAJAafM+xSVDBEBCX9AX9AUFQHkr+xxSEwhAfkaJn1HiB0BmZmZmZmYLQNy2bdu2bQxAOY7jOI7jCEBVVVVVVRULQNy2bdu2bQxAGqRBGqRBCEB00UUXXXQMQML1KFyPwgdAchzHcRzHCEC9hvIaymsMQPMt3/It3w5AZmZmZmZmCkBaWlpaWloMQOfXHnJZMQhAAAAAAAAABkDsxE7sxE4EQB8a60NjfQRANhHINRHIAUCapmmapmkCQGUI1tHmfQJA27Zt27ZtAkAty7Isy7IAQJ4S5ClBngJAuI/gPoL7AEA9z/M8z/MEQI9eGdvv6AVAb3rTm970BkAgTwnylCAHQFVVVVVV1QdAxlvZ55CaCEBfX19fX18HQOzr6+vr6wdAnud5nud5CEBtoNMGOm0IQKuqqqqqagxAN5gin3WDCUBVVVVVVVUJQJIkSZIkiQdAsgJhpB0rAEBsKK+hvIYCQAAAAAAAAAJA8RVf8RVfAkD44IMPPvj8Pz6NsNzTCAFAJDdyIzdyA0AfGutDY30KQA3SIA3SIAlA5LNuMEU+C0AAAAAAAAAMQA6myGfdYApAFDuxEzuxA0AAAAAAAAAGQB5xR9wRdwRA6Zujb46+BUBOb3rTm94EQAAAAAAAQARAFgMlvNHUBUB1UAd1UAcJQA==",
          "dtype": "f8"
         }
        }
       ],
       "layout": {
        "hovermode": "x unified",
        "legend": {
         "title": {
          "text": "Group"
         }
        },
        "template": {
         "data": {
          "bar": [
           {
            "error_x": {
             "color": "#2a3f5f"
            },
            "error_y": {
             "color": "#2a3f5f"
            },
            "marker": {
             "line": {
              "color": "white",
              "width": 0.5
             },
             "pattern": {
              "fillmode": "overlay",
              "size": 10,
              "solidity": 0.2
             }
            },
            "type": "bar"
           }
          ],
          "barpolar": [
           {
            "marker": {
             "line": {
              "color": "white",
              "width": 0.5
             },
             "pattern": {
              "fillmode": "overlay",
              "size": 10,
              "solidity": 0.2
             }
            },
            "type": "barpolar"
           }
          ],
          "carpet": [
           {
            "aaxis": {
             "endlinecolor": "#2a3f5f",
             "gridcolor": "#C8D4E3",
             "linecolor": "#C8D4E3",
             "minorgridcolor": "#C8D4E3",
             "startlinecolor": "#2a3f5f"
            },
            "baxis": {
             "endlinecolor": "#2a3f5f",
             "gridcolor": "#C8D4E3",
             "linecolor": "#C8D4E3",
             "minorgridcolor": "#C8D4E3",
             "startlinecolor": "#2a3f5f"
            },
            "type": "carpet"
           }
          ],
          "choropleth": [
           {
            "colorbar": {
             "outlinewidth": 0,
             "ticks": ""
            },
            "type": "choropleth"
           }
          ],
          "contour": [
           {
            "colorbar": {
             "outlinewidth": 0,
             "ticks": ""
            },
            "colorscale": [
             [
              0,
              "#0d0887"
             ],
             [
              0.1111111111111111,
              "#46039f"
             ],
             [
              0.2222222222222222,
              "#7201a8"
             ],
             [
              0.3333333333333333,
              "#9c179e"
             ],
             [
              0.4444444444444444,
              "#bd3786"
             ],
             [
              0.5555555555555556,
              "#d8576b"
             ],
             [
              0.6666666666666666,
              "#ed7953"
             ],
             [
              0.7777777777777778,
              "#fb9f3a"
             ],
             [
              0.8888888888888888,
              "#fdca26"
             ],
             [
              1,
              "#f0f921"
             ]
            ],
            "type": "contour"
           }
          ],
          "contourcarpet": [
           {
            "colorbar": {
             "outlinewidth": 0,
             "ticks": ""
            },
            "type": "contourcarpet"
           }
          ],
          "heatmap": [
           {
            "colorbar": {
             "outlinewidth": 0,
             "ticks": ""
            },
            "colorscale": [
             [
              0,
              "#0d0887"
             ],
             [
              0.1111111111111111,
              "#46039f"
             ],
             [
              0.2222222222222222,
              "#7201a8"
             ],
             [
              0.3333333333333333,
              "#9c179e"
             ],
             [
              0.4444444444444444,
              "#bd3786"
             ],
             [
              0.5555555555555556,
              "#d8576b"
             ],
             [
              0.6666666666666666,
              "#ed7953"
             ],
             [
              0.7777777777777778,
              "#fb9f3a"
             ],
             [
              0.8888888888888888,
              "#fdca26"
             ],
             [
              1,
              "#f0f921"
             ]
            ],
            "type": "heatmap"
           }
          ],
          "histogram": [
           {
            "marker": {
             "pattern": {
              "fillmode": "overlay",
              "size": 10,
              "solidity": 0.2
             }
            },
            "type": "histogram"
           }
          ],
          "histogram2d": [
           {
            "colorbar": {
             "outlinewidth": 0,
             "ticks": ""
            },
            "colorscale": [
             [
              0,
              "#0d0887"
             ],
             [
              0.1111111111111111,
              "#46039f"
             ],
             [
              0.2222222222222222,
              "#7201a8"
             ],
             [
              0.3333333333333333,
              "#9c179e"
             ],
             [
              0.4444444444444444,
              "#bd3786"
             ],
             [
              0.5555555555555556,
              "#d8576b"
             ],
             [
              0.6666666666666666,
              "#ed7953"
             ],
             [
              0.7777777777777778,
              "#fb9f3a"
             ],
             [
              0.8888888888888888,
              "#fdca26"
             ],
             [
              1,
              "#f0f921"
             ]
            ],
            "type": "histogram2d"
           }
          ],
          "histogram2dcontour": [
           {
            "colorbar": {
             "outlinewidth": 0,
             "ticks": ""
            },
            "colorscale": [
             [
              0,
              "#0d0887"
             ],
             [
              0.1111111111111111,
              "#46039f"
             ],
             [
              0.2222222222222222,
              "#7201a8"
             ],
             [
              0.3333333333333333,
              "#9c179e"
             ],
             [
              0.4444444444444444,
              "#bd3786"
             ],
             [
              0.5555555555555556,
              "#d8576b"
             ],
             [
              0.6666666666666666,
              "#ed7953"
             ],
             [
              0.7777777777777778,
              "#fb9f3a"
             ],
             [
              0.8888888888888888,
              "#fdca26"
             ],
             [
              1,
              "#f0f921"
             ]
            ],
            "type": "histogram2dcontour"
           }
          ],
          "mesh3d": [
           {
            "colorbar": {
             "outlinewidth": 0,
             "ticks": ""
            },
            "type": "mesh3d"
           }
          ],
          "parcoords": [
           {
            "line": {
             "colorbar": {
              "outlinewidth": 0,
              "ticks": ""
             }
            },
            "type": "parcoords"
           }
          ],
          "pie": [
           {
            "automargin": true,
            "type": "pie"
           }
          ],
          "scatter": [
           {
            "fillpattern": {
             "fillmode": "overlay",
             "size": 10,
             "solidity": 0.2
            },
            "type": "scatter"
           }
          ],
          "scatter3d": [
           {
            "line": {
             "colorbar": {
              "outlinewidth": 0,
              "ticks": ""
             }
            },
            "marker": {
             "colorbar": {
              "outlinewidth": 0,
              "ticks": ""
             }
            },
            "type": "scatter3d"
           }
          ],
          "scattercarpet": [
           {
            "marker": {
             "colorbar": {
              "outlinewidth": 0,
              "ticks": ""
             }
            },
            "type": "scattercarpet"
           }
          ],
          "scattergeo": [
           {
            "marker": {
             "colorbar": {
              "outlinewidth": 0,
              "ticks": ""
             }
            },
            "type": "scattergeo"
           }
          ],
          "scattergl": [
           {
            "marker": {
             "colorbar": {
              "outlinewidth": 0,
              "ticks": ""
             }
            },
            "type": "scattergl"
           }
          ],
          "scattermap": [
           {
            "marker": {
             "colorbar": {
              "outlinewidth": 0,
              "ticks": ""
             }
            },
            "type": "scattermap"
           }
          ],
          "scattermapbox": [
           {
            "marker": {
             "colorbar": {
              "outlinewidth": 0,
              "ticks": ""
             }
            },
            "type": "scattermapbox"
           }
          ],
          "scatterpolar": [
           {
            "marker": {
             "colorbar": {
              "outlinewidth": 0,
              "ticks": ""
             }
            },
            "type": "scatterpolar"
           }
          ],
          "scatterpolargl": [
           {
            "marker": {
             "colorbar": {
              "outlinewidth": 0,
              "ticks": ""
             }
            },
            "type": "scatterpolargl"
           }
          ],
          "scatterternary": [
           {
            "marker": {
             "colorbar": {
              "outlinewidth": 0,
              "ticks": ""
             }
            },
            "type": "scatterternary"
           }
          ],
          "surface": [
           {
            "colorbar": {
             "outlinewidth": 0,
             "ticks": ""
            },
            "colorscale": [
             [
              0,
              "#0d0887"
             ],
             [
              0.1111111111111111,
              "#46039f"
             ],
             [
              0.2222222222222222,
              "#7201a8"
             ],
             [
              0.3333333333333333,
              "#9c179e"
             ],
             [
              0.4444444444444444,
              "#bd3786"
             ],
             [
              0.5555555555555556,
              "#d8576b"
             ],
             [
              0.6666666666666666,
              "#ed7953"
             ],
             [
              0.7777777777777778,
              "#fb9f3a"
             ],
             [
              0.8888888888888888,
              "#fdca26"
             ],
             [
              1,
              "#f0f921"
             ]
            ],
            "type": "surface"
           }
          ],
          "table": [
           {
            "cells": {
             "fill": {
              "color": "#EBF0F8"
             },
             "line": {
              "color": "white"
             }
            },
            "header": {
             "fill": {
              "color": "#C8D4E3"
             },
             "line": {
              "color": "white"
             }
            },
            "type": "table"
           }
          ]
         },
         "layout": {
          "annotationdefaults": {
           "arrowcolor": "#2a3f5f",
           "arrowhead": 0,
           "arrowwidth": 1
          },
          "autotypenumbers": "strict",
          "coloraxis": {
           "colorbar": {
            "outlinewidth": 0,
            "ticks": ""
           }
          },
          "colorscale": {
           "diverging": [
            [
             0,
             "#8e0152"
            ],
            [
             0.1,
             "#c51b7d"
            ],
            [
             0.2,
             "#de77ae"
            ],
            [
             0.3,
             "#f1b6da"
            ],
            [
             0.4,
             "#fde0ef"
            ],
            [
             0.5,
             "#f7f7f7"
            ],
            [
             0.6,
             "#e6f5d0"
            ],
            [
             0.7,
             "#b8e186"
            ],
            [
             0.8,
             "#7fbc41"
            ],
            [
             0.9,
             "#4d9221"
            ],
            [
             1,
             "#276419"
            ]
           ],
           "sequential": [
            [
             0,
             "#0d0887"
            ],
            [
             0.1111111111111111,
             "#46039f"
            ],
            [
             0.2222222222222222,
             "#7201a8"
            ],
            [
             0.3333333333333333,
             "#9c179e"
            ],
            [
             0.4444444444444444,
             "#bd3786"
            ],
            [
             0.5555555555555556,
             "#d8576b"
            ],
            [
             0.6666666666666666,
             "#ed7953"
            ],
            [
             0.7777777777777778,
             "#fb9f3a"
            ],
            [
             0.8888888888888888,
             "#fdca26"
            ],
            [
             1,
             "#f0f921"
            ]
           ],
           "sequentialminus": [
            [
             0,
             "#0d0887"
            ],
            [
             0.1111111111111111,
             "#46039f"
            ],
            [
             0.2222222222222222,
             "#7201a8"
            ],
            [
             0.3333333333333333,
             "#9c179e"
            ],
            [
             0.4444444444444444,
             "#bd3786"
            ],
            [
             0.5555555555555556,
             "#d8576b"
            ],
            [
             0.6666666666666666,
             "#ed7953"
            ],
            [
             0.7777777777777778,
             "#fb9f3a"
            ],
            [
             0.8888888888888888,
             "#fdca26"
            ],
            [
             1,
             "#f0f921"
            ]
           ]
          },
          "colorway": [
           "#636efa",
           "#EF553B",
           "#00cc96",
           "#ab63fa",
           "#FFA15A",
           "#19d3f3",
           "#FF6692",
           "#B6E880",
           "#FF97FF",
           "#FECB52"
          ],
          "font": {
           "color": "#2a3f5f"
          },
          "geo": {
           "bgcolor": "white",
           "lakecolor": "white",
           "landcolor": "white",
           "showlakes": true,
           "showland": true,
           "subunitcolor": "#C8D4E3"
          },
          "hoverlabel": {
           "align": "left"
          },
          "hovermode": "closest",
          "mapbox": {
           "style": "light"
          },
          "paper_bgcolor": "white",
          "plot_bgcolor": "white",
          "polar": {
           "angularaxis": {
            "gridcolor": "#EBF0F8",
            "linecolor": "#EBF0F8",
            "ticks": ""
           },
           "bgcolor": "white",
           "radialaxis": {
            "gridcolor": "#EBF0F8",
            "linecolor": "#EBF0F8",
            "ticks": ""
           }
          },
          "scene": {
           "xaxis": {
            "backgroundcolor": "white",
            "gridcolor": "#DFE8F3",
            "gridwidth": 2,
            "linecolor": "#EBF0F8",
            "showbackground": true,
            "ticks": "",
            "zerolinecolor": "#EBF0F8"
           },
           "yaxis": {
            "backgroundcolor": "white",
            "gridcolor": "#DFE8F3",
            "gridwidth": 2,
            "linecolor": "#EBF0F8",
            "showbackground": true,
            "ticks": "",
            "zerolinecolor": "#EBF0F8"
           },
           "zaxis": {
            "backgroundcolor": "white",
            "gridcolor": "#DFE8F3",
            "gridwidth": 2,
            "linecolor": "#EBF0F8",
            "showbackground": true,
            "ticks": "",
            "zerolinecolor": "#EBF0F8"
           }
          },
          "shapedefaults": {
           "line": {
            "color": "#2a3f5f"
           }
          },
          "ternary": {
           "aaxis": {
            "gridcolor": "#DFE8F3",
            "linecolor": "#A2B1C6",
            "ticks": ""
           },
           "baxis": {
            "gridcolor": "#DFE8F3",
            "linecolor": "#A2B1C6",
            "ticks": ""
           },
           "bgcolor": "white",
           "caxis": {
            "gridcolor": "#DFE8F3",
            "linecolor": "#A2B1C6",
            "ticks": ""
           }
          },
          "title": {
           "x": 0.05
          },
          "xaxis": {
           "automargin": true,
           "gridcolor": "#EBF0F8",
           "linecolor": "#EBF0F8",
           "ticks": "",
           "title": {
            "standoff": 15
           },
           "zerolinecolor": "#EBF0F8",
           "zerolinewidth": 2
          },
          "yaxis": {
           "automargin": true,
           "gridcolor": "#EBF0F8",
           "linecolor": "#EBF0F8",
           "ticks": "",
           "title": {
            "standoff": 15
           },
           "zerolinecolor": "#EBF0F8",
           "zerolinewidth": 2
          }
         }
        },
        "title": {
         "text": "2-year ahead inflation expectations by age"
        },
        "xaxis": {
         "title": {
          "text": "Quarter"
         }
        },
        "yaxis": {
         "title": {
          "text": "Grouped Median (Interpolated)"
         }
        }
       }
      }
     },
     "metadata": {},
     "output_type": "display_data"
    }
   ],
   "source": [
    "plot_question_medians(q2b_median_by_age, age_map, title=\"2-year ahead inflation expectations by age\")"
   ]
  },
  {
   "cell_type": "code",
   "execution_count": 11,
   "metadata": {},
   "outputs": [
    {
     "data": {
      "application/vnd.plotly.v1+json": {
       "config": {
        "plotlyServerURL": "https://plot.ly"
       },
       "data": [
        {
         "mode": "lines+markers",
         "name": "65+",
         "type": "scatter",
         "x": [
          "2009-01-01T00:00:00.000000",
          "2009-04-01T00:00:00.000000",
          "2009-07-01T00:00:00.000000",
          "2009-10-01T00:00:00.000000",
          "2010-01-01T00:00:00.000000",
          "2010-04-01T00:00:00.000000",
          "2010-07-01T00:00:00.000000",
          "2010-10-01T00:00:00.000000",
          "2011-01-01T00:00:00.000000",
          "2011-04-01T00:00:00.000000",
          "2011-07-01T00:00:00.000000",
          "2011-10-01T00:00:00.000000",
          "2012-01-01T00:00:00.000000",
          "2012-04-01T00:00:00.000000",
          "2012-07-01T00:00:00.000000",
          "2012-10-01T00:00:00.000000",
          "2013-01-01T00:00:00.000000",
          "2013-04-01T00:00:00.000000",
          "2013-07-01T00:00:00.000000",
          "2013-10-01T00:00:00.000000",
          "2014-01-01T00:00:00.000000",
          "2014-04-01T00:00:00.000000",
          "2014-07-01T00:00:00.000000",
          "2014-10-01T00:00:00.000000",
          "2015-01-01T00:00:00.000000",
          "2015-04-01T00:00:00.000000",
          "2015-07-01T00:00:00.000000",
          "2015-10-01T00:00:00.000000",
          "2016-01-01T00:00:00.000000",
          "2016-04-01T00:00:00.000000",
          "2016-07-01T00:00:00.000000",
          "2016-10-01T00:00:00.000000",
          "2017-01-01T00:00:00.000000",
          "2017-04-01T00:00:00.000000",
          "2017-07-01T00:00:00.000000",
          "2017-10-01T00:00:00.000000",
          "2018-01-01T00:00:00.000000",
          "2018-04-01T00:00:00.000000",
          "2018-07-01T00:00:00.000000",
          "2018-10-01T00:00:00.000000",
          "2019-01-01T00:00:00.000000",
          "2019-04-01T00:00:00.000000",
          "2019-07-01T00:00:00.000000",
          "2019-10-01T00:00:00.000000",
          "2020-01-01T00:00:00.000000",
          "2020-04-01T00:00:00.000000",
          "2020-07-01T00:00:00.000000",
          "2020-10-01T00:00:00.000000",
          "2021-01-01T00:00:00.000000",
          "2021-04-01T00:00:00.000000",
          "2021-07-01T00:00:00.000000",
          "2021-10-01T00:00:00.000000",
          "2022-01-01T00:00:00.000000",
          "2022-04-01T00:00:00.000000",
          "2022-07-01T00:00:00.000000",
          "2022-10-01T00:00:00.000000",
          "2023-01-01T00:00:00.000000",
          "2023-04-01T00:00:00.000000",
          "2023-07-01T00:00:00.000000",
          "2023-10-01T00:00:00.000000",
          "2024-01-01T00:00:00.000000",
          "2024-04-01T00:00:00.000000",
          "2024-07-01T00:00:00.000000",
          "2024-10-01T00:00:00.000000",
          "2025-01-01T00:00:00.000000"
         ],
         "y": {
          "bdata": "3LZt27btBUByHMdxHMcHQEjhehSuRwdAdNFFF110CUC7hV+NifQIQMMwDMMwDAtAUrgehetRDEC+5Vu+5VsKQLkJ87ta3AxAF1100UUXDUBddNFFF10MQDbZZJNNNg1AKz8hzspPDEA2lNdQXkMNQJqZmZmZmQlAchzHcRzHDUAZv13qyfgNQGZmZmZmZg5Ab+FXYyI9DEB7FK5H4XoOQNKpeZC7fgpALIKGk7ovB0BKKaWUUkoHQFVVVVVVVQlAXwWzpBwQBUBDeQ3lNZQFQA7lNZTXUAZA6JCaYLyVBUCCXYUvN8QEQC0tLS0tLQlAAAAAAACABUCH8hrKaygHQIgLNSeBuAhAN5gin3WDB0DBeCv7HFIHQO0ltJfQXghA+DPhz4Q/C0C2YAu2YAsKQOQ4juM4jg1AVVVVVVXVCUCQu362WBkKQBQ7sRM7sQtAc08jLPc0CECJ2pWoXYkKQHsUrkfheghAob2E9hLaA0D7HFITjLcGQJIkSZIkyQZA5DiO4zhOBUCXLVu2bNkCQES/2Tr0mwVAFrKQhSxkBUA5juM4juMKQKuqqqqqKgtAbtu2bdu2CEBGRkZGRkYKQNJFF110UQpA2Ymd2ImdCEDyGsprKK8JQKuqqqqqKgxAymsor6G8CkDmFLycgpcHQOQ4juM4jgtA5DiO4ziOC0BG0HBS9+UNQA==",
          "dtype": "f8"
         }
        },
        {
         "mode": "lines+markers",
         "name": "55-64",
         "type": "scatter",
         "x": [
          "2009-01-01T00:00:00.000000",
          "2009-04-01T00:00:00.000000",
          "2009-07-01T00:00:00.000000",
          "2009-10-01T00:00:00.000000",
          "2010-01-01T00:00:00.000000",
          "2010-04-01T00:00:00.000000",
          "2010-07-01T00:00:00.000000",
          "2010-10-01T00:00:00.000000",
          "2011-01-01T00:00:00.000000",
          "2011-04-01T00:00:00.000000",
          "2011-07-01T00:00:00.000000",
          "2011-10-01T00:00:00.000000",
          "2012-01-01T00:00:00.000000",
          "2012-04-01T00:00:00.000000",
          "2012-07-01T00:00:00.000000",
          "2012-10-01T00:00:00.000000",
          "2013-01-01T00:00:00.000000",
          "2013-04-01T00:00:00.000000",
          "2013-07-01T00:00:00.000000",
          "2013-10-01T00:00:00.000000",
          "2014-01-01T00:00:00.000000",
          "2014-04-01T00:00:00.000000",
          "2014-07-01T00:00:00.000000",
          "2014-10-01T00:00:00.000000",
          "2015-01-01T00:00:00.000000",
          "2015-04-01T00:00:00.000000",
          "2015-07-01T00:00:00.000000",
          "2015-10-01T00:00:00.000000",
          "2016-01-01T00:00:00.000000",
          "2016-04-01T00:00:00.000000",
          "2016-07-01T00:00:00.000000",
          "2016-10-01T00:00:00.000000",
          "2017-01-01T00:00:00.000000",
          "2017-04-01T00:00:00.000000",
          "2017-07-01T00:00:00.000000",
          "2017-10-01T00:00:00.000000",
          "2018-01-01T00:00:00.000000",
          "2018-04-01T00:00:00.000000",
          "2018-07-01T00:00:00.000000",
          "2018-10-01T00:00:00.000000",
          "2019-01-01T00:00:00.000000",
          "2019-04-01T00:00:00.000000",
          "2019-07-01T00:00:00.000000",
          "2019-10-01T00:00:00.000000",
          "2020-01-01T00:00:00.000000",
          "2020-04-01T00:00:00.000000",
          "2020-07-01T00:00:00.000000",
          "2020-10-01T00:00:00.000000",
          "2021-01-01T00:00:00.000000",
          "2021-04-01T00:00:00.000000",
          "2021-07-01T00:00:00.000000",
          "2021-10-01T00:00:00.000000",
          "2022-01-01T00:00:00.000000",
          "2022-04-01T00:00:00.000000",
          "2022-07-01T00:00:00.000000",
          "2022-10-01T00:00:00.000000",
          "2023-01-01T00:00:00.000000",
          "2023-04-01T00:00:00.000000",
          "2023-07-01T00:00:00.000000",
          "2023-10-01T00:00:00.000000",
          "2024-01-01T00:00:00.000000",
          "2024-04-01T00:00:00.000000",
          "2024-07-01T00:00:00.000000",
          "2024-10-01T00:00:00.000000",
          "2025-01-01T00:00:00.000000"
         ],
         "y": {
          "bdata": "inzWDabIB0C1K1G7ErUHQAgffPDBBwtAZmZmZmZmCkDT0tLS0tIKQKEO6qAO6gxAzczMzMzMCkCe53me53kMQBy5kRu5kQtA2Ymd2ImdCkBJkiRJkiQNQI7jOI7jOA5ACe4juI/gCkCc3vSmN70NQAAAAAAAAAlAJUmSJEkSEUC0l9BeQnsNQKWUUkoppRBA3LZt27ZtDUDXo3A9CtcPQKEv6Av6ggpAAAAAAAAACEAK16NwPQoLQBdddNFFFwdAmpmZmZkZBkCejfrORn0HQM3MzMzMzAhAAAAAAADABUBGF1100UUHQKRwPQrXowxA0Bf0BX1BB0DWlDVlTVkHQBQ7sRM7sQlATJHPusEUCUCmpaWlpaUJQAAAAAAAAApAmpmZmZmZCUA5juM4juMLQIiIiIiIiA5AAAAAAABACkB0zjnnnHMMQEJ7Ce0ltAtA1Jve9KY3B0DpoosuuugKQERERERERApASZIkSZIkA0AAAAAAAAAEQG7btm3btgVA3sKvxkR6BkBW2BxItMIGQOfm5ubm5gZA7XNITTDeBkA2lNdQXkMKQPQ8z/M8zwlAVVVVVVVVCEAAAAAAAAAMQPZjP/ZjPwZAfNYNpshnBUBLS0tLS0sHQM4555xzzgdAspCFLGQhCEBN0zRN0zQJQIfUBOOt7AdAxU7sxE7sDUApXI/C9SgMQA==",
          "dtype": "f8"
         }
        },
        {
         "mode": "lines+markers",
         "name": "35-44",
         "type": "scatter",
         "x": [
          "2009-01-01T00:00:00.000000",
          "2009-04-01T00:00:00.000000",
          "2009-07-01T00:00:00.000000",
          "2009-10-01T00:00:00.000000",
          "2010-01-01T00:00:00.000000",
          "2010-04-01T00:00:00.000000",
          "2010-07-01T00:00:00.000000",
          "2010-10-01T00:00:00.000000",
          "2011-01-01T00:00:00.000000",
          "2011-04-01T00:00:00.000000",
          "2011-07-01T00:00:00.000000",
          "2011-10-01T00:00:00.000000",
          "2012-01-01T00:00:00.000000",
          "2012-04-01T00:00:00.000000",
          "2012-07-01T00:00:00.000000",
          "2012-10-01T00:00:00.000000",
          "2013-01-01T00:00:00.000000",
          "2013-04-01T00:00:00.000000",
          "2013-07-01T00:00:00.000000",
          "2013-10-01T00:00:00.000000",
          "2014-01-01T00:00:00.000000",
          "2014-04-01T00:00:00.000000",
          "2014-07-01T00:00:00.000000",
          "2014-10-01T00:00:00.000000",
          "2015-01-01T00:00:00.000000",
          "2015-04-01T00:00:00.000000",
          "2015-07-01T00:00:00.000000",
          "2015-10-01T00:00:00.000000",
          "2016-01-01T00:00:00.000000",
          "2016-04-01T00:00:00.000000",
          "2016-07-01T00:00:00.000000",
          "2016-10-01T00:00:00.000000",
          "2017-01-01T00:00:00.000000",
          "2017-04-01T00:00:00.000000",
          "2017-07-01T00:00:00.000000",
          "2017-10-01T00:00:00.000000",
          "2018-01-01T00:00:00.000000",
          "2018-04-01T00:00:00.000000",
          "2018-07-01T00:00:00.000000",
          "2018-10-01T00:00:00.000000",
          "2019-01-01T00:00:00.000000",
          "2019-04-01T00:00:00.000000",
          "2019-07-01T00:00:00.000000",
          "2019-10-01T00:00:00.000000",
          "2020-01-01T00:00:00.000000",
          "2020-04-01T00:00:00.000000",
          "2020-07-01T00:00:00.000000",
          "2020-10-01T00:00:00.000000",
          "2021-01-01T00:00:00.000000",
          "2021-04-01T00:00:00.000000",
          "2021-07-01T00:00:00.000000",
          "2021-10-01T00:00:00.000000",
          "2022-01-01T00:00:00.000000",
          "2022-04-01T00:00:00.000000",
          "2022-07-01T00:00:00.000000",
          "2022-10-01T00:00:00.000000",
          "2023-01-01T00:00:00.000000",
          "2023-04-01T00:00:00.000000",
          "2023-07-01T00:00:00.000000",
          "2023-10-01T00:00:00.000000",
          "2024-01-01T00:00:00.000000",
          "2024-04-01T00:00:00.000000",
          "2024-07-01T00:00:00.000000",
          "2024-10-01T00:00:00.000000",
          "2025-01-01T00:00:00.000000"
         ],
         "y": {
          "bdata": "thzc7BdiBUB0zjnnnHMGQGgvob2E9gRAq6qqqqoqCkBoOKn78tgGQO/u7u7u7gVAZmZmZmZmB0AAAAAAAAAIQLuFX42J9AxAmFPwcgpeCkCrqqqqqqoKQKuqqqqqKgxA3t3d3d3dCEBI3BF3xB0NQM3MzMzMzAlA9zTCck8jDEB877333nsPQBBCCCGEEApAKK+hvIbyDEDUrkTtStQOQBm/XerJ+AlAOY7jOI7jCEA8PDw8PDwKQNQIyz2NsAhApmG7WZ5EBkBVVVVVVZUHQFVVVVVVVQVASimllFJKBUAu2IIt2IIHQOLh4eHh4QlA7og74o64B0CamZmZmZkJQNV9eWxF0AhAMzMzMzOzC0BOb3rTm94IQKEO6qAO6gxAaZAGaZAGDUA+jbDc0wgPQEYXXXTRRQtAzczMzMzMDEBqhOWeRlgMQDMzMzMzMw1AAAAAAAAACEBVVVVVVVUPQIr0QOXsFgpADw8PDw8PBUAAAAAAACAIQKuqqqqqqgpAYOXQItv5BkBHm/cpLhkGQOo7G/WdjQpAAAAAAADACUDy48ePHz8OQG5ubm5ubg5APc/zPM/zCkAAAAAAADAQQEEmxQtkUghAo4suuuiiCEBiJ3ZiJ3YGQPQ8z/M8zwtA6qeffvrpC0AsUbsStSsJQOecc8455whAep7neZ7nDUBP7MRO7MQOQA==",
          "dtype": "f8"
         }
        },
        {
         "mode": "lines+markers",
         "name": "25-34",
         "type": "scatter",
         "x": [
          "2009-01-01T00:00:00.000000",
          "2009-04-01T00:00:00.000000",
          "2009-07-01T00:00:00.000000",
          "2009-10-01T00:00:00.000000",
          "2010-01-01T00:00:00.000000",
          "2010-04-01T00:00:00.000000",
          "2010-07-01T00:00:00.000000",
          "2010-10-01T00:00:00.000000",
          "2011-01-01T00:00:00.000000",
          "2011-04-01T00:00:00.000000",
          "2011-07-01T00:00:00.000000",
          "2011-10-01T00:00:00.000000",
          "2012-01-01T00:00:00.000000",
          "2012-04-01T00:00:00.000000",
          "2012-07-01T00:00:00.000000",
          "2012-10-01T00:00:00.000000",
          "2013-01-01T00:00:00.000000",
          "2013-04-01T00:00:00.000000",
          "2013-07-01T00:00:00.000000",
          "2013-10-01T00:00:00.000000",
          "2014-01-01T00:00:00.000000",
          "2014-04-01T00:00:00.000000",
          "2014-07-01T00:00:00.000000",
          "2014-10-01T00:00:00.000000",
          "2015-01-01T00:00:00.000000",
          "2015-04-01T00:00:00.000000",
          "2015-07-01T00:00:00.000000",
          "2015-10-01T00:00:00.000000",
          "2016-01-01T00:00:00.000000",
          "2016-04-01T00:00:00.000000",
          "2016-07-01T00:00:00.000000",
          "2016-10-01T00:00:00.000000",
          "2017-01-01T00:00:00.000000",
          "2017-04-01T00:00:00.000000",
          "2017-07-01T00:00:00.000000",
          "2017-10-01T00:00:00.000000",
          "2018-01-01T00:00:00.000000",
          "2018-04-01T00:00:00.000000",
          "2018-07-01T00:00:00.000000",
          "2018-10-01T00:00:00.000000",
          "2019-01-01T00:00:00.000000",
          "2019-04-01T00:00:00.000000",
          "2019-07-01T00:00:00.000000",
          "2019-10-01T00:00:00.000000",
          "2020-01-01T00:00:00.000000",
          "2020-04-01T00:00:00.000000",
          "2020-07-01T00:00:00.000000",
          "2020-10-01T00:00:00.000000",
          "2021-01-01T00:00:00.000000",
          "2021-04-01T00:00:00.000000",
          "2021-07-01T00:00:00.000000",
          "2021-10-01T00:00:00.000000",
          "2022-01-01T00:00:00.000000",
          "2022-04-01T00:00:00.000000",
          "2022-07-01T00:00:00.000000",
          "2022-10-01T00:00:00.000000",
          "2023-01-01T00:00:00.000000",
          "2023-04-01T00:00:00.000000",
          "2023-07-01T00:00:00.000000",
          "2023-10-01T00:00:00.000000",
          "2024-01-01T00:00:00.000000",
          "2024-04-01T00:00:00.000000",
          "2024-07-01T00:00:00.000000",
          "2024-10-01T00:00:00.000000",
          "2025-01-01T00:00:00.000000"
         ],
         "y": {
          "bdata": "zczMzMzMBECSJEmSJEkGQFnIQhaykAdAAAAAAAAgCEA0nvGMZzwHQGIndmIndgpAhBBCCCGECEAuuuiiiy4KQGmQBmmQBgtAERERERERCUCSJEmSJEkMQK+hvIbyGg5AAAAAAADAC0BfQnsJ7SUMQKiDOqiDOghAMzMzMzMzDUBYfMVXfMUNQIuv+Iqv+A5ALGQhC1nIDkDIQhaykIUMQAc6baDTBgpAGG9ln0NqBkCbsqasKWsKQEYXXXTRRQdAS0tLS0tLB0DRRRdddNEJQFVVVVVVVQlApZRSSimlCEBu27Zt2zYKQAAAAAAAoA9AfMVXfMVXDEC6pxGWexoNQDuxEzuxEwtAxvrQWB8aC0DxFV/xFV8NQCRJkiRJkg1A5DiO4ziOC0BvMEU+6wYPQCa0l9BeQg9AAAAAAABADECCThvotIEOQAAAAAAAIAtAsskmm2yyCUBsKK+hvIYOQAAAAAAAAAxAW9yE+V0tBkBXEJMriMkFQFLf2ajvbAhAK4KGk7ovCUBmZmZmZmYGQImIiIiIiAhAAAAAAACQDEAAAAAAAAAKQEmSJEmSJA5AR5v3KS4ZCkCwr6+vr68LQAAAAAAAAAhAyFOCPCXIB0APDw8PDw8JQEmSJEmSJAdAd4bEvJ0hCUAREREREREKQKOLLrrooglAeDkFL6fgCUD+SoFav1IMQA==",
          "dtype": "f8"
         }
        },
        {
         "mode": "lines+markers",
         "name": "15-24",
         "type": "scatter",
         "x": [
          "2009-01-01T00:00:00.000000",
          "2009-04-01T00:00:00.000000",
          "2009-07-01T00:00:00.000000",
          "2009-10-01T00:00:00.000000",
          "2010-01-01T00:00:00.000000",
          "2010-04-01T00:00:00.000000",
          "2010-07-01T00:00:00.000000",
          "2010-10-01T00:00:00.000000",
          "2011-01-01T00:00:00.000000",
          "2011-04-01T00:00:00.000000",
          "2011-07-01T00:00:00.000000",
          "2011-10-01T00:00:00.000000",
          "2012-01-01T00:00:00.000000",
          "2012-04-01T00:00:00.000000",
          "2012-07-01T00:00:00.000000",
          "2012-10-01T00:00:00.000000",
          "2013-01-01T00:00:00.000000",
          "2013-04-01T00:00:00.000000",
          "2013-07-01T00:00:00.000000",
          "2013-10-01T00:00:00.000000",
          "2014-01-01T00:00:00.000000",
          "2014-04-01T00:00:00.000000",
          "2014-07-01T00:00:00.000000",
          "2014-10-01T00:00:00.000000",
          "2015-01-01T00:00:00.000000",
          "2015-04-01T00:00:00.000000",
          "2015-07-01T00:00:00.000000",
          "2015-10-01T00:00:00.000000",
          "2016-01-01T00:00:00.000000",
          "2016-04-01T00:00:00.000000",
          "2016-07-01T00:00:00.000000",
          "2016-10-01T00:00:00.000000",
          "2017-01-01T00:00:00.000000",
          "2017-04-01T00:00:00.000000",
          "2017-07-01T00:00:00.000000",
          "2017-10-01T00:00:00.000000",
          "2018-01-01T00:00:00.000000",
          "2018-04-01T00:00:00.000000",
          "2018-07-01T00:00:00.000000",
          "2018-10-01T00:00:00.000000",
          "2019-01-01T00:00:00.000000",
          "2019-04-01T00:00:00.000000",
          "2019-07-01T00:00:00.000000",
          "2019-10-01T00:00:00.000000",
          "2020-01-01T00:00:00.000000",
          "2020-04-01T00:00:00.000000",
          "2020-07-01T00:00:00.000000",
          "2020-10-01T00:00:00.000000",
          "2021-01-01T00:00:00.000000",
          "2021-04-01T00:00:00.000000",
          "2021-07-01T00:00:00.000000",
          "2021-10-01T00:00:00.000000",
          "2022-01-01T00:00:00.000000",
          "2022-04-01T00:00:00.000000",
          "2022-07-01T00:00:00.000000",
          "2022-10-01T00:00:00.000000",
          "2023-01-01T00:00:00.000000",
          "2023-04-01T00:00:00.000000",
          "2023-07-01T00:00:00.000000",
          "2023-10-01T00:00:00.000000",
          "2024-01-01T00:00:00.000000",
          "2024-04-01T00:00:00.000000",
          "2024-07-01T00:00:00.000000",
          "2024-10-01T00:00:00.000000",
          "2025-01-01T00:00:00.000000"
         ],
         "y": {
          "bdata": "ZmZmZmbmBEBJkiRJkiQFQBQ7sRM7sQNADw8PDw8PB0Bi7RvWvmEFQOxRuB6F6wVAZmZmZmZmCkAodmIndmIHQDMzMzMzswpAw/UoXI/CCUB5DeU1lNcMQMVO7MRO7AxAj7gj7og7CkBqhOWeRlgQQEmSJEmSJApAt23btm3bCkCaYLyVfQ4NQOzETuzETgxAip3YiZ3YCUAAAAAAACAHQLKQhSxkIQtAJEmSJEmSBEDkOI7jOA4QQGIndmIndgpA55xzzjnnBkCJ2pWoXYkGQAAAAAAAAAZA8fDw8PDwCEBGiZ9R4mcMQFVVVVVV1QxAdNFFF110B0AAAAAAAEAIQKuqqqqqqgpA5TWU11BeC0AAAAAAAAAQQNPS0tLS0g5AAAAAAAAAC0AAAAAAAAAMQLdt27Zt2xBAqIM6qIM6EEDbtm3btm0LQFVVVVVVVQ1Abtu2bdu2DUChvYT2EtoPQLdt27ZtWw5AXXTRRRddBEAAAAAAAKAFQInalahdiQZAZmZmZmbmBkBCHdRBHdQJQAAAAAAAwAdAL6G9hPYSCkAwlvxiyS8GQKalpaWlpQdAAAAAAADgA0C0bjBFPusGQE/sxE7sxAZAKkGeEuQpBUBsKK+hvIYGQAAAAAAAAAZA7gyJeTtDBkC1tLS0tLQIQAAAAAAAgAlAAAAAAAAACkDNzMzMzIwKQA==",
          "dtype": "f8"
         }
        },
        {
         "mode": "lines+markers",
         "name": "45-54",
         "type": "scatter",
         "x": [
          "2009-01-01T00:00:00.000000",
          "2009-04-01T00:00:00.000000",
          "2009-07-01T00:00:00.000000",
          "2009-10-01T00:00:00.000000",
          "2010-01-01T00:00:00.000000",
          "2010-04-01T00:00:00.000000",
          "2010-07-01T00:00:00.000000",
          "2010-10-01T00:00:00.000000",
          "2011-01-01T00:00:00.000000",
          "2011-04-01T00:00:00.000000",
          "2011-07-01T00:00:00.000000",
          "2011-10-01T00:00:00.000000",
          "2012-01-01T00:00:00.000000",
          "2012-04-01T00:00:00.000000",
          "2012-07-01T00:00:00.000000",
          "2012-10-01T00:00:00.000000",
          "2013-01-01T00:00:00.000000",
          "2013-04-01T00:00:00.000000",
          "2013-07-01T00:00:00.000000",
          "2013-10-01T00:00:00.000000",
          "2014-01-01T00:00:00.000000",
          "2014-04-01T00:00:00.000000",
          "2014-07-01T00:00:00.000000",
          "2014-10-01T00:00:00.000000",
          "2015-01-01T00:00:00.000000",
          "2015-04-01T00:00:00.000000",
          "2015-07-01T00:00:00.000000",
          "2015-10-01T00:00:00.000000",
          "2016-01-01T00:00:00.000000",
          "2016-04-01T00:00:00.000000",
          "2016-07-01T00:00:00.000000",
          "2016-10-01T00:00:00.000000",
          "2017-01-01T00:00:00.000000",
          "2017-04-01T00:00:00.000000",
          "2017-07-01T00:00:00.000000",
          "2017-10-01T00:00:00.000000",
          "2018-01-01T00:00:00.000000",
          "2018-04-01T00:00:00.000000",
          "2018-07-01T00:00:00.000000",
          "2018-10-01T00:00:00.000000",
          "2019-01-01T00:00:00.000000",
          "2019-04-01T00:00:00.000000",
          "2019-07-01T00:00:00.000000",
          "2019-10-01T00:00:00.000000",
          "2020-01-01T00:00:00.000000",
          "2020-04-01T00:00:00.000000",
          "2020-07-01T00:00:00.000000",
          "2020-10-01T00:00:00.000000",
          "2021-01-01T00:00:00.000000",
          "2021-04-01T00:00:00.000000",
          "2021-07-01T00:00:00.000000",
          "2021-10-01T00:00:00.000000",
          "2022-01-01T00:00:00.000000",
          "2022-04-01T00:00:00.000000",
          "2022-07-01T00:00:00.000000",
          "2022-10-01T00:00:00.000000",
          "2023-01-01T00:00:00.000000",
          "2023-04-01T00:00:00.000000",
          "2023-07-01T00:00:00.000000",
          "2023-10-01T00:00:00.000000",
          "2024-01-01T00:00:00.000000",
          "2024-04-01T00:00:00.000000",
          "2024-07-01T00:00:00.000000",
          "2024-10-01T00:00:00.000000",
          "2025-01-01T00:00:00.000000"
         ],
         "y": {
          "bdata": "Z+vQb7YOBUDD9Shcj8IJQJIkSZIkSQZADw8PDw8PCUBvb29vb28LQGZmZmZmZghAFK5H4XoUCkAPDw8PDw8LQJIkSZIkSQtAi6/4iq/4CkAK16NwPQoNQAAAAAAAYAtAG8prKK+hCUCrqqqqqqoKQFVVVVVVVQlAAAAAAAAgDkAkSZIkSZIMQFeidiVqVxBAxU7sxE7sDEAlSZIkSRIQQDuxEzuxEwtA4YMPPvjgB0AAAAAAAOAJQIO+oC/oCwZA0x3st9oYBkBGF1100UUGQC7f8i3f8gVAOuecc845B0CH1ATjrewHQNJFF1100QpAAAAAAAAACECDNEiDNEgHQKn78tiKoAlAvqAv6Av6CkAAAAAAAEAMQFG7ErUrUQtAlNdQXkN5CkDNzMzMzMwLQAAAAAAAgAtAt23btm3bC0AjIyMjIyMLQAAAAAAAABBA2WSTTTbZCEAAAAAAAAANQEoppZRSSgtA+5UCtX6lBECrqqqqqqoIQIX2EtpLaAdAWqmVWqmVBkDHcRzHcRwFQAAAAAAAAAhAFl/xFV/xB0CKF8ikeIEMQKnvbNR3NgpAOY7jOI7jCkAREREREREJQIKodGTPQAhAL7rooosuCEBvZZ9DaoIFQOKOuCPuiAtAPUL1mbbGB0AXXXTRRRcIQEjhehSuRwlAzczMzMzMCED3ute97nULQA==",
          "dtype": "f8"
         }
        }
       ],
       "layout": {
        "hovermode": "x unified",
        "legend": {
         "title": {
          "text": "Group"
         }
        },
        "template": {
         "data": {
          "bar": [
           {
            "error_x": {
             "color": "#2a3f5f"
            },
            "error_y": {
             "color": "#2a3f5f"
            },
            "marker": {
             "line": {
              "color": "white",
              "width": 0.5
             },
             "pattern": {
              "fillmode": "overlay",
              "size": 10,
              "solidity": 0.2
             }
            },
            "type": "bar"
           }
          ],
          "barpolar": [
           {
            "marker": {
             "line": {
              "color": "white",
              "width": 0.5
             },
             "pattern": {
              "fillmode": "overlay",
              "size": 10,
              "solidity": 0.2
             }
            },
            "type": "barpolar"
           }
          ],
          "carpet": [
           {
            "aaxis": {
             "endlinecolor": "#2a3f5f",
             "gridcolor": "#C8D4E3",
             "linecolor": "#C8D4E3",
             "minorgridcolor": "#C8D4E3",
             "startlinecolor": "#2a3f5f"
            },
            "baxis": {
             "endlinecolor": "#2a3f5f",
             "gridcolor": "#C8D4E3",
             "linecolor": "#C8D4E3",
             "minorgridcolor": "#C8D4E3",
             "startlinecolor": "#2a3f5f"
            },
            "type": "carpet"
           }
          ],
          "choropleth": [
           {
            "colorbar": {
             "outlinewidth": 0,
             "ticks": ""
            },
            "type": "choropleth"
           }
          ],
          "contour": [
           {
            "colorbar": {
             "outlinewidth": 0,
             "ticks": ""
            },
            "colorscale": [
             [
              0,
              "#0d0887"
             ],
             [
              0.1111111111111111,
              "#46039f"
             ],
             [
              0.2222222222222222,
              "#7201a8"
             ],
             [
              0.3333333333333333,
              "#9c179e"
             ],
             [
              0.4444444444444444,
              "#bd3786"
             ],
             [
              0.5555555555555556,
              "#d8576b"
             ],
             [
              0.6666666666666666,
              "#ed7953"
             ],
             [
              0.7777777777777778,
              "#fb9f3a"
             ],
             [
              0.8888888888888888,
              "#fdca26"
             ],
             [
              1,
              "#f0f921"
             ]
            ],
            "type": "contour"
           }
          ],
          "contourcarpet": [
           {
            "colorbar": {
             "outlinewidth": 0,
             "ticks": ""
            },
            "type": "contourcarpet"
           }
          ],
          "heatmap": [
           {
            "colorbar": {
             "outlinewidth": 0,
             "ticks": ""
            },
            "colorscale": [
             [
              0,
              "#0d0887"
             ],
             [
              0.1111111111111111,
              "#46039f"
             ],
             [
              0.2222222222222222,
              "#7201a8"
             ],
             [
              0.3333333333333333,
              "#9c179e"
             ],
             [
              0.4444444444444444,
              "#bd3786"
             ],
             [
              0.5555555555555556,
              "#d8576b"
             ],
             [
              0.6666666666666666,
              "#ed7953"
             ],
             [
              0.7777777777777778,
              "#fb9f3a"
             ],
             [
              0.8888888888888888,
              "#fdca26"
             ],
             [
              1,
              "#f0f921"
             ]
            ],
            "type": "heatmap"
           }
          ],
          "histogram": [
           {
            "marker": {
             "pattern": {
              "fillmode": "overlay",
              "size": 10,
              "solidity": 0.2
             }
            },
            "type": "histogram"
           }
          ],
          "histogram2d": [
           {
            "colorbar": {
             "outlinewidth": 0,
             "ticks": ""
            },
            "colorscale": [
             [
              0,
              "#0d0887"
             ],
             [
              0.1111111111111111,
              "#46039f"
             ],
             [
              0.2222222222222222,
              "#7201a8"
             ],
             [
              0.3333333333333333,
              "#9c179e"
             ],
             [
              0.4444444444444444,
              "#bd3786"
             ],
             [
              0.5555555555555556,
              "#d8576b"
             ],
             [
              0.6666666666666666,
              "#ed7953"
             ],
             [
              0.7777777777777778,
              "#fb9f3a"
             ],
             [
              0.8888888888888888,
              "#fdca26"
             ],
             [
              1,
              "#f0f921"
             ]
            ],
            "type": "histogram2d"
           }
          ],
          "histogram2dcontour": [
           {
            "colorbar": {
             "outlinewidth": 0,
             "ticks": ""
            },
            "colorscale": [
             [
              0,
              "#0d0887"
             ],
             [
              0.1111111111111111,
              "#46039f"
             ],
             [
              0.2222222222222222,
              "#7201a8"
             ],
             [
              0.3333333333333333,
              "#9c179e"
             ],
             [
              0.4444444444444444,
              "#bd3786"
             ],
             [
              0.5555555555555556,
              "#d8576b"
             ],
             [
              0.6666666666666666,
              "#ed7953"
             ],
             [
              0.7777777777777778,
              "#fb9f3a"
             ],
             [
              0.8888888888888888,
              "#fdca26"
             ],
             [
              1,
              "#f0f921"
             ]
            ],
            "type": "histogram2dcontour"
           }
          ],
          "mesh3d": [
           {
            "colorbar": {
             "outlinewidth": 0,
             "ticks": ""
            },
            "type": "mesh3d"
           }
          ],
          "parcoords": [
           {
            "line": {
             "colorbar": {
              "outlinewidth": 0,
              "ticks": ""
             }
            },
            "type": "parcoords"
           }
          ],
          "pie": [
           {
            "automargin": true,
            "type": "pie"
           }
          ],
          "scatter": [
           {
            "fillpattern": {
             "fillmode": "overlay",
             "size": 10,
             "solidity": 0.2
            },
            "type": "scatter"
           }
          ],
          "scatter3d": [
           {
            "line": {
             "colorbar": {
              "outlinewidth": 0,
              "ticks": ""
             }
            },
            "marker": {
             "colorbar": {
              "outlinewidth": 0,
              "ticks": ""
             }
            },
            "type": "scatter3d"
           }
          ],
          "scattercarpet": [
           {
            "marker": {
             "colorbar": {
              "outlinewidth": 0,
              "ticks": ""
             }
            },
            "type": "scattercarpet"
           }
          ],
          "scattergeo": [
           {
            "marker": {
             "colorbar": {
              "outlinewidth": 0,
              "ticks": ""
             }
            },
            "type": "scattergeo"
           }
          ],
          "scattergl": [
           {
            "marker": {
             "colorbar": {
              "outlinewidth": 0,
              "ticks": ""
             }
            },
            "type": "scattergl"
           }
          ],
          "scattermap": [
           {
            "marker": {
             "colorbar": {
              "outlinewidth": 0,
              "ticks": ""
             }
            },
            "type": "scattermap"
           }
          ],
          "scattermapbox": [
           {
            "marker": {
             "colorbar": {
              "outlinewidth": 0,
              "ticks": ""
             }
            },
            "type": "scattermapbox"
           }
          ],
          "scatterpolar": [
           {
            "marker": {
             "colorbar": {
              "outlinewidth": 0,
              "ticks": ""
             }
            },
            "type": "scatterpolar"
           }
          ],
          "scatterpolargl": [
           {
            "marker": {
             "colorbar": {
              "outlinewidth": 0,
              "ticks": ""
             }
            },
            "type": "scatterpolargl"
           }
          ],
          "scatterternary": [
           {
            "marker": {
             "colorbar": {
              "outlinewidth": 0,
              "ticks": ""
             }
            },
            "type": "scatterternary"
           }
          ],
          "surface": [
           {
            "colorbar": {
             "outlinewidth": 0,
             "ticks": ""
            },
            "colorscale": [
             [
              0,
              "#0d0887"
             ],
             [
              0.1111111111111111,
              "#46039f"
             ],
             [
              0.2222222222222222,
              "#7201a8"
             ],
             [
              0.3333333333333333,
              "#9c179e"
             ],
             [
              0.4444444444444444,
              "#bd3786"
             ],
             [
              0.5555555555555556,
              "#d8576b"
             ],
             [
              0.6666666666666666,
              "#ed7953"
             ],
             [
              0.7777777777777778,
              "#fb9f3a"
             ],
             [
              0.8888888888888888,
              "#fdca26"
             ],
             [
              1,
              "#f0f921"
             ]
            ],
            "type": "surface"
           }
          ],
          "table": [
           {
            "cells": {
             "fill": {
              "color": "#EBF0F8"
             },
             "line": {
              "color": "white"
             }
            },
            "header": {
             "fill": {
              "color": "#C8D4E3"
             },
             "line": {
              "color": "white"
             }
            },
            "type": "table"
           }
          ]
         },
         "layout": {
          "annotationdefaults": {
           "arrowcolor": "#2a3f5f",
           "arrowhead": 0,
           "arrowwidth": 1
          },
          "autotypenumbers": "strict",
          "coloraxis": {
           "colorbar": {
            "outlinewidth": 0,
            "ticks": ""
           }
          },
          "colorscale": {
           "diverging": [
            [
             0,
             "#8e0152"
            ],
            [
             0.1,
             "#c51b7d"
            ],
            [
             0.2,
             "#de77ae"
            ],
            [
             0.3,
             "#f1b6da"
            ],
            [
             0.4,
             "#fde0ef"
            ],
            [
             0.5,
             "#f7f7f7"
            ],
            [
             0.6,
             "#e6f5d0"
            ],
            [
             0.7,
             "#b8e186"
            ],
            [
             0.8,
             "#7fbc41"
            ],
            [
             0.9,
             "#4d9221"
            ],
            [
             1,
             "#276419"
            ]
           ],
           "sequential": [
            [
             0,
             "#0d0887"
            ],
            [
             0.1111111111111111,
             "#46039f"
            ],
            [
             0.2222222222222222,
             "#7201a8"
            ],
            [
             0.3333333333333333,
             "#9c179e"
            ],
            [
             0.4444444444444444,
             "#bd3786"
            ],
            [
             0.5555555555555556,
             "#d8576b"
            ],
            [
             0.6666666666666666,
             "#ed7953"
            ],
            [
             0.7777777777777778,
             "#fb9f3a"
            ],
            [
             0.8888888888888888,
             "#fdca26"
            ],
            [
             1,
             "#f0f921"
            ]
           ],
           "sequentialminus": [
            [
             0,
             "#0d0887"
            ],
            [
             0.1111111111111111,
             "#46039f"
            ],
            [
             0.2222222222222222,
             "#7201a8"
            ],
            [
             0.3333333333333333,
             "#9c179e"
            ],
            [
             0.4444444444444444,
             "#bd3786"
            ],
            [
             0.5555555555555556,
             "#d8576b"
            ],
            [
             0.6666666666666666,
             "#ed7953"
            ],
            [
             0.7777777777777778,
             "#fb9f3a"
            ],
            [
             0.8888888888888888,
             "#fdca26"
            ],
            [
             1,
             "#f0f921"
            ]
           ]
          },
          "colorway": [
           "#636efa",
           "#EF553B",
           "#00cc96",
           "#ab63fa",
           "#FFA15A",
           "#19d3f3",
           "#FF6692",
           "#B6E880",
           "#FF97FF",
           "#FECB52"
          ],
          "font": {
           "color": "#2a3f5f"
          },
          "geo": {
           "bgcolor": "white",
           "lakecolor": "white",
           "landcolor": "white",
           "showlakes": true,
           "showland": true,
           "subunitcolor": "#C8D4E3"
          },
          "hoverlabel": {
           "align": "left"
          },
          "hovermode": "closest",
          "mapbox": {
           "style": "light"
          },
          "paper_bgcolor": "white",
          "plot_bgcolor": "white",
          "polar": {
           "angularaxis": {
            "gridcolor": "#EBF0F8",
            "linecolor": "#EBF0F8",
            "ticks": ""
           },
           "bgcolor": "white",
           "radialaxis": {
            "gridcolor": "#EBF0F8",
            "linecolor": "#EBF0F8",
            "ticks": ""
           }
          },
          "scene": {
           "xaxis": {
            "backgroundcolor": "white",
            "gridcolor": "#DFE8F3",
            "gridwidth": 2,
            "linecolor": "#EBF0F8",
            "showbackground": true,
            "ticks": "",
            "zerolinecolor": "#EBF0F8"
           },
           "yaxis": {
            "backgroundcolor": "white",
            "gridcolor": "#DFE8F3",
            "gridwidth": 2,
            "linecolor": "#EBF0F8",
            "showbackground": true,
            "ticks": "",
            "zerolinecolor": "#EBF0F8"
           },
           "zaxis": {
            "backgroundcolor": "white",
            "gridcolor": "#DFE8F3",
            "gridwidth": 2,
            "linecolor": "#EBF0F8",
            "showbackground": true,
            "ticks": "",
            "zerolinecolor": "#EBF0F8"
           }
          },
          "shapedefaults": {
           "line": {
            "color": "#2a3f5f"
           }
          },
          "ternary": {
           "aaxis": {
            "gridcolor": "#DFE8F3",
            "linecolor": "#A2B1C6",
            "ticks": ""
           },
           "baxis": {
            "gridcolor": "#DFE8F3",
            "linecolor": "#A2B1C6",
            "ticks": ""
           },
           "bgcolor": "white",
           "caxis": {
            "gridcolor": "#DFE8F3",
            "linecolor": "#A2B1C6",
            "ticks": ""
           }
          },
          "title": {
           "x": 0.05
          },
          "xaxis": {
           "automargin": true,
           "gridcolor": "#EBF0F8",
           "linecolor": "#EBF0F8",
           "ticks": "",
           "title": {
            "standoff": 15
           },
           "zerolinecolor": "#EBF0F8",
           "zerolinewidth": 2
          },
          "yaxis": {
           "automargin": true,
           "gridcolor": "#EBF0F8",
           "linecolor": "#EBF0F8",
           "ticks": "",
           "title": {
            "standoff": 15
           },
           "zerolinecolor": "#EBF0F8",
           "zerolinewidth": 2
          }
         }
        },
        "title": {
         "text": "5-Year ahead inflation expectations by age"
        },
        "xaxis": {
         "title": {
          "text": "Quarter"
         }
        },
        "yaxis": {
         "title": {
          "text": "Grouped Median (Interpolated)"
         }
        }
       }
      }
     },
     "metadata": {},
     "output_type": "display_data"
    }
   ],
   "source": [
    "plot_question_medians(q2c_median_by_age, age_map, title=\"5-Year ahead inflation expectations by age\")"
   ]
  },
  {
   "cell_type": "markdown",
   "metadata": {},
   "source": [
    "## Any category"
   ]
  },
  {
   "cell_type": "code",
   "execution_count": 12,
   "metadata": {},
   "outputs": [],
   "source": [
    "def clean_ias(df: pl.DataFrame, col: str = \"age\", mapping: dict = None): \n",
    "    \"\"\"\n",
    "    Filters the DataFrame to rows where 'q2a_agg1' is not null, and optionally recodes\n",
    "    the specified column (default \"age\") using the provided mapping.\n",
    "    \n",
    "    Parameters:\n",
    "      df (pl.DataFrame): Input DataFrame.\n",
    "      col (str): The name of the column to recode.\n",
    "      mapping (dict): A dictionary where keys are original values and values are new codes.\n",
    "    \n",
    "    Returns:\n",
    "      pl.DataFrame: Cleaned DataFrame.\n",
    "    \"\"\"\n",
    "    df = df.filter(pl.col(\"q2a_agg1\").is_not_null())\n",
    "    \n",
    "    if mapping is not None:\n",
    "        # Build a conditional expression for recoding\n",
    "        # Start with the first mapping condition:\n",
    "        keys = list(mapping.keys())\n",
    "        expr = pl.when(pl.col(col) == keys[0]).then(mapping[keys[0]])\n",
    "        for key in keys[1:]:\n",
    "            expr = expr.when(pl.col(col) == key).then(mapping[key])\n",
    "        expr = expr.otherwise(pl.col(col))\n",
    "        df = df.with_columns([expr.alias(col)])\n",
    "    \n",
    "    return df\n",
    "\n",
    "def conv_to_datetime(yyyyqq: str) -> pd.Timestamp:\n",
    "    year = int(yyyyqq[:4])\n",
    "    quarter = int(yyyyqq[4:])\n",
    "    month = {1: 1, 2: 4, 3: 7, 4: 10}[quarter]\n",
    "    return pd.Timestamp(year=year, month=month, day=1)\n",
    "\n",
    "def grouped_median(counts: dict, class_bounds: Dict[str, Tuple[float, float]]) -> Optional[float]:\n",
    "    \"\"\"\n",
    "    Interpolated grouped median with variable class widths.\n",
    "    \n",
    "    counts: dict of {category_label: count}\n",
    "    class_bounds: dict of {category_label: (lower_bound, width)}\n",
    "    Returns interpolated median as float, or None if no data.\n",
    "    \"\"\"\n",
    "    if not counts:\n",
    "        return None\n",
    "\n",
    "    # Sort by lower bound of the class\n",
    "    sorted_items = sorted(\n",
    "        [(label, class_bounds[label][0], class_bounds[label][1], count)\n",
    "         for label, count in counts.items() if label in class_bounds],\n",
    "        key=lambda x: x[1]\n",
    "    )\n",
    "\n",
    "    total = sum(item[3] for item in sorted_items)\n",
    "    if total == 0:\n",
    "        return None\n",
    "\n",
    "    median_pos = total / 2\n",
    "    cum = 0\n",
    "    for label, L, w, f in sorted_items:\n",
    "        prev_cum = cum\n",
    "        cum += f\n",
    "        if cum >= median_pos:\n",
    "            return L + ((median_pos - prev_cum) / f) * w\n",
    "    return None\n",
    "\n",
    "def comp_grouped_medians(\n",
    "    df: pl.DataFrame,\n",
    "    class_bounds: Dict[str, Tuple[float, float]],\n",
    "    disagg_col: str = \"age\"\n",
    "):\n",
    "    \"\"\"\n",
    "    Compute grouped medians for a set of question columns by timestamp and any disaggregation column.\n",
    "    \n",
    "    Parameters:\n",
    "      df (pl.DataFrame): Input DataFrame.\n",
    "      class_bounds (dict): Mapping from category labels to (lower_bound, width) tuples.\n",
    "      disagg_col (str): Column name to disaggregate by (default is \"age\").\n",
    "    \n",
    "    Returns:\n",
    "      Tuple[pl.DataFrame, pl.DataFrame, pl.DataFrame]: DataFrames for 'q2a_agg1', 'q2b_agg1', and 'q2c_agg1'.\n",
    "    \"\"\"\n",
    "    questions = ['q2a_agg1', 'q2b_agg1', 'q2c_agg1']\n",
    "    result_frames = {q: {} for q in questions}\n",
    "\n",
    "    # Group by timestamp and the specified disaggregation column\n",
    "    grouped = df.group_by([\"yyyyqq\", disagg_col])\n",
    "\n",
    "    for (yyyyqq, category), group in grouped:\n",
    "        for question in questions:\n",
    "            counts_df = group[question].value_counts()\n",
    "            if counts_df.height == 0:\n",
    "                median = None\n",
    "            else:\n",
    "                # Convert to dictionary: category value -> count\n",
    "                counts = dict(zip(counts_df[question], counts_df[\"count\"]))\n",
    "                median = grouped_median_unequal_widths(counts, class_bounds)\n",
    "\n",
    "            result_frames[question].setdefault(yyyyqq, {})[category] = median\n",
    "\n",
    "    # Convert results into DataFrames, one per question\n",
    "    output = {}\n",
    "    for question, data in result_frames.items():\n",
    "        rows = []\n",
    "        for yyyyqq, cat_dict in data.items():\n",
    "            row = {\"yyyyqq\": convert_yyyyqq_to_datetime(str(yyyyqq))}\n",
    "            # Each key in the row is now a string representation of the disaggregation category\n",
    "            row.update({str(cat): val for cat, val in cat_dict.items()})\n",
    "            rows.append(row)\n",
    "        output[question] = pl.DataFrame(rows).sort(\"yyyyqq\")\n",
    "\n",
    "    return output['q2a_agg1'], output['q2b_agg1'], output['q2c_agg1']\n"
   ]
  },
  {
   "cell_type": "code",
   "execution_count": 13,
   "metadata": {},
   "outputs": [
    {
     "name": "stderr",
     "output_type": "stream",
     "text": [
      "Could not determine dtype for column 172, falling back to string\n",
      "Could not determine dtype for column 174, falling back to string\n",
      "Could not determine dtype for column 176, falling back to string\n"
     ]
    }
   ],
   "source": [
    "ias_raw = pl.read_excel(\n",
    "    '/Users/lukasalemu/Downloads/Inflation Attitudes Survey Feb 2025.xlsx', \n",
    "    sheet_name='Dataset', \n",
    "    columns=['weight', 'yyyyqq', 'work', 'q2a_agg1', 'q2b_agg1', 'q2c_agg1']\n",
    ")\n",
    "ias_raw.head()\n",
    "\n",
    "df_clean = clean_ias(ias_raw, 'work')\n",
    "median_dfs = comp_grouped_medians(df_clean, q2_agg_ias_class_bounds, disagg_col=\"work\")\n"
   ]
  },
  {
   "cell_type": "code",
   "execution_count": 14,
   "metadata": {},
   "outputs": [
    {
     "data": {
      "application/vnd.plotly.v1+json": {
       "config": {
        "plotlyServerURL": "https://plot.ly"
       },
       "data": [
        {
         "mode": "lines+markers",
         "name": "Full or Part Time",
         "type": "scatter",
         "x": [
          "2009-01-01T00:00:00.000000",
          "2009-04-01T00:00:00.000000",
          "2009-07-01T00:00:00.000000",
          "2009-10-01T00:00:00.000000",
          "2010-01-01T00:00:00.000000",
          "2010-04-01T00:00:00.000000",
          "2010-07-01T00:00:00.000000",
          "2010-10-01T00:00:00.000000",
          "2011-01-01T00:00:00.000000",
          "2011-04-01T00:00:00.000000",
          "2011-07-01T00:00:00.000000",
          "2011-10-01T00:00:00.000000",
          "2012-01-01T00:00:00.000000",
          "2012-04-01T00:00:00.000000",
          "2012-07-01T00:00:00.000000",
          "2012-10-01T00:00:00.000000",
          "2013-01-01T00:00:00.000000",
          "2013-04-01T00:00:00.000000",
          "2013-07-01T00:00:00.000000",
          "2013-10-01T00:00:00.000000",
          "2014-01-01T00:00:00.000000",
          "2014-04-01T00:00:00.000000",
          "2014-07-01T00:00:00.000000",
          "2014-10-01T00:00:00.000000",
          "2015-01-01T00:00:00.000000",
          "2015-04-01T00:00:00.000000",
          "2015-07-01T00:00:00.000000",
          "2015-10-01T00:00:00.000000",
          "2016-01-01T00:00:00.000000",
          "2016-04-01T00:00:00.000000",
          "2016-07-01T00:00:00.000000",
          "2016-10-01T00:00:00.000000",
          "2017-01-01T00:00:00.000000",
          "2017-04-01T00:00:00.000000",
          "2017-07-01T00:00:00.000000",
          "2017-10-01T00:00:00.000000",
          "2018-01-01T00:00:00.000000",
          "2018-04-01T00:00:00.000000",
          "2018-07-01T00:00:00.000000",
          "2018-10-01T00:00:00.000000",
          "2019-01-01T00:00:00.000000",
          "2019-04-01T00:00:00.000000",
          "2019-07-01T00:00:00.000000",
          "2019-10-01T00:00:00.000000",
          "2020-01-01T00:00:00.000000",
          "2020-04-01T00:00:00.000000",
          "2020-07-01T00:00:00.000000",
          "2020-10-01T00:00:00.000000",
          "2021-01-01T00:00:00.000000",
          "2021-04-01T00:00:00.000000",
          "2021-07-01T00:00:00.000000",
          "2021-10-01T00:00:00.000000",
          "2022-01-01T00:00:00.000000",
          "2022-04-01T00:00:00.000000",
          "2022-07-01T00:00:00.000000",
          "2022-10-01T00:00:00.000000",
          "2023-01-01T00:00:00.000000",
          "2023-04-01T00:00:00.000000",
          "2023-07-01T00:00:00.000000",
          "2023-10-01T00:00:00.000000",
          "2024-01-01T00:00:00.000000",
          "2024-04-01T00:00:00.000000",
          "2024-07-01T00:00:00.000000",
          "2024-10-01T00:00:00.000000",
          "2025-01-01T00:00:00.000000"
         ],
         "y": {
          "bdata": "09Vug7JCAEDHcRzHcRwBQHZeAY27dQJACQkJCQkJA0Di06uYQYcDQAwMDAwMDApAWJjVKOLQCUDdDFp2PKcOQIZ9XNjHhQ9AYid2Yid2DkCrqqqqqgIQQMhWBA0ndQ9A3pv1RNlGC0AO5TWU11ANQFE9aOSdvwlANu0nS2DTCkDkH1yY1BANQJzSvPgTCQtAY4LuKsUECUDYUF5DeQ0NQEg64yTKKgZASmQatpvlA0DG3TqvgMYFQAYWWGCBBQRAiVO/55Y4AEAMzsfgfAwCQBdddNFFVwBAoJ6pXHe8AECbsqasKWv+P0WmYbtZngBAOrfXkkNcAUDYiZ3YiZ0GQOYjsWE+EgdACRRtNXiOBkD6SDX6SDUGQLsStStRuwZA1EM91EM9B0CwPwH7E7AHQAU27SdLYAdA8hrKayivCUAYfyLhlOYJQFh8xVd8xQdADM7H4HwMCkAjlopYKmIJQA1VjKcHMwhAEHAswj9OB0AhKHtfE4IGQGafQ2qC8QVAVVVVVVVVBUB7kbVVvJMDQFAjLPc0wgVAVVVVVVVVCUAo47dLPZkQQDI4H4PzsRFAcPI3+Zv8EUDAH/AH/AETQDI1sHdMDQ5AZfx2qSfjC0B7wOwBswcMQFwyBOto8wpAf1OeSyBrCEBBnhLkKUEGQLdt27ZtWwVAncEKncEKB0Cz3i/r/bIKQA==",
          "dtype": "f8"
         }
        },
        {
         "mode": "lines+markers",
         "name": "Unemployed",
         "type": "scatter",
         "x": [
          "2009-01-01T00:00:00.000000",
          "2009-04-01T00:00:00.000000",
          "2009-07-01T00:00:00.000000",
          "2009-10-01T00:00:00.000000",
          "2010-01-01T00:00:00.000000",
          "2010-04-01T00:00:00.000000",
          "2010-07-01T00:00:00.000000",
          "2010-10-01T00:00:00.000000",
          "2011-01-01T00:00:00.000000",
          "2011-04-01T00:00:00.000000",
          "2011-07-01T00:00:00.000000",
          "2011-10-01T00:00:00.000000",
          "2012-01-01T00:00:00.000000",
          "2012-04-01T00:00:00.000000",
          "2012-07-01T00:00:00.000000",
          "2012-10-01T00:00:00.000000",
          "2013-01-01T00:00:00.000000",
          "2013-04-01T00:00:00.000000",
          "2013-07-01T00:00:00.000000",
          "2013-10-01T00:00:00.000000",
          "2014-01-01T00:00:00.000000",
          "2014-04-01T00:00:00.000000",
          "2014-07-01T00:00:00.000000",
          "2014-10-01T00:00:00.000000",
          "2015-01-01T00:00:00.000000",
          "2015-04-01T00:00:00.000000",
          "2015-07-01T00:00:00.000000",
          "2015-10-01T00:00:00.000000",
          "2016-01-01T00:00:00.000000",
          "2016-04-01T00:00:00.000000",
          "2016-07-01T00:00:00.000000",
          "2016-10-01T00:00:00.000000",
          "2017-01-01T00:00:00.000000",
          "2017-04-01T00:00:00.000000",
          "2017-07-01T00:00:00.000000",
          "2017-10-01T00:00:00.000000",
          "2018-01-01T00:00:00.000000",
          "2018-04-01T00:00:00.000000",
          "2018-07-01T00:00:00.000000",
          "2018-10-01T00:00:00.000000",
          "2019-01-01T00:00:00.000000",
          "2019-04-01T00:00:00.000000",
          "2019-07-01T00:00:00.000000",
          "2019-10-01T00:00:00.000000",
          "2020-01-01T00:00:00.000000",
          "2020-04-01T00:00:00.000000",
          "2020-07-01T00:00:00.000000",
          "2020-10-01T00:00:00.000000",
          "2021-01-01T00:00:00.000000",
          "2021-04-01T00:00:00.000000",
          "2021-07-01T00:00:00.000000",
          "2021-10-01T00:00:00.000000",
          "2022-01-01T00:00:00.000000",
          "2022-04-01T00:00:00.000000",
          "2022-07-01T00:00:00.000000",
          "2022-10-01T00:00:00.000000",
          "2023-01-01T00:00:00.000000",
          "2023-04-01T00:00:00.000000",
          "2023-07-01T00:00:00.000000",
          "2023-10-01T00:00:00.000000",
          "2024-01-01T00:00:00.000000",
          "2024-04-01T00:00:00.000000",
          "2024-07-01T00:00:00.000000",
          "2024-10-01T00:00:00.000000",
          "2025-01-01T00:00:00.000000"
         ],
         "y": {
          "bdata": "5hS8nIKXA0AWxOQKYnIFQCnxM0r8jARAGSjhjabOA0AS3mjq/NoEQCivobyG8gpAewai0pE9DUCnrClryhoQQLif5q1BmBBA6JrVYZSpEEAC3Zinj1YRQEyRz7rBFBFADDIuyLggDUDpoosuuugOQEBTCDSFQAtAtNlsNpvNDkA7LUrqx5kOQGVxRruHrQ9AlpaWlpaWDED+CrMaRRwOQGxGX/nnSAhATnJg6SQHBkD+SoFav1IGQO/u7u7u7gRA/rqk8mHc/z/H4hqLaywCQFcbQ9Md7AFAmQS7Cl9uAEB8Ue9FvRf9P6pYnYrVqQBA1sbQdAf7AUBOBHJNBHIFQPAkaDccUwZAGXi6NT8sBkAng8gDV9EGQM3MzMzMDAdANniOQNFWB0BS2o2AlHYHQM9AVDqyZwhAfQzOx+B8CEAEBw4cOHAKQKK8hvIaSglAOm8xpPMWC0AHU+SzbjAJQFtrrbXWWgdAYK4dmGsHCEA95u+1EesGQIp81g2myAZAMTs4gkjrBUBGF1100UUDQBj0BX1BXwZAAAAAAADACkAAAAAAAC4SQKmYW52RihNAAAAAAADIFUCrqqqqqqoUQIRKulHM/hBAwzAMwzAMC0DkOI7jOI4NQH8hVpTGRwpA+rOcP8v5B0CGYRiGYRgHQIYsZCELWQZATA3sHVMDCUAAAAAAAAAMQA==",
          "dtype": "f8"
         }
        }
       ],
       "layout": {
        "hovermode": "x unified",
        "legend": {
         "title": {
          "text": "Group"
         }
        },
        "template": {
         "data": {
          "bar": [
           {
            "error_x": {
             "color": "#2a3f5f"
            },
            "error_y": {
             "color": "#2a3f5f"
            },
            "marker": {
             "line": {
              "color": "white",
              "width": 0.5
             },
             "pattern": {
              "fillmode": "overlay",
              "size": 10,
              "solidity": 0.2
             }
            },
            "type": "bar"
           }
          ],
          "barpolar": [
           {
            "marker": {
             "line": {
              "color": "white",
              "width": 0.5
             },
             "pattern": {
              "fillmode": "overlay",
              "size": 10,
              "solidity": 0.2
             }
            },
            "type": "barpolar"
           }
          ],
          "carpet": [
           {
            "aaxis": {
             "endlinecolor": "#2a3f5f",
             "gridcolor": "#C8D4E3",
             "linecolor": "#C8D4E3",
             "minorgridcolor": "#C8D4E3",
             "startlinecolor": "#2a3f5f"
            },
            "baxis": {
             "endlinecolor": "#2a3f5f",
             "gridcolor": "#C8D4E3",
             "linecolor": "#C8D4E3",
             "minorgridcolor": "#C8D4E3",
             "startlinecolor": "#2a3f5f"
            },
            "type": "carpet"
           }
          ],
          "choropleth": [
           {
            "colorbar": {
             "outlinewidth": 0,
             "ticks": ""
            },
            "type": "choropleth"
           }
          ],
          "contour": [
           {
            "colorbar": {
             "outlinewidth": 0,
             "ticks": ""
            },
            "colorscale": [
             [
              0,
              "#0d0887"
             ],
             [
              0.1111111111111111,
              "#46039f"
             ],
             [
              0.2222222222222222,
              "#7201a8"
             ],
             [
              0.3333333333333333,
              "#9c179e"
             ],
             [
              0.4444444444444444,
              "#bd3786"
             ],
             [
              0.5555555555555556,
              "#d8576b"
             ],
             [
              0.6666666666666666,
              "#ed7953"
             ],
             [
              0.7777777777777778,
              "#fb9f3a"
             ],
             [
              0.8888888888888888,
              "#fdca26"
             ],
             [
              1,
              "#f0f921"
             ]
            ],
            "type": "contour"
           }
          ],
          "contourcarpet": [
           {
            "colorbar": {
             "outlinewidth": 0,
             "ticks": ""
            },
            "type": "contourcarpet"
           }
          ],
          "heatmap": [
           {
            "colorbar": {
             "outlinewidth": 0,
             "ticks": ""
            },
            "colorscale": [
             [
              0,
              "#0d0887"
             ],
             [
              0.1111111111111111,
              "#46039f"
             ],
             [
              0.2222222222222222,
              "#7201a8"
             ],
             [
              0.3333333333333333,
              "#9c179e"
             ],
             [
              0.4444444444444444,
              "#bd3786"
             ],
             [
              0.5555555555555556,
              "#d8576b"
             ],
             [
              0.6666666666666666,
              "#ed7953"
             ],
             [
              0.7777777777777778,
              "#fb9f3a"
             ],
             [
              0.8888888888888888,
              "#fdca26"
             ],
             [
              1,
              "#f0f921"
             ]
            ],
            "type": "heatmap"
           }
          ],
          "histogram": [
           {
            "marker": {
             "pattern": {
              "fillmode": "overlay",
              "size": 10,
              "solidity": 0.2
             }
            },
            "type": "histogram"
           }
          ],
          "histogram2d": [
           {
            "colorbar": {
             "outlinewidth": 0,
             "ticks": ""
            },
            "colorscale": [
             [
              0,
              "#0d0887"
             ],
             [
              0.1111111111111111,
              "#46039f"
             ],
             [
              0.2222222222222222,
              "#7201a8"
             ],
             [
              0.3333333333333333,
              "#9c179e"
             ],
             [
              0.4444444444444444,
              "#bd3786"
             ],
             [
              0.5555555555555556,
              "#d8576b"
             ],
             [
              0.6666666666666666,
              "#ed7953"
             ],
             [
              0.7777777777777778,
              "#fb9f3a"
             ],
             [
              0.8888888888888888,
              "#fdca26"
             ],
             [
              1,
              "#f0f921"
             ]
            ],
            "type": "histogram2d"
           }
          ],
          "histogram2dcontour": [
           {
            "colorbar": {
             "outlinewidth": 0,
             "ticks": ""
            },
            "colorscale": [
             [
              0,
              "#0d0887"
             ],
             [
              0.1111111111111111,
              "#46039f"
             ],
             [
              0.2222222222222222,
              "#7201a8"
             ],
             [
              0.3333333333333333,
              "#9c179e"
             ],
             [
              0.4444444444444444,
              "#bd3786"
             ],
             [
              0.5555555555555556,
              "#d8576b"
             ],
             [
              0.6666666666666666,
              "#ed7953"
             ],
             [
              0.7777777777777778,
              "#fb9f3a"
             ],
             [
              0.8888888888888888,
              "#fdca26"
             ],
             [
              1,
              "#f0f921"
             ]
            ],
            "type": "histogram2dcontour"
           }
          ],
          "mesh3d": [
           {
            "colorbar": {
             "outlinewidth": 0,
             "ticks": ""
            },
            "type": "mesh3d"
           }
          ],
          "parcoords": [
           {
            "line": {
             "colorbar": {
              "outlinewidth": 0,
              "ticks": ""
             }
            },
            "type": "parcoords"
           }
          ],
          "pie": [
           {
            "automargin": true,
            "type": "pie"
           }
          ],
          "scatter": [
           {
            "fillpattern": {
             "fillmode": "overlay",
             "size": 10,
             "solidity": 0.2
            },
            "type": "scatter"
           }
          ],
          "scatter3d": [
           {
            "line": {
             "colorbar": {
              "outlinewidth": 0,
              "ticks": ""
             }
            },
            "marker": {
             "colorbar": {
              "outlinewidth": 0,
              "ticks": ""
             }
            },
            "type": "scatter3d"
           }
          ],
          "scattercarpet": [
           {
            "marker": {
             "colorbar": {
              "outlinewidth": 0,
              "ticks": ""
             }
            },
            "type": "scattercarpet"
           }
          ],
          "scattergeo": [
           {
            "marker": {
             "colorbar": {
              "outlinewidth": 0,
              "ticks": ""
             }
            },
            "type": "scattergeo"
           }
          ],
          "scattergl": [
           {
            "marker": {
             "colorbar": {
              "outlinewidth": 0,
              "ticks": ""
             }
            },
            "type": "scattergl"
           }
          ],
          "scattermap": [
           {
            "marker": {
             "colorbar": {
              "outlinewidth": 0,
              "ticks": ""
             }
            },
            "type": "scattermap"
           }
          ],
          "scattermapbox": [
           {
            "marker": {
             "colorbar": {
              "outlinewidth": 0,
              "ticks": ""
             }
            },
            "type": "scattermapbox"
           }
          ],
          "scatterpolar": [
           {
            "marker": {
             "colorbar": {
              "outlinewidth": 0,
              "ticks": ""
             }
            },
            "type": "scatterpolar"
           }
          ],
          "scatterpolargl": [
           {
            "marker": {
             "colorbar": {
              "outlinewidth": 0,
              "ticks": ""
             }
            },
            "type": "scatterpolargl"
           }
          ],
          "scatterternary": [
           {
            "marker": {
             "colorbar": {
              "outlinewidth": 0,
              "ticks": ""
             }
            },
            "type": "scatterternary"
           }
          ],
          "surface": [
           {
            "colorbar": {
             "outlinewidth": 0,
             "ticks": ""
            },
            "colorscale": [
             [
              0,
              "#0d0887"
             ],
             [
              0.1111111111111111,
              "#46039f"
             ],
             [
              0.2222222222222222,
              "#7201a8"
             ],
             [
              0.3333333333333333,
              "#9c179e"
             ],
             [
              0.4444444444444444,
              "#bd3786"
             ],
             [
              0.5555555555555556,
              "#d8576b"
             ],
             [
              0.6666666666666666,
              "#ed7953"
             ],
             [
              0.7777777777777778,
              "#fb9f3a"
             ],
             [
              0.8888888888888888,
              "#fdca26"
             ],
             [
              1,
              "#f0f921"
             ]
            ],
            "type": "surface"
           }
          ],
          "table": [
           {
            "cells": {
             "fill": {
              "color": "#EBF0F8"
             },
             "line": {
              "color": "white"
             }
            },
            "header": {
             "fill": {
              "color": "#C8D4E3"
             },
             "line": {
              "color": "white"
             }
            },
            "type": "table"
           }
          ]
         },
         "layout": {
          "annotationdefaults": {
           "arrowcolor": "#2a3f5f",
           "arrowhead": 0,
           "arrowwidth": 1
          },
          "autotypenumbers": "strict",
          "coloraxis": {
           "colorbar": {
            "outlinewidth": 0,
            "ticks": ""
           }
          },
          "colorscale": {
           "diverging": [
            [
             0,
             "#8e0152"
            ],
            [
             0.1,
             "#c51b7d"
            ],
            [
             0.2,
             "#de77ae"
            ],
            [
             0.3,
             "#f1b6da"
            ],
            [
             0.4,
             "#fde0ef"
            ],
            [
             0.5,
             "#f7f7f7"
            ],
            [
             0.6,
             "#e6f5d0"
            ],
            [
             0.7,
             "#b8e186"
            ],
            [
             0.8,
             "#7fbc41"
            ],
            [
             0.9,
             "#4d9221"
            ],
            [
             1,
             "#276419"
            ]
           ],
           "sequential": [
            [
             0,
             "#0d0887"
            ],
            [
             0.1111111111111111,
             "#46039f"
            ],
            [
             0.2222222222222222,
             "#7201a8"
            ],
            [
             0.3333333333333333,
             "#9c179e"
            ],
            [
             0.4444444444444444,
             "#bd3786"
            ],
            [
             0.5555555555555556,
             "#d8576b"
            ],
            [
             0.6666666666666666,
             "#ed7953"
            ],
            [
             0.7777777777777778,
             "#fb9f3a"
            ],
            [
             0.8888888888888888,
             "#fdca26"
            ],
            [
             1,
             "#f0f921"
            ]
           ],
           "sequentialminus": [
            [
             0,
             "#0d0887"
            ],
            [
             0.1111111111111111,
             "#46039f"
            ],
            [
             0.2222222222222222,
             "#7201a8"
            ],
            [
             0.3333333333333333,
             "#9c179e"
            ],
            [
             0.4444444444444444,
             "#bd3786"
            ],
            [
             0.5555555555555556,
             "#d8576b"
            ],
            [
             0.6666666666666666,
             "#ed7953"
            ],
            [
             0.7777777777777778,
             "#fb9f3a"
            ],
            [
             0.8888888888888888,
             "#fdca26"
            ],
            [
             1,
             "#f0f921"
            ]
           ]
          },
          "colorway": [
           "#636efa",
           "#EF553B",
           "#00cc96",
           "#ab63fa",
           "#FFA15A",
           "#19d3f3",
           "#FF6692",
           "#B6E880",
           "#FF97FF",
           "#FECB52"
          ],
          "font": {
           "color": "#2a3f5f"
          },
          "geo": {
           "bgcolor": "white",
           "lakecolor": "white",
           "landcolor": "white",
           "showlakes": true,
           "showland": true,
           "subunitcolor": "#C8D4E3"
          },
          "hoverlabel": {
           "align": "left"
          },
          "hovermode": "closest",
          "mapbox": {
           "style": "light"
          },
          "paper_bgcolor": "white",
          "plot_bgcolor": "white",
          "polar": {
           "angularaxis": {
            "gridcolor": "#EBF0F8",
            "linecolor": "#EBF0F8",
            "ticks": ""
           },
           "bgcolor": "white",
           "radialaxis": {
            "gridcolor": "#EBF0F8",
            "linecolor": "#EBF0F8",
            "ticks": ""
           }
          },
          "scene": {
           "xaxis": {
            "backgroundcolor": "white",
            "gridcolor": "#DFE8F3",
            "gridwidth": 2,
            "linecolor": "#EBF0F8",
            "showbackground": true,
            "ticks": "",
            "zerolinecolor": "#EBF0F8"
           },
           "yaxis": {
            "backgroundcolor": "white",
            "gridcolor": "#DFE8F3",
            "gridwidth": 2,
            "linecolor": "#EBF0F8",
            "showbackground": true,
            "ticks": "",
            "zerolinecolor": "#EBF0F8"
           },
           "zaxis": {
            "backgroundcolor": "white",
            "gridcolor": "#DFE8F3",
            "gridwidth": 2,
            "linecolor": "#EBF0F8",
            "showbackground": true,
            "ticks": "",
            "zerolinecolor": "#EBF0F8"
           }
          },
          "shapedefaults": {
           "line": {
            "color": "#2a3f5f"
           }
          },
          "ternary": {
           "aaxis": {
            "gridcolor": "#DFE8F3",
            "linecolor": "#A2B1C6",
            "ticks": ""
           },
           "baxis": {
            "gridcolor": "#DFE8F3",
            "linecolor": "#A2B1C6",
            "ticks": ""
           },
           "bgcolor": "white",
           "caxis": {
            "gridcolor": "#DFE8F3",
            "linecolor": "#A2B1C6",
            "ticks": ""
           }
          },
          "title": {
           "x": 0.05
          },
          "xaxis": {
           "automargin": true,
           "gridcolor": "#EBF0F8",
           "linecolor": "#EBF0F8",
           "ticks": "",
           "title": {
            "standoff": 15
           },
           "zerolinecolor": "#EBF0F8",
           "zerolinewidth": 2
          },
          "yaxis": {
           "automargin": true,
           "gridcolor": "#EBF0F8",
           "linecolor": "#EBF0F8",
           "ticks": "",
           "title": {
            "standoff": 15
           },
           "zerolinecolor": "#EBF0F8",
           "zerolinewidth": 2
          }
         }
        },
        "title": {
         "text": "1 year ahead inflation expectations by employment status"
        },
        "xaxis": {
         "title": {
          "text": "Quarter"
         }
        },
        "yaxis": {
         "title": {
          "text": "Grouped Median (Interpolated)"
         }
        }
       }
      }
     },
     "metadata": {},
     "output_type": "display_data"
    }
   ],
   "source": [
    "emp_map = {\n",
    "    \"1\": \"Full or Part Time\",\n",
    "    \"2\": \"Unemployed\"\n",
    "}\n",
    "\n",
    "plot_question_medians(median_dfs[0], emp_map, '1 year ahead inflation expectations by employment status')"
   ]
  },
  {
   "cell_type": "code",
   "execution_count": 15,
   "metadata": {},
   "outputs": [
    {
     "data": {
      "application/vnd.plotly.v1+json": {
       "config": {
        "plotlyServerURL": "https://plot.ly"
       },
       "data": [
        {
         "mode": "lines+markers",
         "name": "Full or Part Time",
         "type": "scatter",
         "x": [
          "2009-01-01T00:00:00.000000",
          "2009-04-01T00:00:00.000000",
          "2009-07-01T00:00:00.000000",
          "2009-10-01T00:00:00.000000",
          "2010-01-01T00:00:00.000000",
          "2010-04-01T00:00:00.000000",
          "2010-07-01T00:00:00.000000",
          "2010-10-01T00:00:00.000000",
          "2011-01-01T00:00:00.000000",
          "2011-04-01T00:00:00.000000",
          "2011-07-01T00:00:00.000000",
          "2011-10-01T00:00:00.000000",
          "2012-01-01T00:00:00.000000",
          "2012-04-01T00:00:00.000000",
          "2012-07-01T00:00:00.000000",
          "2012-10-01T00:00:00.000000",
          "2013-01-01T00:00:00.000000",
          "2013-04-01T00:00:00.000000",
          "2013-07-01T00:00:00.000000",
          "2013-10-01T00:00:00.000000",
          "2014-01-01T00:00:00.000000",
          "2014-04-01T00:00:00.000000",
          "2014-07-01T00:00:00.000000",
          "2014-10-01T00:00:00.000000",
          "2015-01-01T00:00:00.000000",
          "2015-04-01T00:00:00.000000",
          "2015-07-01T00:00:00.000000",
          "2015-10-01T00:00:00.000000",
          "2016-01-01T00:00:00.000000",
          "2016-04-01T00:00:00.000000",
          "2016-07-01T00:00:00.000000",
          "2016-10-01T00:00:00.000000",
          "2017-01-01T00:00:00.000000",
          "2017-04-01T00:00:00.000000",
          "2017-07-01T00:00:00.000000",
          "2017-10-01T00:00:00.000000",
          "2018-01-01T00:00:00.000000",
          "2018-04-01T00:00:00.000000",
          "2018-07-01T00:00:00.000000",
          "2018-10-01T00:00:00.000000",
          "2019-01-01T00:00:00.000000",
          "2019-04-01T00:00:00.000000",
          "2019-07-01T00:00:00.000000",
          "2019-10-01T00:00:00.000000",
          "2020-01-01T00:00:00.000000",
          "2020-04-01T00:00:00.000000",
          "2020-07-01T00:00:00.000000",
          "2020-10-01T00:00:00.000000",
          "2021-01-01T00:00:00.000000",
          "2021-04-01T00:00:00.000000",
          "2021-07-01T00:00:00.000000",
          "2021-10-01T00:00:00.000000",
          "2022-01-01T00:00:00.000000",
          "2022-04-01T00:00:00.000000",
          "2022-07-01T00:00:00.000000",
          "2022-10-01T00:00:00.000000",
          "2023-01-01T00:00:00.000000",
          "2023-04-01T00:00:00.000000",
          "2023-07-01T00:00:00.000000",
          "2023-10-01T00:00:00.000000",
          "2024-01-01T00:00:00.000000",
          "2024-04-01T00:00:00.000000",
          "2024-07-01T00:00:00.000000",
          "2024-10-01T00:00:00.000000",
          "2025-01-01T00:00:00.000000"
         ],
         "y": {
          "bdata": "uLLPITXB/j99Z6O+s1EBQIk74o64IwFAHE2dX3vIAUCpVCqVSqUCQGCuHZhrBwZAWO5phOWeBUBeidqVqF0JQDbZZJNNtglALLhUtncdCEB7FK5H4XoKQLmUS7mUSwlAmMaAaQyYBkBI1rnygGQJQEJCQkJCQgZAMN7KPofUCEAZgnW0eZ8KQKOLLrrooglAt4DCqE6TB0CbCOSaCOQKQH4OqQnGWwVAvZQIHumvA0AtnAGh5E4FQAAAAAAAAARAYkZ+U510AUAsZCELWcgCQPIp087BmgFAAAAAAABAAkDl5OTk5OQAQDE7OIJI6wFAE8Ej/fVcAUB90id90icEQGULoWwhlAVAyhXE5ApiBkBVVVVVVVUFQIZhGIZhGAdALqI5a1A8B0A6XeWZ+LgHQI6NjY2NjQdArnRvQJm4BkCamZmZmbkHQFCLbfy02AZAHMdxHMdxCECJV5F4FYkHQDMzMzMzMwdASZIkSZKk/z+U11BeQ3kBQEOyRTRnDQJADgEmWGVAAkDHcRzHcZwAQGoe5K6fLQJAWH0qWH0qBEDTE8EgSpoJQOYS4UlB8gtASOQE4W7sC0C+4iu+4isLQGDvmBrYOwhALZwBoeROBUBJkiRJkiQGQJFIJBKJRAZApX9sTxCBBkAdzuEczuEEQDqQaIXNgQRA2/hpsY2fBkDpoosuuugIQA==",
          "dtype": "f8"
         }
        },
        {
         "mode": "lines+markers",
         "name": "Unemployed",
         "type": "scatter",
         "x": [
          "2009-01-01T00:00:00.000000",
          "2009-04-01T00:00:00.000000",
          "2009-07-01T00:00:00.000000",
          "2009-10-01T00:00:00.000000",
          "2010-01-01T00:00:00.000000",
          "2010-04-01T00:00:00.000000",
          "2010-07-01T00:00:00.000000",
          "2010-10-01T00:00:00.000000",
          "2011-01-01T00:00:00.000000",
          "2011-04-01T00:00:00.000000",
          "2011-07-01T00:00:00.000000",
          "2011-10-01T00:00:00.000000",
          "2012-01-01T00:00:00.000000",
          "2012-04-01T00:00:00.000000",
          "2012-07-01T00:00:00.000000",
          "2012-10-01T00:00:00.000000",
          "2013-01-01T00:00:00.000000",
          "2013-04-01T00:00:00.000000",
          "2013-07-01T00:00:00.000000",
          "2013-10-01T00:00:00.000000",
          "2014-01-01T00:00:00.000000",
          "2014-04-01T00:00:00.000000",
          "2014-07-01T00:00:00.000000",
          "2014-10-01T00:00:00.000000",
          "2015-01-01T00:00:00.000000",
          "2015-04-01T00:00:00.000000",
          "2015-07-01T00:00:00.000000",
          "2015-10-01T00:00:00.000000",
          "2016-01-01T00:00:00.000000",
          "2016-04-01T00:00:00.000000",
          "2016-07-01T00:00:00.000000",
          "2016-10-01T00:00:00.000000",
          "2017-01-01T00:00:00.000000",
          "2017-04-01T00:00:00.000000",
          "2017-07-01T00:00:00.000000",
          "2017-10-01T00:00:00.000000",
          "2018-01-01T00:00:00.000000",
          "2018-04-01T00:00:00.000000",
          "2018-07-01T00:00:00.000000",
          "2018-10-01T00:00:00.000000",
          "2019-01-01T00:00:00.000000",
          "2019-04-01T00:00:00.000000",
          "2019-07-01T00:00:00.000000",
          "2019-10-01T00:00:00.000000",
          "2020-01-01T00:00:00.000000",
          "2020-04-01T00:00:00.000000",
          "2020-07-01T00:00:00.000000",
          "2020-10-01T00:00:00.000000",
          "2021-01-01T00:00:00.000000",
          "2021-04-01T00:00:00.000000",
          "2021-07-01T00:00:00.000000",
          "2021-10-01T00:00:00.000000",
          "2022-01-01T00:00:00.000000",
          "2022-04-01T00:00:00.000000",
          "2022-07-01T00:00:00.000000",
          "2022-10-01T00:00:00.000000",
          "2023-01-01T00:00:00.000000",
          "2023-04-01T00:00:00.000000",
          "2023-07-01T00:00:00.000000",
          "2023-10-01T00:00:00.000000",
          "2024-01-01T00:00:00.000000",
          "2024-04-01T00:00:00.000000",
          "2024-07-01T00:00:00.000000",
          "2024-10-01T00:00:00.000000",
          "2025-01-01T00:00:00.000000"
         ],
         "y": {
          "bdata": "52qu5mquAEBKKaWUUkoDQFVVVVVVVQJA1Jve9KY3A0BWUWOkwN0DQCZfNmjyZQdAk0022WSTCUC3bdu2bdsKQKgSAnJ+Kg1Ar9fr9Xq9CkDYzxYrwzcOQJYnkWnYbg5A7FG4HoXrCUD1UA/1UA8NQFVVVVVVtQhAcwpeTsHLC0D6xrQJKEUNQAAAAAAAqAtAJFphcyDRCkD8jBI/o8QLQLKG0X5TngdAK8UE3VWKBUCCvWNqYO8GQLdt27ZtWwRAGWOMMcYYAkD8vE26y5gCQGIJR/X3eQNAchzHcRzHAUBTOzQr8TIBQNPS0tLS0gJAXkXiVSReAUCIiIiIiIgEQNmP/diP/QVAbm5ubm5uBUDz99qIdekFQC666KKL7gZAHeYwhznMB0Dyzt/itGYHQJqZmZmZmQdAAAAAAAAAB0AFeUqQpwQIQEmSJEmSJAlATmIQWDm0CECSJEmSJAkIQCwlF/vCUgZAXXTRRRfd/T/+TPgz4c8AQL9SoNavFABARKUjewaiAEDyWTeYIp/9P9yNfY/ICQJAWjeYIp91A0B75S0JNaQJQO0ltJfQXgpAdmIndmKnCEDaZZdddtkNQFpMZzGdxQhAt23btm0bA0DS5n2KS4YGQPc0wnJPIwZA9WT8dqknBkCYBeSLRKkFQHM1V3M1VwVAas32iepBB0BVVVVVVVUKQA==",
          "dtype": "f8"
         }
        }
       ],
       "layout": {
        "hovermode": "x unified",
        "legend": {
         "title": {
          "text": "Group"
         }
        },
        "template": {
         "data": {
          "bar": [
           {
            "error_x": {
             "color": "#2a3f5f"
            },
            "error_y": {
             "color": "#2a3f5f"
            },
            "marker": {
             "line": {
              "color": "white",
              "width": 0.5
             },
             "pattern": {
              "fillmode": "overlay",
              "size": 10,
              "solidity": 0.2
             }
            },
            "type": "bar"
           }
          ],
          "barpolar": [
           {
            "marker": {
             "line": {
              "color": "white",
              "width": 0.5
             },
             "pattern": {
              "fillmode": "overlay",
              "size": 10,
              "solidity": 0.2
             }
            },
            "type": "barpolar"
           }
          ],
          "carpet": [
           {
            "aaxis": {
             "endlinecolor": "#2a3f5f",
             "gridcolor": "#C8D4E3",
             "linecolor": "#C8D4E3",
             "minorgridcolor": "#C8D4E3",
             "startlinecolor": "#2a3f5f"
            },
            "baxis": {
             "endlinecolor": "#2a3f5f",
             "gridcolor": "#C8D4E3",
             "linecolor": "#C8D4E3",
             "minorgridcolor": "#C8D4E3",
             "startlinecolor": "#2a3f5f"
            },
            "type": "carpet"
           }
          ],
          "choropleth": [
           {
            "colorbar": {
             "outlinewidth": 0,
             "ticks": ""
            },
            "type": "choropleth"
           }
          ],
          "contour": [
           {
            "colorbar": {
             "outlinewidth": 0,
             "ticks": ""
            },
            "colorscale": [
             [
              0,
              "#0d0887"
             ],
             [
              0.1111111111111111,
              "#46039f"
             ],
             [
              0.2222222222222222,
              "#7201a8"
             ],
             [
              0.3333333333333333,
              "#9c179e"
             ],
             [
              0.4444444444444444,
              "#bd3786"
             ],
             [
              0.5555555555555556,
              "#d8576b"
             ],
             [
              0.6666666666666666,
              "#ed7953"
             ],
             [
              0.7777777777777778,
              "#fb9f3a"
             ],
             [
              0.8888888888888888,
              "#fdca26"
             ],
             [
              1,
              "#f0f921"
             ]
            ],
            "type": "contour"
           }
          ],
          "contourcarpet": [
           {
            "colorbar": {
             "outlinewidth": 0,
             "ticks": ""
            },
            "type": "contourcarpet"
           }
          ],
          "heatmap": [
           {
            "colorbar": {
             "outlinewidth": 0,
             "ticks": ""
            },
            "colorscale": [
             [
              0,
              "#0d0887"
             ],
             [
              0.1111111111111111,
              "#46039f"
             ],
             [
              0.2222222222222222,
              "#7201a8"
             ],
             [
              0.3333333333333333,
              "#9c179e"
             ],
             [
              0.4444444444444444,
              "#bd3786"
             ],
             [
              0.5555555555555556,
              "#d8576b"
             ],
             [
              0.6666666666666666,
              "#ed7953"
             ],
             [
              0.7777777777777778,
              "#fb9f3a"
             ],
             [
              0.8888888888888888,
              "#fdca26"
             ],
             [
              1,
              "#f0f921"
             ]
            ],
            "type": "heatmap"
           }
          ],
          "histogram": [
           {
            "marker": {
             "pattern": {
              "fillmode": "overlay",
              "size": 10,
              "solidity": 0.2
             }
            },
            "type": "histogram"
           }
          ],
          "histogram2d": [
           {
            "colorbar": {
             "outlinewidth": 0,
             "ticks": ""
            },
            "colorscale": [
             [
              0,
              "#0d0887"
             ],
             [
              0.1111111111111111,
              "#46039f"
             ],
             [
              0.2222222222222222,
              "#7201a8"
             ],
             [
              0.3333333333333333,
              "#9c179e"
             ],
             [
              0.4444444444444444,
              "#bd3786"
             ],
             [
              0.5555555555555556,
              "#d8576b"
             ],
             [
              0.6666666666666666,
              "#ed7953"
             ],
             [
              0.7777777777777778,
              "#fb9f3a"
             ],
             [
              0.8888888888888888,
              "#fdca26"
             ],
             [
              1,
              "#f0f921"
             ]
            ],
            "type": "histogram2d"
           }
          ],
          "histogram2dcontour": [
           {
            "colorbar": {
             "outlinewidth": 0,
             "ticks": ""
            },
            "colorscale": [
             [
              0,
              "#0d0887"
             ],
             [
              0.1111111111111111,
              "#46039f"
             ],
             [
              0.2222222222222222,
              "#7201a8"
             ],
             [
              0.3333333333333333,
              "#9c179e"
             ],
             [
              0.4444444444444444,
              "#bd3786"
             ],
             [
              0.5555555555555556,
              "#d8576b"
             ],
             [
              0.6666666666666666,
              "#ed7953"
             ],
             [
              0.7777777777777778,
              "#fb9f3a"
             ],
             [
              0.8888888888888888,
              "#fdca26"
             ],
             [
              1,
              "#f0f921"
             ]
            ],
            "type": "histogram2dcontour"
           }
          ],
          "mesh3d": [
           {
            "colorbar": {
             "outlinewidth": 0,
             "ticks": ""
            },
            "type": "mesh3d"
           }
          ],
          "parcoords": [
           {
            "line": {
             "colorbar": {
              "outlinewidth": 0,
              "ticks": ""
             }
            },
            "type": "parcoords"
           }
          ],
          "pie": [
           {
            "automargin": true,
            "type": "pie"
           }
          ],
          "scatter": [
           {
            "fillpattern": {
             "fillmode": "overlay",
             "size": 10,
             "solidity": 0.2
            },
            "type": "scatter"
           }
          ],
          "scatter3d": [
           {
            "line": {
             "colorbar": {
              "outlinewidth": 0,
              "ticks": ""
             }
            },
            "marker": {
             "colorbar": {
              "outlinewidth": 0,
              "ticks": ""
             }
            },
            "type": "scatter3d"
           }
          ],
          "scattercarpet": [
           {
            "marker": {
             "colorbar": {
              "outlinewidth": 0,
              "ticks": ""
             }
            },
            "type": "scattercarpet"
           }
          ],
          "scattergeo": [
           {
            "marker": {
             "colorbar": {
              "outlinewidth": 0,
              "ticks": ""
             }
            },
            "type": "scattergeo"
           }
          ],
          "scattergl": [
           {
            "marker": {
             "colorbar": {
              "outlinewidth": 0,
              "ticks": ""
             }
            },
            "type": "scattergl"
           }
          ],
          "scattermap": [
           {
            "marker": {
             "colorbar": {
              "outlinewidth": 0,
              "ticks": ""
             }
            },
            "type": "scattermap"
           }
          ],
          "scattermapbox": [
           {
            "marker": {
             "colorbar": {
              "outlinewidth": 0,
              "ticks": ""
             }
            },
            "type": "scattermapbox"
           }
          ],
          "scatterpolar": [
           {
            "marker": {
             "colorbar": {
              "outlinewidth": 0,
              "ticks": ""
             }
            },
            "type": "scatterpolar"
           }
          ],
          "scatterpolargl": [
           {
            "marker": {
             "colorbar": {
              "outlinewidth": 0,
              "ticks": ""
             }
            },
            "type": "scatterpolargl"
           }
          ],
          "scatterternary": [
           {
            "marker": {
             "colorbar": {
              "outlinewidth": 0,
              "ticks": ""
             }
            },
            "type": "scatterternary"
           }
          ],
          "surface": [
           {
            "colorbar": {
             "outlinewidth": 0,
             "ticks": ""
            },
            "colorscale": [
             [
              0,
              "#0d0887"
             ],
             [
              0.1111111111111111,
              "#46039f"
             ],
             [
              0.2222222222222222,
              "#7201a8"
             ],
             [
              0.3333333333333333,
              "#9c179e"
             ],
             [
              0.4444444444444444,
              "#bd3786"
             ],
             [
              0.5555555555555556,
              "#d8576b"
             ],
             [
              0.6666666666666666,
              "#ed7953"
             ],
             [
              0.7777777777777778,
              "#fb9f3a"
             ],
             [
              0.8888888888888888,
              "#fdca26"
             ],
             [
              1,
              "#f0f921"
             ]
            ],
            "type": "surface"
           }
          ],
          "table": [
           {
            "cells": {
             "fill": {
              "color": "#EBF0F8"
             },
             "line": {
              "color": "white"
             }
            },
            "header": {
             "fill": {
              "color": "#C8D4E3"
             },
             "line": {
              "color": "white"
             }
            },
            "type": "table"
           }
          ]
         },
         "layout": {
          "annotationdefaults": {
           "arrowcolor": "#2a3f5f",
           "arrowhead": 0,
           "arrowwidth": 1
          },
          "autotypenumbers": "strict",
          "coloraxis": {
           "colorbar": {
            "outlinewidth": 0,
            "ticks": ""
           }
          },
          "colorscale": {
           "diverging": [
            [
             0,
             "#8e0152"
            ],
            [
             0.1,
             "#c51b7d"
            ],
            [
             0.2,
             "#de77ae"
            ],
            [
             0.3,
             "#f1b6da"
            ],
            [
             0.4,
             "#fde0ef"
            ],
            [
             0.5,
             "#f7f7f7"
            ],
            [
             0.6,
             "#e6f5d0"
            ],
            [
             0.7,
             "#b8e186"
            ],
            [
             0.8,
             "#7fbc41"
            ],
            [
             0.9,
             "#4d9221"
            ],
            [
             1,
             "#276419"
            ]
           ],
           "sequential": [
            [
             0,
             "#0d0887"
            ],
            [
             0.1111111111111111,
             "#46039f"
            ],
            [
             0.2222222222222222,
             "#7201a8"
            ],
            [
             0.3333333333333333,
             "#9c179e"
            ],
            [
             0.4444444444444444,
             "#bd3786"
            ],
            [
             0.5555555555555556,
             "#d8576b"
            ],
            [
             0.6666666666666666,
             "#ed7953"
            ],
            [
             0.7777777777777778,
             "#fb9f3a"
            ],
            [
             0.8888888888888888,
             "#fdca26"
            ],
            [
             1,
             "#f0f921"
            ]
           ],
           "sequentialminus": [
            [
             0,
             "#0d0887"
            ],
            [
             0.1111111111111111,
             "#46039f"
            ],
            [
             0.2222222222222222,
             "#7201a8"
            ],
            [
             0.3333333333333333,
             "#9c179e"
            ],
            [
             0.4444444444444444,
             "#bd3786"
            ],
            [
             0.5555555555555556,
             "#d8576b"
            ],
            [
             0.6666666666666666,
             "#ed7953"
            ],
            [
             0.7777777777777778,
             "#fb9f3a"
            ],
            [
             0.8888888888888888,
             "#fdca26"
            ],
            [
             1,
             "#f0f921"
            ]
           ]
          },
          "colorway": [
           "#636efa",
           "#EF553B",
           "#00cc96",
           "#ab63fa",
           "#FFA15A",
           "#19d3f3",
           "#FF6692",
           "#B6E880",
           "#FF97FF",
           "#FECB52"
          ],
          "font": {
           "color": "#2a3f5f"
          },
          "geo": {
           "bgcolor": "white",
           "lakecolor": "white",
           "landcolor": "white",
           "showlakes": true,
           "showland": true,
           "subunitcolor": "#C8D4E3"
          },
          "hoverlabel": {
           "align": "left"
          },
          "hovermode": "closest",
          "mapbox": {
           "style": "light"
          },
          "paper_bgcolor": "white",
          "plot_bgcolor": "white",
          "polar": {
           "angularaxis": {
            "gridcolor": "#EBF0F8",
            "linecolor": "#EBF0F8",
            "ticks": ""
           },
           "bgcolor": "white",
           "radialaxis": {
            "gridcolor": "#EBF0F8",
            "linecolor": "#EBF0F8",
            "ticks": ""
           }
          },
          "scene": {
           "xaxis": {
            "backgroundcolor": "white",
            "gridcolor": "#DFE8F3",
            "gridwidth": 2,
            "linecolor": "#EBF0F8",
            "showbackground": true,
            "ticks": "",
            "zerolinecolor": "#EBF0F8"
           },
           "yaxis": {
            "backgroundcolor": "white",
            "gridcolor": "#DFE8F3",
            "gridwidth": 2,
            "linecolor": "#EBF0F8",
            "showbackground": true,
            "ticks": "",
            "zerolinecolor": "#EBF0F8"
           },
           "zaxis": {
            "backgroundcolor": "white",
            "gridcolor": "#DFE8F3",
            "gridwidth": 2,
            "linecolor": "#EBF0F8",
            "showbackground": true,
            "ticks": "",
            "zerolinecolor": "#EBF0F8"
           }
          },
          "shapedefaults": {
           "line": {
            "color": "#2a3f5f"
           }
          },
          "ternary": {
           "aaxis": {
            "gridcolor": "#DFE8F3",
            "linecolor": "#A2B1C6",
            "ticks": ""
           },
           "baxis": {
            "gridcolor": "#DFE8F3",
            "linecolor": "#A2B1C6",
            "ticks": ""
           },
           "bgcolor": "white",
           "caxis": {
            "gridcolor": "#DFE8F3",
            "linecolor": "#A2B1C6",
            "ticks": ""
           }
          },
          "title": {
           "x": 0.05
          },
          "xaxis": {
           "automargin": true,
           "gridcolor": "#EBF0F8",
           "linecolor": "#EBF0F8",
           "ticks": "",
           "title": {
            "standoff": 15
           },
           "zerolinecolor": "#EBF0F8",
           "zerolinewidth": 2
          },
          "yaxis": {
           "automargin": true,
           "gridcolor": "#EBF0F8",
           "linecolor": "#EBF0F8",
           "ticks": "",
           "title": {
            "standoff": 15
           },
           "zerolinecolor": "#EBF0F8",
           "zerolinewidth": 2
          }
         }
        },
        "title": {
         "text": "2 year ahead inflation expectations by employment status"
        },
        "xaxis": {
         "title": {
          "text": "Quarter"
         }
        },
        "yaxis": {
         "title": {
          "text": "Grouped Median (Interpolated)"
         }
        }
       }
      }
     },
     "metadata": {},
     "output_type": "display_data"
    }
   ],
   "source": [
    "plot_question_medians(median_dfs[1], emp_map, '2 year ahead inflation expectations by employment status')"
   ]
  },
  {
   "cell_type": "code",
   "execution_count": 16,
   "metadata": {},
   "outputs": [
    {
     "data": {
      "application/vnd.plotly.v1+json": {
       "config": {
        "plotlyServerURL": "https://plot.ly"
       },
       "data": [
        {
         "mode": "lines+markers",
         "name": "Full or Part Time",
         "type": "scatter",
         "x": [
          "2009-01-01T00:00:00.000000",
          "2009-04-01T00:00:00.000000",
          "2009-07-01T00:00:00.000000",
          "2009-10-01T00:00:00.000000",
          "2010-01-01T00:00:00.000000",
          "2010-04-01T00:00:00.000000",
          "2010-07-01T00:00:00.000000",
          "2010-10-01T00:00:00.000000",
          "2011-01-01T00:00:00.000000",
          "2011-04-01T00:00:00.000000",
          "2011-07-01T00:00:00.000000",
          "2011-10-01T00:00:00.000000",
          "2012-01-01T00:00:00.000000",
          "2012-04-01T00:00:00.000000",
          "2012-07-01T00:00:00.000000",
          "2012-10-01T00:00:00.000000",
          "2013-01-01T00:00:00.000000",
          "2013-04-01T00:00:00.000000",
          "2013-07-01T00:00:00.000000",
          "2013-10-01T00:00:00.000000",
          "2014-01-01T00:00:00.000000",
          "2014-04-01T00:00:00.000000",
          "2014-07-01T00:00:00.000000",
          "2014-10-01T00:00:00.000000",
          "2015-01-01T00:00:00.000000",
          "2015-04-01T00:00:00.000000",
          "2015-07-01T00:00:00.000000",
          "2015-10-01T00:00:00.000000",
          "2016-01-01T00:00:00.000000",
          "2016-04-01T00:00:00.000000",
          "2016-07-01T00:00:00.000000",
          "2016-10-01T00:00:00.000000",
          "2017-01-01T00:00:00.000000",
          "2017-04-01T00:00:00.000000",
          "2017-07-01T00:00:00.000000",
          "2017-10-01T00:00:00.000000",
          "2018-01-01T00:00:00.000000",
          "2018-04-01T00:00:00.000000",
          "2018-07-01T00:00:00.000000",
          "2018-10-01T00:00:00.000000",
          "2019-01-01T00:00:00.000000",
          "2019-04-01T00:00:00.000000",
          "2019-07-01T00:00:00.000000",
          "2019-10-01T00:00:00.000000",
          "2020-01-01T00:00:00.000000",
          "2020-04-01T00:00:00.000000",
          "2020-07-01T00:00:00.000000",
          "2020-10-01T00:00:00.000000",
          "2021-01-01T00:00:00.000000",
          "2021-04-01T00:00:00.000000",
          "2021-07-01T00:00:00.000000",
          "2021-10-01T00:00:00.000000",
          "2022-01-01T00:00:00.000000",
          "2022-04-01T00:00:00.000000",
          "2022-07-01T00:00:00.000000",
          "2022-10-01T00:00:00.000000",
          "2023-01-01T00:00:00.000000",
          "2023-04-01T00:00:00.000000",
          "2023-07-01T00:00:00.000000",
          "2023-10-01T00:00:00.000000",
          "2024-01-01T00:00:00.000000",
          "2024-04-01T00:00:00.000000",
          "2024-07-01T00:00:00.000000",
          "2024-10-01T00:00:00.000000",
          "2025-01-01T00:00:00.000000"
         ],
         "y": {
          "bdata": "WHzFV3zFBUBjoIQ3mjoHQDSV644XWwZAxnQW01lMCUBOmN/V4iYIQOfPcv4s5wdAEUIIIYQQCEAAAAAAAPgJQFBQUFBQUApAYid2Yid2CEDoDFboDFYMQOiQmmC8lQtAM3wjCkw6CUBHFJh0ah4MQNf4u3mE6gdAeYFMihfIDEAAAAAAAAAMQN7d3d3d3QtARB9QHXtrC0DmSWQatpsNQKhzey05xAlA7nf0yth+B0AMsaI0PjIJQG7btm3bdgdAVr8okvtkBkBmZmZmZmYHQO83yu43ygZAdmIndmInB0BaWlpaWtoHQEmSJEmSJAxAxIWak0BcCECfRljuaYQJQGESJmESJglAmTPmjDljCkBSuB6F61ELQGQatpvlSQxAGafc7u/gCkDW4DkCRVsNQLiyzyE1wQxA6aKLLrpoDECF61G4HgUMQKuqqqqqqgxAlEBcqDkJCEBjfWisD40NQNs3rH3D2gpAmpmZmZmZBEB3VjurndUGQG25ShrVlgdAZqvExWyVBkD+bLEyfCMGQNhQXkN5DQhAyzPxcd8tCUBzQGS4V8EKQFzzwyJl4AtA5U7RwhkQCkAAAAAAABgLQP4kY1ENswdAO1S3Q3U7CEAin3WDKfIGQBRtNXiOQAlA9VXC2CyoCED9hDgrPyEIQCebbLLJJghASZIkSZIkC0DJGRZcKtsLQA==",
          "dtype": "f8"
         }
        },
        {
         "mode": "lines+markers",
         "name": "Unemployed",
         "type": "scatter",
         "x": [
          "2009-01-01T00:00:00.000000",
          "2009-04-01T00:00:00.000000",
          "2009-07-01T00:00:00.000000",
          "2009-10-01T00:00:00.000000",
          "2010-01-01T00:00:00.000000",
          "2010-04-01T00:00:00.000000",
          "2010-07-01T00:00:00.000000",
          "2010-10-01T00:00:00.000000",
          "2011-01-01T00:00:00.000000",
          "2011-04-01T00:00:00.000000",
          "2011-07-01T00:00:00.000000",
          "2011-10-01T00:00:00.000000",
          "2012-01-01T00:00:00.000000",
          "2012-04-01T00:00:00.000000",
          "2012-07-01T00:00:00.000000",
          "2012-10-01T00:00:00.000000",
          "2013-01-01T00:00:00.000000",
          "2013-04-01T00:00:00.000000",
          "2013-07-01T00:00:00.000000",
          "2013-10-01T00:00:00.000000",
          "2014-01-01T00:00:00.000000",
          "2014-04-01T00:00:00.000000",
          "2014-07-01T00:00:00.000000",
          "2014-10-01T00:00:00.000000",
          "2015-01-01T00:00:00.000000",
          "2015-04-01T00:00:00.000000",
          "2015-07-01T00:00:00.000000",
          "2015-10-01T00:00:00.000000",
          "2016-01-01T00:00:00.000000",
          "2016-04-01T00:00:00.000000",
          "2016-07-01T00:00:00.000000",
          "2016-10-01T00:00:00.000000",
          "2017-01-01T00:00:00.000000",
          "2017-04-01T00:00:00.000000",
          "2017-07-01T00:00:00.000000",
          "2017-10-01T00:00:00.000000",
          "2018-01-01T00:00:00.000000",
          "2018-04-01T00:00:00.000000",
          "2018-07-01T00:00:00.000000",
          "2018-10-01T00:00:00.000000",
          "2019-01-01T00:00:00.000000",
          "2019-04-01T00:00:00.000000",
          "2019-07-01T00:00:00.000000",
          "2019-10-01T00:00:00.000000",
          "2020-01-01T00:00:00.000000",
          "2020-04-01T00:00:00.000000",
          "2020-07-01T00:00:00.000000",
          "2020-10-01T00:00:00.000000",
          "2021-01-01T00:00:00.000000",
          "2021-04-01T00:00:00.000000",
          "2021-07-01T00:00:00.000000",
          "2021-10-01T00:00:00.000000",
          "2022-01-01T00:00:00.000000",
          "2022-04-01T00:00:00.000000",
          "2022-07-01T00:00:00.000000",
          "2022-10-01T00:00:00.000000",
          "2023-01-01T00:00:00.000000",
          "2023-04-01T00:00:00.000000",
          "2023-07-01T00:00:00.000000",
          "2023-10-01T00:00:00.000000",
          "2024-01-01T00:00:00.000000",
          "2024-04-01T00:00:00.000000",
          "2024-07-01T00:00:00.000000",
          "2024-10-01T00:00:00.000000",
          "2025-01-01T00:00:00.000000"
         ],
         "y": {
          "bdata": "aleidiVqBUC6g/1WG0MHQOSuny1WhgdAwnJPIyz3CEAT5ne1uAkJQL6gL+gL+gpAYnIFMbmCDEBQIyz3NMIKQFU0T6gFjA1AbA+5rBgoDUBtoNMGOm0MQCryWTeYIg9AfMVXfMVXDEAecUfcEXcOQGwor6G8hgtAgk4b6LSBDkDW1dXV1dUPQFqjNVqjNRBAZBTnOkZxDkBRXkN5DeUNQC0tLS0tLQtAt23btm3bBkAAAAAAAAAMQEFMriAmVwhA5hLhSUHyBUD1TOW648UGQFphcyDRCgdAt23btm1bBkDMioES3mgHQKc3velNbwpAfUB17K0NB0Atsp3vp8YHQKIELKIELApAxtUPOirwCUByHMdxHMcJQEGeEuQpQQpAMb+rxU2YC0AWspCFLGQLQKLfbB36zQ5AJ3ZiJ3ZiC0D2obE+NNYLQJze9KY3vQxAVVVVVVXVCUCllFJKKaUMQAKi89U90gpABHPtwFw7BEBVVVVVVVUGQMZ0FtNZTAdAYdckl6BKB0Anm2yyySYFQIJwN/Y9IgdAwX0E9xHcB0DXWmuttdYKQG51RirmVgtAL90kBoGVB0Cmzq895LIKQHFLzYb9XQhAjrL7jbL7BUAwe8DsAbMHQD6BVHJeFglAzczMzMxMCUBwH8F9BPcJQLdt27Zt2wpAcckQrKPNC0AdYgOfMRwNQA==",
          "dtype": "f8"
         }
        }
       ],
       "layout": {
        "hovermode": "x unified",
        "legend": {
         "title": {
          "text": "Group"
         }
        },
        "template": {
         "data": {
          "bar": [
           {
            "error_x": {
             "color": "#2a3f5f"
            },
            "error_y": {
             "color": "#2a3f5f"
            },
            "marker": {
             "line": {
              "color": "white",
              "width": 0.5
             },
             "pattern": {
              "fillmode": "overlay",
              "size": 10,
              "solidity": 0.2
             }
            },
            "type": "bar"
           }
          ],
          "barpolar": [
           {
            "marker": {
             "line": {
              "color": "white",
              "width": 0.5
             },
             "pattern": {
              "fillmode": "overlay",
              "size": 10,
              "solidity": 0.2
             }
            },
            "type": "barpolar"
           }
          ],
          "carpet": [
           {
            "aaxis": {
             "endlinecolor": "#2a3f5f",
             "gridcolor": "#C8D4E3",
             "linecolor": "#C8D4E3",
             "minorgridcolor": "#C8D4E3",
             "startlinecolor": "#2a3f5f"
            },
            "baxis": {
             "endlinecolor": "#2a3f5f",
             "gridcolor": "#C8D4E3",
             "linecolor": "#C8D4E3",
             "minorgridcolor": "#C8D4E3",
             "startlinecolor": "#2a3f5f"
            },
            "type": "carpet"
           }
          ],
          "choropleth": [
           {
            "colorbar": {
             "outlinewidth": 0,
             "ticks": ""
            },
            "type": "choropleth"
           }
          ],
          "contour": [
           {
            "colorbar": {
             "outlinewidth": 0,
             "ticks": ""
            },
            "colorscale": [
             [
              0,
              "#0d0887"
             ],
             [
              0.1111111111111111,
              "#46039f"
             ],
             [
              0.2222222222222222,
              "#7201a8"
             ],
             [
              0.3333333333333333,
              "#9c179e"
             ],
             [
              0.4444444444444444,
              "#bd3786"
             ],
             [
              0.5555555555555556,
              "#d8576b"
             ],
             [
              0.6666666666666666,
              "#ed7953"
             ],
             [
              0.7777777777777778,
              "#fb9f3a"
             ],
             [
              0.8888888888888888,
              "#fdca26"
             ],
             [
              1,
              "#f0f921"
             ]
            ],
            "type": "contour"
           }
          ],
          "contourcarpet": [
           {
            "colorbar": {
             "outlinewidth": 0,
             "ticks": ""
            },
            "type": "contourcarpet"
           }
          ],
          "heatmap": [
           {
            "colorbar": {
             "outlinewidth": 0,
             "ticks": ""
            },
            "colorscale": [
             [
              0,
              "#0d0887"
             ],
             [
              0.1111111111111111,
              "#46039f"
             ],
             [
              0.2222222222222222,
              "#7201a8"
             ],
             [
              0.3333333333333333,
              "#9c179e"
             ],
             [
              0.4444444444444444,
              "#bd3786"
             ],
             [
              0.5555555555555556,
              "#d8576b"
             ],
             [
              0.6666666666666666,
              "#ed7953"
             ],
             [
              0.7777777777777778,
              "#fb9f3a"
             ],
             [
              0.8888888888888888,
              "#fdca26"
             ],
             [
              1,
              "#f0f921"
             ]
            ],
            "type": "heatmap"
           }
          ],
          "histogram": [
           {
            "marker": {
             "pattern": {
              "fillmode": "overlay",
              "size": 10,
              "solidity": 0.2
             }
            },
            "type": "histogram"
           }
          ],
          "histogram2d": [
           {
            "colorbar": {
             "outlinewidth": 0,
             "ticks": ""
            },
            "colorscale": [
             [
              0,
              "#0d0887"
             ],
             [
              0.1111111111111111,
              "#46039f"
             ],
             [
              0.2222222222222222,
              "#7201a8"
             ],
             [
              0.3333333333333333,
              "#9c179e"
             ],
             [
              0.4444444444444444,
              "#bd3786"
             ],
             [
              0.5555555555555556,
              "#d8576b"
             ],
             [
              0.6666666666666666,
              "#ed7953"
             ],
             [
              0.7777777777777778,
              "#fb9f3a"
             ],
             [
              0.8888888888888888,
              "#fdca26"
             ],
             [
              1,
              "#f0f921"
             ]
            ],
            "type": "histogram2d"
           }
          ],
          "histogram2dcontour": [
           {
            "colorbar": {
             "outlinewidth": 0,
             "ticks": ""
            },
            "colorscale": [
             [
              0,
              "#0d0887"
             ],
             [
              0.1111111111111111,
              "#46039f"
             ],
             [
              0.2222222222222222,
              "#7201a8"
             ],
             [
              0.3333333333333333,
              "#9c179e"
             ],
             [
              0.4444444444444444,
              "#bd3786"
             ],
             [
              0.5555555555555556,
              "#d8576b"
             ],
             [
              0.6666666666666666,
              "#ed7953"
             ],
             [
              0.7777777777777778,
              "#fb9f3a"
             ],
             [
              0.8888888888888888,
              "#fdca26"
             ],
             [
              1,
              "#f0f921"
             ]
            ],
            "type": "histogram2dcontour"
           }
          ],
          "mesh3d": [
           {
            "colorbar": {
             "outlinewidth": 0,
             "ticks": ""
            },
            "type": "mesh3d"
           }
          ],
          "parcoords": [
           {
            "line": {
             "colorbar": {
              "outlinewidth": 0,
              "ticks": ""
             }
            },
            "type": "parcoords"
           }
          ],
          "pie": [
           {
            "automargin": true,
            "type": "pie"
           }
          ],
          "scatter": [
           {
            "fillpattern": {
             "fillmode": "overlay",
             "size": 10,
             "solidity": 0.2
            },
            "type": "scatter"
           }
          ],
          "scatter3d": [
           {
            "line": {
             "colorbar": {
              "outlinewidth": 0,
              "ticks": ""
             }
            },
            "marker": {
             "colorbar": {
              "outlinewidth": 0,
              "ticks": ""
             }
            },
            "type": "scatter3d"
           }
          ],
          "scattercarpet": [
           {
            "marker": {
             "colorbar": {
              "outlinewidth": 0,
              "ticks": ""
             }
            },
            "type": "scattercarpet"
           }
          ],
          "scattergeo": [
           {
            "marker": {
             "colorbar": {
              "outlinewidth": 0,
              "ticks": ""
             }
            },
            "type": "scattergeo"
           }
          ],
          "scattergl": [
           {
            "marker": {
             "colorbar": {
              "outlinewidth": 0,
              "ticks": ""
             }
            },
            "type": "scattergl"
           }
          ],
          "scattermap": [
           {
            "marker": {
             "colorbar": {
              "outlinewidth": 0,
              "ticks": ""
             }
            },
            "type": "scattermap"
           }
          ],
          "scattermapbox": [
           {
            "marker": {
             "colorbar": {
              "outlinewidth": 0,
              "ticks": ""
             }
            },
            "type": "scattermapbox"
           }
          ],
          "scatterpolar": [
           {
            "marker": {
             "colorbar": {
              "outlinewidth": 0,
              "ticks": ""
             }
            },
            "type": "scatterpolar"
           }
          ],
          "scatterpolargl": [
           {
            "marker": {
             "colorbar": {
              "outlinewidth": 0,
              "ticks": ""
             }
            },
            "type": "scatterpolargl"
           }
          ],
          "scatterternary": [
           {
            "marker": {
             "colorbar": {
              "outlinewidth": 0,
              "ticks": ""
             }
            },
            "type": "scatterternary"
           }
          ],
          "surface": [
           {
            "colorbar": {
             "outlinewidth": 0,
             "ticks": ""
            },
            "colorscale": [
             [
              0,
              "#0d0887"
             ],
             [
              0.1111111111111111,
              "#46039f"
             ],
             [
              0.2222222222222222,
              "#7201a8"
             ],
             [
              0.3333333333333333,
              "#9c179e"
             ],
             [
              0.4444444444444444,
              "#bd3786"
             ],
             [
              0.5555555555555556,
              "#d8576b"
             ],
             [
              0.6666666666666666,
              "#ed7953"
             ],
             [
              0.7777777777777778,
              "#fb9f3a"
             ],
             [
              0.8888888888888888,
              "#fdca26"
             ],
             [
              1,
              "#f0f921"
             ]
            ],
            "type": "surface"
           }
          ],
          "table": [
           {
            "cells": {
             "fill": {
              "color": "#EBF0F8"
             },
             "line": {
              "color": "white"
             }
            },
            "header": {
             "fill": {
              "color": "#C8D4E3"
             },
             "line": {
              "color": "white"
             }
            },
            "type": "table"
           }
          ]
         },
         "layout": {
          "annotationdefaults": {
           "arrowcolor": "#2a3f5f",
           "arrowhead": 0,
           "arrowwidth": 1
          },
          "autotypenumbers": "strict",
          "coloraxis": {
           "colorbar": {
            "outlinewidth": 0,
            "ticks": ""
           }
          },
          "colorscale": {
           "diverging": [
            [
             0,
             "#8e0152"
            ],
            [
             0.1,
             "#c51b7d"
            ],
            [
             0.2,
             "#de77ae"
            ],
            [
             0.3,
             "#f1b6da"
            ],
            [
             0.4,
             "#fde0ef"
            ],
            [
             0.5,
             "#f7f7f7"
            ],
            [
             0.6,
             "#e6f5d0"
            ],
            [
             0.7,
             "#b8e186"
            ],
            [
             0.8,
             "#7fbc41"
            ],
            [
             0.9,
             "#4d9221"
            ],
            [
             1,
             "#276419"
            ]
           ],
           "sequential": [
            [
             0,
             "#0d0887"
            ],
            [
             0.1111111111111111,
             "#46039f"
            ],
            [
             0.2222222222222222,
             "#7201a8"
            ],
            [
             0.3333333333333333,
             "#9c179e"
            ],
            [
             0.4444444444444444,
             "#bd3786"
            ],
            [
             0.5555555555555556,
             "#d8576b"
            ],
            [
             0.6666666666666666,
             "#ed7953"
            ],
            [
             0.7777777777777778,
             "#fb9f3a"
            ],
            [
             0.8888888888888888,
             "#fdca26"
            ],
            [
             1,
             "#f0f921"
            ]
           ],
           "sequentialminus": [
            [
             0,
             "#0d0887"
            ],
            [
             0.1111111111111111,
             "#46039f"
            ],
            [
             0.2222222222222222,
             "#7201a8"
            ],
            [
             0.3333333333333333,
             "#9c179e"
            ],
            [
             0.4444444444444444,
             "#bd3786"
            ],
            [
             0.5555555555555556,
             "#d8576b"
            ],
            [
             0.6666666666666666,
             "#ed7953"
            ],
            [
             0.7777777777777778,
             "#fb9f3a"
            ],
            [
             0.8888888888888888,
             "#fdca26"
            ],
            [
             1,
             "#f0f921"
            ]
           ]
          },
          "colorway": [
           "#636efa",
           "#EF553B",
           "#00cc96",
           "#ab63fa",
           "#FFA15A",
           "#19d3f3",
           "#FF6692",
           "#B6E880",
           "#FF97FF",
           "#FECB52"
          ],
          "font": {
           "color": "#2a3f5f"
          },
          "geo": {
           "bgcolor": "white",
           "lakecolor": "white",
           "landcolor": "white",
           "showlakes": true,
           "showland": true,
           "subunitcolor": "#C8D4E3"
          },
          "hoverlabel": {
           "align": "left"
          },
          "hovermode": "closest",
          "mapbox": {
           "style": "light"
          },
          "paper_bgcolor": "white",
          "plot_bgcolor": "white",
          "polar": {
           "angularaxis": {
            "gridcolor": "#EBF0F8",
            "linecolor": "#EBF0F8",
            "ticks": ""
           },
           "bgcolor": "white",
           "radialaxis": {
            "gridcolor": "#EBF0F8",
            "linecolor": "#EBF0F8",
            "ticks": ""
           }
          },
          "scene": {
           "xaxis": {
            "backgroundcolor": "white",
            "gridcolor": "#DFE8F3",
            "gridwidth": 2,
            "linecolor": "#EBF0F8",
            "showbackground": true,
            "ticks": "",
            "zerolinecolor": "#EBF0F8"
           },
           "yaxis": {
            "backgroundcolor": "white",
            "gridcolor": "#DFE8F3",
            "gridwidth": 2,
            "linecolor": "#EBF0F8",
            "showbackground": true,
            "ticks": "",
            "zerolinecolor": "#EBF0F8"
           },
           "zaxis": {
            "backgroundcolor": "white",
            "gridcolor": "#DFE8F3",
            "gridwidth": 2,
            "linecolor": "#EBF0F8",
            "showbackground": true,
            "ticks": "",
            "zerolinecolor": "#EBF0F8"
           }
          },
          "shapedefaults": {
           "line": {
            "color": "#2a3f5f"
           }
          },
          "ternary": {
           "aaxis": {
            "gridcolor": "#DFE8F3",
            "linecolor": "#A2B1C6",
            "ticks": ""
           },
           "baxis": {
            "gridcolor": "#DFE8F3",
            "linecolor": "#A2B1C6",
            "ticks": ""
           },
           "bgcolor": "white",
           "caxis": {
            "gridcolor": "#DFE8F3",
            "linecolor": "#A2B1C6",
            "ticks": ""
           }
          },
          "title": {
           "x": 0.05
          },
          "xaxis": {
           "automargin": true,
           "gridcolor": "#EBF0F8",
           "linecolor": "#EBF0F8",
           "ticks": "",
           "title": {
            "standoff": 15
           },
           "zerolinecolor": "#EBF0F8",
           "zerolinewidth": 2
          },
          "yaxis": {
           "automargin": true,
           "gridcolor": "#EBF0F8",
           "linecolor": "#EBF0F8",
           "ticks": "",
           "title": {
            "standoff": 15
           },
           "zerolinecolor": "#EBF0F8",
           "zerolinewidth": 2
          }
         }
        },
        "title": {
         "text": "5 year ahead inflation expectations by employment status"
        },
        "xaxis": {
         "title": {
          "text": "Quarter"
         }
        },
        "yaxis": {
         "title": {
          "text": "Grouped Median (Interpolated)"
         }
        }
       }
      }
     },
     "metadata": {},
     "output_type": "display_data"
    }
   ],
   "source": [
    "plot_question_medians(median_dfs[2], emp_map, '5 year ahead inflation expectations by employment status')"
   ]
  },
  {
   "cell_type": "markdown",
   "metadata": {},
   "source": [
    "## Class"
   ]
  },
  {
   "cell_type": "code",
   "execution_count": 17,
   "metadata": {},
   "outputs": [
    {
     "name": "stderr",
     "output_type": "stream",
     "text": [
      "Could not determine dtype for column 172, falling back to string\n",
      "Could not determine dtype for column 174, falling back to string\n",
      "Could not determine dtype for column 176, falling back to string\n"
     ]
    }
   ],
   "source": [
    "ias_raw = pl.read_excel(\n",
    "    '/Users/lukasalemu/Downloads/Inflation Attitudes Survey Feb 2025.xlsx', \n",
    "    sheet_name='Dataset', \n",
    "    columns=['weight', 'yyyyqq', 'class', 'q2a_agg1', 'q2b_agg1', 'q2c_agg1']\n",
    ")\n",
    "ias_raw.head()\n",
    "\n",
    "df_clean = clean_ias(ias_raw, 'class')\n",
    "median_dfs = comp_grouped_medians(df_clean, q2_agg_ias_class_bounds, disagg_col=\"class\")\n"
   ]
  },
  {
   "cell_type": "code",
   "execution_count": 18,
   "metadata": {},
   "outputs": [
    {
     "data": {
      "application/vnd.plotly.v1+json": {
       "config": {
        "plotlyServerURL": "https://plot.ly"
       },
       "data": [
        {
         "mode": "lines+markers",
         "name": "C1",
         "type": "scatter",
         "x": [
          "2009-01-01T00:00:00.000000",
          "2009-04-01T00:00:00.000000",
          "2009-07-01T00:00:00.000000",
          "2009-10-01T00:00:00.000000",
          "2010-01-01T00:00:00.000000",
          "2010-04-01T00:00:00.000000",
          "2010-07-01T00:00:00.000000",
          "2010-10-01T00:00:00.000000",
          "2011-01-01T00:00:00.000000",
          "2011-04-01T00:00:00.000000",
          "2011-07-01T00:00:00.000000",
          "2011-10-01T00:00:00.000000",
          "2012-01-01T00:00:00.000000",
          "2012-04-01T00:00:00.000000",
          "2012-07-01T00:00:00.000000",
          "2012-10-01T00:00:00.000000",
          "2013-01-01T00:00:00.000000",
          "2013-04-01T00:00:00.000000",
          "2013-07-01T00:00:00.000000",
          "2013-10-01T00:00:00.000000",
          "2014-01-01T00:00:00.000000",
          "2014-04-01T00:00:00.000000",
          "2014-07-01T00:00:00.000000",
          "2014-10-01T00:00:00.000000",
          "2015-01-01T00:00:00.000000",
          "2015-04-01T00:00:00.000000",
          "2015-07-01T00:00:00.000000",
          "2015-10-01T00:00:00.000000",
          "2016-01-01T00:00:00.000000",
          "2016-04-01T00:00:00.000000",
          "2016-07-01T00:00:00.000000",
          "2016-10-01T00:00:00.000000",
          "2017-01-01T00:00:00.000000",
          "2017-04-01T00:00:00.000000",
          "2017-07-01T00:00:00.000000",
          "2017-10-01T00:00:00.000000",
          "2018-01-01T00:00:00.000000",
          "2018-04-01T00:00:00.000000",
          "2018-07-01T00:00:00.000000",
          "2018-10-01T00:00:00.000000",
          "2019-01-01T00:00:00.000000",
          "2019-04-01T00:00:00.000000",
          "2019-07-01T00:00:00.000000",
          "2019-10-01T00:00:00.000000",
          "2020-01-01T00:00:00.000000",
          "2020-04-01T00:00:00.000000",
          "2020-07-01T00:00:00.000000",
          "2020-10-01T00:00:00.000000",
          "2021-01-01T00:00:00.000000",
          "2021-04-01T00:00:00.000000",
          "2021-07-01T00:00:00.000000",
          "2021-10-01T00:00:00.000000",
          "2022-01-01T00:00:00.000000",
          "2022-04-01T00:00:00.000000",
          "2022-07-01T00:00:00.000000",
          "2022-10-01T00:00:00.000000",
          "2023-01-01T00:00:00.000000",
          "2023-04-01T00:00:00.000000",
          "2023-07-01T00:00:00.000000",
          "2023-10-01T00:00:00.000000",
          "2024-01-01T00:00:00.000000",
          "2024-04-01T00:00:00.000000",
          "2024-07-01T00:00:00.000000",
          "2024-10-01T00:00:00.000000",
          "2025-01-01T00:00:00.000000"
         ],
         "y": {
          "bdata": "VII8JchT/j+idiVqV6IAQC666KKLLgNASZIkSZIkAkDzYdyvSyoDQPECmRQvkAlA6Ddbh36zCUDe9KY3vekNQLDc0wjLPQ9AsUgZeLo1D0B55JFHHnkQQNot/GpMpA9AdW9AmbjSCUCSPQNR6cgKQBA++OCDDwhAFK5H4XoUCkAjZeDp1vwKQHsJ7SW0lwxAcUfcEXfECUAor6G8hvIKQDMzMzMzswVAfg6pCcZbA0Bi7RvWvmEFQDrnnHPOOQNAq6qqqqqqAEAzMzMzMzMBQOr33BKnfv8/qqqqqqrq/j99T/Q90ff8P1boDFboDP4/bEXQcFL3AUCnrClrypoGQKimYy4RngZAqSvqirqiBkB6nud5nucFQJkz5ow5YwZAbddZS6KYBkD3NMJyTyMHQLpJDAIrhwZAePTK2H5HB0Acx3EcxzEJQKwcWmQ73wdA6wZT5LNuCkDh5RS8nIIHQAO2OV3lmQhAypqypqwpB0Ae34WD6PEFQBaykIUsZAVAQNKYxeO6BEDbtm3btm0DQCh2Yid2YgdAZHA+BudjCEBXonYlatcRQDmO4ziO4xJAIyz3NMJyFUAzMzMzMzMTQJIbuZEbuQ9AkiRJkiRJDEB6Mn671JMNQJZlWZZlWQpA0o9+9KMfCUByXhbxCaQGQH59fX19fQVAO7ETO7ETB0DHRHqgcnYLQA==",
          "dtype": "f8"
         }
        },
        {
         "mode": "lines+markers",
         "name": "C2",
         "type": "scatter",
         "x": [
          "2009-01-01T00:00:00.000000",
          "2009-04-01T00:00:00.000000",
          "2009-07-01T00:00:00.000000",
          "2009-10-01T00:00:00.000000",
          "2010-01-01T00:00:00.000000",
          "2010-04-01T00:00:00.000000",
          "2010-07-01T00:00:00.000000",
          "2010-10-01T00:00:00.000000",
          "2011-01-01T00:00:00.000000",
          "2011-04-01T00:00:00.000000",
          "2011-07-01T00:00:00.000000",
          "2011-10-01T00:00:00.000000",
          "2012-01-01T00:00:00.000000",
          "2012-04-01T00:00:00.000000",
          "2012-07-01T00:00:00.000000",
          "2012-10-01T00:00:00.000000",
          "2013-01-01T00:00:00.000000",
          "2013-04-01T00:00:00.000000",
          "2013-07-01T00:00:00.000000",
          "2013-10-01T00:00:00.000000",
          "2014-01-01T00:00:00.000000",
          "2014-04-01T00:00:00.000000",
          "2014-07-01T00:00:00.000000",
          "2014-10-01T00:00:00.000000",
          "2015-01-01T00:00:00.000000",
          "2015-04-01T00:00:00.000000",
          "2015-07-01T00:00:00.000000",
          "2015-10-01T00:00:00.000000",
          "2016-01-01T00:00:00.000000",
          "2016-04-01T00:00:00.000000",
          "2016-07-01T00:00:00.000000",
          "2016-10-01T00:00:00.000000",
          "2017-01-01T00:00:00.000000",
          "2017-04-01T00:00:00.000000",
          "2017-07-01T00:00:00.000000",
          "2017-10-01T00:00:00.000000",
          "2018-01-01T00:00:00.000000",
          "2018-04-01T00:00:00.000000",
          "2018-07-01T00:00:00.000000",
          "2018-10-01T00:00:00.000000",
          "2019-01-01T00:00:00.000000",
          "2019-04-01T00:00:00.000000",
          "2019-07-01T00:00:00.000000",
          "2019-10-01T00:00:00.000000",
          "2020-01-01T00:00:00.000000",
          "2020-04-01T00:00:00.000000",
          "2020-07-01T00:00:00.000000",
          "2020-10-01T00:00:00.000000",
          "2021-01-01T00:00:00.000000",
          "2021-04-01T00:00:00.000000",
          "2021-07-01T00:00:00.000000",
          "2021-10-01T00:00:00.000000",
          "2022-01-01T00:00:00.000000",
          "2022-04-01T00:00:00.000000",
          "2022-07-01T00:00:00.000000",
          "2022-10-01T00:00:00.000000",
          "2023-01-01T00:00:00.000000",
          "2023-04-01T00:00:00.000000",
          "2023-07-01T00:00:00.000000",
          "2023-10-01T00:00:00.000000",
          "2024-01-01T00:00:00.000000",
          "2024-04-01T00:00:00.000000",
          "2024-07-01T00:00:00.000000",
          "2024-10-01T00:00:00.000000",
          "2025-01-01T00:00:00.000000"
         ],
         "y": {
          "bdata": "bm5ubm5uAkAAAAAAAOADQJNfLPnFkgNAshVBw0ndA0Amv1jyiyUFQJqZmZmZmQxADL8aE+mBDkDK+O1ST8YPQAp7wp6wJxBAxVd8xVd8EEAUO7ETO7EQQNmJndiJnRFAgkyKF8ikDEC1tLS0tLQNQGWTTTbZZAtAZmZmZmbmDEASlnsaYTkQQDw8PDw8PA1AKi4ZgnW0CUARQgghhBAQQK2wOZBohQdA0o9+9KMfBUAGfUFf0BcGQArzu1rchAVAmRrYO6YG/j+/55Y49XsCQJEeqJzdwv8/yi+W/GLJ/z/gwIEDBw4AQA8PDw8PDwJA/Pjx48eP/z9cj8L1KFwFQA7lNZTXUAZAIjXBeCv7BECbsqasKWsGQEId1EEd1AVAbIPgVCZsB0AAAAAAAAAJQClcj8L1KAdAq6qqqqqqCkBu27Zt27YJQC0tLS0tLQhAXXTRRRddCEB+BPcR3EcIQKOLLrro4gdALrrooosuBkC/Ye0b1r4FQKS+s1Hf2QRAzw6BG8ugBEDhehSuR+ECQPkZJX5GiQNAUuJnlPgZCUAfGutDY30QQGQhC1nIQhJAbtu2bdu2FED44IMPPvgQQAZpkAZpkAxAAAAAAAAAC0CtG0yRz7oJQNpLaC+hvQhAYid2Yid2B0AJGk7qvjwGQPgpLhmCdQRAt+aHRcrAB0CMLrrooosKQA==",
          "dtype": "f8"
         }
        },
        {
         "mode": "lines+markers",
         "name": "AB",
         "type": "scatter",
         "x": [
          "2009-01-01T00:00:00.000000",
          "2009-04-01T00:00:00.000000",
          "2009-07-01T00:00:00.000000",
          "2009-10-01T00:00:00.000000",
          "2010-01-01T00:00:00.000000",
          "2010-04-01T00:00:00.000000",
          "2010-07-01T00:00:00.000000",
          "2010-10-01T00:00:00.000000",
          "2011-01-01T00:00:00.000000",
          "2011-04-01T00:00:00.000000",
          "2011-07-01T00:00:00.000000",
          "2011-10-01T00:00:00.000000",
          "2012-01-01T00:00:00.000000",
          "2012-04-01T00:00:00.000000",
          "2012-07-01T00:00:00.000000",
          "2012-10-01T00:00:00.000000",
          "2013-01-01T00:00:00.000000",
          "2013-04-01T00:00:00.000000",
          "2013-07-01T00:00:00.000000",
          "2013-10-01T00:00:00.000000",
          "2014-01-01T00:00:00.000000",
          "2014-04-01T00:00:00.000000",
          "2014-07-01T00:00:00.000000",
          "2014-10-01T00:00:00.000000",
          "2015-01-01T00:00:00.000000",
          "2015-04-01T00:00:00.000000",
          "2015-07-01T00:00:00.000000",
          "2015-10-01T00:00:00.000000",
          "2016-01-01T00:00:00.000000",
          "2016-04-01T00:00:00.000000",
          "2016-07-01T00:00:00.000000",
          "2016-10-01T00:00:00.000000",
          "2017-01-01T00:00:00.000000",
          "2017-04-01T00:00:00.000000",
          "2017-07-01T00:00:00.000000",
          "2017-10-01T00:00:00.000000",
          "2018-01-01T00:00:00.000000",
          "2018-04-01T00:00:00.000000",
          "2018-07-01T00:00:00.000000",
          "2018-10-01T00:00:00.000000",
          "2019-01-01T00:00:00.000000",
          "2019-04-01T00:00:00.000000",
          "2019-07-01T00:00:00.000000",
          "2019-10-01T00:00:00.000000",
          "2020-01-01T00:00:00.000000",
          "2020-04-01T00:00:00.000000",
          "2020-07-01T00:00:00.000000",
          "2020-10-01T00:00:00.000000",
          "2021-01-01T00:00:00.000000",
          "2021-04-01T00:00:00.000000",
          "2021-07-01T00:00:00.000000",
          "2021-10-01T00:00:00.000000",
          "2022-01-01T00:00:00.000000",
          "2022-04-01T00:00:00.000000",
          "2022-07-01T00:00:00.000000",
          "2022-10-01T00:00:00.000000",
          "2023-01-01T00:00:00.000000",
          "2023-04-01T00:00:00.000000",
          "2023-07-01T00:00:00.000000",
          "2023-10-01T00:00:00.000000",
          "2024-01-01T00:00:00.000000",
          "2024-04-01T00:00:00.000000",
          "2024-07-01T00:00:00.000000",
          "2024-10-01T00:00:00.000000",
          "2025-01-01T00:00:00.000000"
         ],
         "y": {
          "bdata": "WPKLJb9Y+j+WlpaWlpb+Pzw8PDw8PAFAHMdxHMdxAUBGF1100UUDQDdyIzdyIwtAMQzDMAzDCEBoL6G9hPYOQDn32QXEphBA9DE4H4PzDUCvrq6urq4OQAnylCBPCQ5Aog+ojr21CUA3YX5Xi5sMQCcnJycnJwdAO7ETO7ETDECUPMuIPqAKQDTWh8b60AhAAAAAAAAAB0A7sRM7sRMLQElzpDnSHAVA/HapJ+O3A0DcR3AfwX0EQAAAAAAA4AFA0F5Cewnt9T9f8RVf8RX7P5aWlpaWlvo/KK+hvIby+j+I0EPoIfT4Pya0l9BeQvs/suQXS36xAEA83ZofFikHQKxmT/J9rAZA6J26loObBUB2Yid2YqcFQDMzMzMzswZAf+zHfuzHBkDqoA7qoA4GQA/qoA7qoAhAq6qqqqqqCEC239ErY/sJQPEVX/EVXwlAuuiiiy66DEAAAAAAAAAJQBGKUIQiFAdAr+u6ruu6CEBnvxArSuMHQMIHH3zwwQdAsqasKWvKBkDmEuFJQfIDQD3P8zzP8wZAQxaykIUsDEBJwWQOAm4RQJeWlpaWlhJAH3zwwQefEkCrqqqqqqoUQPflsRVBww9AxnQW01lMC0BjZfhGFJgMQCprypqypgpAKaSveSqFCEDyN/mb/E0GQKEv6Av6ggVAsTmQaIXNB0B+fn5+fn4KQA==",
          "dtype": "f8"
         }
        },
        {
         "mode": "lines+markers",
         "name": "DE",
         "type": "scatter",
         "x": [
          "2009-01-01T00:00:00.000000",
          "2009-04-01T00:00:00.000000",
          "2009-07-01T00:00:00.000000",
          "2009-10-01T00:00:00.000000",
          "2010-01-01T00:00:00.000000",
          "2010-04-01T00:00:00.000000",
          "2010-07-01T00:00:00.000000",
          "2010-10-01T00:00:00.000000",
          "2011-01-01T00:00:00.000000",
          "2011-04-01T00:00:00.000000",
          "2011-07-01T00:00:00.000000",
          "2011-10-01T00:00:00.000000",
          "2012-01-01T00:00:00.000000",
          "2012-04-01T00:00:00.000000",
          "2012-07-01T00:00:00.000000",
          "2012-10-01T00:00:00.000000",
          "2013-01-01T00:00:00.000000",
          "2013-04-01T00:00:00.000000",
          "2013-07-01T00:00:00.000000",
          "2013-10-01T00:00:00.000000",
          "2014-01-01T00:00:00.000000",
          "2014-04-01T00:00:00.000000",
          "2014-07-01T00:00:00.000000",
          "2014-10-01T00:00:00.000000",
          "2015-01-01T00:00:00.000000",
          "2015-04-01T00:00:00.000000",
          "2015-07-01T00:00:00.000000",
          "2015-10-01T00:00:00.000000",
          "2016-01-01T00:00:00.000000",
          "2016-04-01T00:00:00.000000",
          "2016-07-01T00:00:00.000000",
          "2016-10-01T00:00:00.000000",
          "2017-01-01T00:00:00.000000",
          "2017-04-01T00:00:00.000000",
          "2017-07-01T00:00:00.000000",
          "2017-10-01T00:00:00.000000",
          "2018-01-01T00:00:00.000000",
          "2018-04-01T00:00:00.000000",
          "2018-07-01T00:00:00.000000",
          "2018-10-01T00:00:00.000000",
          "2019-01-01T00:00:00.000000",
          "2019-04-01T00:00:00.000000",
          "2019-07-01T00:00:00.000000",
          "2019-10-01T00:00:00.000000",
          "2020-01-01T00:00:00.000000",
          "2020-04-01T00:00:00.000000",
          "2020-07-01T00:00:00.000000",
          "2020-10-01T00:00:00.000000",
          "2021-01-01T00:00:00.000000",
          "2021-04-01T00:00:00.000000",
          "2021-07-01T00:00:00.000000",
          "2021-10-01T00:00:00.000000",
          "2022-01-01T00:00:00.000000",
          "2022-04-01T00:00:00.000000",
          "2022-07-01T00:00:00.000000",
          "2022-10-01T00:00:00.000000",
          "2023-01-01T00:00:00.000000",
          "2023-04-01T00:00:00.000000",
          "2023-07-01T00:00:00.000000",
          "2023-10-01T00:00:00.000000",
          "2024-01-01T00:00:00.000000",
          "2024-04-01T00:00:00.000000",
          "2024-07-01T00:00:00.000000",
          "2024-10-01T00:00:00.000000",
          "2025-01-01T00:00:00.000000"
         ],
         "y": {
          "bdata": "DO+F98J7BUBMaC+hvYQGQKS+s1Hf2QRAnx0CN5ZBBUCT87KITyAFQBzHcRzH8QhAsRM7sRO7DEB1B/utNoYQQMVO7MROTBBAAidwAidwEEDI4HwMzscRQAtZyEIWMhFAuCPuiDviD0DlNZTXUF4RQDMzMzMzsw5A0UUXXXRREEDyc8UsR34QQB7krp8tVhBAg5hcQUyuDkAztt/RK2MPQCQKTDo1DwpAwJtHqD7TBkBGF1100UUHQM3MzMzMzAVA5ne1uAnzAUD9vTZiXXoEQDzjGc94xgNA7K0N09wFA0BqvHSTGAQAQHfu3Llz5wJAZ1hwqWzvAkAtLS0tLS0FQPCvGvcC/wZAnJCSZxnRB0Dq1vywSBkIQOzHfuzHfghAIz6BVHJeCEB8xVd8xVcIQIv4BFLJeQlAvLu7u7u7CUB9ImZz6VALQAAAAAAAgAhAkiRJkiRJCkBg+qVf+qULQLI7tP09dgdAkiRJkiTJB0C2bNmyZcsGQPDBBx988AVAqBGWexphBUBpkAZpkAYDQE5vetOb3gRAQQlvNHV+CUBw+ZZv+ZYQQMomm2yyyRBAo4suuuiiEkAAAAAAAEAVQN/yLd/yLRFAnI/B+RicC0A+CtejcD0OQIfUBOOt7AtAH4XrUbgeB0CF61G4HoUHQCVJkiRJEghARhdddNFFCUCxVMRSEUsNQA==",
          "dtype": "f8"
         }
        }
       ],
       "layout": {
        "hovermode": "x unified",
        "legend": {
         "title": {
          "text": "Group"
         }
        },
        "template": {
         "data": {
          "bar": [
           {
            "error_x": {
             "color": "#2a3f5f"
            },
            "error_y": {
             "color": "#2a3f5f"
            },
            "marker": {
             "line": {
              "color": "white",
              "width": 0.5
             },
             "pattern": {
              "fillmode": "overlay",
              "size": 10,
              "solidity": 0.2
             }
            },
            "type": "bar"
           }
          ],
          "barpolar": [
           {
            "marker": {
             "line": {
              "color": "white",
              "width": 0.5
             },
             "pattern": {
              "fillmode": "overlay",
              "size": 10,
              "solidity": 0.2
             }
            },
            "type": "barpolar"
           }
          ],
          "carpet": [
           {
            "aaxis": {
             "endlinecolor": "#2a3f5f",
             "gridcolor": "#C8D4E3",
             "linecolor": "#C8D4E3",
             "minorgridcolor": "#C8D4E3",
             "startlinecolor": "#2a3f5f"
            },
            "baxis": {
             "endlinecolor": "#2a3f5f",
             "gridcolor": "#C8D4E3",
             "linecolor": "#C8D4E3",
             "minorgridcolor": "#C8D4E3",
             "startlinecolor": "#2a3f5f"
            },
            "type": "carpet"
           }
          ],
          "choropleth": [
           {
            "colorbar": {
             "outlinewidth": 0,
             "ticks": ""
            },
            "type": "choropleth"
           }
          ],
          "contour": [
           {
            "colorbar": {
             "outlinewidth": 0,
             "ticks": ""
            },
            "colorscale": [
             [
              0,
              "#0d0887"
             ],
             [
              0.1111111111111111,
              "#46039f"
             ],
             [
              0.2222222222222222,
              "#7201a8"
             ],
             [
              0.3333333333333333,
              "#9c179e"
             ],
             [
              0.4444444444444444,
              "#bd3786"
             ],
             [
              0.5555555555555556,
              "#d8576b"
             ],
             [
              0.6666666666666666,
              "#ed7953"
             ],
             [
              0.7777777777777778,
              "#fb9f3a"
             ],
             [
              0.8888888888888888,
              "#fdca26"
             ],
             [
              1,
              "#f0f921"
             ]
            ],
            "type": "contour"
           }
          ],
          "contourcarpet": [
           {
            "colorbar": {
             "outlinewidth": 0,
             "ticks": ""
            },
            "type": "contourcarpet"
           }
          ],
          "heatmap": [
           {
            "colorbar": {
             "outlinewidth": 0,
             "ticks": ""
            },
            "colorscale": [
             [
              0,
              "#0d0887"
             ],
             [
              0.1111111111111111,
              "#46039f"
             ],
             [
              0.2222222222222222,
              "#7201a8"
             ],
             [
              0.3333333333333333,
              "#9c179e"
             ],
             [
              0.4444444444444444,
              "#bd3786"
             ],
             [
              0.5555555555555556,
              "#d8576b"
             ],
             [
              0.6666666666666666,
              "#ed7953"
             ],
             [
              0.7777777777777778,
              "#fb9f3a"
             ],
             [
              0.8888888888888888,
              "#fdca26"
             ],
             [
              1,
              "#f0f921"
             ]
            ],
            "type": "heatmap"
           }
          ],
          "histogram": [
           {
            "marker": {
             "pattern": {
              "fillmode": "overlay",
              "size": 10,
              "solidity": 0.2
             }
            },
            "type": "histogram"
           }
          ],
          "histogram2d": [
           {
            "colorbar": {
             "outlinewidth": 0,
             "ticks": ""
            },
            "colorscale": [
             [
              0,
              "#0d0887"
             ],
             [
              0.1111111111111111,
              "#46039f"
             ],
             [
              0.2222222222222222,
              "#7201a8"
             ],
             [
              0.3333333333333333,
              "#9c179e"
             ],
             [
              0.4444444444444444,
              "#bd3786"
             ],
             [
              0.5555555555555556,
              "#d8576b"
             ],
             [
              0.6666666666666666,
              "#ed7953"
             ],
             [
              0.7777777777777778,
              "#fb9f3a"
             ],
             [
              0.8888888888888888,
              "#fdca26"
             ],
             [
              1,
              "#f0f921"
             ]
            ],
            "type": "histogram2d"
           }
          ],
          "histogram2dcontour": [
           {
            "colorbar": {
             "outlinewidth": 0,
             "ticks": ""
            },
            "colorscale": [
             [
              0,
              "#0d0887"
             ],
             [
              0.1111111111111111,
              "#46039f"
             ],
             [
              0.2222222222222222,
              "#7201a8"
             ],
             [
              0.3333333333333333,
              "#9c179e"
             ],
             [
              0.4444444444444444,
              "#bd3786"
             ],
             [
              0.5555555555555556,
              "#d8576b"
             ],
             [
              0.6666666666666666,
              "#ed7953"
             ],
             [
              0.7777777777777778,
              "#fb9f3a"
             ],
             [
              0.8888888888888888,
              "#fdca26"
             ],
             [
              1,
              "#f0f921"
             ]
            ],
            "type": "histogram2dcontour"
           }
          ],
          "mesh3d": [
           {
            "colorbar": {
             "outlinewidth": 0,
             "ticks": ""
            },
            "type": "mesh3d"
           }
          ],
          "parcoords": [
           {
            "line": {
             "colorbar": {
              "outlinewidth": 0,
              "ticks": ""
             }
            },
            "type": "parcoords"
           }
          ],
          "pie": [
           {
            "automargin": true,
            "type": "pie"
           }
          ],
          "scatter": [
           {
            "fillpattern": {
             "fillmode": "overlay",
             "size": 10,
             "solidity": 0.2
            },
            "type": "scatter"
           }
          ],
          "scatter3d": [
           {
            "line": {
             "colorbar": {
              "outlinewidth": 0,
              "ticks": ""
             }
            },
            "marker": {
             "colorbar": {
              "outlinewidth": 0,
              "ticks": ""
             }
            },
            "type": "scatter3d"
           }
          ],
          "scattercarpet": [
           {
            "marker": {
             "colorbar": {
              "outlinewidth": 0,
              "ticks": ""
             }
            },
            "type": "scattercarpet"
           }
          ],
          "scattergeo": [
           {
            "marker": {
             "colorbar": {
              "outlinewidth": 0,
              "ticks": ""
             }
            },
            "type": "scattergeo"
           }
          ],
          "scattergl": [
           {
            "marker": {
             "colorbar": {
              "outlinewidth": 0,
              "ticks": ""
             }
            },
            "type": "scattergl"
           }
          ],
          "scattermap": [
           {
            "marker": {
             "colorbar": {
              "outlinewidth": 0,
              "ticks": ""
             }
            },
            "type": "scattermap"
           }
          ],
          "scattermapbox": [
           {
            "marker": {
             "colorbar": {
              "outlinewidth": 0,
              "ticks": ""
             }
            },
            "type": "scattermapbox"
           }
          ],
          "scatterpolar": [
           {
            "marker": {
             "colorbar": {
              "outlinewidth": 0,
              "ticks": ""
             }
            },
            "type": "scatterpolar"
           }
          ],
          "scatterpolargl": [
           {
            "marker": {
             "colorbar": {
              "outlinewidth": 0,
              "ticks": ""
             }
            },
            "type": "scatterpolargl"
           }
          ],
          "scatterternary": [
           {
            "marker": {
             "colorbar": {
              "outlinewidth": 0,
              "ticks": ""
             }
            },
            "type": "scatterternary"
           }
          ],
          "surface": [
           {
            "colorbar": {
             "outlinewidth": 0,
             "ticks": ""
            },
            "colorscale": [
             [
              0,
              "#0d0887"
             ],
             [
              0.1111111111111111,
              "#46039f"
             ],
             [
              0.2222222222222222,
              "#7201a8"
             ],
             [
              0.3333333333333333,
              "#9c179e"
             ],
             [
              0.4444444444444444,
              "#bd3786"
             ],
             [
              0.5555555555555556,
              "#d8576b"
             ],
             [
              0.6666666666666666,
              "#ed7953"
             ],
             [
              0.7777777777777778,
              "#fb9f3a"
             ],
             [
              0.8888888888888888,
              "#fdca26"
             ],
             [
              1,
              "#f0f921"
             ]
            ],
            "type": "surface"
           }
          ],
          "table": [
           {
            "cells": {
             "fill": {
              "color": "#EBF0F8"
             },
             "line": {
              "color": "white"
             }
            },
            "header": {
             "fill": {
              "color": "#C8D4E3"
             },
             "line": {
              "color": "white"
             }
            },
            "type": "table"
           }
          ]
         },
         "layout": {
          "annotationdefaults": {
           "arrowcolor": "#2a3f5f",
           "arrowhead": 0,
           "arrowwidth": 1
          },
          "autotypenumbers": "strict",
          "coloraxis": {
           "colorbar": {
            "outlinewidth": 0,
            "ticks": ""
           }
          },
          "colorscale": {
           "diverging": [
            [
             0,
             "#8e0152"
            ],
            [
             0.1,
             "#c51b7d"
            ],
            [
             0.2,
             "#de77ae"
            ],
            [
             0.3,
             "#f1b6da"
            ],
            [
             0.4,
             "#fde0ef"
            ],
            [
             0.5,
             "#f7f7f7"
            ],
            [
             0.6,
             "#e6f5d0"
            ],
            [
             0.7,
             "#b8e186"
            ],
            [
             0.8,
             "#7fbc41"
            ],
            [
             0.9,
             "#4d9221"
            ],
            [
             1,
             "#276419"
            ]
           ],
           "sequential": [
            [
             0,
             "#0d0887"
            ],
            [
             0.1111111111111111,
             "#46039f"
            ],
            [
             0.2222222222222222,
             "#7201a8"
            ],
            [
             0.3333333333333333,
             "#9c179e"
            ],
            [
             0.4444444444444444,
             "#bd3786"
            ],
            [
             0.5555555555555556,
             "#d8576b"
            ],
            [
             0.6666666666666666,
             "#ed7953"
            ],
            [
             0.7777777777777778,
             "#fb9f3a"
            ],
            [
             0.8888888888888888,
             "#fdca26"
            ],
            [
             1,
             "#f0f921"
            ]
           ],
           "sequentialminus": [
            [
             0,
             "#0d0887"
            ],
            [
             0.1111111111111111,
             "#46039f"
            ],
            [
             0.2222222222222222,
             "#7201a8"
            ],
            [
             0.3333333333333333,
             "#9c179e"
            ],
            [
             0.4444444444444444,
             "#bd3786"
            ],
            [
             0.5555555555555556,
             "#d8576b"
            ],
            [
             0.6666666666666666,
             "#ed7953"
            ],
            [
             0.7777777777777778,
             "#fb9f3a"
            ],
            [
             0.8888888888888888,
             "#fdca26"
            ],
            [
             1,
             "#f0f921"
            ]
           ]
          },
          "colorway": [
           "#636efa",
           "#EF553B",
           "#00cc96",
           "#ab63fa",
           "#FFA15A",
           "#19d3f3",
           "#FF6692",
           "#B6E880",
           "#FF97FF",
           "#FECB52"
          ],
          "font": {
           "color": "#2a3f5f"
          },
          "geo": {
           "bgcolor": "white",
           "lakecolor": "white",
           "landcolor": "white",
           "showlakes": true,
           "showland": true,
           "subunitcolor": "#C8D4E3"
          },
          "hoverlabel": {
           "align": "left"
          },
          "hovermode": "closest",
          "mapbox": {
           "style": "light"
          },
          "paper_bgcolor": "white",
          "plot_bgcolor": "white",
          "polar": {
           "angularaxis": {
            "gridcolor": "#EBF0F8",
            "linecolor": "#EBF0F8",
            "ticks": ""
           },
           "bgcolor": "white",
           "radialaxis": {
            "gridcolor": "#EBF0F8",
            "linecolor": "#EBF0F8",
            "ticks": ""
           }
          },
          "scene": {
           "xaxis": {
            "backgroundcolor": "white",
            "gridcolor": "#DFE8F3",
            "gridwidth": 2,
            "linecolor": "#EBF0F8",
            "showbackground": true,
            "ticks": "",
            "zerolinecolor": "#EBF0F8"
           },
           "yaxis": {
            "backgroundcolor": "white",
            "gridcolor": "#DFE8F3",
            "gridwidth": 2,
            "linecolor": "#EBF0F8",
            "showbackground": true,
            "ticks": "",
            "zerolinecolor": "#EBF0F8"
           },
           "zaxis": {
            "backgroundcolor": "white",
            "gridcolor": "#DFE8F3",
            "gridwidth": 2,
            "linecolor": "#EBF0F8",
            "showbackground": true,
            "ticks": "",
            "zerolinecolor": "#EBF0F8"
           }
          },
          "shapedefaults": {
           "line": {
            "color": "#2a3f5f"
           }
          },
          "ternary": {
           "aaxis": {
            "gridcolor": "#DFE8F3",
            "linecolor": "#A2B1C6",
            "ticks": ""
           },
           "baxis": {
            "gridcolor": "#DFE8F3",
            "linecolor": "#A2B1C6",
            "ticks": ""
           },
           "bgcolor": "white",
           "caxis": {
            "gridcolor": "#DFE8F3",
            "linecolor": "#A2B1C6",
            "ticks": ""
           }
          },
          "title": {
           "x": 0.05
          },
          "xaxis": {
           "automargin": true,
           "gridcolor": "#EBF0F8",
           "linecolor": "#EBF0F8",
           "ticks": "",
           "title": {
            "standoff": 15
           },
           "zerolinecolor": "#EBF0F8",
           "zerolinewidth": 2
          },
          "yaxis": {
           "automargin": true,
           "gridcolor": "#EBF0F8",
           "linecolor": "#EBF0F8",
           "ticks": "",
           "title": {
            "standoff": 15
           },
           "zerolinecolor": "#EBF0F8",
           "zerolinewidth": 2
          }
         }
        },
        "title": {
         "text": "1 year ahead inflation expectations by class status"
        },
        "xaxis": {
         "title": {
          "text": "Quarter"
         }
        },
        "yaxis": {
         "title": {
          "text": "Grouped Median (Interpolated)"
         }
        }
       }
      }
     },
     "metadata": {},
     "output_type": "display_data"
    }
   ],
   "source": [
    "class_mapping = {\n",
    "    \"1\": \"AB\",\n",
    "    \"2\": \"C1\",\n",
    "    \"3\": \"C2\",\n",
    "    \"4\": \"DE\"    \n",
    "}\n",
    "\n",
    "plot_question_medians(median_dfs[0], class_mapping, '1 year ahead inflation expectations by class status')"
   ]
  },
  {
   "cell_type": "code",
   "execution_count": 19,
   "metadata": {},
   "outputs": [
    {
     "data": {
      "application/vnd.plotly.v1+json": {
       "config": {
        "plotlyServerURL": "https://plot.ly"
       },
       "data": [
        {
         "mode": "lines+markers",
         "name": "C1",
         "type": "scatter",
         "x": [
          "2009-01-01T00:00:00.000000",
          "2009-04-01T00:00:00.000000",
          "2009-07-01T00:00:00.000000",
          "2009-10-01T00:00:00.000000",
          "2010-01-01T00:00:00.000000",
          "2010-04-01T00:00:00.000000",
          "2010-07-01T00:00:00.000000",
          "2010-10-01T00:00:00.000000",
          "2011-01-01T00:00:00.000000",
          "2011-04-01T00:00:00.000000",
          "2011-07-01T00:00:00.000000",
          "2011-10-01T00:00:00.000000",
          "2012-01-01T00:00:00.000000",
          "2012-04-01T00:00:00.000000",
          "2012-07-01T00:00:00.000000",
          "2012-10-01T00:00:00.000000",
          "2013-01-01T00:00:00.000000",
          "2013-04-01T00:00:00.000000",
          "2013-07-01T00:00:00.000000",
          "2013-10-01T00:00:00.000000",
          "2014-01-01T00:00:00.000000",
          "2014-04-01T00:00:00.000000",
          "2014-07-01T00:00:00.000000",
          "2014-10-01T00:00:00.000000",
          "2015-01-01T00:00:00.000000",
          "2015-04-01T00:00:00.000000",
          "2015-07-01T00:00:00.000000",
          "2015-10-01T00:00:00.000000",
          "2016-01-01T00:00:00.000000",
          "2016-04-01T00:00:00.000000",
          "2016-07-01T00:00:00.000000",
          "2016-10-01T00:00:00.000000",
          "2017-01-01T00:00:00.000000",
          "2017-04-01T00:00:00.000000",
          "2017-07-01T00:00:00.000000",
          "2017-10-01T00:00:00.000000",
          "2018-01-01T00:00:00.000000",
          "2018-04-01T00:00:00.000000",
          "2018-07-01T00:00:00.000000",
          "2018-10-01T00:00:00.000000",
          "2019-01-01T00:00:00.000000",
          "2019-04-01T00:00:00.000000",
          "2019-07-01T00:00:00.000000",
          "2019-10-01T00:00:00.000000",
          "2020-01-01T00:00:00.000000",
          "2020-04-01T00:00:00.000000",
          "2020-07-01T00:00:00.000000",
          "2020-10-01T00:00:00.000000",
          "2021-01-01T00:00:00.000000",
          "2021-04-01T00:00:00.000000",
          "2021-07-01T00:00:00.000000",
          "2021-10-01T00:00:00.000000",
          "2022-01-01T00:00:00.000000",
          "2022-04-01T00:00:00.000000",
          "2022-07-01T00:00:00.000000",
          "2022-10-01T00:00:00.000000",
          "2023-01-01T00:00:00.000000",
          "2023-04-01T00:00:00.000000",
          "2023-07-01T00:00:00.000000",
          "2023-10-01T00:00:00.000000",
          "2024-01-01T00:00:00.000000",
          "2024-04-01T00:00:00.000000",
          "2024-07-01T00:00:00.000000",
          "2024-10-01T00:00:00.000000",
          "2025-01-01T00:00:00.000000"
         ],
         "y": {
          "bdata": "jPnUi/nU+z/xApkUL5ABQEOFChUqVABASOF6FK5HAUAfqJzdwq8CQFPWlDVlTQVAf6uNoekOBkCq82sPuawIQDvfT42XbgpAaKwPjfWhB0BPxm+XejIKQMVO7MRO7AhAWlpaWlpaBkBiGIZhGIYHQCjEWfkJcQZAxMPDw8PDB0CEEEIIIYQIQD6NsNzTCAlADqbIZ91gCEB02kCnDXQKQEyuICZXEAVAQxaykIUsA0AuW7Zs2bIFQKOLLrroogNACl5OwcspAUBrypqypqwBQN7rXve61wFANpTXUF5DAUCO3hWZL00AQLYiaDip+wBANVdzNVdzAUAfhetRuB4FQFqbtVmbtQVAq6qqqqqqBkAJyz2NsNwEQJIkSZIkSQVAX19fX19fB0CamZmZmRkIQPtBRwW+uAZAxB1xR9wRBUC3bdu2bdsHQAAAAAAAAAdAlxUDJbzRCEBqhOWeRlgGQFD6pE/6pAZA9zTCck8j/j/GGGOMMcYAQH/PLXHq9wBA1g2myGfdAEBiJ3ZiJ3b9P6azmM5iOgNA9JutQ7/ZAkBBnhLkKUEKQE422WSTTQpAx3Ecx3EcC0C66KKLLroMQCjsCXvCnghA4uHh4eHhBUCXDME62rwHQEtLS0tLSwZA6k1vetObBkDiQs1JIC4EQDG3OiMVcwNAdRbTWUxnBUAVvtwQA9IJQA==",
          "dtype": "f8"
         }
        },
        {
         "mode": "lines+markers",
         "name": "C2",
         "type": "scatter",
         "x": [
          "2009-01-01T00:00:00.000000",
          "2009-04-01T00:00:00.000000",
          "2009-07-01T00:00:00.000000",
          "2009-10-01T00:00:00.000000",
          "2010-01-01T00:00:00.000000",
          "2010-04-01T00:00:00.000000",
          "2010-07-01T00:00:00.000000",
          "2010-10-01T00:00:00.000000",
          "2011-01-01T00:00:00.000000",
          "2011-04-01T00:00:00.000000",
          "2011-07-01T00:00:00.000000",
          "2011-10-01T00:00:00.000000",
          "2012-01-01T00:00:00.000000",
          "2012-04-01T00:00:00.000000",
          "2012-07-01T00:00:00.000000",
          "2012-10-01T00:00:00.000000",
          "2013-01-01T00:00:00.000000",
          "2013-04-01T00:00:00.000000",
          "2013-07-01T00:00:00.000000",
          "2013-10-01T00:00:00.000000",
          "2014-01-01T00:00:00.000000",
          "2014-04-01T00:00:00.000000",
          "2014-07-01T00:00:00.000000",
          "2014-10-01T00:00:00.000000",
          "2015-01-01T00:00:00.000000",
          "2015-04-01T00:00:00.000000",
          "2015-07-01T00:00:00.000000",
          "2015-10-01T00:00:00.000000",
          "2016-01-01T00:00:00.000000",
          "2016-04-01T00:00:00.000000",
          "2016-07-01T00:00:00.000000",
          "2016-10-01T00:00:00.000000",
          "2017-01-01T00:00:00.000000",
          "2017-04-01T00:00:00.000000",
          "2017-07-01T00:00:00.000000",
          "2017-10-01T00:00:00.000000",
          "2018-01-01T00:00:00.000000",
          "2018-04-01T00:00:00.000000",
          "2018-07-01T00:00:00.000000",
          "2018-10-01T00:00:00.000000",
          "2019-01-01T00:00:00.000000",
          "2019-04-01T00:00:00.000000",
          "2019-07-01T00:00:00.000000",
          "2019-10-01T00:00:00.000000",
          "2020-01-01T00:00:00.000000",
          "2020-04-01T00:00:00.000000",
          "2020-07-01T00:00:00.000000",
          "2020-10-01T00:00:00.000000",
          "2021-01-01T00:00:00.000000",
          "2021-04-01T00:00:00.000000",
          "2021-07-01T00:00:00.000000",
          "2021-10-01T00:00:00.000000",
          "2022-01-01T00:00:00.000000",
          "2022-04-01T00:00:00.000000",
          "2022-07-01T00:00:00.000000",
          "2022-10-01T00:00:00.000000",
          "2023-01-01T00:00:00.000000",
          "2023-04-01T00:00:00.000000",
          "2023-07-01T00:00:00.000000",
          "2023-10-01T00:00:00.000000",
          "2024-01-01T00:00:00.000000",
          "2024-04-01T00:00:00.000000",
          "2024-07-01T00:00:00.000000",
          "2024-10-01T00:00:00.000000",
          "2025-01-01T00:00:00.000000"
         ],
         "y": {
          "bdata": "o4suuuii/z+WexphuacBQAAAAAAAAAJAqBGWexphA0BH2f1G2f0CQEMWspCFLAhAEtxHcB/BCUBQIyz3NMIKQGIndmIn9gtA1Jve9KY3C0A7sRM7sRMOQHIcx3Ecxw5AzczMzMyMCEB4d3d3d3cLQBQUFBQUFAhAH4PzMTgfC0BGWO5phOUOQNejcD0K1wtA11prrbXWCEBJkiRJkiQNQBdPbvHkFgdAtodcVgyUBECgcnYLvxoHQAcOHDhw4ARA2FBeQ3mNAUC4t7e3t7cDQEoppZRSSgFAMQzDMAzDAEAtqPacTF8BQJCnBHlKkANA/MAP/MAPAEBRuxK1K1EDQE2aNGnSpAVAQgghhBBCBEAu3/It3/IFQHIcx3EcxwVAvuuAbszTB0A72rxPcckIQEgPVM5u4QdAeQ3lNZTXCEAiIiIiIqIHQHCXejJ+uwhARhdddNFFB0C1tLS0tLQGQArXo3A9CgdAMI+tCBpO+j9DFrKQhSwAQEFMriAmVwBAU6lUKpVKAUAbymsor6H8P6uqqqqqqgBAJ5tssskmA0Bi7RvWvmEJQE/sxE7sxApAvLu7u7u7B0CEOqiDOqgHQI7jOI7juAdAzczMzMzMBUAAAAAAAGACQKbIZ91gighAVVVVVVVVBkAtprOYzmIGQM/zPM/zPANAt23btm3bBkA7ViCMtGMJQA==",
          "dtype": "f8"
         }
        },
        {
         "mode": "lines+markers",
         "name": "AB",
         "type": "scatter",
         "x": [
          "2009-01-01T00:00:00.000000",
          "2009-04-01T00:00:00.000000",
          "2009-07-01T00:00:00.000000",
          "2009-10-01T00:00:00.000000",
          "2010-01-01T00:00:00.000000",
          "2010-04-01T00:00:00.000000",
          "2010-07-01T00:00:00.000000",
          "2010-10-01T00:00:00.000000",
          "2011-01-01T00:00:00.000000",
          "2011-04-01T00:00:00.000000",
          "2011-07-01T00:00:00.000000",
          "2011-10-01T00:00:00.000000",
          "2012-01-01T00:00:00.000000",
          "2012-04-01T00:00:00.000000",
          "2012-07-01T00:00:00.000000",
          "2012-10-01T00:00:00.000000",
          "2013-01-01T00:00:00.000000",
          "2013-04-01T00:00:00.000000",
          "2013-07-01T00:00:00.000000",
          "2013-10-01T00:00:00.000000",
          "2014-01-01T00:00:00.000000",
          "2014-04-01T00:00:00.000000",
          "2014-07-01T00:00:00.000000",
          "2014-10-01T00:00:00.000000",
          "2015-01-01T00:00:00.000000",
          "2015-04-01T00:00:00.000000",
          "2015-07-01T00:00:00.000000",
          "2015-10-01T00:00:00.000000",
          "2016-01-01T00:00:00.000000",
          "2016-04-01T00:00:00.000000",
          "2016-07-01T00:00:00.000000",
          "2016-10-01T00:00:00.000000",
          "2017-01-01T00:00:00.000000",
          "2017-04-01T00:00:00.000000",
          "2017-07-01T00:00:00.000000",
          "2017-10-01T00:00:00.000000",
          "2018-01-01T00:00:00.000000",
          "2018-04-01T00:00:00.000000",
          "2018-07-01T00:00:00.000000",
          "2018-10-01T00:00:00.000000",
          "2019-01-01T00:00:00.000000",
          "2019-04-01T00:00:00.000000",
          "2019-07-01T00:00:00.000000",
          "2019-10-01T00:00:00.000000",
          "2020-01-01T00:00:00.000000",
          "2020-04-01T00:00:00.000000",
          "2020-07-01T00:00:00.000000",
          "2020-10-01T00:00:00.000000",
          "2021-01-01T00:00:00.000000",
          "2021-04-01T00:00:00.000000",
          "2021-07-01T00:00:00.000000",
          "2021-10-01T00:00:00.000000",
          "2022-01-01T00:00:00.000000",
          "2022-04-01T00:00:00.000000",
          "2022-07-01T00:00:00.000000",
          "2022-10-01T00:00:00.000000",
          "2023-01-01T00:00:00.000000",
          "2023-04-01T00:00:00.000000",
          "2023-07-01T00:00:00.000000",
          "2023-10-01T00:00:00.000000",
          "2024-01-01T00:00:00.000000",
          "2024-04-01T00:00:00.000000",
          "2024-07-01T00:00:00.000000",
          "2024-10-01T00:00:00.000000",
          "2025-01-01T00:00:00.000000"
         ],
         "y": {
          "bdata": "ICod2TMQ/T9sD7msGCgBQEtLS0tLSwJAkiRJkiRJAkAEDSd1Xx4DQFSoUKFChQZAVVVVVVVVBEDaQKcNdNoIQC0tLS0tLQpA09LS0tLSBUBMkc+6wRQJQKG9hPYS2gdAiREjRowYBUAiIiIiIiIIQEEmxQtkUgRAlnsaYbmnB0D4+/1+v98HQNAhNcF4KwdA3LZt27ZtBUAsvuIrvuIHQLK3NkxzFwRAJDdyIzdyA0CC+wjuI7gDQN+w9g1r3wBA3BF3xB1x/z/Ew8PDw8P/P6yjzfsUlwBAqQnGW9nnAEBxN/Y9IicAQAAAAAAAQP8/AAAAAAAAAECXlpaWlpYDQMy4ZdwybgVAmpmZmZmZBUDEw8PDw8MDQKuqqqqqqgdAwQUucIELBkBVVVVVVVUFQCTuiDvijgZAtMLmQKIVBkCi+IucYcEFQKK8hvIaygZAchzHcRzHB0CLr/iKr/gGQIqd2Imd2AVAEW34/DFHAUAKXk7ByykCQIYsZCELWQNApJsNsJWQAkCCAwcOHDgCQIvpLKazmAJAQqFQKBQKBUDwb8uZDkcJQAz6gr6gLwxAThvotIFOC0CH1ATjrewLQHN2C78aEwhA8RVf8RVfA0D8vu/7vu8FQBSuR+F6FAVAH3zwwQcfBkAAAAAAAAgFQBWiDZ8/5gRAsMZEeqByBkCuBs8RKNoIQA==",
          "dtype": "f8"
         }
        },
        {
         "mode": "lines+markers",
         "name": "DE",
         "type": "scatter",
         "x": [
          "2009-01-01T00:00:00.000000",
          "2009-04-01T00:00:00.000000",
          "2009-07-01T00:00:00.000000",
          "2009-10-01T00:00:00.000000",
          "2010-01-01T00:00:00.000000",
          "2010-04-01T00:00:00.000000",
          "2010-07-01T00:00:00.000000",
          "2010-10-01T00:00:00.000000",
          "2011-01-01T00:00:00.000000",
          "2011-04-01T00:00:00.000000",
          "2011-07-01T00:00:00.000000",
          "2011-10-01T00:00:00.000000",
          "2012-01-01T00:00:00.000000",
          "2012-04-01T00:00:00.000000",
          "2012-07-01T00:00:00.000000",
          "2012-10-01T00:00:00.000000",
          "2013-01-01T00:00:00.000000",
          "2013-04-01T00:00:00.000000",
          "2013-07-01T00:00:00.000000",
          "2013-10-01T00:00:00.000000",
          "2014-01-01T00:00:00.000000",
          "2014-04-01T00:00:00.000000",
          "2014-07-01T00:00:00.000000",
          "2014-10-01T00:00:00.000000",
          "2015-01-01T00:00:00.000000",
          "2015-04-01T00:00:00.000000",
          "2015-07-01T00:00:00.000000",
          "2015-10-01T00:00:00.000000",
          "2016-01-01T00:00:00.000000",
          "2016-04-01T00:00:00.000000",
          "2016-07-01T00:00:00.000000",
          "2016-10-01T00:00:00.000000",
          "2017-01-01T00:00:00.000000",
          "2017-04-01T00:00:00.000000",
          "2017-07-01T00:00:00.000000",
          "2017-10-01T00:00:00.000000",
          "2018-01-01T00:00:00.000000",
          "2018-04-01T00:00:00.000000",
          "2018-07-01T00:00:00.000000",
          "2018-10-01T00:00:00.000000",
          "2019-01-01T00:00:00.000000",
          "2019-04-01T00:00:00.000000",
          "2019-07-01T00:00:00.000000",
          "2019-10-01T00:00:00.000000",
          "2020-01-01T00:00:00.000000",
          "2020-04-01T00:00:00.000000",
          "2020-07-01T00:00:00.000000",
          "2020-10-01T00:00:00.000000",
          "2021-01-01T00:00:00.000000",
          "2021-04-01T00:00:00.000000",
          "2021-07-01T00:00:00.000000",
          "2021-10-01T00:00:00.000000",
          "2022-01-01T00:00:00.000000",
          "2022-04-01T00:00:00.000000",
          "2022-07-01T00:00:00.000000",
          "2022-10-01T00:00:00.000000",
          "2023-01-01T00:00:00.000000",
          "2023-04-01T00:00:00.000000",
          "2023-07-01T00:00:00.000000",
          "2023-10-01T00:00:00.000000",
          "2024-01-01T00:00:00.000000",
          "2024-04-01T00:00:00.000000",
          "2024-07-01T00:00:00.000000",
          "2024-10-01T00:00:00.000000",
          "2025-01-01T00:00:00.000000"
         ],
         "y": {
          "bdata": "u67ruq7rAkB6nud5nucDQN7d3d3d3QFALIjJFcTkAkDdrpUTnukDQL/nljj1ewZAQxaykIUsCUBv4VdjIj0MQHfu3Llz5wxAXkN5DeU1DEAeHh4eHh4QQKBydgu/Gg9AMbmCmFxBDED2jqmBvWMQQCebbLLJJgtAo4suuuiiDUBmn0NqgvEOQM/zPM/zPA1AYnIFMbmCDEDQUYEvrn4MQMi5zy4gNglAj8L1KFyPBkDCck8jLPcGQAAAAAAAiAVA5EZu5EZuA0AHU+SzbjAEQIM0SIM0SARAAiuHFtnOA0ARrKPN+xQCQGGFzmCFzgRAnrqWg5v9AkCiRbbz/dQEQG8/JPD2QwZA7zfK7jfKBkDuiDvijrgHQJqZmZmZ2QlArA+N9aGxCECjiy666CIIQIwYMWLEiAlAln0OqQnGB0CamZmZmdkJQHnkkUceeQhAZ+UnxFn5CUB4eHh4eHgLQNyku4wpXwdAhixkIQtZ/D8XfjUm0gMBQGBfX19fX/8/KVgULAoWAUDi4eHh4eH7P+wdUwN7xwBA5DiO4zgOBECamZmZmZkJQI7jOI7jOApA2WSTTTbZCEBYfMVXfMUPQM77FJcMwQpAMzMzMzOzBEBmZmZmZmYIQG9605ve9AZAYqWnFlZ6BkBL1K5E7UoGQOUXS36x5AdAsMZEeqByCkA7sRM7sRMLQA==",
          "dtype": "f8"
         }
        }
       ],
       "layout": {
        "hovermode": "x unified",
        "legend": {
         "title": {
          "text": "Group"
         }
        },
        "template": {
         "data": {
          "bar": [
           {
            "error_x": {
             "color": "#2a3f5f"
            },
            "error_y": {
             "color": "#2a3f5f"
            },
            "marker": {
             "line": {
              "color": "white",
              "width": 0.5
             },
             "pattern": {
              "fillmode": "overlay",
              "size": 10,
              "solidity": 0.2
             }
            },
            "type": "bar"
           }
          ],
          "barpolar": [
           {
            "marker": {
             "line": {
              "color": "white",
              "width": 0.5
             },
             "pattern": {
              "fillmode": "overlay",
              "size": 10,
              "solidity": 0.2
             }
            },
            "type": "barpolar"
           }
          ],
          "carpet": [
           {
            "aaxis": {
             "endlinecolor": "#2a3f5f",
             "gridcolor": "#C8D4E3",
             "linecolor": "#C8D4E3",
             "minorgridcolor": "#C8D4E3",
             "startlinecolor": "#2a3f5f"
            },
            "baxis": {
             "endlinecolor": "#2a3f5f",
             "gridcolor": "#C8D4E3",
             "linecolor": "#C8D4E3",
             "minorgridcolor": "#C8D4E3",
             "startlinecolor": "#2a3f5f"
            },
            "type": "carpet"
           }
          ],
          "choropleth": [
           {
            "colorbar": {
             "outlinewidth": 0,
             "ticks": ""
            },
            "type": "choropleth"
           }
          ],
          "contour": [
           {
            "colorbar": {
             "outlinewidth": 0,
             "ticks": ""
            },
            "colorscale": [
             [
              0,
              "#0d0887"
             ],
             [
              0.1111111111111111,
              "#46039f"
             ],
             [
              0.2222222222222222,
              "#7201a8"
             ],
             [
              0.3333333333333333,
              "#9c179e"
             ],
             [
              0.4444444444444444,
              "#bd3786"
             ],
             [
              0.5555555555555556,
              "#d8576b"
             ],
             [
              0.6666666666666666,
              "#ed7953"
             ],
             [
              0.7777777777777778,
              "#fb9f3a"
             ],
             [
              0.8888888888888888,
              "#fdca26"
             ],
             [
              1,
              "#f0f921"
             ]
            ],
            "type": "contour"
           }
          ],
          "contourcarpet": [
           {
            "colorbar": {
             "outlinewidth": 0,
             "ticks": ""
            },
            "type": "contourcarpet"
           }
          ],
          "heatmap": [
           {
            "colorbar": {
             "outlinewidth": 0,
             "ticks": ""
            },
            "colorscale": [
             [
              0,
              "#0d0887"
             ],
             [
              0.1111111111111111,
              "#46039f"
             ],
             [
              0.2222222222222222,
              "#7201a8"
             ],
             [
              0.3333333333333333,
              "#9c179e"
             ],
             [
              0.4444444444444444,
              "#bd3786"
             ],
             [
              0.5555555555555556,
              "#d8576b"
             ],
             [
              0.6666666666666666,
              "#ed7953"
             ],
             [
              0.7777777777777778,
              "#fb9f3a"
             ],
             [
              0.8888888888888888,
              "#fdca26"
             ],
             [
              1,
              "#f0f921"
             ]
            ],
            "type": "heatmap"
           }
          ],
          "histogram": [
           {
            "marker": {
             "pattern": {
              "fillmode": "overlay",
              "size": 10,
              "solidity": 0.2
             }
            },
            "type": "histogram"
           }
          ],
          "histogram2d": [
           {
            "colorbar": {
             "outlinewidth": 0,
             "ticks": ""
            },
            "colorscale": [
             [
              0,
              "#0d0887"
             ],
             [
              0.1111111111111111,
              "#46039f"
             ],
             [
              0.2222222222222222,
              "#7201a8"
             ],
             [
              0.3333333333333333,
              "#9c179e"
             ],
             [
              0.4444444444444444,
              "#bd3786"
             ],
             [
              0.5555555555555556,
              "#d8576b"
             ],
             [
              0.6666666666666666,
              "#ed7953"
             ],
             [
              0.7777777777777778,
              "#fb9f3a"
             ],
             [
              0.8888888888888888,
              "#fdca26"
             ],
             [
              1,
              "#f0f921"
             ]
            ],
            "type": "histogram2d"
           }
          ],
          "histogram2dcontour": [
           {
            "colorbar": {
             "outlinewidth": 0,
             "ticks": ""
            },
            "colorscale": [
             [
              0,
              "#0d0887"
             ],
             [
              0.1111111111111111,
              "#46039f"
             ],
             [
              0.2222222222222222,
              "#7201a8"
             ],
             [
              0.3333333333333333,
              "#9c179e"
             ],
             [
              0.4444444444444444,
              "#bd3786"
             ],
             [
              0.5555555555555556,
              "#d8576b"
             ],
             [
              0.6666666666666666,
              "#ed7953"
             ],
             [
              0.7777777777777778,
              "#fb9f3a"
             ],
             [
              0.8888888888888888,
              "#fdca26"
             ],
             [
              1,
              "#f0f921"
             ]
            ],
            "type": "histogram2dcontour"
           }
          ],
          "mesh3d": [
           {
            "colorbar": {
             "outlinewidth": 0,
             "ticks": ""
            },
            "type": "mesh3d"
           }
          ],
          "parcoords": [
           {
            "line": {
             "colorbar": {
              "outlinewidth": 0,
              "ticks": ""
             }
            },
            "type": "parcoords"
           }
          ],
          "pie": [
           {
            "automargin": true,
            "type": "pie"
           }
          ],
          "scatter": [
           {
            "fillpattern": {
             "fillmode": "overlay",
             "size": 10,
             "solidity": 0.2
            },
            "type": "scatter"
           }
          ],
          "scatter3d": [
           {
            "line": {
             "colorbar": {
              "outlinewidth": 0,
              "ticks": ""
             }
            },
            "marker": {
             "colorbar": {
              "outlinewidth": 0,
              "ticks": ""
             }
            },
            "type": "scatter3d"
           }
          ],
          "scattercarpet": [
           {
            "marker": {
             "colorbar": {
              "outlinewidth": 0,
              "ticks": ""
             }
            },
            "type": "scattercarpet"
           }
          ],
          "scattergeo": [
           {
            "marker": {
             "colorbar": {
              "outlinewidth": 0,
              "ticks": ""
             }
            },
            "type": "scattergeo"
           }
          ],
          "scattergl": [
           {
            "marker": {
             "colorbar": {
              "outlinewidth": 0,
              "ticks": ""
             }
            },
            "type": "scattergl"
           }
          ],
          "scattermap": [
           {
            "marker": {
             "colorbar": {
              "outlinewidth": 0,
              "ticks": ""
             }
            },
            "type": "scattermap"
           }
          ],
          "scattermapbox": [
           {
            "marker": {
             "colorbar": {
              "outlinewidth": 0,
              "ticks": ""
             }
            },
            "type": "scattermapbox"
           }
          ],
          "scatterpolar": [
           {
            "marker": {
             "colorbar": {
              "outlinewidth": 0,
              "ticks": ""
             }
            },
            "type": "scatterpolar"
           }
          ],
          "scatterpolargl": [
           {
            "marker": {
             "colorbar": {
              "outlinewidth": 0,
              "ticks": ""
             }
            },
            "type": "scatterpolargl"
           }
          ],
          "scatterternary": [
           {
            "marker": {
             "colorbar": {
              "outlinewidth": 0,
              "ticks": ""
             }
            },
            "type": "scatterternary"
           }
          ],
          "surface": [
           {
            "colorbar": {
             "outlinewidth": 0,
             "ticks": ""
            },
            "colorscale": [
             [
              0,
              "#0d0887"
             ],
             [
              0.1111111111111111,
              "#46039f"
             ],
             [
              0.2222222222222222,
              "#7201a8"
             ],
             [
              0.3333333333333333,
              "#9c179e"
             ],
             [
              0.4444444444444444,
              "#bd3786"
             ],
             [
              0.5555555555555556,
              "#d8576b"
             ],
             [
              0.6666666666666666,
              "#ed7953"
             ],
             [
              0.7777777777777778,
              "#fb9f3a"
             ],
             [
              0.8888888888888888,
              "#fdca26"
             ],
             [
              1,
              "#f0f921"
             ]
            ],
            "type": "surface"
           }
          ],
          "table": [
           {
            "cells": {
             "fill": {
              "color": "#EBF0F8"
             },
             "line": {
              "color": "white"
             }
            },
            "header": {
             "fill": {
              "color": "#C8D4E3"
             },
             "line": {
              "color": "white"
             }
            },
            "type": "table"
           }
          ]
         },
         "layout": {
          "annotationdefaults": {
           "arrowcolor": "#2a3f5f",
           "arrowhead": 0,
           "arrowwidth": 1
          },
          "autotypenumbers": "strict",
          "coloraxis": {
           "colorbar": {
            "outlinewidth": 0,
            "ticks": ""
           }
          },
          "colorscale": {
           "diverging": [
            [
             0,
             "#8e0152"
            ],
            [
             0.1,
             "#c51b7d"
            ],
            [
             0.2,
             "#de77ae"
            ],
            [
             0.3,
             "#f1b6da"
            ],
            [
             0.4,
             "#fde0ef"
            ],
            [
             0.5,
             "#f7f7f7"
            ],
            [
             0.6,
             "#e6f5d0"
            ],
            [
             0.7,
             "#b8e186"
            ],
            [
             0.8,
             "#7fbc41"
            ],
            [
             0.9,
             "#4d9221"
            ],
            [
             1,
             "#276419"
            ]
           ],
           "sequential": [
            [
             0,
             "#0d0887"
            ],
            [
             0.1111111111111111,
             "#46039f"
            ],
            [
             0.2222222222222222,
             "#7201a8"
            ],
            [
             0.3333333333333333,
             "#9c179e"
            ],
            [
             0.4444444444444444,
             "#bd3786"
            ],
            [
             0.5555555555555556,
             "#d8576b"
            ],
            [
             0.6666666666666666,
             "#ed7953"
            ],
            [
             0.7777777777777778,
             "#fb9f3a"
            ],
            [
             0.8888888888888888,
             "#fdca26"
            ],
            [
             1,
             "#f0f921"
            ]
           ],
           "sequentialminus": [
            [
             0,
             "#0d0887"
            ],
            [
             0.1111111111111111,
             "#46039f"
            ],
            [
             0.2222222222222222,
             "#7201a8"
            ],
            [
             0.3333333333333333,
             "#9c179e"
            ],
            [
             0.4444444444444444,
             "#bd3786"
            ],
            [
             0.5555555555555556,
             "#d8576b"
            ],
            [
             0.6666666666666666,
             "#ed7953"
            ],
            [
             0.7777777777777778,
             "#fb9f3a"
            ],
            [
             0.8888888888888888,
             "#fdca26"
            ],
            [
             1,
             "#f0f921"
            ]
           ]
          },
          "colorway": [
           "#636efa",
           "#EF553B",
           "#00cc96",
           "#ab63fa",
           "#FFA15A",
           "#19d3f3",
           "#FF6692",
           "#B6E880",
           "#FF97FF",
           "#FECB52"
          ],
          "font": {
           "color": "#2a3f5f"
          },
          "geo": {
           "bgcolor": "white",
           "lakecolor": "white",
           "landcolor": "white",
           "showlakes": true,
           "showland": true,
           "subunitcolor": "#C8D4E3"
          },
          "hoverlabel": {
           "align": "left"
          },
          "hovermode": "closest",
          "mapbox": {
           "style": "light"
          },
          "paper_bgcolor": "white",
          "plot_bgcolor": "white",
          "polar": {
           "angularaxis": {
            "gridcolor": "#EBF0F8",
            "linecolor": "#EBF0F8",
            "ticks": ""
           },
           "bgcolor": "white",
           "radialaxis": {
            "gridcolor": "#EBF0F8",
            "linecolor": "#EBF0F8",
            "ticks": ""
           }
          },
          "scene": {
           "xaxis": {
            "backgroundcolor": "white",
            "gridcolor": "#DFE8F3",
            "gridwidth": 2,
            "linecolor": "#EBF0F8",
            "showbackground": true,
            "ticks": "",
            "zerolinecolor": "#EBF0F8"
           },
           "yaxis": {
            "backgroundcolor": "white",
            "gridcolor": "#DFE8F3",
            "gridwidth": 2,
            "linecolor": "#EBF0F8",
            "showbackground": true,
            "ticks": "",
            "zerolinecolor": "#EBF0F8"
           },
           "zaxis": {
            "backgroundcolor": "white",
            "gridcolor": "#DFE8F3",
            "gridwidth": 2,
            "linecolor": "#EBF0F8",
            "showbackground": true,
            "ticks": "",
            "zerolinecolor": "#EBF0F8"
           }
          },
          "shapedefaults": {
           "line": {
            "color": "#2a3f5f"
           }
          },
          "ternary": {
           "aaxis": {
            "gridcolor": "#DFE8F3",
            "linecolor": "#A2B1C6",
            "ticks": ""
           },
           "baxis": {
            "gridcolor": "#DFE8F3",
            "linecolor": "#A2B1C6",
            "ticks": ""
           },
           "bgcolor": "white",
           "caxis": {
            "gridcolor": "#DFE8F3",
            "linecolor": "#A2B1C6",
            "ticks": ""
           }
          },
          "title": {
           "x": 0.05
          },
          "xaxis": {
           "automargin": true,
           "gridcolor": "#EBF0F8",
           "linecolor": "#EBF0F8",
           "ticks": "",
           "title": {
            "standoff": 15
           },
           "zerolinecolor": "#EBF0F8",
           "zerolinewidth": 2
          },
          "yaxis": {
           "automargin": true,
           "gridcolor": "#EBF0F8",
           "linecolor": "#EBF0F8",
           "ticks": "",
           "title": {
            "standoff": 15
           },
           "zerolinecolor": "#EBF0F8",
           "zerolinewidth": 2
          }
         }
        },
        "title": {
         "text": "2 year ahead inflation expectations by class status"
        },
        "xaxis": {
         "title": {
          "text": "Quarter"
         }
        },
        "yaxis": {
         "title": {
          "text": "Grouped Median (Interpolated)"
         }
        }
       }
      }
     },
     "metadata": {},
     "output_type": "display_data"
    }
   ],
   "source": [
    "plot_question_medians(median_dfs[1], class_mapping, '2 year ahead inflation expectations by class status')"
   ]
  },
  {
   "cell_type": "code",
   "execution_count": 20,
   "metadata": {},
   "outputs": [
    {
     "data": {
      "application/vnd.plotly.v1+json": {
       "config": {
        "plotlyServerURL": "https://plot.ly"
       },
       "data": [
        {
         "mode": "lines+markers",
         "name": "C1",
         "type": "scatter",
         "x": [
          "2009-01-01T00:00:00.000000",
          "2009-04-01T00:00:00.000000",
          "2009-07-01T00:00:00.000000",
          "2009-10-01T00:00:00.000000",
          "2010-01-01T00:00:00.000000",
          "2010-04-01T00:00:00.000000",
          "2010-07-01T00:00:00.000000",
          "2010-10-01T00:00:00.000000",
          "2011-01-01T00:00:00.000000",
          "2011-04-01T00:00:00.000000",
          "2011-07-01T00:00:00.000000",
          "2011-10-01T00:00:00.000000",
          "2012-01-01T00:00:00.000000",
          "2012-04-01T00:00:00.000000",
          "2012-07-01T00:00:00.000000",
          "2012-10-01T00:00:00.000000",
          "2013-01-01T00:00:00.000000",
          "2013-04-01T00:00:00.000000",
          "2013-07-01T00:00:00.000000",
          "2013-10-01T00:00:00.000000",
          "2014-01-01T00:00:00.000000",
          "2014-04-01T00:00:00.000000",
          "2014-07-01T00:00:00.000000",
          "2014-10-01T00:00:00.000000",
          "2015-01-01T00:00:00.000000",
          "2015-04-01T00:00:00.000000",
          "2015-07-01T00:00:00.000000",
          "2015-10-01T00:00:00.000000",
          "2016-01-01T00:00:00.000000",
          "2016-04-01T00:00:00.000000",
          "2016-07-01T00:00:00.000000",
          "2016-10-01T00:00:00.000000",
          "2017-01-01T00:00:00.000000",
          "2017-04-01T00:00:00.000000",
          "2017-07-01T00:00:00.000000",
          "2017-10-01T00:00:00.000000",
          "2018-01-01T00:00:00.000000",
          "2018-04-01T00:00:00.000000",
          "2018-07-01T00:00:00.000000",
          "2018-10-01T00:00:00.000000",
          "2019-01-01T00:00:00.000000",
          "2019-04-01T00:00:00.000000",
          "2019-07-01T00:00:00.000000",
          "2019-10-01T00:00:00.000000",
          "2020-01-01T00:00:00.000000",
          "2020-04-01T00:00:00.000000",
          "2020-07-01T00:00:00.000000",
          "2020-10-01T00:00:00.000000",
          "2021-01-01T00:00:00.000000",
          "2021-04-01T00:00:00.000000",
          "2021-07-01T00:00:00.000000",
          "2021-10-01T00:00:00.000000",
          "2022-01-01T00:00:00.000000",
          "2022-04-01T00:00:00.000000",
          "2022-07-01T00:00:00.000000",
          "2022-10-01T00:00:00.000000",
          "2023-01-01T00:00:00.000000",
          "2023-04-01T00:00:00.000000",
          "2023-07-01T00:00:00.000000",
          "2023-10-01T00:00:00.000000",
          "2024-01-01T00:00:00.000000",
          "2024-04-01T00:00:00.000000",
          "2024-07-01T00:00:00.000000",
          "2024-10-01T00:00:00.000000",
          "2025-01-01T00:00:00.000000"
         ],
         "y": {
          "bdata": "xQkpeZYRBUAzMzMzMzMHQAAAAAAAwAVA7RZ+NSbSB0BddNFFF10IQBzHcRzHcQhArKPN+xSXCEB0zjnnnHMKQOd9ikuGYAtAJbzR1Pm1B0B9aKwPjfUJQPqkT/qkTwpAqIM6qIM6CEDXo3A9CtcJQBy5kRu5kQdAAAAAAADAC0Dbtm3btq0KQNSb3vSmNw1AYXMg0QqbC0AJ7iO4j+AOQFL5MO7XJQlA8fDw8PDwBUCSkZGRkZEJQBW8nIKXUwhA/VnOn+X8BUChDuqgDuoGQC0tLS0tLQdArSlrypqyBkAzMzMzMzMHQFy+5Vu+5QlA3dMIyz2NCEAREREREREJQFOpVCqVSglAt23btm3bCkBu27Zt2zYLQHqf4pIhWAtAU0/Gb5d6CkAK16NwPQoNQJ7YiZ3YiQ5A3dzc3NzcCEC66KKLLroKQPBs1Hc26gtArggaTuq+CEAUFBQUFBQMQOh+7ud+7gtAmGsH5tqBA0AYS36x5BcHQAAAAAAAAAhAntiJndgJBkBcj8L1KFwFQNOw3SxPIgdAYI2J9EDlCEDbiHXpMX8LQJVSSimllApASZIkSZIkCUAAAAAAAMAMQNzsF2JFaQhA8pQgTwnyCEA5juM4jmMHQKuqqqqqaghAk3JAZLhXCUAsvuIrvuIHQAnLPY2w3AdABA0ndV8eC0Bo2hp/N48MQA==",
          "dtype": "f8"
         }
        },
        {
         "mode": "lines+markers",
         "name": "C2",
         "type": "scatter",
         "x": [
          "2009-01-01T00:00:00.000000",
          "2009-04-01T00:00:00.000000",
          "2009-07-01T00:00:00.000000",
          "2009-10-01T00:00:00.000000",
          "2010-01-01T00:00:00.000000",
          "2010-04-01T00:00:00.000000",
          "2010-07-01T00:00:00.000000",
          "2010-10-01T00:00:00.000000",
          "2011-01-01T00:00:00.000000",
          "2011-04-01T00:00:00.000000",
          "2011-07-01T00:00:00.000000",
          "2011-10-01T00:00:00.000000",
          "2012-01-01T00:00:00.000000",
          "2012-04-01T00:00:00.000000",
          "2012-07-01T00:00:00.000000",
          "2012-10-01T00:00:00.000000",
          "2013-01-01T00:00:00.000000",
          "2013-04-01T00:00:00.000000",
          "2013-07-01T00:00:00.000000",
          "2013-10-01T00:00:00.000000",
          "2014-01-01T00:00:00.000000",
          "2014-04-01T00:00:00.000000",
          "2014-07-01T00:00:00.000000",
          "2014-10-01T00:00:00.000000",
          "2015-01-01T00:00:00.000000",
          "2015-04-01T00:00:00.000000",
          "2015-07-01T00:00:00.000000",
          "2015-10-01T00:00:00.000000",
          "2016-01-01T00:00:00.000000",
          "2016-04-01T00:00:00.000000",
          "2016-07-01T00:00:00.000000",
          "2016-10-01T00:00:00.000000",
          "2017-01-01T00:00:00.000000",
          "2017-04-01T00:00:00.000000",
          "2017-07-01T00:00:00.000000",
          "2017-10-01T00:00:00.000000",
          "2018-01-01T00:00:00.000000",
          "2018-04-01T00:00:00.000000",
          "2018-07-01T00:00:00.000000",
          "2018-10-01T00:00:00.000000",
          "2019-01-01T00:00:00.000000",
          "2019-04-01T00:00:00.000000",
          "2019-07-01T00:00:00.000000",
          "2019-10-01T00:00:00.000000",
          "2020-01-01T00:00:00.000000",
          "2020-04-01T00:00:00.000000",
          "2020-07-01T00:00:00.000000",
          "2020-10-01T00:00:00.000000",
          "2021-01-01T00:00:00.000000",
          "2021-04-01T00:00:00.000000",
          "2021-07-01T00:00:00.000000",
          "2021-10-01T00:00:00.000000",
          "2022-01-01T00:00:00.000000",
          "2022-04-01T00:00:00.000000",
          "2022-07-01T00:00:00.000000",
          "2022-10-01T00:00:00.000000",
          "2023-01-01T00:00:00.000000",
          "2023-04-01T00:00:00.000000",
          "2023-07-01T00:00:00.000000",
          "2023-10-01T00:00:00.000000",
          "2024-01-01T00:00:00.000000",
          "2024-04-01T00:00:00.000000",
          "2024-07-01T00:00:00.000000",
          "2024-10-01T00:00:00.000000",
          "2025-01-01T00:00:00.000000"
         ],
         "y": {
          "bdata": "FC+QSfECBUAAAAAAAMAHQAAAAAAAAAVAAAAAAAAADEDB3jE1sHcIQJdv+ZZv+QpANEiDNEiDDECMLrrooosKQNhQXkN5DQpAbMEWbMEWEECEKfJZN5gOQO1K1K5E7Q5AxU7sxE7sCkDP8zzP8zwNQCIiIiIiIgpAPDw8PDw8DkALhJF2rEAQQJdv+ZZv+Q5AtJjOYjqLDUAkSZIkSZIMQA3SIA3SIAtAFDuxEzuxBkD0PM/zPM8LQBEREREREQlAnOsYxbmOBUA6pCYYb2UHQEiDNEiDNARAAAAAAAAABkD35bEVQcMHQGZmZmZmZg1ASE0w3so+B0CF9hLaS2gHQJeWlpaWlgpAjuM4juM4CEAAAAAAAAALQHVQB3VQBwlAeeSRRx55DEAmaleidiUOQIYsZCELWQ5AVVVVVVUVEEArBkp4o6kLQBW8nIKXUwxA62jzPsUlB0CmyGfdYIoMQMuTyDRsNwtAtalNbWpTA0Au2IIt2IIFQC+n4OUUvARAcosnt3hyB0AmtJfQXkIFQOmTPumTPglAJUmSJEmSCEC3bdu2bdsIQI7jOI7jOA5AXXTRRRddCEAcx3Ecx3EHQBgYGBgYGAhAR31no76zCUBVVVVVVVUDQCivobyG8gpAWchCFrKQCECe2Imd2IkJQGZmZmZmZghATJHPusEUDUA9Gb9d6skMQA==",
          "dtype": "f8"
         }
        },
        {
         "mode": "lines+markers",
         "name": "AB",
         "type": "scatter",
         "x": [
          "2009-01-01T00:00:00.000000",
          "2009-04-01T00:00:00.000000",
          "2009-07-01T00:00:00.000000",
          "2009-10-01T00:00:00.000000",
          "2010-01-01T00:00:00.000000",
          "2010-04-01T00:00:00.000000",
          "2010-07-01T00:00:00.000000",
          "2010-10-01T00:00:00.000000",
          "2011-01-01T00:00:00.000000",
          "2011-04-01T00:00:00.000000",
          "2011-07-01T00:00:00.000000",
          "2011-10-01T00:00:00.000000",
          "2012-01-01T00:00:00.000000",
          "2012-04-01T00:00:00.000000",
          "2012-07-01T00:00:00.000000",
          "2012-10-01T00:00:00.000000",
          "2013-01-01T00:00:00.000000",
          "2013-04-01T00:00:00.000000",
          "2013-07-01T00:00:00.000000",
          "2013-10-01T00:00:00.000000",
          "2014-01-01T00:00:00.000000",
          "2014-04-01T00:00:00.000000",
          "2014-07-01T00:00:00.000000",
          "2014-10-01T00:00:00.000000",
          "2015-01-01T00:00:00.000000",
          "2015-04-01T00:00:00.000000",
          "2015-07-01T00:00:00.000000",
          "2015-10-01T00:00:00.000000",
          "2016-01-01T00:00:00.000000",
          "2016-04-01T00:00:00.000000",
          "2016-07-01T00:00:00.000000",
          "2016-10-01T00:00:00.000000",
          "2017-01-01T00:00:00.000000",
          "2017-04-01T00:00:00.000000",
          "2017-07-01T00:00:00.000000",
          "2017-10-01T00:00:00.000000",
          "2018-01-01T00:00:00.000000",
          "2018-04-01T00:00:00.000000",
          "2018-07-01T00:00:00.000000",
          "2018-10-01T00:00:00.000000",
          "2019-01-01T00:00:00.000000",
          "2019-04-01T00:00:00.000000",
          "2019-07-01T00:00:00.000000",
          "2019-10-01T00:00:00.000000",
          "2020-01-01T00:00:00.000000",
          "2020-04-01T00:00:00.000000",
          "2020-07-01T00:00:00.000000",
          "2020-10-01T00:00:00.000000",
          "2021-01-01T00:00:00.000000",
          "2021-04-01T00:00:00.000000",
          "2021-07-01T00:00:00.000000",
          "2021-10-01T00:00:00.000000",
          "2022-01-01T00:00:00.000000",
          "2022-04-01T00:00:00.000000",
          "2022-07-01T00:00:00.000000",
          "2022-10-01T00:00:00.000000",
          "2023-01-01T00:00:00.000000",
          "2023-04-01T00:00:00.000000",
          "2023-07-01T00:00:00.000000",
          "2023-10-01T00:00:00.000000",
          "2024-01-01T00:00:00.000000",
          "2024-04-01T00:00:00.000000",
          "2024-07-01T00:00:00.000000",
          "2024-10-01T00:00:00.000000",
          "2025-01-01T00:00:00.000000"
         ],
         "y": {
          "bdata": "f0jg7YcEBkB9y7d8y7cGQKc3velNbwhAcwpeTsHLCUCIxvrQWB8IQAdT5LNuMAdAlqhdidqVBkDpoosuuugGQJIkSZIkSQpAAAAAAAAABkBlk0022WQJQNuVqF2J2glAIiIiIiIiB0BZU9aUNWUJQMdEeqBydgdAq6qqqqqqCkBiJ3ZiJ3YIQPJZN5ginwlA8fDw8PDwCECrqqqqqqoKQFVVVVVVVQdAuuiiiy66BkDHcRzHcRwJQEYXXXTRRQVAETSc1H15BkDxFV/xFV8FQJqZmZmZmQdAOY7jOI7jBkDUQR3UQR0HQO/u7u7u7gZA5QpicgUxBUD6zkZ9Z6MGQIwnt3hyiwdAyRCso837CEDqoA7qoA4GQFsRNJzUfQlAnN70pje9CEB+DqkJxlsJQAz6gr6gLwxAGZyPwfkYCEAcx3Ecx/EIQKbIZ91gigxAbtu2bdu2B0C0l9BeQnsLQN7OkJi3MwhAl+Db/BVmBUAAAAAAAAAHQCy+4iu+4gdAfxUnpORZBkBg1vtlvV8GQKuqqqqqqgZAS9SuRO1KCEBa+QlxVn4KQDmO4ziO4wtAkqIh/rh1CUByHMdxHMcKQAI+erbyLgdAfhHVOvsiBkBKKaWUUkoHQDr65uibowdA9DzP8zzPB0Cojr21YZoHQGqC8Vb2OQhAXOLU77klCkA6lRSQ8JMLQA==",
          "dtype": "f8"
         }
        },
        {
         "mode": "lines+markers",
         "name": "DE",
         "type": "scatter",
         "x": [
          "2009-01-01T00:00:00.000000",
          "2009-04-01T00:00:00.000000",
          "2009-07-01T00:00:00.000000",
          "2009-10-01T00:00:00.000000",
          "2010-01-01T00:00:00.000000",
          "2010-04-01T00:00:00.000000",
          "2010-07-01T00:00:00.000000",
          "2010-10-01T00:00:00.000000",
          "2011-01-01T00:00:00.000000",
          "2011-04-01T00:00:00.000000",
          "2011-07-01T00:00:00.000000",
          "2011-10-01T00:00:00.000000",
          "2012-01-01T00:00:00.000000",
          "2012-04-01T00:00:00.000000",
          "2012-07-01T00:00:00.000000",
          "2012-10-01T00:00:00.000000",
          "2013-01-01T00:00:00.000000",
          "2013-04-01T00:00:00.000000",
          "2013-07-01T00:00:00.000000",
          "2013-10-01T00:00:00.000000",
          "2014-01-01T00:00:00.000000",
          "2014-04-01T00:00:00.000000",
          "2014-07-01T00:00:00.000000",
          "2014-10-01T00:00:00.000000",
          "2015-01-01T00:00:00.000000",
          "2015-04-01T00:00:00.000000",
          "2015-07-01T00:00:00.000000",
          "2015-10-01T00:00:00.000000",
          "2016-01-01T00:00:00.000000",
          "2016-04-01T00:00:00.000000",
          "2016-07-01T00:00:00.000000",
          "2016-10-01T00:00:00.000000",
          "2017-01-01T00:00:00.000000",
          "2017-04-01T00:00:00.000000",
          "2017-07-01T00:00:00.000000",
          "2017-10-01T00:00:00.000000",
          "2018-01-01T00:00:00.000000",
          "2018-04-01T00:00:00.000000",
          "2018-07-01T00:00:00.000000",
          "2018-10-01T00:00:00.000000",
          "2019-01-01T00:00:00.000000",
          "2019-04-01T00:00:00.000000",
          "2019-07-01T00:00:00.000000",
          "2019-10-01T00:00:00.000000",
          "2020-01-01T00:00:00.000000",
          "2020-04-01T00:00:00.000000",
          "2020-07-01T00:00:00.000000",
          "2020-10-01T00:00:00.000000",
          "2021-01-01T00:00:00.000000",
          "2021-04-01T00:00:00.000000",
          "2021-07-01T00:00:00.000000",
          "2021-10-01T00:00:00.000000",
          "2022-01-01T00:00:00.000000",
          "2022-04-01T00:00:00.000000",
          "2022-07-01T00:00:00.000000",
          "2022-10-01T00:00:00.000000",
          "2023-01-01T00:00:00.000000",
          "2023-04-01T00:00:00.000000",
          "2023-07-01T00:00:00.000000",
          "2023-10-01T00:00:00.000000",
          "2024-01-01T00:00:00.000000",
          "2024-04-01T00:00:00.000000",
          "2024-07-01T00:00:00.000000",
          "2024-10-01T00:00:00.000000",
          "2025-01-01T00:00:00.000000"
         ],
         "y": {
          "bdata": "ZoMmXzZoBkCIh4eHh4cHQAAAAAAAAAhAP378+PHjB0AXXXTRRRcJQF100UUXXQpApshn3WCKDECsfcPaN6wNQJGFLGQhCxBATZo0adKkDUA6i+ksprMQQAAAAAAAKBBAOL3pTW96D0ClVmqlVmoRQBLkKUGeEgxAb+FXYyI9EEBNovdMovcQQJ1zzjnnnBBATVlT1pQ1EED1pje96U0PQD744IMPPg1AchzHcRzHCECsD431obEKQEr8jBI/owhAdljCUf19BkAb6LSBThsIQGIndmIndgdAJycnJycnB0BYcUJKnmUIQAAAAAAAMA9AwnJPIyz3CEAXXXTRRRcLQL5Wzw6BGwtAwgcffPDBC0AAAAAAAAAOQGIndmIndg5A3IChmo65DEBmWZZlWZYNQGIndmIndg1AIYQQQgghDkDXhmnugr8OQKwxkR6onA1AAAAAAAAADEBBVDqyZyAQQPIaymsorwtAgREYgREYBUAeHh4eHh4GQHh4eHh4eAhAETSc1H15CEC0mM5iOosFQDuxEzuxEwlAYu0b1r5hCUBe6sn47VILQMprKK+hvApAOY7jOI7jB0AAAAAAAAAMQGZmZmZmZgpAbzBFPusGB0Ce53me53kKQCh90id90gtAuuiiiy66CkDsxE7sxE4MQJaWlpaWlg5AuI/gPoL7DECc3vSmN70NQA==",
          "dtype": "f8"
         }
        }
       ],
       "layout": {
        "hovermode": "x unified",
        "legend": {
         "title": {
          "text": "Group"
         }
        },
        "template": {
         "data": {
          "bar": [
           {
            "error_x": {
             "color": "#2a3f5f"
            },
            "error_y": {
             "color": "#2a3f5f"
            },
            "marker": {
             "line": {
              "color": "white",
              "width": 0.5
             },
             "pattern": {
              "fillmode": "overlay",
              "size": 10,
              "solidity": 0.2
             }
            },
            "type": "bar"
           }
          ],
          "barpolar": [
           {
            "marker": {
             "line": {
              "color": "white",
              "width": 0.5
             },
             "pattern": {
              "fillmode": "overlay",
              "size": 10,
              "solidity": 0.2
             }
            },
            "type": "barpolar"
           }
          ],
          "carpet": [
           {
            "aaxis": {
             "endlinecolor": "#2a3f5f",
             "gridcolor": "#C8D4E3",
             "linecolor": "#C8D4E3",
             "minorgridcolor": "#C8D4E3",
             "startlinecolor": "#2a3f5f"
            },
            "baxis": {
             "endlinecolor": "#2a3f5f",
             "gridcolor": "#C8D4E3",
             "linecolor": "#C8D4E3",
             "minorgridcolor": "#C8D4E3",
             "startlinecolor": "#2a3f5f"
            },
            "type": "carpet"
           }
          ],
          "choropleth": [
           {
            "colorbar": {
             "outlinewidth": 0,
             "ticks": ""
            },
            "type": "choropleth"
           }
          ],
          "contour": [
           {
            "colorbar": {
             "outlinewidth": 0,
             "ticks": ""
            },
            "colorscale": [
             [
              0,
              "#0d0887"
             ],
             [
              0.1111111111111111,
              "#46039f"
             ],
             [
              0.2222222222222222,
              "#7201a8"
             ],
             [
              0.3333333333333333,
              "#9c179e"
             ],
             [
              0.4444444444444444,
              "#bd3786"
             ],
             [
              0.5555555555555556,
              "#d8576b"
             ],
             [
              0.6666666666666666,
              "#ed7953"
             ],
             [
              0.7777777777777778,
              "#fb9f3a"
             ],
             [
              0.8888888888888888,
              "#fdca26"
             ],
             [
              1,
              "#f0f921"
             ]
            ],
            "type": "contour"
           }
          ],
          "contourcarpet": [
           {
            "colorbar": {
             "outlinewidth": 0,
             "ticks": ""
            },
            "type": "contourcarpet"
           }
          ],
          "heatmap": [
           {
            "colorbar": {
             "outlinewidth": 0,
             "ticks": ""
            },
            "colorscale": [
             [
              0,
              "#0d0887"
             ],
             [
              0.1111111111111111,
              "#46039f"
             ],
             [
              0.2222222222222222,
              "#7201a8"
             ],
             [
              0.3333333333333333,
              "#9c179e"
             ],
             [
              0.4444444444444444,
              "#bd3786"
             ],
             [
              0.5555555555555556,
              "#d8576b"
             ],
             [
              0.6666666666666666,
              "#ed7953"
             ],
             [
              0.7777777777777778,
              "#fb9f3a"
             ],
             [
              0.8888888888888888,
              "#fdca26"
             ],
             [
              1,
              "#f0f921"
             ]
            ],
            "type": "heatmap"
           }
          ],
          "histogram": [
           {
            "marker": {
             "pattern": {
              "fillmode": "overlay",
              "size": 10,
              "solidity": 0.2
             }
            },
            "type": "histogram"
           }
          ],
          "histogram2d": [
           {
            "colorbar": {
             "outlinewidth": 0,
             "ticks": ""
            },
            "colorscale": [
             [
              0,
              "#0d0887"
             ],
             [
              0.1111111111111111,
              "#46039f"
             ],
             [
              0.2222222222222222,
              "#7201a8"
             ],
             [
              0.3333333333333333,
              "#9c179e"
             ],
             [
              0.4444444444444444,
              "#bd3786"
             ],
             [
              0.5555555555555556,
              "#d8576b"
             ],
             [
              0.6666666666666666,
              "#ed7953"
             ],
             [
              0.7777777777777778,
              "#fb9f3a"
             ],
             [
              0.8888888888888888,
              "#fdca26"
             ],
             [
              1,
              "#f0f921"
             ]
            ],
            "type": "histogram2d"
           }
          ],
          "histogram2dcontour": [
           {
            "colorbar": {
             "outlinewidth": 0,
             "ticks": ""
            },
            "colorscale": [
             [
              0,
              "#0d0887"
             ],
             [
              0.1111111111111111,
              "#46039f"
             ],
             [
              0.2222222222222222,
              "#7201a8"
             ],
             [
              0.3333333333333333,
              "#9c179e"
             ],
             [
              0.4444444444444444,
              "#bd3786"
             ],
             [
              0.5555555555555556,
              "#d8576b"
             ],
             [
              0.6666666666666666,
              "#ed7953"
             ],
             [
              0.7777777777777778,
              "#fb9f3a"
             ],
             [
              0.8888888888888888,
              "#fdca26"
             ],
             [
              1,
              "#f0f921"
             ]
            ],
            "type": "histogram2dcontour"
           }
          ],
          "mesh3d": [
           {
            "colorbar": {
             "outlinewidth": 0,
             "ticks": ""
            },
            "type": "mesh3d"
           }
          ],
          "parcoords": [
           {
            "line": {
             "colorbar": {
              "outlinewidth": 0,
              "ticks": ""
             }
            },
            "type": "parcoords"
           }
          ],
          "pie": [
           {
            "automargin": true,
            "type": "pie"
           }
          ],
          "scatter": [
           {
            "fillpattern": {
             "fillmode": "overlay",
             "size": 10,
             "solidity": 0.2
            },
            "type": "scatter"
           }
          ],
          "scatter3d": [
           {
            "line": {
             "colorbar": {
              "outlinewidth": 0,
              "ticks": ""
             }
            },
            "marker": {
             "colorbar": {
              "outlinewidth": 0,
              "ticks": ""
             }
            },
            "type": "scatter3d"
           }
          ],
          "scattercarpet": [
           {
            "marker": {
             "colorbar": {
              "outlinewidth": 0,
              "ticks": ""
             }
            },
            "type": "scattercarpet"
           }
          ],
          "scattergeo": [
           {
            "marker": {
             "colorbar": {
              "outlinewidth": 0,
              "ticks": ""
             }
            },
            "type": "scattergeo"
           }
          ],
          "scattergl": [
           {
            "marker": {
             "colorbar": {
              "outlinewidth": 0,
              "ticks": ""
             }
            },
            "type": "scattergl"
           }
          ],
          "scattermap": [
           {
            "marker": {
             "colorbar": {
              "outlinewidth": 0,
              "ticks": ""
             }
            },
            "type": "scattermap"
           }
          ],
          "scattermapbox": [
           {
            "marker": {
             "colorbar": {
              "outlinewidth": 0,
              "ticks": ""
             }
            },
            "type": "scattermapbox"
           }
          ],
          "scatterpolar": [
           {
            "marker": {
             "colorbar": {
              "outlinewidth": 0,
              "ticks": ""
             }
            },
            "type": "scatterpolar"
           }
          ],
          "scatterpolargl": [
           {
            "marker": {
             "colorbar": {
              "outlinewidth": 0,
              "ticks": ""
             }
            },
            "type": "scatterpolargl"
           }
          ],
          "scatterternary": [
           {
            "marker": {
             "colorbar": {
              "outlinewidth": 0,
              "ticks": ""
             }
            },
            "type": "scatterternary"
           }
          ],
          "surface": [
           {
            "colorbar": {
             "outlinewidth": 0,
             "ticks": ""
            },
            "colorscale": [
             [
              0,
              "#0d0887"
             ],
             [
              0.1111111111111111,
              "#46039f"
             ],
             [
              0.2222222222222222,
              "#7201a8"
             ],
             [
              0.3333333333333333,
              "#9c179e"
             ],
             [
              0.4444444444444444,
              "#bd3786"
             ],
             [
              0.5555555555555556,
              "#d8576b"
             ],
             [
              0.6666666666666666,
              "#ed7953"
             ],
             [
              0.7777777777777778,
              "#fb9f3a"
             ],
             [
              0.8888888888888888,
              "#fdca26"
             ],
             [
              1,
              "#f0f921"
             ]
            ],
            "type": "surface"
           }
          ],
          "table": [
           {
            "cells": {
             "fill": {
              "color": "#EBF0F8"
             },
             "line": {
              "color": "white"
             }
            },
            "header": {
             "fill": {
              "color": "#C8D4E3"
             },
             "line": {
              "color": "white"
             }
            },
            "type": "table"
           }
          ]
         },
         "layout": {
          "annotationdefaults": {
           "arrowcolor": "#2a3f5f",
           "arrowhead": 0,
           "arrowwidth": 1
          },
          "autotypenumbers": "strict",
          "coloraxis": {
           "colorbar": {
            "outlinewidth": 0,
            "ticks": ""
           }
          },
          "colorscale": {
           "diverging": [
            [
             0,
             "#8e0152"
            ],
            [
             0.1,
             "#c51b7d"
            ],
            [
             0.2,
             "#de77ae"
            ],
            [
             0.3,
             "#f1b6da"
            ],
            [
             0.4,
             "#fde0ef"
            ],
            [
             0.5,
             "#f7f7f7"
            ],
            [
             0.6,
             "#e6f5d0"
            ],
            [
             0.7,
             "#b8e186"
            ],
            [
             0.8,
             "#7fbc41"
            ],
            [
             0.9,
             "#4d9221"
            ],
            [
             1,
             "#276419"
            ]
           ],
           "sequential": [
            [
             0,
             "#0d0887"
            ],
            [
             0.1111111111111111,
             "#46039f"
            ],
            [
             0.2222222222222222,
             "#7201a8"
            ],
            [
             0.3333333333333333,
             "#9c179e"
            ],
            [
             0.4444444444444444,
             "#bd3786"
            ],
            [
             0.5555555555555556,
             "#d8576b"
            ],
            [
             0.6666666666666666,
             "#ed7953"
            ],
            [
             0.7777777777777778,
             "#fb9f3a"
            ],
            [
             0.8888888888888888,
             "#fdca26"
            ],
            [
             1,
             "#f0f921"
            ]
           ],
           "sequentialminus": [
            [
             0,
             "#0d0887"
            ],
            [
             0.1111111111111111,
             "#46039f"
            ],
            [
             0.2222222222222222,
             "#7201a8"
            ],
            [
             0.3333333333333333,
             "#9c179e"
            ],
            [
             0.4444444444444444,
             "#bd3786"
            ],
            [
             0.5555555555555556,
             "#d8576b"
            ],
            [
             0.6666666666666666,
             "#ed7953"
            ],
            [
             0.7777777777777778,
             "#fb9f3a"
            ],
            [
             0.8888888888888888,
             "#fdca26"
            ],
            [
             1,
             "#f0f921"
            ]
           ]
          },
          "colorway": [
           "#636efa",
           "#EF553B",
           "#00cc96",
           "#ab63fa",
           "#FFA15A",
           "#19d3f3",
           "#FF6692",
           "#B6E880",
           "#FF97FF",
           "#FECB52"
          ],
          "font": {
           "color": "#2a3f5f"
          },
          "geo": {
           "bgcolor": "white",
           "lakecolor": "white",
           "landcolor": "white",
           "showlakes": true,
           "showland": true,
           "subunitcolor": "#C8D4E3"
          },
          "hoverlabel": {
           "align": "left"
          },
          "hovermode": "closest",
          "mapbox": {
           "style": "light"
          },
          "paper_bgcolor": "white",
          "plot_bgcolor": "white",
          "polar": {
           "angularaxis": {
            "gridcolor": "#EBF0F8",
            "linecolor": "#EBF0F8",
            "ticks": ""
           },
           "bgcolor": "white",
           "radialaxis": {
            "gridcolor": "#EBF0F8",
            "linecolor": "#EBF0F8",
            "ticks": ""
           }
          },
          "scene": {
           "xaxis": {
            "backgroundcolor": "white",
            "gridcolor": "#DFE8F3",
            "gridwidth": 2,
            "linecolor": "#EBF0F8",
            "showbackground": true,
            "ticks": "",
            "zerolinecolor": "#EBF0F8"
           },
           "yaxis": {
            "backgroundcolor": "white",
            "gridcolor": "#DFE8F3",
            "gridwidth": 2,
            "linecolor": "#EBF0F8",
            "showbackground": true,
            "ticks": "",
            "zerolinecolor": "#EBF0F8"
           },
           "zaxis": {
            "backgroundcolor": "white",
            "gridcolor": "#DFE8F3",
            "gridwidth": 2,
            "linecolor": "#EBF0F8",
            "showbackground": true,
            "ticks": "",
            "zerolinecolor": "#EBF0F8"
           }
          },
          "shapedefaults": {
           "line": {
            "color": "#2a3f5f"
           }
          },
          "ternary": {
           "aaxis": {
            "gridcolor": "#DFE8F3",
            "linecolor": "#A2B1C6",
            "ticks": ""
           },
           "baxis": {
            "gridcolor": "#DFE8F3",
            "linecolor": "#A2B1C6",
            "ticks": ""
           },
           "bgcolor": "white",
           "caxis": {
            "gridcolor": "#DFE8F3",
            "linecolor": "#A2B1C6",
            "ticks": ""
           }
          },
          "title": {
           "x": 0.05
          },
          "xaxis": {
           "automargin": true,
           "gridcolor": "#EBF0F8",
           "linecolor": "#EBF0F8",
           "ticks": "",
           "title": {
            "standoff": 15
           },
           "zerolinecolor": "#EBF0F8",
           "zerolinewidth": 2
          },
          "yaxis": {
           "automargin": true,
           "gridcolor": "#EBF0F8",
           "linecolor": "#EBF0F8",
           "ticks": "",
           "title": {
            "standoff": 15
           },
           "zerolinecolor": "#EBF0F8",
           "zerolinewidth": 2
          }
         }
        },
        "title": {
         "text": "5 year ahead inflation expectations by class status"
        },
        "xaxis": {
         "title": {
          "text": "Quarter"
         }
        },
        "yaxis": {
         "title": {
          "text": "Grouped Median (Interpolated)"
         }
        }
       }
      }
     },
     "metadata": {},
     "output_type": "display_data"
    }
   ],
   "source": [
    "plot_question_medians(median_dfs[2], class_mapping, '5 year ahead inflation expectations by class status')"
   ]
  },
  {
   "cell_type": "markdown",
   "metadata": {},
   "source": [
    "## Housing / Tenure"
   ]
  },
  {
   "cell_type": "code",
   "execution_count": 21,
   "metadata": {},
   "outputs": [
    {
     "name": "stderr",
     "output_type": "stream",
     "text": [
      "Could not determine dtype for column 172, falling back to string\n",
      "Could not determine dtype for column 174, falling back to string\n",
      "Could not determine dtype for column 176, falling back to string\n"
     ]
    }
   ],
   "source": [
    "ias_raw = pl.read_excel(\n",
    "    '/Users/lukasalemu/Downloads/Inflation Attitudes Survey Feb 2025.xlsx', \n",
    "    sheet_name='Dataset', \n",
    "    columns=['yyyyqq', 'tenure', 'q2a_agg1', 'q2b_agg1', 'q2c_agg1']\n",
    ")\n",
    "ias_raw.head()\n",
    "\n",
    "df_clean = clean_ias(ias_raw, 'tenure')\n",
    "median_dfs = comp_grouped_medians(df_clean, q2_agg_ias_class_bounds, disagg_col=\"tenure\")\n"
   ]
  },
  {
   "cell_type": "code",
   "execution_count": 22,
   "metadata": {},
   "outputs": [
    {
     "data": {
      "application/vnd.plotly.v1+json": {
       "config": {
        "plotlyServerURL": "https://plot.ly"
       },
       "data": [
        {
         "mode": "lines+markers",
         "name": "Owned outright",
         "type": "scatter",
         "x": [
          "2009-01-01T00:00:00.000000",
          "2009-04-01T00:00:00.000000",
          "2009-07-01T00:00:00.000000",
          "2009-10-01T00:00:00.000000",
          "2010-01-01T00:00:00.000000",
          "2010-04-01T00:00:00.000000",
          "2010-07-01T00:00:00.000000",
          "2010-10-01T00:00:00.000000",
          "2011-01-01T00:00:00.000000",
          "2011-04-01T00:00:00.000000",
          "2011-07-01T00:00:00.000000",
          "2011-10-01T00:00:00.000000",
          "2012-01-01T00:00:00.000000",
          "2012-04-01T00:00:00.000000",
          "2012-07-01T00:00:00.000000",
          "2012-10-01T00:00:00.000000",
          "2013-01-01T00:00:00.000000",
          "2013-04-01T00:00:00.000000",
          "2013-07-01T00:00:00.000000",
          "2013-10-01T00:00:00.000000",
          "2014-01-01T00:00:00.000000",
          "2014-04-01T00:00:00.000000",
          "2014-07-01T00:00:00.000000",
          "2014-10-01T00:00:00.000000",
          "2015-01-01T00:00:00.000000",
          "2015-04-01T00:00:00.000000",
          "2015-07-01T00:00:00.000000",
          "2015-10-01T00:00:00.000000",
          "2016-01-01T00:00:00.000000",
          "2016-04-01T00:00:00.000000",
          "2016-07-01T00:00:00.000000",
          "2016-10-01T00:00:00.000000",
          "2017-01-01T00:00:00.000000",
          "2017-04-01T00:00:00.000000",
          "2017-07-01T00:00:00.000000",
          "2017-10-01T00:00:00.000000",
          "2018-01-01T00:00:00.000000",
          "2018-04-01T00:00:00.000000",
          "2018-07-01T00:00:00.000000",
          "2018-10-01T00:00:00.000000",
          "2019-01-01T00:00:00.000000",
          "2019-04-01T00:00:00.000000",
          "2019-07-01T00:00:00.000000",
          "2019-10-01T00:00:00.000000",
          "2020-01-01T00:00:00.000000",
          "2020-04-01T00:00:00.000000",
          "2020-07-01T00:00:00.000000",
          "2020-10-01T00:00:00.000000",
          "2021-01-01T00:00:00.000000",
          "2021-04-01T00:00:00.000000",
          "2021-07-01T00:00:00.000000",
          "2021-10-01T00:00:00.000000",
          "2022-01-01T00:00:00.000000",
          "2022-04-01T00:00:00.000000",
          "2022-07-01T00:00:00.000000",
          "2022-10-01T00:00:00.000000",
          "2023-01-01T00:00:00.000000",
          "2023-04-01T00:00:00.000000",
          "2023-07-01T00:00:00.000000",
          "2023-10-01T00:00:00.000000",
          "2024-01-01T00:00:00.000000",
          "2024-04-01T00:00:00.000000",
          "2024-07-01T00:00:00.000000",
          "2024-10-01T00:00:00.000000",
          "2025-01-01T00:00:00.000000"
         ],
         "y": {
          "bdata": "Wz07BG4sA0AAAAAAAAAEQBdddNFFlwNAIiIiIiIiA0BQZSkOGXsFQGQCvVPXcgxASiAu1JwEDkBrrbXWWmsQQM3MzMzMzBBANzc3Nzc3EUAjaDip+/IQQNejcD0KVxFAMzMzMzOzDEDbN6x9w9oNQHkN5TWU1whAzLd8y7d8D0CxnsJ6CusNQAkJCQkJCQ1AmNBeQnsJCUAyDdvN8iQOQNovxIrS+AZAOEffHH1zBEAkSZIkSVIFQA9Uzm7hVwNApHA9Ctej+j/Wh8b60Fj/PzrnnHPOOQBAhl7ohV7o+T9Sl4IOHnX5P9RHq0mI4v8/UV5DeQ1lAEDQz8/Pz88FQPYMRKUjewZAoxpmB0cQBUD6tYdcVgwGQDMzMzMzMwZAAZ1/MUDnB0AyfrvUk/EHQGy6pmu6pgdApzvYb7UxCEBpaWlpaWkJQNzb29vb2wdAVwQNJ3VfCkAAAAAAAPAHQCPtWIEw0gZAZQjW0eZ9CEAEDSd1Xx4HQJo0adKkSQdAz5x3JPLMBUBdobmdyqMDQDqogzqogwZARhdddNFFC0DiaY+rgGASQMTkCmJyBRNAinzWDabIE0AiIiIiIqIVQIqd2Imd2BBAYid2Yid2CEA4W4d+s3UMQNC6wRT5rAtACFTH3towB0B21CLkr9kFQF4Is10IswVAXcqlXMqlCECGXuiFXugLQA==",
          "dtype": "f8"
         }
        },
        {
         "mode": "lines+markers",
         "name": "Council Rent",
         "type": "scatter",
         "x": [
          "2009-01-01T00:00:00.000000",
          "2009-04-01T00:00:00.000000",
          "2009-07-01T00:00:00.000000",
          "2009-10-01T00:00:00.000000",
          "2010-01-01T00:00:00.000000",
          "2010-04-01T00:00:00.000000",
          "2010-07-01T00:00:00.000000",
          "2010-10-01T00:00:00.000000",
          "2011-01-01T00:00:00.000000",
          "2011-04-01T00:00:00.000000",
          "2011-07-01T00:00:00.000000",
          "2011-10-01T00:00:00.000000",
          "2012-01-01T00:00:00.000000",
          "2012-04-01T00:00:00.000000",
          "2012-07-01T00:00:00.000000",
          "2012-10-01T00:00:00.000000",
          "2013-01-01T00:00:00.000000",
          "2013-04-01T00:00:00.000000",
          "2013-07-01T00:00:00.000000",
          "2013-10-01T00:00:00.000000",
          "2014-01-01T00:00:00.000000",
          "2014-04-01T00:00:00.000000",
          "2014-07-01T00:00:00.000000",
          "2014-10-01T00:00:00.000000",
          "2015-01-01T00:00:00.000000",
          "2015-04-01T00:00:00.000000",
          "2015-07-01T00:00:00.000000",
          "2015-10-01T00:00:00.000000",
          "2016-01-01T00:00:00.000000",
          "2016-04-01T00:00:00.000000",
          "2016-07-01T00:00:00.000000",
          "2016-10-01T00:00:00.000000",
          "2017-01-01T00:00:00.000000",
          "2017-04-01T00:00:00.000000",
          "2017-07-01T00:00:00.000000",
          "2017-10-01T00:00:00.000000",
          "2018-01-01T00:00:00.000000",
          "2018-04-01T00:00:00.000000",
          "2018-07-01T00:00:00.000000",
          "2018-10-01T00:00:00.000000",
          "2019-01-01T00:00:00.000000",
          "2019-04-01T00:00:00.000000",
          "2019-07-01T00:00:00.000000",
          "2019-10-01T00:00:00.000000",
          "2020-01-01T00:00:00.000000",
          "2020-04-01T00:00:00.000000",
          "2020-07-01T00:00:00.000000",
          "2020-10-01T00:00:00.000000",
          "2021-01-01T00:00:00.000000",
          "2021-04-01T00:00:00.000000",
          "2021-07-01T00:00:00.000000",
          "2021-10-01T00:00:00.000000",
          "2022-01-01T00:00:00.000000",
          "2022-04-01T00:00:00.000000",
          "2022-07-01T00:00:00.000000",
          "2022-10-01T00:00:00.000000",
          "2023-01-01T00:00:00.000000",
          "2023-04-01T00:00:00.000000",
          "2023-07-01T00:00:00.000000",
          "2023-10-01T00:00:00.000000",
          "2024-01-01T00:00:00.000000",
          "2024-04-01T00:00:00.000000",
          "2024-07-01T00:00:00.000000",
          "2024-10-01T00:00:00.000000",
          "2025-01-01T00:00:00.000000"
         ],
         "y": {
          "bdata": "E+QpQZ4SCEDJZ91ginwKQGN9aKwPjQVA+hicj8H5BEDr6urq6uoGQLmnEZZ7GglAbtu2bdu2C0AyxhhjjDEOQMMwDMMwjBBA2qjvbNR3EEDtJbSX0F4SQEiDNEiDNBJAQxaykIUsEEAvuuiiiy4RQKuqqqqqihFA0UUXXXRREEDsXve6170QQJaoXYnalRBAwzAMwzAMD0CrqqqqqqoQQFzZ55CaYApAmHoyfrvUB0AAAAAAAAAIQDC/q8VNmAdAIruJ7CayA0BoL6G9hPYEQKuqqqqqqgBAAAAAAADABUArmCXlgMgAQOrJ+O1STwJAgqh0ZM9ABEAAAAAAAEAGQMhWBA0ndQdAAAAAAAAACUCO4ziO4zgIQLE5kGiFzQlAFZcMwTraCEBEpSN7BqIKQGLtG9a+YQlAiqIoiqIoCkBDFrKQhSwMQMGBAwcOHAxAXXTRRRddDUC2b1j7hrULQJ7YiZ3YiQhArbA5kGiFBUCrqqqqqqoLQGZmZmZmZgRAntiJndgJBkAAAAAAAAAEQEt+seQXSwZAq6qqqqqqCkAAAAAAAAASQHh3d3d3dw9AAAAAAAAAFEAAAAAAAAAUQOYUvJyClw9ALL7iK77iC0B605ve9KYPQKuqqqqqKgxAAAAAAABwCkAzMzMzM7MGQGIYhmEYhgdAHEyRz7rBCEAcx3Ecx3EMQA==",
          "dtype": "f8"
         }
        },
        {
         "mode": "lines+markers",
         "name": "Mortgage",
         "type": "scatter",
         "x": [
          "2009-01-01T00:00:00.000000",
          "2009-04-01T00:00:00.000000",
          "2009-07-01T00:00:00.000000",
          "2009-10-01T00:00:00.000000",
          "2010-01-01T00:00:00.000000",
          "2010-04-01T00:00:00.000000",
          "2010-07-01T00:00:00.000000",
          "2010-10-01T00:00:00.000000",
          "2011-01-01T00:00:00.000000",
          "2011-04-01T00:00:00.000000",
          "2011-07-01T00:00:00.000000",
          "2011-10-01T00:00:00.000000",
          "2012-01-01T00:00:00.000000",
          "2012-04-01T00:00:00.000000",
          "2012-07-01T00:00:00.000000",
          "2012-10-01T00:00:00.000000",
          "2013-01-01T00:00:00.000000",
          "2013-04-01T00:00:00.000000",
          "2013-07-01T00:00:00.000000",
          "2013-10-01T00:00:00.000000",
          "2014-01-01T00:00:00.000000",
          "2014-04-01T00:00:00.000000",
          "2014-07-01T00:00:00.000000",
          "2014-10-01T00:00:00.000000",
          "2015-01-01T00:00:00.000000",
          "2015-04-01T00:00:00.000000",
          "2015-07-01T00:00:00.000000",
          "2015-10-01T00:00:00.000000",
          "2016-01-01T00:00:00.000000",
          "2016-04-01T00:00:00.000000",
          "2016-07-01T00:00:00.000000",
          "2016-10-01T00:00:00.000000",
          "2017-01-01T00:00:00.000000",
          "2017-04-01T00:00:00.000000",
          "2017-07-01T00:00:00.000000",
          "2017-10-01T00:00:00.000000",
          "2018-01-01T00:00:00.000000",
          "2018-04-01T00:00:00.000000",
          "2018-07-01T00:00:00.000000",
          "2018-10-01T00:00:00.000000",
          "2019-01-01T00:00:00.000000",
          "2019-04-01T00:00:00.000000",
          "2019-07-01T00:00:00.000000",
          "2019-10-01T00:00:00.000000",
          "2020-01-01T00:00:00.000000",
          "2020-04-01T00:00:00.000000",
          "2020-07-01T00:00:00.000000",
          "2020-10-01T00:00:00.000000",
          "2021-01-01T00:00:00.000000",
          "2021-04-01T00:00:00.000000",
          "2021-07-01T00:00:00.000000",
          "2021-10-01T00:00:00.000000",
          "2022-01-01T00:00:00.000000",
          "2022-04-01T00:00:00.000000",
          "2022-07-01T00:00:00.000000",
          "2022-10-01T00:00:00.000000",
          "2023-01-01T00:00:00.000000",
          "2023-04-01T00:00:00.000000",
          "2023-07-01T00:00:00.000000",
          "2023-10-01T00:00:00.000000",
          "2024-01-01T00:00:00.000000",
          "2024-04-01T00:00:00.000000",
          "2024-07-01T00:00:00.000000",
          "2024-10-01T00:00:00.000000",
          "2025-01-01T00:00:00.000000"
         ],
         "y": {
          "bdata": "AAAAAAAA/D96DeU1lNf+P5vNZrPZbAJApAJfXP2gA0BPCpI/r7ICQD2JTMN2swhAMjTdwX6rCUDe9KY3vekNQMFVtDOl1w9AX0J7Ce0lDUAcy6BUmHgPQMln3WCKfA5AcRPmd7W4CUAAAAAAAAAMQCy8wiu8wgdAbuRGbuRGCkAU1YNG3vkLQLvBFPmsGwpAGqRBGqRBCECrqqqqqqoMQDmO4ziO4wRACgoKCgoKBEBJkiRJkiQGQA8PDw8PDwNAxajhb1OM+j+5pxGWexoBQCNl4OnW/ABAVlVVVVVV/T9vKfQnGYv6P7hQcxKIC/0/0kUXXXTR/z92Yid2YqcFQCy+4iu+4gdAip3YiZ3YBUCE6PFdOIgGQI/H4/F4PAZALrrooosuBkBmZmZmZuYFQDzijrgj7gZAq6qqqqoqCUBmD5g9YPYIQDMzMzMzMwdAJUmSJEmSCUBMaC+hvYQIQFzYx4V9XAhAKHZiJ3ZiB0BvetOb3vQIQAYxuYKYXAVAMU653d/BBUDdmh8WKQMDQIqd2Imd2AVAv1jyiyW/CEAXXXTRRdcRQDn1e26JUxNAAAAAAAAAFEAcuZEbuZETQLZs2bJlyw5AWlpaWlpaDUDxM0r8jBILQHzvvffeewlAmMMc5jCHB0Cq33NLnPoFQEmSJEmSpARAMzMzMzOzBkCVhpz77AIKQA==",
          "dtype": "f8"
         }
        },
        {
         "mode": "lines+markers",
         "name": "Other",
         "type": "scatter",
         "x": [
          "2009-01-01T00:00:00.000000",
          "2009-04-01T00:00:00.000000",
          "2009-07-01T00:00:00.000000",
          "2009-10-01T00:00:00.000000",
          "2010-01-01T00:00:00.000000",
          "2010-04-01T00:00:00.000000",
          "2010-07-01T00:00:00.000000",
          "2010-10-01T00:00:00.000000",
          "2011-01-01T00:00:00.000000",
          "2011-04-01T00:00:00.000000",
          "2011-07-01T00:00:00.000000",
          "2011-10-01T00:00:00.000000",
          "2012-01-01T00:00:00.000000",
          "2012-04-01T00:00:00.000000",
          "2012-07-01T00:00:00.000000",
          "2012-10-01T00:00:00.000000",
          "2013-01-01T00:00:00.000000",
          "2013-04-01T00:00:00.000000",
          "2013-07-01T00:00:00.000000",
          "2013-10-01T00:00:00.000000",
          "2014-01-01T00:00:00.000000",
          "2014-04-01T00:00:00.000000",
          "2014-07-01T00:00:00.000000",
          "2014-10-01T00:00:00.000000",
          "2015-01-01T00:00:00.000000",
          "2015-04-01T00:00:00.000000",
          "2015-07-01T00:00:00.000000",
          "2015-10-01T00:00:00.000000",
          "2016-01-01T00:00:00.000000",
          "2016-04-01T00:00:00.000000",
          "2016-07-01T00:00:00.000000",
          "2016-10-01T00:00:00.000000",
          "2017-01-01T00:00:00.000000",
          "2017-04-01T00:00:00.000000",
          "2017-07-01T00:00:00.000000",
          "2017-10-01T00:00:00.000000",
          "2018-01-01T00:00:00.000000",
          "2018-04-01T00:00:00.000000",
          "2018-07-01T00:00:00.000000",
          "2018-10-01T00:00:00.000000",
          "2019-01-01T00:00:00.000000",
          "2019-04-01T00:00:00.000000",
          "2019-07-01T00:00:00.000000",
          "2019-10-01T00:00:00.000000",
          "2020-01-01T00:00:00.000000",
          "2020-04-01T00:00:00.000000",
          "2020-07-01T00:00:00.000000",
          "2020-10-01T00:00:00.000000",
          "2021-01-01T00:00:00.000000",
          "2021-04-01T00:00:00.000000",
          "2021-07-01T00:00:00.000000",
          "2021-10-01T00:00:00.000000",
          "2022-01-01T00:00:00.000000",
          "2022-04-01T00:00:00.000000",
          "2022-07-01T00:00:00.000000",
          "2022-10-01T00:00:00.000000",
          "2023-01-01T00:00:00.000000",
          "2023-04-01T00:00:00.000000",
          "2023-07-01T00:00:00.000000",
          "2023-10-01T00:00:00.000000",
          "2024-01-01T00:00:00.000000",
          "2024-04-01T00:00:00.000000",
          "2024-07-01T00:00:00.000000",
          "2024-10-01T00:00:00.000000",
          "2025-01-01T00:00:00.000000"
         ],
         "y": {
          "bdata": "riAmVxCTAUB79erVq1cDQOto8z7FJQNAT+zETuzEAkAmy1+y/CUDQB4eHh4eHgpAgh/4gR/4CUAMDAwMDAwQQFVVVVVV1Q5AVgyU8EZTD0AlSZIkSZIQQEHDSd2Xxw5AX0J7Ce0lDECrqqqqqqoOQHv16tWrVwtAeHd3d3d3CkChvYT2EtoNQK9E7UrUrg5A1Jve9KY3DUAssMACCywMQJQae5gF5AdAmu5gv9XGBEDvy2MrgoYFQErlw7hflwRA9alg9algAUAkewai0pEDQInalahdiQJAJ5tssskmA0AW11hcY3EBQAAAAAAAAANA5DiO4ziOA0BsKK+hvIYGQPLq9GW8OgVAVVVVVVVVB0CiF3qhF3oFQDMzMzMz8wZAbLLJJptsBkCKJppoookGQGqC8Vb2OQhAcVL35bEVCUDmnkZY7mkKQHh3d3d3dwdA7FG4HoXrCUAu/GpMpAcKQKuqqqqqKghAn3WDKfJZB0AIIYQQQggJQC666KKLLgZAgjwlyFOCBEBY7mmE5Z4CQCRJkiRJkgRAep7neZ7nB0BsCb7NX2EOQERERERERBFAIzdyIzdyEUDlF0t+seQRQPFeeC+8Fw5AF1100UUXDUAAAAAAAMANQGCuHZhrBwpAFmvAFWvACUC+hPYS2ksIQD9brAzfiAZAXL7lW77lB0BVVVVVVUULQA==",
          "dtype": "f8"
         }
        },
        {
         "mode": "lines+markers",
         "name": "None",
         "type": "scatter",
         "x": [
          "2009-01-01T00:00:00.000000",
          "2009-04-01T00:00:00.000000",
          "2009-07-01T00:00:00.000000",
          "2009-10-01T00:00:00.000000",
          "2010-01-01T00:00:00.000000",
          "2010-04-01T00:00:00.000000",
          "2010-07-01T00:00:00.000000",
          "2010-10-01T00:00:00.000000",
          "2011-01-01T00:00:00.000000",
          "2011-04-01T00:00:00.000000",
          "2011-07-01T00:00:00.000000",
          "2011-10-01T00:00:00.000000",
          "2012-01-01T00:00:00.000000",
          "2012-04-01T00:00:00.000000",
          "2012-07-01T00:00:00.000000",
          "2012-10-01T00:00:00.000000",
          "2013-01-01T00:00:00.000000",
          "2013-04-01T00:00:00.000000",
          "2013-07-01T00:00:00.000000",
          "2013-10-01T00:00:00.000000",
          "2014-01-01T00:00:00.000000",
          "2014-04-01T00:00:00.000000",
          "2014-07-01T00:00:00.000000",
          "2014-10-01T00:00:00.000000",
          "2015-01-01T00:00:00.000000",
          "2015-04-01T00:00:00.000000",
          "2015-07-01T00:00:00.000000",
          "2015-10-01T00:00:00.000000",
          "2016-01-01T00:00:00.000000",
          "2016-04-01T00:00:00.000000",
          "2016-07-01T00:00:00.000000",
          "2016-10-01T00:00:00.000000",
          "2017-01-01T00:00:00.000000",
          "2017-04-01T00:00:00.000000",
          "2017-07-01T00:00:00.000000",
          "2017-10-01T00:00:00.000000",
          "2018-01-01T00:00:00.000000",
          "2018-04-01T00:00:00.000000",
          "2018-07-01T00:00:00.000000",
          "2018-10-01T00:00:00.000000",
          "2019-01-01T00:00:00.000000",
          "2019-04-01T00:00:00.000000",
          "2019-07-01T00:00:00.000000",
          "2019-10-01T00:00:00.000000",
          "2020-01-01T00:00:00.000000",
          "2020-04-01T00:00:00.000000",
          "2020-07-01T00:00:00.000000",
          "2020-10-01T00:00:00.000000",
          "2021-01-01T00:00:00.000000",
          "2021-04-01T00:00:00.000000",
          "2021-07-01T00:00:00.000000",
          "2021-10-01T00:00:00.000000",
          "2022-01-01T00:00:00.000000",
          "2022-04-01T00:00:00.000000",
          "2022-07-01T00:00:00.000000",
          "2022-10-01T00:00:00.000000",
          "2023-01-01T00:00:00.000000",
          "2023-04-01T00:00:00.000000",
          "2023-07-01T00:00:00.000000",
          "2023-10-01T00:00:00.000000",
          "2024-01-01T00:00:00.000000",
          "2024-04-01T00:00:00.000000",
          "2024-07-01T00:00:00.000000",
          "2024-10-01T00:00:00.000000",
          "2025-01-01T00:00:00.000000"
         ],
         "y": {
          "bdata": "AAAAAAAA+H8AAAAAAAD4fwAAAAAAAPh/AAAAAAAA+H8AAAAAAAD4fwAAAAAAAPh/AAAAAAAA+H8AAAAAAAD4fwAAAAAAAPh/AAAAAAAA+H8AAAAAAAD4fwAAAAAAAPh/AAAAAAAA+H8AAAAAAAD4fwAAAAAAAPh/AAAAAAAA+H8AAAAAAAD4fwAAAAAAAPh/AAAAAAAA+H8AAAAAAAD4fwAAAAAAAPh/AAAAAAAA+H8AAAAAAAD4fwAAAAAAAPh/AAAAAAAA+H8AAAAAAAD4fwAAAAAAAPh/AAAAAAAA+H8AAAAAAAD4fwAAAAAAAPh/AAAAAAAA+H8AAAAAAAD4fwAAAAAAAPh/AAAAAAAA+H8AAAAAAAD4fwAAAAAAAPh/AAAAAAAA+H8AAAAAAAD4fwAAAAAAAPh/AAAAAAAA+H8AAAAAAAD4fwAAAAAAAPh/AAAAAAAA+H8AAAAAAAD4fwAAAAAAAPh/q6qqqqqqDEBlk0022WQFQAAAAAAAAAhAAAAAAAAA+H8AAAAAAAAMQAAAAAAAAPh/AAAAAAAA+H8AAAAAAAD4fwAAAAAAAPh/AAAAAAAA+H8AAAAAAAD4fwAAAAAAAPh/AAAAAAAA+H8AAAAAAAD4fwAAAAAAAPh/AAAAAAAA+H8AAAAAAAD4fwAAAAAAAPh/AAAAAAAA+H8AAAAAAAD4fw==",
          "dtype": "f8"
         }
        }
       ],
       "layout": {
        "hovermode": "x unified",
        "legend": {
         "title": {
          "text": "Group"
         }
        },
        "template": {
         "data": {
          "bar": [
           {
            "error_x": {
             "color": "#2a3f5f"
            },
            "error_y": {
             "color": "#2a3f5f"
            },
            "marker": {
             "line": {
              "color": "white",
              "width": 0.5
             },
             "pattern": {
              "fillmode": "overlay",
              "size": 10,
              "solidity": 0.2
             }
            },
            "type": "bar"
           }
          ],
          "barpolar": [
           {
            "marker": {
             "line": {
              "color": "white",
              "width": 0.5
             },
             "pattern": {
              "fillmode": "overlay",
              "size": 10,
              "solidity": 0.2
             }
            },
            "type": "barpolar"
           }
          ],
          "carpet": [
           {
            "aaxis": {
             "endlinecolor": "#2a3f5f",
             "gridcolor": "#C8D4E3",
             "linecolor": "#C8D4E3",
             "minorgridcolor": "#C8D4E3",
             "startlinecolor": "#2a3f5f"
            },
            "baxis": {
             "endlinecolor": "#2a3f5f",
             "gridcolor": "#C8D4E3",
             "linecolor": "#C8D4E3",
             "minorgridcolor": "#C8D4E3",
             "startlinecolor": "#2a3f5f"
            },
            "type": "carpet"
           }
          ],
          "choropleth": [
           {
            "colorbar": {
             "outlinewidth": 0,
             "ticks": ""
            },
            "type": "choropleth"
           }
          ],
          "contour": [
           {
            "colorbar": {
             "outlinewidth": 0,
             "ticks": ""
            },
            "colorscale": [
             [
              0,
              "#0d0887"
             ],
             [
              0.1111111111111111,
              "#46039f"
             ],
             [
              0.2222222222222222,
              "#7201a8"
             ],
             [
              0.3333333333333333,
              "#9c179e"
             ],
             [
              0.4444444444444444,
              "#bd3786"
             ],
             [
              0.5555555555555556,
              "#d8576b"
             ],
             [
              0.6666666666666666,
              "#ed7953"
             ],
             [
              0.7777777777777778,
              "#fb9f3a"
             ],
             [
              0.8888888888888888,
              "#fdca26"
             ],
             [
              1,
              "#f0f921"
             ]
            ],
            "type": "contour"
           }
          ],
          "contourcarpet": [
           {
            "colorbar": {
             "outlinewidth": 0,
             "ticks": ""
            },
            "type": "contourcarpet"
           }
          ],
          "heatmap": [
           {
            "colorbar": {
             "outlinewidth": 0,
             "ticks": ""
            },
            "colorscale": [
             [
              0,
              "#0d0887"
             ],
             [
              0.1111111111111111,
              "#46039f"
             ],
             [
              0.2222222222222222,
              "#7201a8"
             ],
             [
              0.3333333333333333,
              "#9c179e"
             ],
             [
              0.4444444444444444,
              "#bd3786"
             ],
             [
              0.5555555555555556,
              "#d8576b"
             ],
             [
              0.6666666666666666,
              "#ed7953"
             ],
             [
              0.7777777777777778,
              "#fb9f3a"
             ],
             [
              0.8888888888888888,
              "#fdca26"
             ],
             [
              1,
              "#f0f921"
             ]
            ],
            "type": "heatmap"
           }
          ],
          "histogram": [
           {
            "marker": {
             "pattern": {
              "fillmode": "overlay",
              "size": 10,
              "solidity": 0.2
             }
            },
            "type": "histogram"
           }
          ],
          "histogram2d": [
           {
            "colorbar": {
             "outlinewidth": 0,
             "ticks": ""
            },
            "colorscale": [
             [
              0,
              "#0d0887"
             ],
             [
              0.1111111111111111,
              "#46039f"
             ],
             [
              0.2222222222222222,
              "#7201a8"
             ],
             [
              0.3333333333333333,
              "#9c179e"
             ],
             [
              0.4444444444444444,
              "#bd3786"
             ],
             [
              0.5555555555555556,
              "#d8576b"
             ],
             [
              0.6666666666666666,
              "#ed7953"
             ],
             [
              0.7777777777777778,
              "#fb9f3a"
             ],
             [
              0.8888888888888888,
              "#fdca26"
             ],
             [
              1,
              "#f0f921"
             ]
            ],
            "type": "histogram2d"
           }
          ],
          "histogram2dcontour": [
           {
            "colorbar": {
             "outlinewidth": 0,
             "ticks": ""
            },
            "colorscale": [
             [
              0,
              "#0d0887"
             ],
             [
              0.1111111111111111,
              "#46039f"
             ],
             [
              0.2222222222222222,
              "#7201a8"
             ],
             [
              0.3333333333333333,
              "#9c179e"
             ],
             [
              0.4444444444444444,
              "#bd3786"
             ],
             [
              0.5555555555555556,
              "#d8576b"
             ],
             [
              0.6666666666666666,
              "#ed7953"
             ],
             [
              0.7777777777777778,
              "#fb9f3a"
             ],
             [
              0.8888888888888888,
              "#fdca26"
             ],
             [
              1,
              "#f0f921"
             ]
            ],
            "type": "histogram2dcontour"
           }
          ],
          "mesh3d": [
           {
            "colorbar": {
             "outlinewidth": 0,
             "ticks": ""
            },
            "type": "mesh3d"
           }
          ],
          "parcoords": [
           {
            "line": {
             "colorbar": {
              "outlinewidth": 0,
              "ticks": ""
             }
            },
            "type": "parcoords"
           }
          ],
          "pie": [
           {
            "automargin": true,
            "type": "pie"
           }
          ],
          "scatter": [
           {
            "fillpattern": {
             "fillmode": "overlay",
             "size": 10,
             "solidity": 0.2
            },
            "type": "scatter"
           }
          ],
          "scatter3d": [
           {
            "line": {
             "colorbar": {
              "outlinewidth": 0,
              "ticks": ""
             }
            },
            "marker": {
             "colorbar": {
              "outlinewidth": 0,
              "ticks": ""
             }
            },
            "type": "scatter3d"
           }
          ],
          "scattercarpet": [
           {
            "marker": {
             "colorbar": {
              "outlinewidth": 0,
              "ticks": ""
             }
            },
            "type": "scattercarpet"
           }
          ],
          "scattergeo": [
           {
            "marker": {
             "colorbar": {
              "outlinewidth": 0,
              "ticks": ""
             }
            },
            "type": "scattergeo"
           }
          ],
          "scattergl": [
           {
            "marker": {
             "colorbar": {
              "outlinewidth": 0,
              "ticks": ""
             }
            },
            "type": "scattergl"
           }
          ],
          "scattermap": [
           {
            "marker": {
             "colorbar": {
              "outlinewidth": 0,
              "ticks": ""
             }
            },
            "type": "scattermap"
           }
          ],
          "scattermapbox": [
           {
            "marker": {
             "colorbar": {
              "outlinewidth": 0,
              "ticks": ""
             }
            },
            "type": "scattermapbox"
           }
          ],
          "scatterpolar": [
           {
            "marker": {
             "colorbar": {
              "outlinewidth": 0,
              "ticks": ""
             }
            },
            "type": "scatterpolar"
           }
          ],
          "scatterpolargl": [
           {
            "marker": {
             "colorbar": {
              "outlinewidth": 0,
              "ticks": ""
             }
            },
            "type": "scatterpolargl"
           }
          ],
          "scatterternary": [
           {
            "marker": {
             "colorbar": {
              "outlinewidth": 0,
              "ticks": ""
             }
            },
            "type": "scatterternary"
           }
          ],
          "surface": [
           {
            "colorbar": {
             "outlinewidth": 0,
             "ticks": ""
            },
            "colorscale": [
             [
              0,
              "#0d0887"
             ],
             [
              0.1111111111111111,
              "#46039f"
             ],
             [
              0.2222222222222222,
              "#7201a8"
             ],
             [
              0.3333333333333333,
              "#9c179e"
             ],
             [
              0.4444444444444444,
              "#bd3786"
             ],
             [
              0.5555555555555556,
              "#d8576b"
             ],
             [
              0.6666666666666666,
              "#ed7953"
             ],
             [
              0.7777777777777778,
              "#fb9f3a"
             ],
             [
              0.8888888888888888,
              "#fdca26"
             ],
             [
              1,
              "#f0f921"
             ]
            ],
            "type": "surface"
           }
          ],
          "table": [
           {
            "cells": {
             "fill": {
              "color": "#EBF0F8"
             },
             "line": {
              "color": "white"
             }
            },
            "header": {
             "fill": {
              "color": "#C8D4E3"
             },
             "line": {
              "color": "white"
             }
            },
            "type": "table"
           }
          ]
         },
         "layout": {
          "annotationdefaults": {
           "arrowcolor": "#2a3f5f",
           "arrowhead": 0,
           "arrowwidth": 1
          },
          "autotypenumbers": "strict",
          "coloraxis": {
           "colorbar": {
            "outlinewidth": 0,
            "ticks": ""
           }
          },
          "colorscale": {
           "diverging": [
            [
             0,
             "#8e0152"
            ],
            [
             0.1,
             "#c51b7d"
            ],
            [
             0.2,
             "#de77ae"
            ],
            [
             0.3,
             "#f1b6da"
            ],
            [
             0.4,
             "#fde0ef"
            ],
            [
             0.5,
             "#f7f7f7"
            ],
            [
             0.6,
             "#e6f5d0"
            ],
            [
             0.7,
             "#b8e186"
            ],
            [
             0.8,
             "#7fbc41"
            ],
            [
             0.9,
             "#4d9221"
            ],
            [
             1,
             "#276419"
            ]
           ],
           "sequential": [
            [
             0,
             "#0d0887"
            ],
            [
             0.1111111111111111,
             "#46039f"
            ],
            [
             0.2222222222222222,
             "#7201a8"
            ],
            [
             0.3333333333333333,
             "#9c179e"
            ],
            [
             0.4444444444444444,
             "#bd3786"
            ],
            [
             0.5555555555555556,
             "#d8576b"
            ],
            [
             0.6666666666666666,
             "#ed7953"
            ],
            [
             0.7777777777777778,
             "#fb9f3a"
            ],
            [
             0.8888888888888888,
             "#fdca26"
            ],
            [
             1,
             "#f0f921"
            ]
           ],
           "sequentialminus": [
            [
             0,
             "#0d0887"
            ],
            [
             0.1111111111111111,
             "#46039f"
            ],
            [
             0.2222222222222222,
             "#7201a8"
            ],
            [
             0.3333333333333333,
             "#9c179e"
            ],
            [
             0.4444444444444444,
             "#bd3786"
            ],
            [
             0.5555555555555556,
             "#d8576b"
            ],
            [
             0.6666666666666666,
             "#ed7953"
            ],
            [
             0.7777777777777778,
             "#fb9f3a"
            ],
            [
             0.8888888888888888,
             "#fdca26"
            ],
            [
             1,
             "#f0f921"
            ]
           ]
          },
          "colorway": [
           "#636efa",
           "#EF553B",
           "#00cc96",
           "#ab63fa",
           "#FFA15A",
           "#19d3f3",
           "#FF6692",
           "#B6E880",
           "#FF97FF",
           "#FECB52"
          ],
          "font": {
           "color": "#2a3f5f"
          },
          "geo": {
           "bgcolor": "white",
           "lakecolor": "white",
           "landcolor": "white",
           "showlakes": true,
           "showland": true,
           "subunitcolor": "#C8D4E3"
          },
          "hoverlabel": {
           "align": "left"
          },
          "hovermode": "closest",
          "mapbox": {
           "style": "light"
          },
          "paper_bgcolor": "white",
          "plot_bgcolor": "white",
          "polar": {
           "angularaxis": {
            "gridcolor": "#EBF0F8",
            "linecolor": "#EBF0F8",
            "ticks": ""
           },
           "bgcolor": "white",
           "radialaxis": {
            "gridcolor": "#EBF0F8",
            "linecolor": "#EBF0F8",
            "ticks": ""
           }
          },
          "scene": {
           "xaxis": {
            "backgroundcolor": "white",
            "gridcolor": "#DFE8F3",
            "gridwidth": 2,
            "linecolor": "#EBF0F8",
            "showbackground": true,
            "ticks": "",
            "zerolinecolor": "#EBF0F8"
           },
           "yaxis": {
            "backgroundcolor": "white",
            "gridcolor": "#DFE8F3",
            "gridwidth": 2,
            "linecolor": "#EBF0F8",
            "showbackground": true,
            "ticks": "",
            "zerolinecolor": "#EBF0F8"
           },
           "zaxis": {
            "backgroundcolor": "white",
            "gridcolor": "#DFE8F3",
            "gridwidth": 2,
            "linecolor": "#EBF0F8",
            "showbackground": true,
            "ticks": "",
            "zerolinecolor": "#EBF0F8"
           }
          },
          "shapedefaults": {
           "line": {
            "color": "#2a3f5f"
           }
          },
          "ternary": {
           "aaxis": {
            "gridcolor": "#DFE8F3",
            "linecolor": "#A2B1C6",
            "ticks": ""
           },
           "baxis": {
            "gridcolor": "#DFE8F3",
            "linecolor": "#A2B1C6",
            "ticks": ""
           },
           "bgcolor": "white",
           "caxis": {
            "gridcolor": "#DFE8F3",
            "linecolor": "#A2B1C6",
            "ticks": ""
           }
          },
          "title": {
           "x": 0.05
          },
          "xaxis": {
           "automargin": true,
           "gridcolor": "#EBF0F8",
           "linecolor": "#EBF0F8",
           "ticks": "",
           "title": {
            "standoff": 15
           },
           "zerolinecolor": "#EBF0F8",
           "zerolinewidth": 2
          },
          "yaxis": {
           "automargin": true,
           "gridcolor": "#EBF0F8",
           "linecolor": "#EBF0F8",
           "ticks": "",
           "title": {
            "standoff": 15
           },
           "zerolinecolor": "#EBF0F8",
           "zerolinewidth": 2
          }
         }
        },
        "title": {
         "text": "1 year ahead inflation expectations by housing status"
        },
        "xaxis": {
         "title": {
          "text": "Quarter"
         }
        },
        "yaxis": {
         "title": {
          "text": "Grouped Median (Interpolated)"
         }
        }
       }
      }
     },
     "metadata": {},
     "output_type": "display_data"
    }
   ],
   "source": [
    "housing_mapping = {\n",
    "    \"1\": \"Owned outright\",\n",
    "    \"2\": \"Mortgage\",\n",
    "    \"3\": \"Council Rent\",\n",
    "    \"4\": \"Other\",\n",
    "}\n",
    "\n",
    "plot_question_medians(median_dfs[0], housing_mapping, '1 year ahead inflation expectations by housing status')"
   ]
  },
  {
   "cell_type": "code",
   "execution_count": 23,
   "metadata": {},
   "outputs": [
    {
     "data": {
      "application/vnd.plotly.v1+json": {
       "config": {
        "plotlyServerURL": "https://plot.ly"
       },
       "data": [
        {
         "mode": "lines+markers",
         "name": "Owned outright",
         "type": "scatter",
         "x": [
          "2009-01-01T00:00:00.000000",
          "2009-04-01T00:00:00.000000",
          "2009-07-01T00:00:00.000000",
          "2009-10-01T00:00:00.000000",
          "2010-01-01T00:00:00.000000",
          "2010-04-01T00:00:00.000000",
          "2010-07-01T00:00:00.000000",
          "2010-10-01T00:00:00.000000",
          "2011-01-01T00:00:00.000000",
          "2011-04-01T00:00:00.000000",
          "2011-07-01T00:00:00.000000",
          "2011-10-01T00:00:00.000000",
          "2012-01-01T00:00:00.000000",
          "2012-04-01T00:00:00.000000",
          "2012-07-01T00:00:00.000000",
          "2012-10-01T00:00:00.000000",
          "2013-01-01T00:00:00.000000",
          "2013-04-01T00:00:00.000000",
          "2013-07-01T00:00:00.000000",
          "2013-10-01T00:00:00.000000",
          "2014-01-01T00:00:00.000000",
          "2014-04-01T00:00:00.000000",
          "2014-07-01T00:00:00.000000",
          "2014-10-01T00:00:00.000000",
          "2015-01-01T00:00:00.000000",
          "2015-04-01T00:00:00.000000",
          "2015-07-01T00:00:00.000000",
          "2015-10-01T00:00:00.000000",
          "2016-01-01T00:00:00.000000",
          "2016-04-01T00:00:00.000000",
          "2016-07-01T00:00:00.000000",
          "2016-10-01T00:00:00.000000",
          "2017-01-01T00:00:00.000000",
          "2017-04-01T00:00:00.000000",
          "2017-07-01T00:00:00.000000",
          "2017-10-01T00:00:00.000000",
          "2018-01-01T00:00:00.000000",
          "2018-04-01T00:00:00.000000",
          "2018-07-01T00:00:00.000000",
          "2018-10-01T00:00:00.000000",
          "2019-01-01T00:00:00.000000",
          "2019-04-01T00:00:00.000000",
          "2019-07-01T00:00:00.000000",
          "2019-10-01T00:00:00.000000",
          "2020-01-01T00:00:00.000000",
          "2020-04-01T00:00:00.000000",
          "2020-07-01T00:00:00.000000",
          "2020-10-01T00:00:00.000000",
          "2021-01-01T00:00:00.000000",
          "2021-04-01T00:00:00.000000",
          "2021-07-01T00:00:00.000000",
          "2021-10-01T00:00:00.000000",
          "2022-01-01T00:00:00.000000",
          "2022-04-01T00:00:00.000000",
          "2022-07-01T00:00:00.000000",
          "2022-10-01T00:00:00.000000",
          "2023-01-01T00:00:00.000000",
          "2023-04-01T00:00:00.000000",
          "2023-07-01T00:00:00.000000",
          "2023-10-01T00:00:00.000000",
          "2024-01-01T00:00:00.000000",
          "2024-04-01T00:00:00.000000",
          "2024-07-01T00:00:00.000000",
          "2024-10-01T00:00:00.000000",
          "2025-01-01T00:00:00.000000"
         ],
         "y": {
          "bdata": "ZHA+BudjAEDZZJNNNtkCQG7btm3btgFAexSuR+F6A0C66KKLLroEQL2G8hrKawlAZmZmZmZmCEB3rEAYaccKQI888sgjjwxAr6G8hvIaC0BmZmZmZqYLQG9ln0Nqgg1Au7AYCaWNB0BpkAZpkAYLQHGh5iQQFwZAmc5iOovpDEDaL8SK0vgMQIr0QOXsFgpAv2HtG9a+B0Abymsor6ELQGQXFiOhtAVA+ARSyXlZBEBBVDqyZyAGQGw5uNkvxAJAnQTiQs1JAED43nvvvfcAQH3WDabIZwFAz/M8z/M8/z+sHlYPq4f9P63USq3USgFATvO1enYIAEDATTFq+NsEQPjbFKOGvwVAkiRJkiRJBEDnnHPOOecEQDbQaQOdNgZAl0Qxpe06B0CO4ziO4zgHQJHPusEU+QZAMzMzMzOzBUD2mHD2mHAGQBBYObTIdgZArbA5kGiFB0CrqqqqqqoGQHqGeYZ5hgVAG8prKK+hAECNsNzTCMsBQLdt27Zt2wJAm3H+8YGRAUD8cAsojOoAQNtDLisGSgJADX+bYtTwA0D8mhCUva8JQNBAVDqyZwxAWchCFrKQCkB7FK5H4XoMQGDSqXmQuwhAhetRuB6FA0AkSZIkSZIGQL6gL+gL+gRATvO1enYIBkAoKCgoKCgEQOzbgKGajgVAOL3pTW96B0CQayKQayIKQA==",
          "dtype": "f8"
         }
        },
        {
         "mode": "lines+markers",
         "name": "Council Rent",
         "type": "scatter",
         "x": [
          "2009-01-01T00:00:00.000000",
          "2009-04-01T00:00:00.000000",
          "2009-07-01T00:00:00.000000",
          "2009-10-01T00:00:00.000000",
          "2010-01-01T00:00:00.000000",
          "2010-04-01T00:00:00.000000",
          "2010-07-01T00:00:00.000000",
          "2010-10-01T00:00:00.000000",
          "2011-01-01T00:00:00.000000",
          "2011-04-01T00:00:00.000000",
          "2011-07-01T00:00:00.000000",
          "2011-10-01T00:00:00.000000",
          "2012-01-01T00:00:00.000000",
          "2012-04-01T00:00:00.000000",
          "2012-07-01T00:00:00.000000",
          "2012-10-01T00:00:00.000000",
          "2013-01-01T00:00:00.000000",
          "2013-04-01T00:00:00.000000",
          "2013-07-01T00:00:00.000000",
          "2013-10-01T00:00:00.000000",
          "2014-01-01T00:00:00.000000",
          "2014-04-01T00:00:00.000000",
          "2014-07-01T00:00:00.000000",
          "2014-10-01T00:00:00.000000",
          "2015-01-01T00:00:00.000000",
          "2015-04-01T00:00:00.000000",
          "2015-07-01T00:00:00.000000",
          "2015-10-01T00:00:00.000000",
          "2016-01-01T00:00:00.000000",
          "2016-04-01T00:00:00.000000",
          "2016-07-01T00:00:00.000000",
          "2016-10-01T00:00:00.000000",
          "2017-01-01T00:00:00.000000",
          "2017-04-01T00:00:00.000000",
          "2017-07-01T00:00:00.000000",
          "2017-10-01T00:00:00.000000",
          "2018-01-01T00:00:00.000000",
          "2018-04-01T00:00:00.000000",
          "2018-07-01T00:00:00.000000",
          "2018-10-01T00:00:00.000000",
          "2019-01-01T00:00:00.000000",
          "2019-04-01T00:00:00.000000",
          "2019-07-01T00:00:00.000000",
          "2019-10-01T00:00:00.000000",
          "2020-01-01T00:00:00.000000",
          "2020-04-01T00:00:00.000000",
          "2020-07-01T00:00:00.000000",
          "2020-10-01T00:00:00.000000",
          "2021-01-01T00:00:00.000000",
          "2021-04-01T00:00:00.000000",
          "2021-07-01T00:00:00.000000",
          "2021-10-01T00:00:00.000000",
          "2022-01-01T00:00:00.000000",
          "2022-04-01T00:00:00.000000",
          "2022-07-01T00:00:00.000000",
          "2022-10-01T00:00:00.000000",
          "2023-01-01T00:00:00.000000",
          "2023-04-01T00:00:00.000000",
          "2023-07-01T00:00:00.000000",
          "2023-10-01T00:00:00.000000",
          "2024-01-01T00:00:00.000000",
          "2024-04-01T00:00:00.000000",
          "2024-07-01T00:00:00.000000",
          "2024-10-01T00:00:00.000000",
          "2025-01-01T00:00:00.000000"
         ],
         "y": {
          "bdata": "2Imd2ImdBUBrypqypqwFQNaUNWVNWQNAKK+hvIbyAkDzE+Ks/IQEQKuqqqqqagZApqWlpaWlCUAUO7ETO7ELQNPS0tLS0g5AjuM4juM4C0BjjDHGGGMQQEYXXXTRRQ9AAAAAAAAAEEBhinzWDaYQQDuxEzuxEw1AAAAAAACADkD6lm/5lm8PQIZhGIZhGA5AtFHf2ajvDEBEREREREQOQCebbLLJJgtAMKG9hPYSBkBmZmZmZuYIQAAAAAAAwAdAsPiKr/iKBEDC9Shcj8IFQAAAAAAAAARAwTravE9xBUCfjN8u9WQCQAQHDhw4cARAiIiIiIiIBEBwtg79ZusEQGk1CVH8RQZASpCnBHlKCEAAAAAAAAAIQFNKKaWUUgpA8hrKayivCUCamZmZmZkKQL++vr6+vgpAAAAAAADACUCQ4D6C+wgKQIiHh4eHhwxA8MEHH3zwDUB00UUXXXQLQBzw+MMBjwdA1pQ1ZU1Z+z+amZmZmZn9P3oN5TWU1/w/vYbyGsprAkAmtJfQXkL/P8FcOzDXDgRAfgT3EdxHBECrqqqqqqoIQEtLS0tLSw1AzczMzMzMCkAAAAAAAAAQQPqCvqAv6AdA3t3d3d3dB0CrqqqqqqoMQLdt27Zt2wpA+BklfkaJB0Aor6G8hvIGQIfyGsprKAdAdVAHdVAHCUBY7mmE5Z4KQA==",
          "dtype": "f8"
         }
        },
        {
         "mode": "lines+markers",
         "name": "Mortgage",
         "type": "scatter",
         "x": [
          "2009-01-01T00:00:00.000000",
          "2009-04-01T00:00:00.000000",
          "2009-07-01T00:00:00.000000",
          "2009-10-01T00:00:00.000000",
          "2010-01-01T00:00:00.000000",
          "2010-04-01T00:00:00.000000",
          "2010-07-01T00:00:00.000000",
          "2010-10-01T00:00:00.000000",
          "2011-01-01T00:00:00.000000",
          "2011-04-01T00:00:00.000000",
          "2011-07-01T00:00:00.000000",
          "2011-10-01T00:00:00.000000",
          "2012-01-01T00:00:00.000000",
          "2012-04-01T00:00:00.000000",
          "2012-07-01T00:00:00.000000",
          "2012-10-01T00:00:00.000000",
          "2013-01-01T00:00:00.000000",
          "2013-04-01T00:00:00.000000",
          "2013-07-01T00:00:00.000000",
          "2013-10-01T00:00:00.000000",
          "2014-01-01T00:00:00.000000",
          "2014-04-01T00:00:00.000000",
          "2014-07-01T00:00:00.000000",
          "2014-10-01T00:00:00.000000",
          "2015-01-01T00:00:00.000000",
          "2015-04-01T00:00:00.000000",
          "2015-07-01T00:00:00.000000",
          "2015-10-01T00:00:00.000000",
          "2016-01-01T00:00:00.000000",
          "2016-04-01T00:00:00.000000",
          "2016-07-01T00:00:00.000000",
          "2016-10-01T00:00:00.000000",
          "2017-01-01T00:00:00.000000",
          "2017-04-01T00:00:00.000000",
          "2017-07-01T00:00:00.000000",
          "2017-10-01T00:00:00.000000",
          "2018-01-01T00:00:00.000000",
          "2018-04-01T00:00:00.000000",
          "2018-07-01T00:00:00.000000",
          "2018-10-01T00:00:00.000000",
          "2019-01-01T00:00:00.000000",
          "2019-04-01T00:00:00.000000",
          "2019-07-01T00:00:00.000000",
          "2019-10-01T00:00:00.000000",
          "2020-01-01T00:00:00.000000",
          "2020-04-01T00:00:00.000000",
          "2020-07-01T00:00:00.000000",
          "2020-10-01T00:00:00.000000",
          "2021-01-01T00:00:00.000000",
          "2021-04-01T00:00:00.000000",
          "2021-07-01T00:00:00.000000",
          "2021-10-01T00:00:00.000000",
          "2022-01-01T00:00:00.000000",
          "2022-04-01T00:00:00.000000",
          "2022-07-01T00:00:00.000000",
          "2022-10-01T00:00:00.000000",
          "2023-01-01T00:00:00.000000",
          "2023-04-01T00:00:00.000000",
          "2023-07-01T00:00:00.000000",
          "2023-10-01T00:00:00.000000",
          "2024-01-01T00:00:00.000000",
          "2024-04-01T00:00:00.000000",
          "2024-07-01T00:00:00.000000",
          "2024-10-01T00:00:00.000000",
          "2025-01-01T00:00:00.000000"
         ],
         "y": {
          "bdata": "Phm/XerJ/D/ATTFq+NsAQEhNMN7KPgFApB0rEEbaAUD0BX1BX9ABQEYNf5ti1ARAWR8a60NjBUBaTGcxncUIQGOghDeaOglAj+/CQfT4BkD90i/90i8JQAzDMAzDMAhAnXPOOeecBUAAAAAAAAAIQCCMtGMFwgRAAAAAAACgB0CV5sWfSDgJQKOLLrroogdAGRkZGRkZB0BpaWlpaWkLQEf2DESlIwVA+z23xKnfA0AYhmEYhmEFQAAAAAAAwAJAThDuxr5HAEDYgi3Ygi0CQKOioqKiogJAfvz48ePH/z/s7Iuo1tn/P0ELtEALtABAT+zETuzE/j+tGCjhjaYCQHnnb3FaswVA3t3d3d3dBUBPt+aHRcoEQHTRRRdddAVAs4B8kSg1BkB0zjnnnHMGQAAAAAAAAAZAx0R6oHJ2B0DAm0eoPtMGQIYsZCELWQZAPz8/Pz8/B0AAAAAAAEAGQDptoNMGOgdA7tcllQ/j/j8hJlcQkysAQDu/9pDLigFAMqzWW1CGAUBWVVVVVZX+PxzHcRzH8QFAkkceeeSRA0DQyDt/i9MKQGGKfNYNpgpAaWlpaWlpCkC3bdu2bdsKQANR6ciegQZAWvkJcVZ+AkBgLPnFkl8EQM3MzMzMzARAykcnH518BEAsZCELWcgDQBhiRWl8ZAJA3LZt27ZtBUAAAAAAAAAIQA==",
          "dtype": "f8"
         }
        },
        {
         "mode": "lines+markers",
         "name": "Other",
         "type": "scatter",
         "x": [
          "2009-01-01T00:00:00.000000",
          "2009-04-01T00:00:00.000000",
          "2009-07-01T00:00:00.000000",
          "2009-10-01T00:00:00.000000",
          "2010-01-01T00:00:00.000000",
          "2010-04-01T00:00:00.000000",
          "2010-07-01T00:00:00.000000",
          "2010-10-01T00:00:00.000000",
          "2011-01-01T00:00:00.000000",
          "2011-04-01T00:00:00.000000",
          "2011-07-01T00:00:00.000000",
          "2011-10-01T00:00:00.000000",
          "2012-01-01T00:00:00.000000",
          "2012-04-01T00:00:00.000000",
          "2012-07-01T00:00:00.000000",
          "2012-10-01T00:00:00.000000",
          "2013-01-01T00:00:00.000000",
          "2013-04-01T00:00:00.000000",
          "2013-07-01T00:00:00.000000",
          "2013-10-01T00:00:00.000000",
          "2014-01-01T00:00:00.000000",
          "2014-04-01T00:00:00.000000",
          "2014-07-01T00:00:00.000000",
          "2014-10-01T00:00:00.000000",
          "2015-01-01T00:00:00.000000",
          "2015-04-01T00:00:00.000000",
          "2015-07-01T00:00:00.000000",
          "2015-10-01T00:00:00.000000",
          "2016-01-01T00:00:00.000000",
          "2016-04-01T00:00:00.000000",
          "2016-07-01T00:00:00.000000",
          "2016-10-01T00:00:00.000000",
          "2017-01-01T00:00:00.000000",
          "2017-04-01T00:00:00.000000",
          "2017-07-01T00:00:00.000000",
          "2017-10-01T00:00:00.000000",
          "2018-01-01T00:00:00.000000",
          "2018-04-01T00:00:00.000000",
          "2018-07-01T00:00:00.000000",
          "2018-10-01T00:00:00.000000",
          "2019-01-01T00:00:00.000000",
          "2019-04-01T00:00:00.000000",
          "2019-07-01T00:00:00.000000",
          "2019-10-01T00:00:00.000000",
          "2020-01-01T00:00:00.000000",
          "2020-04-01T00:00:00.000000",
          "2020-07-01T00:00:00.000000",
          "2020-10-01T00:00:00.000000",
          "2021-01-01T00:00:00.000000",
          "2021-04-01T00:00:00.000000",
          "2021-07-01T00:00:00.000000",
          "2021-10-01T00:00:00.000000",
          "2022-01-01T00:00:00.000000",
          "2022-04-01T00:00:00.000000",
          "2022-07-01T00:00:00.000000",
          "2022-10-01T00:00:00.000000",
          "2023-01-01T00:00:00.000000",
          "2023-04-01T00:00:00.000000",
          "2023-07-01T00:00:00.000000",
          "2023-10-01T00:00:00.000000",
          "2024-01-01T00:00:00.000000",
          "2024-04-01T00:00:00.000000",
          "2024-07-01T00:00:00.000000",
          "2024-10-01T00:00:00.000000",
          "2025-01-01T00:00:00.000000"
         ],
         "y": {
          "bdata": "sNzTCMs9/T+XlpaWlpYBQBWXDME62gBA4C71ZPx2AUCzoxYhf80CQPPYiqDhpAZAMzMzMzMzB0CrqqqqqmoKQJjQXkJ7CQtApw102kCnCUAJ7iO4j+AOQHkr+xxSEwxAgU37yRLYCECeO3fu3LkLQJgin3WDKQpAjvrORn1nB0DoC/qCvqALQIQQQgghhAxAa6211lprC0D92kMuKwYKQMb60FgfGgZAo4suuuiiBEC1fqVArV8FQBW8nIKXUwRAJUmSJEmSAkD0QOXsFn4DQGNudUYq5gJAoOGk7stjA0ArbA4kWmEDQJtssskmmwRAk0022WSTA0D5iq/4iq8EQMiHIOWmogVAHnFH3BF3BkAXXXTRRRcFQD22Img4qQdA6KR9kAyoB0AU5ne1uAkHQCprypqypghAREREREREBUAu3/It3/IJQCz3NMJyTwdAVVVVVVVVCUDi4eHh4eEIQLp2YK4dmAdAqqqqqqqq/D+rqqqqqqoCQK5H4XoUrv8/9hLaS2gvAUBjOovpLKb7P5GaYLyVff4/E+mBytktBEBa+QlxVn4IQG7btm3btglAJFphcyDRCkCkcD0K16MMQGJAOpYyCQpAAAAAAABwBkCGzYFEK2wGQCGEEEIIIQhAevnTFhqwCECivIbyGsoHQE7Ng9z1swVA7+7u7u7uBkDyiyW/WPIJQA==",
          "dtype": "f8"
         }
        },
        {
         "mode": "lines+markers",
         "name": "None",
         "type": "scatter",
         "x": [
          "2009-01-01T00:00:00.000000",
          "2009-04-01T00:00:00.000000",
          "2009-07-01T00:00:00.000000",
          "2009-10-01T00:00:00.000000",
          "2010-01-01T00:00:00.000000",
          "2010-04-01T00:00:00.000000",
          "2010-07-01T00:00:00.000000",
          "2010-10-01T00:00:00.000000",
          "2011-01-01T00:00:00.000000",
          "2011-04-01T00:00:00.000000",
          "2011-07-01T00:00:00.000000",
          "2011-10-01T00:00:00.000000",
          "2012-01-01T00:00:00.000000",
          "2012-04-01T00:00:00.000000",
          "2012-07-01T00:00:00.000000",
          "2012-10-01T00:00:00.000000",
          "2013-01-01T00:00:00.000000",
          "2013-04-01T00:00:00.000000",
          "2013-07-01T00:00:00.000000",
          "2013-10-01T00:00:00.000000",
          "2014-01-01T00:00:00.000000",
          "2014-04-01T00:00:00.000000",
          "2014-07-01T00:00:00.000000",
          "2014-10-01T00:00:00.000000",
          "2015-01-01T00:00:00.000000",
          "2015-04-01T00:00:00.000000",
          "2015-07-01T00:00:00.000000",
          "2015-10-01T00:00:00.000000",
          "2016-01-01T00:00:00.000000",
          "2016-04-01T00:00:00.000000",
          "2016-07-01T00:00:00.000000",
          "2016-10-01T00:00:00.000000",
          "2017-01-01T00:00:00.000000",
          "2017-04-01T00:00:00.000000",
          "2017-07-01T00:00:00.000000",
          "2017-10-01T00:00:00.000000",
          "2018-01-01T00:00:00.000000",
          "2018-04-01T00:00:00.000000",
          "2018-07-01T00:00:00.000000",
          "2018-10-01T00:00:00.000000",
          "2019-01-01T00:00:00.000000",
          "2019-04-01T00:00:00.000000",
          "2019-07-01T00:00:00.000000",
          "2019-10-01T00:00:00.000000",
          "2020-01-01T00:00:00.000000",
          "2020-04-01T00:00:00.000000",
          "2020-07-01T00:00:00.000000",
          "2020-10-01T00:00:00.000000",
          "2021-01-01T00:00:00.000000",
          "2021-04-01T00:00:00.000000",
          "2021-07-01T00:00:00.000000",
          "2021-10-01T00:00:00.000000",
          "2022-01-01T00:00:00.000000",
          "2022-04-01T00:00:00.000000",
          "2022-07-01T00:00:00.000000",
          "2022-10-01T00:00:00.000000",
          "2023-01-01T00:00:00.000000",
          "2023-04-01T00:00:00.000000",
          "2023-07-01T00:00:00.000000",
          "2023-10-01T00:00:00.000000",
          "2024-01-01T00:00:00.000000",
          "2024-04-01T00:00:00.000000",
          "2024-07-01T00:00:00.000000",
          "2024-10-01T00:00:00.000000",
          "2025-01-01T00:00:00.000000"
         ],
         "y": {
          "bdata": "AAAAAAAA+H8AAAAAAAD4fwAAAAAAAPh/AAAAAAAA+H8AAAAAAAD4fwAAAAAAAPh/AAAAAAAA+H8AAAAAAAD4fwAAAAAAAPh/AAAAAAAA+H8AAAAAAAD4fwAAAAAAAPh/AAAAAAAA+H8AAAAAAAD4fwAAAAAAAPh/AAAAAAAA+H8AAAAAAAD4fwAAAAAAAPh/AAAAAAAA+H8AAAAAAAD4fwAAAAAAAPh/AAAAAAAA+H8AAAAAAAD4fwAAAAAAAPh/AAAAAAAA+H8AAAAAAAD4fwAAAAAAAPh/AAAAAAAA+H8AAAAAAAD4fwAAAAAAAPh/AAAAAAAA+H8AAAAAAAD4fwAAAAAAAPh/AAAAAAAA+H8AAAAAAAD4fwAAAAAAAPh/AAAAAAAA+H8AAAAAAAD4fwAAAAAAAPh/AAAAAAAA+H8AAAAAAAD4fwAAAAAAAPh/AAAAAAAA+H8AAAAAAAD4fwAAAAAAAPh/t23btm3b9j8RZ+UnxFkBQJ7YiZ3YiQFAAAAAAAAA+H8AAAAAAAAEQAAAAAAAAPh/AAAAAAAA+H8AAAAAAAD4fwAAAAAAAPh/AAAAAAAA+H8AAAAAAAD4fwAAAAAAAPh/AAAAAAAA+H8AAAAAAAD4fwAAAAAAAPh/AAAAAAAA+H8AAAAAAAD4fwAAAAAAAPh/AAAAAAAA+H8AAAAAAAD4fw==",
          "dtype": "f8"
         }
        }
       ],
       "layout": {
        "hovermode": "x unified",
        "legend": {
         "title": {
          "text": "Group"
         }
        },
        "template": {
         "data": {
          "bar": [
           {
            "error_x": {
             "color": "#2a3f5f"
            },
            "error_y": {
             "color": "#2a3f5f"
            },
            "marker": {
             "line": {
              "color": "white",
              "width": 0.5
             },
             "pattern": {
              "fillmode": "overlay",
              "size": 10,
              "solidity": 0.2
             }
            },
            "type": "bar"
           }
          ],
          "barpolar": [
           {
            "marker": {
             "line": {
              "color": "white",
              "width": 0.5
             },
             "pattern": {
              "fillmode": "overlay",
              "size": 10,
              "solidity": 0.2
             }
            },
            "type": "barpolar"
           }
          ],
          "carpet": [
           {
            "aaxis": {
             "endlinecolor": "#2a3f5f",
             "gridcolor": "#C8D4E3",
             "linecolor": "#C8D4E3",
             "minorgridcolor": "#C8D4E3",
             "startlinecolor": "#2a3f5f"
            },
            "baxis": {
             "endlinecolor": "#2a3f5f",
             "gridcolor": "#C8D4E3",
             "linecolor": "#C8D4E3",
             "minorgridcolor": "#C8D4E3",
             "startlinecolor": "#2a3f5f"
            },
            "type": "carpet"
           }
          ],
          "choropleth": [
           {
            "colorbar": {
             "outlinewidth": 0,
             "ticks": ""
            },
            "type": "choropleth"
           }
          ],
          "contour": [
           {
            "colorbar": {
             "outlinewidth": 0,
             "ticks": ""
            },
            "colorscale": [
             [
              0,
              "#0d0887"
             ],
             [
              0.1111111111111111,
              "#46039f"
             ],
             [
              0.2222222222222222,
              "#7201a8"
             ],
             [
              0.3333333333333333,
              "#9c179e"
             ],
             [
              0.4444444444444444,
              "#bd3786"
             ],
             [
              0.5555555555555556,
              "#d8576b"
             ],
             [
              0.6666666666666666,
              "#ed7953"
             ],
             [
              0.7777777777777778,
              "#fb9f3a"
             ],
             [
              0.8888888888888888,
              "#fdca26"
             ],
             [
              1,
              "#f0f921"
             ]
            ],
            "type": "contour"
           }
          ],
          "contourcarpet": [
           {
            "colorbar": {
             "outlinewidth": 0,
             "ticks": ""
            },
            "type": "contourcarpet"
           }
          ],
          "heatmap": [
           {
            "colorbar": {
             "outlinewidth": 0,
             "ticks": ""
            },
            "colorscale": [
             [
              0,
              "#0d0887"
             ],
             [
              0.1111111111111111,
              "#46039f"
             ],
             [
              0.2222222222222222,
              "#7201a8"
             ],
             [
              0.3333333333333333,
              "#9c179e"
             ],
             [
              0.4444444444444444,
              "#bd3786"
             ],
             [
              0.5555555555555556,
              "#d8576b"
             ],
             [
              0.6666666666666666,
              "#ed7953"
             ],
             [
              0.7777777777777778,
              "#fb9f3a"
             ],
             [
              0.8888888888888888,
              "#fdca26"
             ],
             [
              1,
              "#f0f921"
             ]
            ],
            "type": "heatmap"
           }
          ],
          "histogram": [
           {
            "marker": {
             "pattern": {
              "fillmode": "overlay",
              "size": 10,
              "solidity": 0.2
             }
            },
            "type": "histogram"
           }
          ],
          "histogram2d": [
           {
            "colorbar": {
             "outlinewidth": 0,
             "ticks": ""
            },
            "colorscale": [
             [
              0,
              "#0d0887"
             ],
             [
              0.1111111111111111,
              "#46039f"
             ],
             [
              0.2222222222222222,
              "#7201a8"
             ],
             [
              0.3333333333333333,
              "#9c179e"
             ],
             [
              0.4444444444444444,
              "#bd3786"
             ],
             [
              0.5555555555555556,
              "#d8576b"
             ],
             [
              0.6666666666666666,
              "#ed7953"
             ],
             [
              0.7777777777777778,
              "#fb9f3a"
             ],
             [
              0.8888888888888888,
              "#fdca26"
             ],
             [
              1,
              "#f0f921"
             ]
            ],
            "type": "histogram2d"
           }
          ],
          "histogram2dcontour": [
           {
            "colorbar": {
             "outlinewidth": 0,
             "ticks": ""
            },
            "colorscale": [
             [
              0,
              "#0d0887"
             ],
             [
              0.1111111111111111,
              "#46039f"
             ],
             [
              0.2222222222222222,
              "#7201a8"
             ],
             [
              0.3333333333333333,
              "#9c179e"
             ],
             [
              0.4444444444444444,
              "#bd3786"
             ],
             [
              0.5555555555555556,
              "#d8576b"
             ],
             [
              0.6666666666666666,
              "#ed7953"
             ],
             [
              0.7777777777777778,
              "#fb9f3a"
             ],
             [
              0.8888888888888888,
              "#fdca26"
             ],
             [
              1,
              "#f0f921"
             ]
            ],
            "type": "histogram2dcontour"
           }
          ],
          "mesh3d": [
           {
            "colorbar": {
             "outlinewidth": 0,
             "ticks": ""
            },
            "type": "mesh3d"
           }
          ],
          "parcoords": [
           {
            "line": {
             "colorbar": {
              "outlinewidth": 0,
              "ticks": ""
             }
            },
            "type": "parcoords"
           }
          ],
          "pie": [
           {
            "automargin": true,
            "type": "pie"
           }
          ],
          "scatter": [
           {
            "fillpattern": {
             "fillmode": "overlay",
             "size": 10,
             "solidity": 0.2
            },
            "type": "scatter"
           }
          ],
          "scatter3d": [
           {
            "line": {
             "colorbar": {
              "outlinewidth": 0,
              "ticks": ""
             }
            },
            "marker": {
             "colorbar": {
              "outlinewidth": 0,
              "ticks": ""
             }
            },
            "type": "scatter3d"
           }
          ],
          "scattercarpet": [
           {
            "marker": {
             "colorbar": {
              "outlinewidth": 0,
              "ticks": ""
             }
            },
            "type": "scattercarpet"
           }
          ],
          "scattergeo": [
           {
            "marker": {
             "colorbar": {
              "outlinewidth": 0,
              "ticks": ""
             }
            },
            "type": "scattergeo"
           }
          ],
          "scattergl": [
           {
            "marker": {
             "colorbar": {
              "outlinewidth": 0,
              "ticks": ""
             }
            },
            "type": "scattergl"
           }
          ],
          "scattermap": [
           {
            "marker": {
             "colorbar": {
              "outlinewidth": 0,
              "ticks": ""
             }
            },
            "type": "scattermap"
           }
          ],
          "scattermapbox": [
           {
            "marker": {
             "colorbar": {
              "outlinewidth": 0,
              "ticks": ""
             }
            },
            "type": "scattermapbox"
           }
          ],
          "scatterpolar": [
           {
            "marker": {
             "colorbar": {
              "outlinewidth": 0,
              "ticks": ""
             }
            },
            "type": "scatterpolar"
           }
          ],
          "scatterpolargl": [
           {
            "marker": {
             "colorbar": {
              "outlinewidth": 0,
              "ticks": ""
             }
            },
            "type": "scatterpolargl"
           }
          ],
          "scatterternary": [
           {
            "marker": {
             "colorbar": {
              "outlinewidth": 0,
              "ticks": ""
             }
            },
            "type": "scatterternary"
           }
          ],
          "surface": [
           {
            "colorbar": {
             "outlinewidth": 0,
             "ticks": ""
            },
            "colorscale": [
             [
              0,
              "#0d0887"
             ],
             [
              0.1111111111111111,
              "#46039f"
             ],
             [
              0.2222222222222222,
              "#7201a8"
             ],
             [
              0.3333333333333333,
              "#9c179e"
             ],
             [
              0.4444444444444444,
              "#bd3786"
             ],
             [
              0.5555555555555556,
              "#d8576b"
             ],
             [
              0.6666666666666666,
              "#ed7953"
             ],
             [
              0.7777777777777778,
              "#fb9f3a"
             ],
             [
              0.8888888888888888,
              "#fdca26"
             ],
             [
              1,
              "#f0f921"
             ]
            ],
            "type": "surface"
           }
          ],
          "table": [
           {
            "cells": {
             "fill": {
              "color": "#EBF0F8"
             },
             "line": {
              "color": "white"
             }
            },
            "header": {
             "fill": {
              "color": "#C8D4E3"
             },
             "line": {
              "color": "white"
             }
            },
            "type": "table"
           }
          ]
         },
         "layout": {
          "annotationdefaults": {
           "arrowcolor": "#2a3f5f",
           "arrowhead": 0,
           "arrowwidth": 1
          },
          "autotypenumbers": "strict",
          "coloraxis": {
           "colorbar": {
            "outlinewidth": 0,
            "ticks": ""
           }
          },
          "colorscale": {
           "diverging": [
            [
             0,
             "#8e0152"
            ],
            [
             0.1,
             "#c51b7d"
            ],
            [
             0.2,
             "#de77ae"
            ],
            [
             0.3,
             "#f1b6da"
            ],
            [
             0.4,
             "#fde0ef"
            ],
            [
             0.5,
             "#f7f7f7"
            ],
            [
             0.6,
             "#e6f5d0"
            ],
            [
             0.7,
             "#b8e186"
            ],
            [
             0.8,
             "#7fbc41"
            ],
            [
             0.9,
             "#4d9221"
            ],
            [
             1,
             "#276419"
            ]
           ],
           "sequential": [
            [
             0,
             "#0d0887"
            ],
            [
             0.1111111111111111,
             "#46039f"
            ],
            [
             0.2222222222222222,
             "#7201a8"
            ],
            [
             0.3333333333333333,
             "#9c179e"
            ],
            [
             0.4444444444444444,
             "#bd3786"
            ],
            [
             0.5555555555555556,
             "#d8576b"
            ],
            [
             0.6666666666666666,
             "#ed7953"
            ],
            [
             0.7777777777777778,
             "#fb9f3a"
            ],
            [
             0.8888888888888888,
             "#fdca26"
            ],
            [
             1,
             "#f0f921"
            ]
           ],
           "sequentialminus": [
            [
             0,
             "#0d0887"
            ],
            [
             0.1111111111111111,
             "#46039f"
            ],
            [
             0.2222222222222222,
             "#7201a8"
            ],
            [
             0.3333333333333333,
             "#9c179e"
            ],
            [
             0.4444444444444444,
             "#bd3786"
            ],
            [
             0.5555555555555556,
             "#d8576b"
            ],
            [
             0.6666666666666666,
             "#ed7953"
            ],
            [
             0.7777777777777778,
             "#fb9f3a"
            ],
            [
             0.8888888888888888,
             "#fdca26"
            ],
            [
             1,
             "#f0f921"
            ]
           ]
          },
          "colorway": [
           "#636efa",
           "#EF553B",
           "#00cc96",
           "#ab63fa",
           "#FFA15A",
           "#19d3f3",
           "#FF6692",
           "#B6E880",
           "#FF97FF",
           "#FECB52"
          ],
          "font": {
           "color": "#2a3f5f"
          },
          "geo": {
           "bgcolor": "white",
           "lakecolor": "white",
           "landcolor": "white",
           "showlakes": true,
           "showland": true,
           "subunitcolor": "#C8D4E3"
          },
          "hoverlabel": {
           "align": "left"
          },
          "hovermode": "closest",
          "mapbox": {
           "style": "light"
          },
          "paper_bgcolor": "white",
          "plot_bgcolor": "white",
          "polar": {
           "angularaxis": {
            "gridcolor": "#EBF0F8",
            "linecolor": "#EBF0F8",
            "ticks": ""
           },
           "bgcolor": "white",
           "radialaxis": {
            "gridcolor": "#EBF0F8",
            "linecolor": "#EBF0F8",
            "ticks": ""
           }
          },
          "scene": {
           "xaxis": {
            "backgroundcolor": "white",
            "gridcolor": "#DFE8F3",
            "gridwidth": 2,
            "linecolor": "#EBF0F8",
            "showbackground": true,
            "ticks": "",
            "zerolinecolor": "#EBF0F8"
           },
           "yaxis": {
            "backgroundcolor": "white",
            "gridcolor": "#DFE8F3",
            "gridwidth": 2,
            "linecolor": "#EBF0F8",
            "showbackground": true,
            "ticks": "",
            "zerolinecolor": "#EBF0F8"
           },
           "zaxis": {
            "backgroundcolor": "white",
            "gridcolor": "#DFE8F3",
            "gridwidth": 2,
            "linecolor": "#EBF0F8",
            "showbackground": true,
            "ticks": "",
            "zerolinecolor": "#EBF0F8"
           }
          },
          "shapedefaults": {
           "line": {
            "color": "#2a3f5f"
           }
          },
          "ternary": {
           "aaxis": {
            "gridcolor": "#DFE8F3",
            "linecolor": "#A2B1C6",
            "ticks": ""
           },
           "baxis": {
            "gridcolor": "#DFE8F3",
            "linecolor": "#A2B1C6",
            "ticks": ""
           },
           "bgcolor": "white",
           "caxis": {
            "gridcolor": "#DFE8F3",
            "linecolor": "#A2B1C6",
            "ticks": ""
           }
          },
          "title": {
           "x": 0.05
          },
          "xaxis": {
           "automargin": true,
           "gridcolor": "#EBF0F8",
           "linecolor": "#EBF0F8",
           "ticks": "",
           "title": {
            "standoff": 15
           },
           "zerolinecolor": "#EBF0F8",
           "zerolinewidth": 2
          },
          "yaxis": {
           "automargin": true,
           "gridcolor": "#EBF0F8",
           "linecolor": "#EBF0F8",
           "ticks": "",
           "title": {
            "standoff": 15
           },
           "zerolinecolor": "#EBF0F8",
           "zerolinewidth": 2
          }
         }
        },
        "title": {
         "text": "2 year ahead inflation expectations by housing status"
        },
        "xaxis": {
         "title": {
          "text": "Quarter"
         }
        },
        "yaxis": {
         "title": {
          "text": "Grouped Median (Interpolated)"
         }
        }
       }
      }
     },
     "metadata": {},
     "output_type": "display_data"
    }
   ],
   "source": [
    "plot_question_medians(median_dfs[1], housing_mapping, '2 year ahead inflation expectations by housing status')"
   ]
  },
  {
   "cell_type": "code",
   "execution_count": 24,
   "metadata": {},
   "outputs": [
    {
     "data": {
      "application/vnd.plotly.v1+json": {
       "config": {
        "plotlyServerURL": "https://plot.ly"
       },
       "data": [
        {
         "mode": "lines+markers",
         "name": "Owned outright",
         "type": "scatter",
         "x": [
          "2009-01-01T00:00:00.000000",
          "2009-04-01T00:00:00.000000",
          "2009-07-01T00:00:00.000000",
          "2009-10-01T00:00:00.000000",
          "2010-01-01T00:00:00.000000",
          "2010-04-01T00:00:00.000000",
          "2010-07-01T00:00:00.000000",
          "2010-10-01T00:00:00.000000",
          "2011-01-01T00:00:00.000000",
          "2011-04-01T00:00:00.000000",
          "2011-07-01T00:00:00.000000",
          "2011-10-01T00:00:00.000000",
          "2012-01-01T00:00:00.000000",
          "2012-04-01T00:00:00.000000",
          "2012-07-01T00:00:00.000000",
          "2012-10-01T00:00:00.000000",
          "2013-01-01T00:00:00.000000",
          "2013-04-01T00:00:00.000000",
          "2013-07-01T00:00:00.000000",
          "2013-10-01T00:00:00.000000",
          "2014-01-01T00:00:00.000000",
          "2014-04-01T00:00:00.000000",
          "2014-07-01T00:00:00.000000",
          "2014-10-01T00:00:00.000000",
          "2015-01-01T00:00:00.000000",
          "2015-04-01T00:00:00.000000",
          "2015-07-01T00:00:00.000000",
          "2015-10-01T00:00:00.000000",
          "2016-01-01T00:00:00.000000",
          "2016-04-01T00:00:00.000000",
          "2016-07-01T00:00:00.000000",
          "2016-10-01T00:00:00.000000",
          "2017-01-01T00:00:00.000000",
          "2017-04-01T00:00:00.000000",
          "2017-07-01T00:00:00.000000",
          "2017-10-01T00:00:00.000000",
          "2018-01-01T00:00:00.000000",
          "2018-04-01T00:00:00.000000",
          "2018-07-01T00:00:00.000000",
          "2018-10-01T00:00:00.000000",
          "2019-01-01T00:00:00.000000",
          "2019-04-01T00:00:00.000000",
          "2019-07-01T00:00:00.000000",
          "2019-10-01T00:00:00.000000",
          "2020-01-01T00:00:00.000000",
          "2020-04-01T00:00:00.000000",
          "2020-07-01T00:00:00.000000",
          "2020-10-01T00:00:00.000000",
          "2021-01-01T00:00:00.000000",
          "2021-04-01T00:00:00.000000",
          "2021-07-01T00:00:00.000000",
          "2021-10-01T00:00:00.000000",
          "2022-01-01T00:00:00.000000",
          "2022-04-01T00:00:00.000000",
          "2022-07-01T00:00:00.000000",
          "2022-10-01T00:00:00.000000",
          "2023-01-01T00:00:00.000000",
          "2023-04-01T00:00:00.000000",
          "2023-07-01T00:00:00.000000",
          "2023-10-01T00:00:00.000000",
          "2024-01-01T00:00:00.000000",
          "2024-04-01T00:00:00.000000",
          "2024-07-01T00:00:00.000000",
          "2024-10-01T00:00:00.000000",
          "2025-01-01T00:00:00.000000"
         ],
         "y": {
          "bdata": "cB/BfQT3BUAQ/MAP/MAHQCLTsN0sTwZAAAAAAAAACEDaLfxqTKQJQOLh4eHh4QlAAAAAAAAACkA++OCDDz4KQFwyBOto8wpA3/SmN73pC0DGGGOMMcYKQO0b1r5h7QtAuuiiiy66CEDfe++9994LQId+s3XoNwdAOB+D8zE4D0AmxQtkUrwMQKRwPQrXow5AkYUsZCELC0AkSZIkSRIOQMhWBA0ndQlADUSlI3sGBkCe2Imd2IkJQJ7neZ7neQdA31j9gR4pBUAAAAAAAAAFQNf8sEgZeAZAwVw7MNcOBEASGIERGIEFQD3P8zzP8whAKHZiJ3biBUAkSZIkSZIGQO0BswfMHghAwcspeDkFB0BRuxK1K1EHQERERERERAhAUltJbSW1CUDwvffee+8LQNejcD0K1wtAAAAAAACACkA0LLhUtncJQKdpmqZpmgpAkYUsZCELCEAAAAAAAHAJQHIFMbmCmAhAME0cxmrrA0CKndiJndgFQLYaPEegaAdApw102kCnBUBCCCGEEEIEQAKh5E7RwgVA5TWU11DeBUBDZYepy+0HQMTDw8PDwwtA3vSmN73pB0C1tLS0tLQIQHTwqEtBBwdAF2RckHFBBkCrqqqqqqoHQAAAAAAAgAZA/lYbQ9MdCEBUXDIE62gHQI4oMOnUPAhATA3sHVMDC0DKqIzKqIwKQA==",
          "dtype": "f8"
         }
        },
        {
         "mode": "lines+markers",
         "name": "Council Rent",
         "type": "scatter",
         "x": [
          "2009-01-01T00:00:00.000000",
          "2009-04-01T00:00:00.000000",
          "2009-07-01T00:00:00.000000",
          "2009-10-01T00:00:00.000000",
          "2010-01-01T00:00:00.000000",
          "2010-04-01T00:00:00.000000",
          "2010-07-01T00:00:00.000000",
          "2010-10-01T00:00:00.000000",
          "2011-01-01T00:00:00.000000",
          "2011-04-01T00:00:00.000000",
          "2011-07-01T00:00:00.000000",
          "2011-10-01T00:00:00.000000",
          "2012-01-01T00:00:00.000000",
          "2012-04-01T00:00:00.000000",
          "2012-07-01T00:00:00.000000",
          "2012-10-01T00:00:00.000000",
          "2013-01-01T00:00:00.000000",
          "2013-04-01T00:00:00.000000",
          "2013-07-01T00:00:00.000000",
          "2013-10-01T00:00:00.000000",
          "2014-01-01T00:00:00.000000",
          "2014-04-01T00:00:00.000000",
          "2014-07-01T00:00:00.000000",
          "2014-10-01T00:00:00.000000",
          "2015-01-01T00:00:00.000000",
          "2015-04-01T00:00:00.000000",
          "2015-07-01T00:00:00.000000",
          "2015-10-01T00:00:00.000000",
          "2016-01-01T00:00:00.000000",
          "2016-04-01T00:00:00.000000",
          "2016-07-01T00:00:00.000000",
          "2016-10-01T00:00:00.000000",
          "2017-01-01T00:00:00.000000",
          "2017-04-01T00:00:00.000000",
          "2017-07-01T00:00:00.000000",
          "2017-10-01T00:00:00.000000",
          "2018-01-01T00:00:00.000000",
          "2018-04-01T00:00:00.000000",
          "2018-07-01T00:00:00.000000",
          "2018-10-01T00:00:00.000000",
          "2019-01-01T00:00:00.000000",
          "2019-04-01T00:00:00.000000",
          "2019-07-01T00:00:00.000000",
          "2019-10-01T00:00:00.000000",
          "2020-01-01T00:00:00.000000",
          "2020-04-01T00:00:00.000000",
          "2020-07-01T00:00:00.000000",
          "2020-10-01T00:00:00.000000",
          "2021-01-01T00:00:00.000000",
          "2021-04-01T00:00:00.000000",
          "2021-07-01T00:00:00.000000",
          "2021-10-01T00:00:00.000000",
          "2022-01-01T00:00:00.000000",
          "2022-04-01T00:00:00.000000",
          "2022-07-01T00:00:00.000000",
          "2022-10-01T00:00:00.000000",
          "2023-01-01T00:00:00.000000",
          "2023-04-01T00:00:00.000000",
          "2023-07-01T00:00:00.000000",
          "2023-10-01T00:00:00.000000",
          "2024-01-01T00:00:00.000000",
          "2024-04-01T00:00:00.000000",
          "2024-07-01T00:00:00.000000",
          "2024-10-01T00:00:00.000000",
          "2025-01-01T00:00:00.000000"
         ],
         "y": {
          "bdata": "HMdxHMdxCkCoEZZ7GmEJQJze9KY3vQlASZIkSZIkCkC7ErUrUbsKQGG5pxGWewpAbtu2bdu2DECMLrrooosOQPc0wnJPIxBA3LZt27ZtD0AAAAAAAAARQCxkIQtZyA5A3/SmN73pEEBu27Zt2zYRQCh2Yid2Yg1AZmZmZmamEEAAAAAAALgRQERERERERBFAq6qqqqqqEECSJEmSJEkQQNg7pgb2jg1AVVVVVVVVCUAcx3Ecx3EMQBxMkc+6wQxAAAAAAABABkCrqqqqqqoKQIfyGsprKAdAt23btm3bCkAAAAAAAAAKQAAAAAAAABBAh/IaymsoC0AAAAAAAIALQF100UUXXQxAkc+6wRT5DEDoC/qCvqAPQKEv6Av6gg5AtHXoN1uHDkAAAAAAAAAOQKuqqqqqqhBADLZgC7ZgD0Dctm3btm0PQJ9DaoLxVhBAOL3pTW96D0AlSZIkSZIQQO1K1K5E7QxAOpBohc2BBEB5DeU1lNcEQBzHcRzHcQRARkZGRkZGCkBzCl5OwcsJQOF6FK5H4QpAQxaykIUsDEByHMdxHMcNQD744IMPPgxAntiJndiJCUAAAAAAAMANQPoYnI/B+QhAmpmZmZmZCUCIh4eHh4cPQAAAAAAAABBAmpmZmZkZC0C0l9BeQnsNQGgvob2E9gpAF1100UUXDUDvU1wyBOsMQA==",
          "dtype": "f8"
         }
        },
        {
         "mode": "lines+markers",
         "name": "Mortgage",
         "type": "scatter",
         "x": [
          "2009-01-01T00:00:00.000000",
          "2009-04-01T00:00:00.000000",
          "2009-07-01T00:00:00.000000",
          "2009-10-01T00:00:00.000000",
          "2010-01-01T00:00:00.000000",
          "2010-04-01T00:00:00.000000",
          "2010-07-01T00:00:00.000000",
          "2010-10-01T00:00:00.000000",
          "2011-01-01T00:00:00.000000",
          "2011-04-01T00:00:00.000000",
          "2011-07-01T00:00:00.000000",
          "2011-10-01T00:00:00.000000",
          "2012-01-01T00:00:00.000000",
          "2012-04-01T00:00:00.000000",
          "2012-07-01T00:00:00.000000",
          "2012-10-01T00:00:00.000000",
          "2013-01-01T00:00:00.000000",
          "2013-04-01T00:00:00.000000",
          "2013-07-01T00:00:00.000000",
          "2013-10-01T00:00:00.000000",
          "2014-01-01T00:00:00.000000",
          "2014-04-01T00:00:00.000000",
          "2014-07-01T00:00:00.000000",
          "2014-10-01T00:00:00.000000",
          "2015-01-01T00:00:00.000000",
          "2015-04-01T00:00:00.000000",
          "2015-07-01T00:00:00.000000",
          "2015-10-01T00:00:00.000000",
          "2016-01-01T00:00:00.000000",
          "2016-04-01T00:00:00.000000",
          "2016-07-01T00:00:00.000000",
          "2016-10-01T00:00:00.000000",
          "2017-01-01T00:00:00.000000",
          "2017-04-01T00:00:00.000000",
          "2017-07-01T00:00:00.000000",
          "2017-10-01T00:00:00.000000",
          "2018-01-01T00:00:00.000000",
          "2018-04-01T00:00:00.000000",
          "2018-07-01T00:00:00.000000",
          "2018-10-01T00:00:00.000000",
          "2019-01-01T00:00:00.000000",
          "2019-04-01T00:00:00.000000",
          "2019-07-01T00:00:00.000000",
          "2019-10-01T00:00:00.000000",
          "2020-01-01T00:00:00.000000",
          "2020-04-01T00:00:00.000000",
          "2020-07-01T00:00:00.000000",
          "2020-10-01T00:00:00.000000",
          "2021-01-01T00:00:00.000000",
          "2021-04-01T00:00:00.000000",
          "2021-07-01T00:00:00.000000",
          "2021-10-01T00:00:00.000000",
          "2022-01-01T00:00:00.000000",
          "2022-04-01T00:00:00.000000",
          "2022-07-01T00:00:00.000000",
          "2022-10-01T00:00:00.000000",
          "2023-01-01T00:00:00.000000",
          "2023-04-01T00:00:00.000000",
          "2023-07-01T00:00:00.000000",
          "2023-10-01T00:00:00.000000",
          "2024-01-01T00:00:00.000000",
          "2024-04-01T00:00:00.000000",
          "2024-07-01T00:00:00.000000",
          "2024-10-01T00:00:00.000000",
          "2025-01-01T00:00:00.000000"
         ],
         "y": {
          "bdata": "O7ETO7GTBUA7RnGuYxQHQOxRuB6F6wVAZmZmZmZmCkC+hPYS2ssGQI7jOI7jOAdAt23btm3bB0BhC7ZgC7YIQDw8PDw8vAlAIHRU4IurB0DLT4iz8hMKQAAAAAAAYAtAikuGYB1tCECxEzuxEzsKQKhdidqVqAdAqF2J2pWoDUDwvffee+8KQC+66KKLLglAS0tLS0tLCkA01ofG+tAMQKnvbNR3NghAo4suuuiiB0CxEzuxEzsKQJ7YiZ3YiQVAAAAAAADABkCdc84555wHQL1PcckQrAdAMzMzMzMzBUAtLS0tLS0HQKcNdNpApwlAGYJ1tHmfBkDhgw8++OAHQC1PItOw3QhAo8TPKPEzCkB605ve9KYJQDuxEzuxEwlAq6qqqqoqCkDtc0hNMN4KQAAAAAAAAAxAnN70pje9CUDpoosuumgLQA6pCcZb2QtAnud5nud5BkAAAAAAAMANQIMmXzZo8glANtlkk002BUAtLS0tLS0JQG2yySabbAhADB7Le7VFBkCe8YxnPOMFQJqZmZmZmQdAzLUDc+3ACEAbymsor6ELQDmO4ziOYwlAdl3XdV3XCUB+4Ad+4AcKQPg2f4VZjQZAgh/4gR/4BUClT/qkT/oEQJJHHnnkkQdApmmapmmaBkBkz0BUOrIHQB6Yawfm2gVAEq2wOZBoCUB5lhF9QHUMQA==",
          "dtype": "f8"
         }
        },
        {
         "mode": "lines+markers",
         "name": "Other",
         "type": "scatter",
         "x": [
          "2009-01-01T00:00:00.000000",
          "2009-04-01T00:00:00.000000",
          "2009-07-01T00:00:00.000000",
          "2009-10-01T00:00:00.000000",
          "2010-01-01T00:00:00.000000",
          "2010-04-01T00:00:00.000000",
          "2010-07-01T00:00:00.000000",
          "2010-10-01T00:00:00.000000",
          "2011-01-01T00:00:00.000000",
          "2011-04-01T00:00:00.000000",
          "2011-07-01T00:00:00.000000",
          "2011-10-01T00:00:00.000000",
          "2012-01-01T00:00:00.000000",
          "2012-04-01T00:00:00.000000",
          "2012-07-01T00:00:00.000000",
          "2012-10-01T00:00:00.000000",
          "2013-01-01T00:00:00.000000",
          "2013-04-01T00:00:00.000000",
          "2013-07-01T00:00:00.000000",
          "2013-10-01T00:00:00.000000",
          "2014-01-01T00:00:00.000000",
          "2014-04-01T00:00:00.000000",
          "2014-07-01T00:00:00.000000",
          "2014-10-01T00:00:00.000000",
          "2015-01-01T00:00:00.000000",
          "2015-04-01T00:00:00.000000",
          "2015-07-01T00:00:00.000000",
          "2015-10-01T00:00:00.000000",
          "2016-01-01T00:00:00.000000",
          "2016-04-01T00:00:00.000000",
          "2016-07-01T00:00:00.000000",
          "2016-10-01T00:00:00.000000",
          "2017-01-01T00:00:00.000000",
          "2017-04-01T00:00:00.000000",
          "2017-07-01T00:00:00.000000",
          "2017-10-01T00:00:00.000000",
          "2018-01-01T00:00:00.000000",
          "2018-04-01T00:00:00.000000",
          "2018-07-01T00:00:00.000000",
          "2018-10-01T00:00:00.000000",
          "2019-01-01T00:00:00.000000",
          "2019-04-01T00:00:00.000000",
          "2019-07-01T00:00:00.000000",
          "2019-10-01T00:00:00.000000",
          "2020-01-01T00:00:00.000000",
          "2020-04-01T00:00:00.000000",
          "2020-07-01T00:00:00.000000",
          "2020-10-01T00:00:00.000000",
          "2021-01-01T00:00:00.000000",
          "2021-04-01T00:00:00.000000",
          "2021-07-01T00:00:00.000000",
          "2021-10-01T00:00:00.000000",
          "2022-01-01T00:00:00.000000",
          "2022-04-01T00:00:00.000000",
          "2022-07-01T00:00:00.000000",
          "2022-10-01T00:00:00.000000",
          "2023-01-01T00:00:00.000000",
          "2023-04-01T00:00:00.000000",
          "2023-07-01T00:00:00.000000",
          "2023-10-01T00:00:00.000000",
          "2024-01-01T00:00:00.000000",
          "2024-04-01T00:00:00.000000",
          "2024-07-01T00:00:00.000000",
          "2024-10-01T00:00:00.000000",
          "2025-01-01T00:00:00.000000"
         ],
         "y": {
          "bdata": "dNFFF110A0Dv7u7u7u4FQAAAAAAAgAhABn1BX9AXCEC1gU4b6LQJQAbnY3A+BgtAAAAAAAAADEDQusEU+awLQEYXXXTRRQ5A3t3d3d3dCkDRRRdddFEQQPJW9jmkJhBAJEmSJEmSDEAAAAAAAEAPQJIkSZIkyQtAQZ4S5ClBCkCrqqqqqqoOQGZmZmZmZg9AFDuxEzsxEEBJkiRJkiQNQLdt27ZtWwtAbAfm2oG5BkCIyRXE5AoKQCMs9zTCcgdAUIiz8hPiBkCrqqqqquoHQCAWKQNPtwZAWVPWlDVlCUDT0tLS0tIKQGZmZmZm5g9AlTVlTVlTCkDks24wRT4LQBCN9aGxPgpAH4XrUbgeDUAkSZIkSZIMQNmJndiJHRBAkiRJkiRJDEBZyEIWspANQDMzMzMzsw5Apshn3WCKDEAJCQkJCQkNQOmiiy666AxAjuM4juM4CkC2YAu2YAsOQJ7YiZ3YiQ1A6aKLLrpoBEBcj8L1KFwHQAZ9QV/QFwhA+nw+n8/nB0CrqqqqqqoGQKuqqqqqagpAmmC8lX0ODUC81JPx26UMQAAAAAAAwA1ALL7iK77iCUCdc84555wNQJ5lRB9QHQtAchzHcRzHCUAAAAAAAMAHQM7Nzc3NzQ1A1Uqt1EqtDEDYHnJZMVAKQLy7u7u7uw5APVA5u4VfDUDXhmnugr8OQA==",
          "dtype": "f8"
         }
        },
        {
         "mode": "lines+markers",
         "name": "None",
         "type": "scatter",
         "x": [
          "2009-01-01T00:00:00.000000",
          "2009-04-01T00:00:00.000000",
          "2009-07-01T00:00:00.000000",
          "2009-10-01T00:00:00.000000",
          "2010-01-01T00:00:00.000000",
          "2010-04-01T00:00:00.000000",
          "2010-07-01T00:00:00.000000",
          "2010-10-01T00:00:00.000000",
          "2011-01-01T00:00:00.000000",
          "2011-04-01T00:00:00.000000",
          "2011-07-01T00:00:00.000000",
          "2011-10-01T00:00:00.000000",
          "2012-01-01T00:00:00.000000",
          "2012-04-01T00:00:00.000000",
          "2012-07-01T00:00:00.000000",
          "2012-10-01T00:00:00.000000",
          "2013-01-01T00:00:00.000000",
          "2013-04-01T00:00:00.000000",
          "2013-07-01T00:00:00.000000",
          "2013-10-01T00:00:00.000000",
          "2014-01-01T00:00:00.000000",
          "2014-04-01T00:00:00.000000",
          "2014-07-01T00:00:00.000000",
          "2014-10-01T00:00:00.000000",
          "2015-01-01T00:00:00.000000",
          "2015-04-01T00:00:00.000000",
          "2015-07-01T00:00:00.000000",
          "2015-10-01T00:00:00.000000",
          "2016-01-01T00:00:00.000000",
          "2016-04-01T00:00:00.000000",
          "2016-07-01T00:00:00.000000",
          "2016-10-01T00:00:00.000000",
          "2017-01-01T00:00:00.000000",
          "2017-04-01T00:00:00.000000",
          "2017-07-01T00:00:00.000000",
          "2017-10-01T00:00:00.000000",
          "2018-01-01T00:00:00.000000",
          "2018-04-01T00:00:00.000000",
          "2018-07-01T00:00:00.000000",
          "2018-10-01T00:00:00.000000",
          "2019-01-01T00:00:00.000000",
          "2019-04-01T00:00:00.000000",
          "2019-07-01T00:00:00.000000",
          "2019-10-01T00:00:00.000000",
          "2020-01-01T00:00:00.000000",
          "2020-04-01T00:00:00.000000",
          "2020-07-01T00:00:00.000000",
          "2020-10-01T00:00:00.000000",
          "2021-01-01T00:00:00.000000",
          "2021-04-01T00:00:00.000000",
          "2021-07-01T00:00:00.000000",
          "2021-10-01T00:00:00.000000",
          "2022-01-01T00:00:00.000000",
          "2022-04-01T00:00:00.000000",
          "2022-07-01T00:00:00.000000",
          "2022-10-01T00:00:00.000000",
          "2023-01-01T00:00:00.000000",
          "2023-04-01T00:00:00.000000",
          "2023-07-01T00:00:00.000000",
          "2023-10-01T00:00:00.000000",
          "2024-01-01T00:00:00.000000",
          "2024-04-01T00:00:00.000000",
          "2024-07-01T00:00:00.000000",
          "2024-10-01T00:00:00.000000",
          "2025-01-01T00:00:00.000000"
         ],
         "y": {
          "bdata": "AAAAAAAA+H8AAAAAAAD4fwAAAAAAAPh/AAAAAAAA+H8AAAAAAAD4fwAAAAAAAPh/AAAAAAAA+H8AAAAAAAD4fwAAAAAAAPh/AAAAAAAA+H8AAAAAAAD4fwAAAAAAAPh/AAAAAAAA+H8AAAAAAAD4fwAAAAAAAPh/AAAAAAAA+H8AAAAAAAD4fwAAAAAAAPh/AAAAAAAA+H8AAAAAAAD4fwAAAAAAAPh/AAAAAAAA+H8AAAAAAAD4fwAAAAAAAPh/AAAAAAAA+H8AAAAAAAD4fwAAAAAAAPh/AAAAAAAA+H8AAAAAAAD4fwAAAAAAAPh/AAAAAAAA+H8AAAAAAAD4fwAAAAAAAPh/AAAAAAAA+H8AAAAAAAD4fwAAAAAAAPh/AAAAAAAA+H8AAAAAAAD4fwAAAAAAAPh/AAAAAAAA+H8AAAAAAAD4fwAAAAAAAPh/AAAAAAAA+H8AAAAAAAD4fwAAAAAAAPh/tbS0tLS0BECKv8gZFlwGQImIiIiIiAhAAAAAAAAA+H8AAAAAAAAEQAAAAAAAAPh/AAAAAAAA+H8AAAAAAAD4fwAAAAAAAPh/AAAAAAAA+H8AAAAAAAD4fwAAAAAAAPh/AAAAAAAA+H8AAAAAAAD4fwAAAAAAAPh/AAAAAAAA+H8AAAAAAAD4fwAAAAAAAPh/AAAAAAAA+H8AAAAAAAD4fw==",
          "dtype": "f8"
         }
        }
       ],
       "layout": {
        "hovermode": "x unified",
        "legend": {
         "title": {
          "text": "Group"
         }
        },
        "template": {
         "data": {
          "bar": [
           {
            "error_x": {
             "color": "#2a3f5f"
            },
            "error_y": {
             "color": "#2a3f5f"
            },
            "marker": {
             "line": {
              "color": "white",
              "width": 0.5
             },
             "pattern": {
              "fillmode": "overlay",
              "size": 10,
              "solidity": 0.2
             }
            },
            "type": "bar"
           }
          ],
          "barpolar": [
           {
            "marker": {
             "line": {
              "color": "white",
              "width": 0.5
             },
             "pattern": {
              "fillmode": "overlay",
              "size": 10,
              "solidity": 0.2
             }
            },
            "type": "barpolar"
           }
          ],
          "carpet": [
           {
            "aaxis": {
             "endlinecolor": "#2a3f5f",
             "gridcolor": "#C8D4E3",
             "linecolor": "#C8D4E3",
             "minorgridcolor": "#C8D4E3",
             "startlinecolor": "#2a3f5f"
            },
            "baxis": {
             "endlinecolor": "#2a3f5f",
             "gridcolor": "#C8D4E3",
             "linecolor": "#C8D4E3",
             "minorgridcolor": "#C8D4E3",
             "startlinecolor": "#2a3f5f"
            },
            "type": "carpet"
           }
          ],
          "choropleth": [
           {
            "colorbar": {
             "outlinewidth": 0,
             "ticks": ""
            },
            "type": "choropleth"
           }
          ],
          "contour": [
           {
            "colorbar": {
             "outlinewidth": 0,
             "ticks": ""
            },
            "colorscale": [
             [
              0,
              "#0d0887"
             ],
             [
              0.1111111111111111,
              "#46039f"
             ],
             [
              0.2222222222222222,
              "#7201a8"
             ],
             [
              0.3333333333333333,
              "#9c179e"
             ],
             [
              0.4444444444444444,
              "#bd3786"
             ],
             [
              0.5555555555555556,
              "#d8576b"
             ],
             [
              0.6666666666666666,
              "#ed7953"
             ],
             [
              0.7777777777777778,
              "#fb9f3a"
             ],
             [
              0.8888888888888888,
              "#fdca26"
             ],
             [
              1,
              "#f0f921"
             ]
            ],
            "type": "contour"
           }
          ],
          "contourcarpet": [
           {
            "colorbar": {
             "outlinewidth": 0,
             "ticks": ""
            },
            "type": "contourcarpet"
           }
          ],
          "heatmap": [
           {
            "colorbar": {
             "outlinewidth": 0,
             "ticks": ""
            },
            "colorscale": [
             [
              0,
              "#0d0887"
             ],
             [
              0.1111111111111111,
              "#46039f"
             ],
             [
              0.2222222222222222,
              "#7201a8"
             ],
             [
              0.3333333333333333,
              "#9c179e"
             ],
             [
              0.4444444444444444,
              "#bd3786"
             ],
             [
              0.5555555555555556,
              "#d8576b"
             ],
             [
              0.6666666666666666,
              "#ed7953"
             ],
             [
              0.7777777777777778,
              "#fb9f3a"
             ],
             [
              0.8888888888888888,
              "#fdca26"
             ],
             [
              1,
              "#f0f921"
             ]
            ],
            "type": "heatmap"
           }
          ],
          "histogram": [
           {
            "marker": {
             "pattern": {
              "fillmode": "overlay",
              "size": 10,
              "solidity": 0.2
             }
            },
            "type": "histogram"
           }
          ],
          "histogram2d": [
           {
            "colorbar": {
             "outlinewidth": 0,
             "ticks": ""
            },
            "colorscale": [
             [
              0,
              "#0d0887"
             ],
             [
              0.1111111111111111,
              "#46039f"
             ],
             [
              0.2222222222222222,
              "#7201a8"
             ],
             [
              0.3333333333333333,
              "#9c179e"
             ],
             [
              0.4444444444444444,
              "#bd3786"
             ],
             [
              0.5555555555555556,
              "#d8576b"
             ],
             [
              0.6666666666666666,
              "#ed7953"
             ],
             [
              0.7777777777777778,
              "#fb9f3a"
             ],
             [
              0.8888888888888888,
              "#fdca26"
             ],
             [
              1,
              "#f0f921"
             ]
            ],
            "type": "histogram2d"
           }
          ],
          "histogram2dcontour": [
           {
            "colorbar": {
             "outlinewidth": 0,
             "ticks": ""
            },
            "colorscale": [
             [
              0,
              "#0d0887"
             ],
             [
              0.1111111111111111,
              "#46039f"
             ],
             [
              0.2222222222222222,
              "#7201a8"
             ],
             [
              0.3333333333333333,
              "#9c179e"
             ],
             [
              0.4444444444444444,
              "#bd3786"
             ],
             [
              0.5555555555555556,
              "#d8576b"
             ],
             [
              0.6666666666666666,
              "#ed7953"
             ],
             [
              0.7777777777777778,
              "#fb9f3a"
             ],
             [
              0.8888888888888888,
              "#fdca26"
             ],
             [
              1,
              "#f0f921"
             ]
            ],
            "type": "histogram2dcontour"
           }
          ],
          "mesh3d": [
           {
            "colorbar": {
             "outlinewidth": 0,
             "ticks": ""
            },
            "type": "mesh3d"
           }
          ],
          "parcoords": [
           {
            "line": {
             "colorbar": {
              "outlinewidth": 0,
              "ticks": ""
             }
            },
            "type": "parcoords"
           }
          ],
          "pie": [
           {
            "automargin": true,
            "type": "pie"
           }
          ],
          "scatter": [
           {
            "fillpattern": {
             "fillmode": "overlay",
             "size": 10,
             "solidity": 0.2
            },
            "type": "scatter"
           }
          ],
          "scatter3d": [
           {
            "line": {
             "colorbar": {
              "outlinewidth": 0,
              "ticks": ""
             }
            },
            "marker": {
             "colorbar": {
              "outlinewidth": 0,
              "ticks": ""
             }
            },
            "type": "scatter3d"
           }
          ],
          "scattercarpet": [
           {
            "marker": {
             "colorbar": {
              "outlinewidth": 0,
              "ticks": ""
             }
            },
            "type": "scattercarpet"
           }
          ],
          "scattergeo": [
           {
            "marker": {
             "colorbar": {
              "outlinewidth": 0,
              "ticks": ""
             }
            },
            "type": "scattergeo"
           }
          ],
          "scattergl": [
           {
            "marker": {
             "colorbar": {
              "outlinewidth": 0,
              "ticks": ""
             }
            },
            "type": "scattergl"
           }
          ],
          "scattermap": [
           {
            "marker": {
             "colorbar": {
              "outlinewidth": 0,
              "ticks": ""
             }
            },
            "type": "scattermap"
           }
          ],
          "scattermapbox": [
           {
            "marker": {
             "colorbar": {
              "outlinewidth": 0,
              "ticks": ""
             }
            },
            "type": "scattermapbox"
           }
          ],
          "scatterpolar": [
           {
            "marker": {
             "colorbar": {
              "outlinewidth": 0,
              "ticks": ""
             }
            },
            "type": "scatterpolar"
           }
          ],
          "scatterpolargl": [
           {
            "marker": {
             "colorbar": {
              "outlinewidth": 0,
              "ticks": ""
             }
            },
            "type": "scatterpolargl"
           }
          ],
          "scatterternary": [
           {
            "marker": {
             "colorbar": {
              "outlinewidth": 0,
              "ticks": ""
             }
            },
            "type": "scatterternary"
           }
          ],
          "surface": [
           {
            "colorbar": {
             "outlinewidth": 0,
             "ticks": ""
            },
            "colorscale": [
             [
              0,
              "#0d0887"
             ],
             [
              0.1111111111111111,
              "#46039f"
             ],
             [
              0.2222222222222222,
              "#7201a8"
             ],
             [
              0.3333333333333333,
              "#9c179e"
             ],
             [
              0.4444444444444444,
              "#bd3786"
             ],
             [
              0.5555555555555556,
              "#d8576b"
             ],
             [
              0.6666666666666666,
              "#ed7953"
             ],
             [
              0.7777777777777778,
              "#fb9f3a"
             ],
             [
              0.8888888888888888,
              "#fdca26"
             ],
             [
              1,
              "#f0f921"
             ]
            ],
            "type": "surface"
           }
          ],
          "table": [
           {
            "cells": {
             "fill": {
              "color": "#EBF0F8"
             },
             "line": {
              "color": "white"
             }
            },
            "header": {
             "fill": {
              "color": "#C8D4E3"
             },
             "line": {
              "color": "white"
             }
            },
            "type": "table"
           }
          ]
         },
         "layout": {
          "annotationdefaults": {
           "arrowcolor": "#2a3f5f",
           "arrowhead": 0,
           "arrowwidth": 1
          },
          "autotypenumbers": "strict",
          "coloraxis": {
           "colorbar": {
            "outlinewidth": 0,
            "ticks": ""
           }
          },
          "colorscale": {
           "diverging": [
            [
             0,
             "#8e0152"
            ],
            [
             0.1,
             "#c51b7d"
            ],
            [
             0.2,
             "#de77ae"
            ],
            [
             0.3,
             "#f1b6da"
            ],
            [
             0.4,
             "#fde0ef"
            ],
            [
             0.5,
             "#f7f7f7"
            ],
            [
             0.6,
             "#e6f5d0"
            ],
            [
             0.7,
             "#b8e186"
            ],
            [
             0.8,
             "#7fbc41"
            ],
            [
             0.9,
             "#4d9221"
            ],
            [
             1,
             "#276419"
            ]
           ],
           "sequential": [
            [
             0,
             "#0d0887"
            ],
            [
             0.1111111111111111,
             "#46039f"
            ],
            [
             0.2222222222222222,
             "#7201a8"
            ],
            [
             0.3333333333333333,
             "#9c179e"
            ],
            [
             0.4444444444444444,
             "#bd3786"
            ],
            [
             0.5555555555555556,
             "#d8576b"
            ],
            [
             0.6666666666666666,
             "#ed7953"
            ],
            [
             0.7777777777777778,
             "#fb9f3a"
            ],
            [
             0.8888888888888888,
             "#fdca26"
            ],
            [
             1,
             "#f0f921"
            ]
           ],
           "sequentialminus": [
            [
             0,
             "#0d0887"
            ],
            [
             0.1111111111111111,
             "#46039f"
            ],
            [
             0.2222222222222222,
             "#7201a8"
            ],
            [
             0.3333333333333333,
             "#9c179e"
            ],
            [
             0.4444444444444444,
             "#bd3786"
            ],
            [
             0.5555555555555556,
             "#d8576b"
            ],
            [
             0.6666666666666666,
             "#ed7953"
            ],
            [
             0.7777777777777778,
             "#fb9f3a"
            ],
            [
             0.8888888888888888,
             "#fdca26"
            ],
            [
             1,
             "#f0f921"
            ]
           ]
          },
          "colorway": [
           "#636efa",
           "#EF553B",
           "#00cc96",
           "#ab63fa",
           "#FFA15A",
           "#19d3f3",
           "#FF6692",
           "#B6E880",
           "#FF97FF",
           "#FECB52"
          ],
          "font": {
           "color": "#2a3f5f"
          },
          "geo": {
           "bgcolor": "white",
           "lakecolor": "white",
           "landcolor": "white",
           "showlakes": true,
           "showland": true,
           "subunitcolor": "#C8D4E3"
          },
          "hoverlabel": {
           "align": "left"
          },
          "hovermode": "closest",
          "mapbox": {
           "style": "light"
          },
          "paper_bgcolor": "white",
          "plot_bgcolor": "white",
          "polar": {
           "angularaxis": {
            "gridcolor": "#EBF0F8",
            "linecolor": "#EBF0F8",
            "ticks": ""
           },
           "bgcolor": "white",
           "radialaxis": {
            "gridcolor": "#EBF0F8",
            "linecolor": "#EBF0F8",
            "ticks": ""
           }
          },
          "scene": {
           "xaxis": {
            "backgroundcolor": "white",
            "gridcolor": "#DFE8F3",
            "gridwidth": 2,
            "linecolor": "#EBF0F8",
            "showbackground": true,
            "ticks": "",
            "zerolinecolor": "#EBF0F8"
           },
           "yaxis": {
            "backgroundcolor": "white",
            "gridcolor": "#DFE8F3",
            "gridwidth": 2,
            "linecolor": "#EBF0F8",
            "showbackground": true,
            "ticks": "",
            "zerolinecolor": "#EBF0F8"
           },
           "zaxis": {
            "backgroundcolor": "white",
            "gridcolor": "#DFE8F3",
            "gridwidth": 2,
            "linecolor": "#EBF0F8",
            "showbackground": true,
            "ticks": "",
            "zerolinecolor": "#EBF0F8"
           }
          },
          "shapedefaults": {
           "line": {
            "color": "#2a3f5f"
           }
          },
          "ternary": {
           "aaxis": {
            "gridcolor": "#DFE8F3",
            "linecolor": "#A2B1C6",
            "ticks": ""
           },
           "baxis": {
            "gridcolor": "#DFE8F3",
            "linecolor": "#A2B1C6",
            "ticks": ""
           },
           "bgcolor": "white",
           "caxis": {
            "gridcolor": "#DFE8F3",
            "linecolor": "#A2B1C6",
            "ticks": ""
           }
          },
          "title": {
           "x": 0.05
          },
          "xaxis": {
           "automargin": true,
           "gridcolor": "#EBF0F8",
           "linecolor": "#EBF0F8",
           "ticks": "",
           "title": {
            "standoff": 15
           },
           "zerolinecolor": "#EBF0F8",
           "zerolinewidth": 2
          },
          "yaxis": {
           "automargin": true,
           "gridcolor": "#EBF0F8",
           "linecolor": "#EBF0F8",
           "ticks": "",
           "title": {
            "standoff": 15
           },
           "zerolinecolor": "#EBF0F8",
           "zerolinewidth": 2
          }
         }
        },
        "title": {
         "text": "5 year ahead inflation expectations by housing status"
        },
        "xaxis": {
         "title": {
          "text": "Quarter"
         }
        },
        "yaxis": {
         "title": {
          "text": "Grouped Median (Interpolated)"
         }
        }
       }
      }
     },
     "metadata": {},
     "output_type": "display_data"
    }
   ],
   "source": [
    "plot_question_medians(median_dfs[2], housing_mapping, '5 year ahead inflation expectations by housing status')"
   ]
  },
  {
   "cell_type": "markdown",
   "metadata": {},
   "source": [
    "## Income"
   ]
  },
  {
   "cell_type": "code",
   "execution_count": 34,
   "metadata": {},
   "outputs": [
    {
     "name": "stderr",
     "output_type": "stream",
     "text": [
      "Could not determine dtype for column 172, falling back to string\n",
      "Could not determine dtype for column 174, falling back to string\n",
      "Could not determine dtype for column 176, falling back to string\n"
     ]
    }
   ],
   "source": [
    "ias_raw = pl.read_excel(\n",
    "    '/Users/lukasalemu/Downloads/Inflation Attitudes Survey Feb 2025.xlsx', \n",
    "    sheet_name='Dataset', \n",
    "    columns=['yyyyqq', 'income', 'q2a_agg1', 'q2b_agg1', 'q2c_agg1']\n",
    ")\n",
    "ias_raw.head()\n",
    "\n",
    "df_clean = clean_ias(ias_raw, 'income')\n",
    "median_dfs = comp_grouped_medians(df_clean, q2_agg_ias_class_bounds, disagg_col=\"income\")\n"
   ]
  },
  {
   "cell_type": "code",
   "execution_count": 35,
   "metadata": {},
   "outputs": [
    {
     "data": {
      "application/vnd.plotly.v1+json": {
       "config": {
        "plotlyServerURL": "https://plot.ly"
       },
       "data": [
        {
         "mode": "lines+markers",
         "name": ">25000",
         "type": "scatter",
         "x": [
          "2009-01-01T00:00:00.000000",
          "2009-04-01T00:00:00.000000",
          "2009-07-01T00:00:00.000000",
          "2009-10-01T00:00:00.000000",
          "2010-01-01T00:00:00.000000",
          "2010-04-01T00:00:00.000000",
          "2010-07-01T00:00:00.000000",
          "2010-10-01T00:00:00.000000",
          "2011-01-01T00:00:00.000000",
          "2011-04-01T00:00:00.000000",
          "2011-07-01T00:00:00.000000",
          "2011-10-01T00:00:00.000000",
          "2012-01-01T00:00:00.000000",
          "2012-04-01T00:00:00.000000",
          "2012-07-01T00:00:00.000000",
          "2012-10-01T00:00:00.000000",
          "2013-01-01T00:00:00.000000",
          "2013-04-01T00:00:00.000000",
          "2013-07-01T00:00:00.000000",
          "2013-10-01T00:00:00.000000",
          "2014-01-01T00:00:00.000000",
          "2014-04-01T00:00:00.000000",
          "2014-07-01T00:00:00.000000",
          "2014-10-01T00:00:00.000000",
          "2015-01-01T00:00:00.000000",
          "2015-04-01T00:00:00.000000",
          "2015-07-01T00:00:00.000000",
          "2015-10-01T00:00:00.000000",
          "2016-01-01T00:00:00.000000",
          "2016-04-01T00:00:00.000000",
          "2016-07-01T00:00:00.000000",
          "2016-10-01T00:00:00.000000",
          "2017-01-01T00:00:00.000000",
          "2017-04-01T00:00:00.000000",
          "2017-07-01T00:00:00.000000",
          "2017-10-01T00:00:00.000000",
          "2018-01-01T00:00:00.000000",
          "2018-04-01T00:00:00.000000",
          "2018-07-01T00:00:00.000000",
          "2018-10-01T00:00:00.000000",
          "2019-01-01T00:00:00.000000",
          "2019-04-01T00:00:00.000000",
          "2019-07-01T00:00:00.000000",
          "2019-10-01T00:00:00.000000",
          "2020-01-01T00:00:00.000000",
          "2020-04-01T00:00:00.000000",
          "2020-07-01T00:00:00.000000",
          "2020-10-01T00:00:00.000000",
          "2021-01-01T00:00:00.000000",
          "2021-04-01T00:00:00.000000",
          "2021-07-01T00:00:00.000000",
          "2021-10-01T00:00:00.000000",
          "2022-01-01T00:00:00.000000",
          "2022-04-01T00:00:00.000000",
          "2022-07-01T00:00:00.000000",
          "2022-10-01T00:00:00.000000",
          "2023-01-01T00:00:00.000000",
          "2023-04-01T00:00:00.000000",
          "2023-07-01T00:00:00.000000",
          "2023-10-01T00:00:00.000000",
          "2024-01-01T00:00:00.000000",
          "2024-04-01T00:00:00.000000",
          "2024-07-01T00:00:00.000000",
          "2024-10-01T00:00:00.000000",
          "2025-01-01T00:00:00.000000"
         ],
         "y": {
          "bdata": "JObtDIl5+z/iK77iK776PwAAAAAAAAFAS9SuRO1KAkAdgaKtBs8DQOMrvuIrvghAqHRkz0BUCkD6GJyPwfkOQPKLJb9Y8g9AvJyCl1PwDkAmaleidiUOQBPaS2gvoQ1AomTXJkp2CUDr1atXr14NQMQdcUfcEQdA3t3d3d3dCUAsZCELWcgKQFAjLPc0wgpAWVPWlDVlB0B6nud5nucNQIKGk7ovjwVAaIEWaIEWBEB4eHh4eHgEQD/wAz/wAwNA8DqgG/P0+T9P7MRO7MT+P+sGU+Szbvw/VlVVVVVV/T8AAAAAAAD4fwAAAAAAAPh/AAAAAAAA+H8AAAAAAAD4fwAAAAAAAPh/AAAAAAAA+H8AAAAAAAD4fwAAAAAAAPh/AAAAAAAA+H8AAAAAAAD4fwAAAAAAAPh/AAAAAAAA+H8AAAAAAAD4fwAAAAAAAPh/AAAAAAAA+H8AAAAAAAD4fwAAAAAAAPh/AAAAAAAA+H8AAAAAAAD4fwAAAAAAAPh/AAAAAAAA+H8AAAAAAAD4fwAAAAAAAPh/AAAAAAAA+H8AAAAAAAD4fwAAAAAAAPh/AAAAAAAA+H8AAAAAAAD4fwAAAAAAAPh/AAAAAAAA+H8AAAAAAAD4fwAAAAAAAPh/AAAAAAAA+H8AAAAAAAD4fwAAAAAAAPh/AAAAAAAA+H8AAAAAAAD4fw==",
          "dtype": "f8"
         }
        },
        {
         "mode": "lines+markers",
         "name": "None",
         "type": "scatter",
         "x": [
          "2009-01-01T00:00:00.000000",
          "2009-04-01T00:00:00.000000",
          "2009-07-01T00:00:00.000000",
          "2009-10-01T00:00:00.000000",
          "2010-01-01T00:00:00.000000",
          "2010-04-01T00:00:00.000000",
          "2010-07-01T00:00:00.000000",
          "2010-10-01T00:00:00.000000",
          "2011-01-01T00:00:00.000000",
          "2011-04-01T00:00:00.000000",
          "2011-07-01T00:00:00.000000",
          "2011-10-01T00:00:00.000000",
          "2012-01-01T00:00:00.000000",
          "2012-04-01T00:00:00.000000",
          "2012-07-01T00:00:00.000000",
          "2012-10-01T00:00:00.000000",
          "2013-01-01T00:00:00.000000",
          "2013-04-01T00:00:00.000000",
          "2013-07-01T00:00:00.000000",
          "2013-10-01T00:00:00.000000",
          "2014-01-01T00:00:00.000000",
          "2014-04-01T00:00:00.000000",
          "2014-07-01T00:00:00.000000",
          "2014-10-01T00:00:00.000000",
          "2015-01-01T00:00:00.000000",
          "2015-04-01T00:00:00.000000",
          "2015-07-01T00:00:00.000000",
          "2015-10-01T00:00:00.000000",
          "2016-01-01T00:00:00.000000",
          "2016-04-01T00:00:00.000000",
          "2016-07-01T00:00:00.000000",
          "2016-10-01T00:00:00.000000",
          "2017-01-01T00:00:00.000000",
          "2017-04-01T00:00:00.000000",
          "2017-07-01T00:00:00.000000",
          "2017-10-01T00:00:00.000000",
          "2018-01-01T00:00:00.000000",
          "2018-04-01T00:00:00.000000",
          "2018-07-01T00:00:00.000000",
          "2018-10-01T00:00:00.000000",
          "2019-01-01T00:00:00.000000",
          "2019-04-01T00:00:00.000000",
          "2019-07-01T00:00:00.000000",
          "2019-10-01T00:00:00.000000",
          "2020-01-01T00:00:00.000000",
          "2020-04-01T00:00:00.000000",
          "2020-07-01T00:00:00.000000",
          "2020-10-01T00:00:00.000000",
          "2021-01-01T00:00:00.000000",
          "2021-04-01T00:00:00.000000",
          "2021-07-01T00:00:00.000000",
          "2021-10-01T00:00:00.000000",
          "2022-01-01T00:00:00.000000",
          "2022-04-01T00:00:00.000000",
          "2022-07-01T00:00:00.000000",
          "2022-10-01T00:00:00.000000",
          "2023-01-01T00:00:00.000000",
          "2023-04-01T00:00:00.000000",
          "2023-07-01T00:00:00.000000",
          "2023-10-01T00:00:00.000000",
          "2024-01-01T00:00:00.000000",
          "2024-04-01T00:00:00.000000",
          "2024-07-01T00:00:00.000000",
          "2024-10-01T00:00:00.000000",
          "2025-01-01T00:00:00.000000"
         ],
         "y": {
          "bdata": "ShvvqGb9AUC0moQo/iIDQB6h+kxb4wNAx3Ecx3FcA0DS/MHGo/kDQG3ep7hkCApAq6qqqqrqC0ATdFcpJugOQAAAAAAAABBAxvY7emVsD0BUp8lB5qUQQDJ+u9ST8RBAcxKICzUnDUCzZcuWLVsOQGpXonYlagtAlgK1fqVADUAAAAAAAAwOQOaxFUHDSQ1AKfEzSvyMCkDf9KY3vekLQOcY5xjnGAdAUV5DeQ1lBEA8PDw8PDwGQISEhISEhARAvvBeeC+8/z/sxE7sxM4CQOHlFLycggFArH3D2jesAUBY7mmE5Z7+P1YwS8oBkQFAwTravE9xAUDi4H1rZHUFQB2+35JCQwZAAAAAAABABkDe3d3d3d0FQNiJndiJnQZAEPzAD/zAB0ANCy6V7V0HQE8J8pQgTwdAzczMzMzMCEBuLINSYeIJQAkaTuq+PAhAsEJnsEJnCEDz9NFqEqIIQJpgvJV9DgdAAAAAAAAAAAB7Ce0ltJcEQFK4HoXrUQRAk0022WSTAUAlSZIkSZIDQBSuR+F6FAZA5TWU11BeC0AAAAAAAAD4fwAAAAAAAPh/AAAAAAAA+H8AAAAAAAD4fwAAAAAAAPh/AAAAAAAA+H8AAAAAAAD4fwAAAAAAAPh/AAAAAAAA+H8AAAAAAAD4fwAAAAAAAPh/AAAAAAAA+H8AAAAAAAD4fw==",
          "dtype": "f8"
         }
        },
        {
         "mode": "lines+markers",
         "name": "<9500",
         "type": "scatter",
         "x": [
          "2009-01-01T00:00:00.000000",
          "2009-04-01T00:00:00.000000",
          "2009-07-01T00:00:00.000000",
          "2009-10-01T00:00:00.000000",
          "2010-01-01T00:00:00.000000",
          "2010-04-01T00:00:00.000000",
          "2010-07-01T00:00:00.000000",
          "2010-10-01T00:00:00.000000",
          "2011-01-01T00:00:00.000000",
          "2011-04-01T00:00:00.000000",
          "2011-07-01T00:00:00.000000",
          "2011-10-01T00:00:00.000000",
          "2012-01-01T00:00:00.000000",
          "2012-04-01T00:00:00.000000",
          "2012-07-01T00:00:00.000000",
          "2012-10-01T00:00:00.000000",
          "2013-01-01T00:00:00.000000",
          "2013-04-01T00:00:00.000000",
          "2013-07-01T00:00:00.000000",
          "2013-10-01T00:00:00.000000",
          "2014-01-01T00:00:00.000000",
          "2014-04-01T00:00:00.000000",
          "2014-07-01T00:00:00.000000",
          "2014-10-01T00:00:00.000000",
          "2015-01-01T00:00:00.000000",
          "2015-04-01T00:00:00.000000",
          "2015-07-01T00:00:00.000000",
          "2015-10-01T00:00:00.000000",
          "2016-01-01T00:00:00.000000",
          "2016-04-01T00:00:00.000000",
          "2016-07-01T00:00:00.000000",
          "2016-10-01T00:00:00.000000",
          "2017-01-01T00:00:00.000000",
          "2017-04-01T00:00:00.000000",
          "2017-07-01T00:00:00.000000",
          "2017-10-01T00:00:00.000000",
          "2018-01-01T00:00:00.000000",
          "2018-04-01T00:00:00.000000",
          "2018-07-01T00:00:00.000000",
          "2018-10-01T00:00:00.000000",
          "2019-01-01T00:00:00.000000",
          "2019-04-01T00:00:00.000000",
          "2019-07-01T00:00:00.000000",
          "2019-10-01T00:00:00.000000",
          "2020-01-01T00:00:00.000000",
          "2020-04-01T00:00:00.000000",
          "2020-07-01T00:00:00.000000",
          "2020-10-01T00:00:00.000000",
          "2021-01-01T00:00:00.000000",
          "2021-04-01T00:00:00.000000",
          "2021-07-01T00:00:00.000000",
          "2021-10-01T00:00:00.000000",
          "2022-01-01T00:00:00.000000",
          "2022-04-01T00:00:00.000000",
          "2022-07-01T00:00:00.000000",
          "2022-10-01T00:00:00.000000",
          "2023-01-01T00:00:00.000000",
          "2023-04-01T00:00:00.000000",
          "2023-07-01T00:00:00.000000",
          "2023-10-01T00:00:00.000000",
          "2024-01-01T00:00:00.000000",
          "2024-04-01T00:00:00.000000",
          "2024-07-01T00:00:00.000000",
          "2024-10-01T00:00:00.000000",
          "2025-01-01T00:00:00.000000"
         ],
         "y": {
          "bdata": "VxCTK4jJBUDKJptssskGQBA++OCDDwZAmpmZmZmZBUAAAAAAAAAEQCa0l9BeQgtAFDuxEzuxC0CbbLLJJpsQQCMs9zTCchBAAAAAAAAAEUDHcRzHcRwVQKOLLrroog9AzmI6i+ksDkBEREREREQQQJqZmZmZmQ1Aq6qqqqqqDkBXonYlalcQQFzZ55CaYBBAZmZmZmbmDUCidiVqV6IOQK2wOZBohQlAAAAAAAAABkAAAAAAAMAGQJMriMkVxARACe4juI/gAkAeHh4eHh4CQIJ1tHmf4gJAJUmSJEmSAEDe6173utf9P6uqqqqqqgBAPgrXo3A9BECrqqqqqqoIQAAAAAAAAAZAexSuR+F6CECamZmZmZkFQPDBBx988AVAunPnzp07B0Acx3Ecx3EIQLh8y7d8ywdAAAAAAAAACEC4HoXrUbgMQJ9GWO5phA1AAAAAAAAAC0B00UUXXXQJQJU1ZU1ZUwpA16NwPQrXBUBVVVVVVRUFQLdt27Zt2wJAjC666KKLA0CTTTbZZJMBQHA+BudjcAJAAAAAAAAAB0AAAAAAAAD4fwAAAAAAAPh/AAAAAAAA+H8AAAAAAAD4fwAAAAAAAPh/AAAAAAAA+H8AAAAAAAD4fwAAAAAAAPh/AAAAAAAA+H8AAAAAAAD4fwAAAAAAAPh/AAAAAAAA+H8AAAAAAAD4fw==",
          "dtype": "f8"
         }
        },
        {
         "mode": "lines+markers",
         "name": "17500-24999",
         "type": "scatter",
         "x": [
          "2009-01-01T00:00:00.000000",
          "2009-04-01T00:00:00.000000",
          "2009-07-01T00:00:00.000000",
          "2009-10-01T00:00:00.000000",
          "2010-01-01T00:00:00.000000",
          "2010-04-01T00:00:00.000000",
          "2010-07-01T00:00:00.000000",
          "2010-10-01T00:00:00.000000",
          "2011-01-01T00:00:00.000000",
          "2011-04-01T00:00:00.000000",
          "2011-07-01T00:00:00.000000",
          "2011-10-01T00:00:00.000000",
          "2012-01-01T00:00:00.000000",
          "2012-04-01T00:00:00.000000",
          "2012-07-01T00:00:00.000000",
          "2012-10-01T00:00:00.000000",
          "2013-01-01T00:00:00.000000",
          "2013-04-01T00:00:00.000000",
          "2013-07-01T00:00:00.000000",
          "2013-10-01T00:00:00.000000",
          "2014-01-01T00:00:00.000000",
          "2014-04-01T00:00:00.000000",
          "2014-07-01T00:00:00.000000",
          "2014-10-01T00:00:00.000000",
          "2015-01-01T00:00:00.000000",
          "2015-04-01T00:00:00.000000",
          "2015-07-01T00:00:00.000000",
          "2015-10-01T00:00:00.000000",
          "2016-01-01T00:00:00.000000",
          "2016-04-01T00:00:00.000000",
          "2016-07-01T00:00:00.000000",
          "2016-10-01T00:00:00.000000",
          "2017-01-01T00:00:00.000000",
          "2017-04-01T00:00:00.000000",
          "2017-07-01T00:00:00.000000",
          "2017-10-01T00:00:00.000000",
          "2018-01-01T00:00:00.000000",
          "2018-04-01T00:00:00.000000",
          "2018-07-01T00:00:00.000000",
          "2018-10-01T00:00:00.000000",
          "2019-01-01T00:00:00.000000",
          "2019-04-01T00:00:00.000000",
          "2019-07-01T00:00:00.000000",
          "2019-10-01T00:00:00.000000",
          "2020-01-01T00:00:00.000000",
          "2020-04-01T00:00:00.000000",
          "2020-07-01T00:00:00.000000",
          "2020-10-01T00:00:00.000000",
          "2021-01-01T00:00:00.000000",
          "2021-04-01T00:00:00.000000",
          "2021-07-01T00:00:00.000000",
          "2021-10-01T00:00:00.000000",
          "2022-01-01T00:00:00.000000",
          "2022-04-01T00:00:00.000000",
          "2022-07-01T00:00:00.000000",
          "2022-10-01T00:00:00.000000",
          "2023-01-01T00:00:00.000000",
          "2023-04-01T00:00:00.000000",
          "2023-07-01T00:00:00.000000",
          "2023-10-01T00:00:00.000000",
          "2024-01-01T00:00:00.000000",
          "2024-04-01T00:00:00.000000",
          "2024-07-01T00:00:00.000000",
          "2024-10-01T00:00:00.000000",
          "2025-01-01T00:00:00.000000"
         ],
         "y": {
          "bdata": "sRM7sRM7AUD0PM/zPM8DQOecc8455wRASZIkSZIkBUCWnxBn5ScEQHqe53me5w1An0ZY7mmEDUBCCCGEEEIQQJqZmZmZmQ9AAAAAAAAAEEAAAAAAABARQM3MzMzMzBBAAAAAAAAADECrqqqqqqoNQO/u7u7u7gZA3vSmN73pDUBsKK+hvIYOQERERERERAxAMzMzMzMzCkBT5LNuMEUOQJctW7Zs2QZAU+SzbjBFBkAAAAAAAAAFQBmcj8H5GARAnud5nud5/j90zjnnnHMCQF100UUXXQBA09LS0tLSAEA++OCDDz78P3claleidgFAYbyVfQ6pAUAAAAAAAAAIQLp2YK4dmAdAkiRJkiTJBkCEDz744IMHQJIkSZIkSQZAMyqjMiqjBkAAAAAAAMAKQO5phOWeRghAAAAAAAAACkAIKme38KsJQNa+Ye0b1gZAexSuR+F6DEAhC1nIQhYKQEdY7mmE5QpAVVVVVVVVCECO+s5GfWcHQMjgfAzOxwhAAAAAAACQBEDPrz3ksmIEQCIiIiIiIgZAwRZswRZsCUAAAAAAAAD4fwAAAAAAAPh/AAAAAAAA+H8AAAAAAAD4fwAAAAAAAPh/AAAAAAAA+H8AAAAAAAD4fwAAAAAAAPh/AAAAAAAA+H8AAAAAAAD4fwAAAAAAAPh/AAAAAAAA+H8AAAAAAAD4fw==",
          "dtype": "f8"
         }
        },
        {
         "mode": "lines+markers",
         "name": "9500-17499",
         "type": "scatter",
         "x": [
          "2009-01-01T00:00:00.000000",
          "2009-04-01T00:00:00.000000",
          "2009-07-01T00:00:00.000000",
          "2009-10-01T00:00:00.000000",
          "2010-01-01T00:00:00.000000",
          "2010-04-01T00:00:00.000000",
          "2010-07-01T00:00:00.000000",
          "2010-10-01T00:00:00.000000",
          "2011-01-01T00:00:00.000000",
          "2011-04-01T00:00:00.000000",
          "2011-07-01T00:00:00.000000",
          "2011-10-01T00:00:00.000000",
          "2012-01-01T00:00:00.000000",
          "2012-04-01T00:00:00.000000",
          "2012-07-01T00:00:00.000000",
          "2012-10-01T00:00:00.000000",
          "2013-01-01T00:00:00.000000",
          "2013-04-01T00:00:00.000000",
          "2013-07-01T00:00:00.000000",
          "2013-10-01T00:00:00.000000",
          "2014-01-01T00:00:00.000000",
          "2014-04-01T00:00:00.000000",
          "2014-07-01T00:00:00.000000",
          "2014-10-01T00:00:00.000000",
          "2015-01-01T00:00:00.000000",
          "2015-04-01T00:00:00.000000",
          "2015-07-01T00:00:00.000000",
          "2015-10-01T00:00:00.000000",
          "2016-01-01T00:00:00.000000",
          "2016-04-01T00:00:00.000000",
          "2016-07-01T00:00:00.000000",
          "2016-10-01T00:00:00.000000",
          "2017-01-01T00:00:00.000000",
          "2017-04-01T00:00:00.000000",
          "2017-07-01T00:00:00.000000",
          "2017-10-01T00:00:00.000000",
          "2018-01-01T00:00:00.000000",
          "2018-04-01T00:00:00.000000",
          "2018-07-01T00:00:00.000000",
          "2018-10-01T00:00:00.000000",
          "2019-01-01T00:00:00.000000",
          "2019-04-01T00:00:00.000000",
          "2019-07-01T00:00:00.000000",
          "2019-10-01T00:00:00.000000",
          "2020-01-01T00:00:00.000000",
          "2020-04-01T00:00:00.000000",
          "2020-07-01T00:00:00.000000",
          "2020-10-01T00:00:00.000000",
          "2021-01-01T00:00:00.000000",
          "2021-04-01T00:00:00.000000",
          "2021-07-01T00:00:00.000000",
          "2021-10-01T00:00:00.000000",
          "2022-01-01T00:00:00.000000",
          "2022-04-01T00:00:00.000000",
          "2022-07-01T00:00:00.000000",
          "2022-10-01T00:00:00.000000",
          "2023-01-01T00:00:00.000000",
          "2023-04-01T00:00:00.000000",
          "2023-07-01T00:00:00.000000",
          "2023-10-01T00:00:00.000000",
          "2024-01-01T00:00:00.000000",
          "2024-04-01T00:00:00.000000",
          "2024-07-01T00:00:00.000000",
          "2024-10-01T00:00:00.000000",
          "2025-01-01T00:00:00.000000"
         ],
         "y": {
          "bdata": "fg6pCcZbBUC3bdu2bVsHQIYsZCELWQJAo4suuuiiAkBsKK+hvIYFQOmiiy666AtAs6asKWvKCkAWspCFLGQPQJqZmZmZeRFARhdddNFFEEC8u7u7u7sQQC0tLS0tLRFAPVA5u4VfDUB1UAd1UAcNQIwuuuiiiw5AOY7jOI7jDUCTJk2aNGkOQDEMwzAMww5A8lk3mCKfDUC3bdu2bdsOQFuwBVuwBQlAJ8zvanETBkAo47dLPRkHQM+dO3fu3AVA0mEjHTbSAUA6qIM6qIMCQLmCmFxBTAJAgpdT8HIK/j8AAAAAAID/P5qZmZmZmQFAzczMzMzMAEB4eHh4eHgEQGggKh3ZMwZAQgghhBBCBkDzLd/yLd8GQCKfdYMp8gdA7g0oE1e6B0AzMzMzMzMJQN1ginzWDQpAL6fg5RS8CEC+vb29vb0JQFIGnm7NDwdAzczMzMzMDECamZmZmRkLQIwuuuiiiwhAaC+hvYT2CEDRWB8a60MHQPByCl5OwQdAq6qqqqqqBkAmaleidiUCQKuqqqqq6gdA5DiO4ziOB0AAAAAAAAD4fwAAAAAAAPh/AAAAAAAA+H8AAAAAAAD4fwAAAAAAAPh/AAAAAAAA+H8AAAAAAAD4fwAAAAAAAPh/AAAAAAAA+H8AAAAAAAD4fwAAAAAAAPh/AAAAAAAA+H8AAAAAAAD4fw==",
          "dtype": "f8"
         }
        },
        {
         "mode": "lines+markers",
         "name": ">40000",
         "type": "scatter",
         "x": [
          "2009-01-01T00:00:00.000000",
          "2009-04-01T00:00:00.000000",
          "2009-07-01T00:00:00.000000",
          "2009-10-01T00:00:00.000000",
          "2010-01-01T00:00:00.000000",
          "2010-04-01T00:00:00.000000",
          "2010-07-01T00:00:00.000000",
          "2010-10-01T00:00:00.000000",
          "2011-01-01T00:00:00.000000",
          "2011-04-01T00:00:00.000000",
          "2011-07-01T00:00:00.000000",
          "2011-10-01T00:00:00.000000",
          "2012-01-01T00:00:00.000000",
          "2012-04-01T00:00:00.000000",
          "2012-07-01T00:00:00.000000",
          "2012-10-01T00:00:00.000000",
          "2013-01-01T00:00:00.000000",
          "2013-04-01T00:00:00.000000",
          "2013-07-01T00:00:00.000000",
          "2013-10-01T00:00:00.000000",
          "2014-01-01T00:00:00.000000",
          "2014-04-01T00:00:00.000000",
          "2014-07-01T00:00:00.000000",
          "2014-10-01T00:00:00.000000",
          "2015-01-01T00:00:00.000000",
          "2015-04-01T00:00:00.000000",
          "2015-07-01T00:00:00.000000",
          "2015-10-01T00:00:00.000000",
          "2016-01-01T00:00:00.000000",
          "2016-04-01T00:00:00.000000",
          "2016-07-01T00:00:00.000000",
          "2016-10-01T00:00:00.000000",
          "2017-01-01T00:00:00.000000",
          "2017-04-01T00:00:00.000000",
          "2017-07-01T00:00:00.000000",
          "2017-10-01T00:00:00.000000",
          "2018-01-01T00:00:00.000000",
          "2018-04-01T00:00:00.000000",
          "2018-07-01T00:00:00.000000",
          "2018-10-01T00:00:00.000000",
          "2019-01-01T00:00:00.000000",
          "2019-04-01T00:00:00.000000",
          "2019-07-01T00:00:00.000000",
          "2019-10-01T00:00:00.000000",
          "2020-01-01T00:00:00.000000",
          "2020-04-01T00:00:00.000000",
          "2020-07-01T00:00:00.000000",
          "2020-10-01T00:00:00.000000",
          "2021-01-01T00:00:00.000000",
          "2021-04-01T00:00:00.000000",
          "2021-07-01T00:00:00.000000",
          "2021-10-01T00:00:00.000000",
          "2022-01-01T00:00:00.000000",
          "2022-04-01T00:00:00.000000",
          "2022-07-01T00:00:00.000000",
          "2022-10-01T00:00:00.000000",
          "2023-01-01T00:00:00.000000",
          "2023-04-01T00:00:00.000000",
          "2023-07-01T00:00:00.000000",
          "2023-10-01T00:00:00.000000",
          "2024-01-01T00:00:00.000000",
          "2024-04-01T00:00:00.000000",
          "2024-07-01T00:00:00.000000",
          "2024-10-01T00:00:00.000000",
          "2025-01-01T00:00:00.000000"
         ],
         "y": {
          "bdata": "AAAAAAAA+H8AAAAAAAD4fwAAAAAAAPh/AAAAAAAA+H8AAAAAAAD4fwAAAAAAAPh/AAAAAAAA+H8AAAAAAAD4fwAAAAAAAPh/AAAAAAAA+H8AAAAAAAD4fwAAAAAAAPh/AAAAAAAA+H8AAAAAAAD4fwAAAAAAAPh/AAAAAAAA+H8AAAAAAAD4fwAAAAAAAPh/AAAAAAAA+H8AAAAAAAD4fwAAAAAAAPh/AAAAAAAA+H8AAAAAAAD4fwAAAAAAAPh/AAAAAAAA+H8AAAAAAAD4fwAAAAAAAPh/AAAAAAAA+H+21lprrbX+P9ejcD0K1/s/mpmZmZmZAUBVVVVVVVUFQDuxEzuxEwdAZmZmZmZmBkAREREREREJQDEMwzAMwwhAr6G8hvIaCEAAAAAAAAAIQM3MzMzMzAdAAAAAAAAAB0AndmIndmILQBdddNFFFwdAuuiiiy66DEBmZmZmZmYGQFVVVVVVVQVAc08jLPc0BkAiC1nIQhYGQIQQQgghhARAHMdxHMdxB0AAAAAAACAFQGlpaWlpaQlAUkoppZRSDkAAAAAAAAD4fwAAAAAAAPh/AAAAAAAA+H8AAAAAAAD4fwAAAAAAAPh/AAAAAAAA+H8AAAAAAAD4fwAAAAAAAPh/AAAAAAAA+H8AAAAAAAD4fwAAAAAAAPh/AAAAAAAA+H8AAAAAAAD4fw==",
          "dtype": "f8"
         }
        },
        {
         "mode": "lines+markers",
         "name": "25000-39999",
         "type": "scatter",
         "x": [
          "2009-01-01T00:00:00.000000",
          "2009-04-01T00:00:00.000000",
          "2009-07-01T00:00:00.000000",
          "2009-10-01T00:00:00.000000",
          "2010-01-01T00:00:00.000000",
          "2010-04-01T00:00:00.000000",
          "2010-07-01T00:00:00.000000",
          "2010-10-01T00:00:00.000000",
          "2011-01-01T00:00:00.000000",
          "2011-04-01T00:00:00.000000",
          "2011-07-01T00:00:00.000000",
          "2011-10-01T00:00:00.000000",
          "2012-01-01T00:00:00.000000",
          "2012-04-01T00:00:00.000000",
          "2012-07-01T00:00:00.000000",
          "2012-10-01T00:00:00.000000",
          "2013-01-01T00:00:00.000000",
          "2013-04-01T00:00:00.000000",
          "2013-07-01T00:00:00.000000",
          "2013-10-01T00:00:00.000000",
          "2014-01-01T00:00:00.000000",
          "2014-04-01T00:00:00.000000",
          "2014-07-01T00:00:00.000000",
          "2014-10-01T00:00:00.000000",
          "2015-01-01T00:00:00.000000",
          "2015-04-01T00:00:00.000000",
          "2015-07-01T00:00:00.000000",
          "2015-10-01T00:00:00.000000",
          "2016-01-01T00:00:00.000000",
          "2016-04-01T00:00:00.000000",
          "2016-07-01T00:00:00.000000",
          "2016-10-01T00:00:00.000000",
          "2017-01-01T00:00:00.000000",
          "2017-04-01T00:00:00.000000",
          "2017-07-01T00:00:00.000000",
          "2017-10-01T00:00:00.000000",
          "2018-01-01T00:00:00.000000",
          "2018-04-01T00:00:00.000000",
          "2018-07-01T00:00:00.000000",
          "2018-10-01T00:00:00.000000",
          "2019-01-01T00:00:00.000000",
          "2019-04-01T00:00:00.000000",
          "2019-07-01T00:00:00.000000",
          "2019-10-01T00:00:00.000000",
          "2020-01-01T00:00:00.000000",
          "2020-04-01T00:00:00.000000",
          "2020-07-01T00:00:00.000000",
          "2020-10-01T00:00:00.000000",
          "2021-01-01T00:00:00.000000",
          "2021-04-01T00:00:00.000000",
          "2021-07-01T00:00:00.000000",
          "2021-10-01T00:00:00.000000",
          "2022-01-01T00:00:00.000000",
          "2022-04-01T00:00:00.000000",
          "2022-07-01T00:00:00.000000",
          "2022-10-01T00:00:00.000000",
          "2023-01-01T00:00:00.000000",
          "2023-04-01T00:00:00.000000",
          "2023-07-01T00:00:00.000000",
          "2023-10-01T00:00:00.000000",
          "2024-01-01T00:00:00.000000",
          "2024-04-01T00:00:00.000000",
          "2024-07-01T00:00:00.000000",
          "2024-10-01T00:00:00.000000",
          "2025-01-01T00:00:00.000000"
         ],
         "y": {
          "bdata": "AAAAAAAA+H8AAAAAAAD4fwAAAAAAAPh/AAAAAAAA+H8AAAAAAAD4fwAAAAAAAPh/AAAAAAAA+H8AAAAAAAD4fwAAAAAAAPh/AAAAAAAA+H8AAAAAAAD4fwAAAAAAAPh/AAAAAAAA+H8AAAAAAAD4fwAAAAAAAPh/AAAAAAAA+H8AAAAAAAD4fwAAAAAAAPh/AAAAAAAA+H8AAAAAAAD4fwAAAAAAAPh/AAAAAAAA+H8AAAAAAAD4fwAAAAAAAPh/AAAAAAAA+H8AAAAAAAD4fwAAAAAAAPh/AAAAAAAA+H8M+7iwjwv7P5RNNtlkk/0/SimllFJKAUCSJEmSJEkGQNqTfB+r2QdAnN70pje9BUAUmHRqHuQGQN7d3d3d3QZAKlh9Klh9BkAAAAAAAAAGQCXIU4I8JQhA1AjLPY2wCkAAAAAAAAAKQFVVVVVVVQlAKCgoKCgoDECuR+F6FK4JQFg5tMh2vgdAhpO6L4+tB0BI4XoUrkcHQEK3a+WEZwZAuNoYmu5gBkAZCaWNd1QDQKM0PjKB3gVAWjeYIp91CkAAAAAAAAD4fwAAAAAAAPh/AAAAAAAA+H8AAAAAAAD4fwAAAAAAAPh/AAAAAAAA+H8AAAAAAAD4fwAAAAAAAPh/AAAAAAAA+H8AAAAAAAD4fwAAAAAAAPh/AAAAAAAA+H8AAAAAAAD4fw==",
          "dtype": "f8"
         }
        },
        {
         "mode": "lines+markers",
         "name": "35000-44999",
         "type": "scatter",
         "x": [
          "2009-01-01T00:00:00.000000",
          "2009-04-01T00:00:00.000000",
          "2009-07-01T00:00:00.000000",
          "2009-10-01T00:00:00.000000",
          "2010-01-01T00:00:00.000000",
          "2010-04-01T00:00:00.000000",
          "2010-07-01T00:00:00.000000",
          "2010-10-01T00:00:00.000000",
          "2011-01-01T00:00:00.000000",
          "2011-04-01T00:00:00.000000",
          "2011-07-01T00:00:00.000000",
          "2011-10-01T00:00:00.000000",
          "2012-01-01T00:00:00.000000",
          "2012-04-01T00:00:00.000000",
          "2012-07-01T00:00:00.000000",
          "2012-10-01T00:00:00.000000",
          "2013-01-01T00:00:00.000000",
          "2013-04-01T00:00:00.000000",
          "2013-07-01T00:00:00.000000",
          "2013-10-01T00:00:00.000000",
          "2014-01-01T00:00:00.000000",
          "2014-04-01T00:00:00.000000",
          "2014-07-01T00:00:00.000000",
          "2014-10-01T00:00:00.000000",
          "2015-01-01T00:00:00.000000",
          "2015-04-01T00:00:00.000000",
          "2015-07-01T00:00:00.000000",
          "2015-10-01T00:00:00.000000",
          "2016-01-01T00:00:00.000000",
          "2016-04-01T00:00:00.000000",
          "2016-07-01T00:00:00.000000",
          "2016-10-01T00:00:00.000000",
          "2017-01-01T00:00:00.000000",
          "2017-04-01T00:00:00.000000",
          "2017-07-01T00:00:00.000000",
          "2017-10-01T00:00:00.000000",
          "2018-01-01T00:00:00.000000",
          "2018-04-01T00:00:00.000000",
          "2018-07-01T00:00:00.000000",
          "2018-10-01T00:00:00.000000",
          "2019-01-01T00:00:00.000000",
          "2019-04-01T00:00:00.000000",
          "2019-07-01T00:00:00.000000",
          "2019-10-01T00:00:00.000000",
          "2020-01-01T00:00:00.000000",
          "2020-04-01T00:00:00.000000",
          "2020-07-01T00:00:00.000000",
          "2020-10-01T00:00:00.000000",
          "2021-01-01T00:00:00.000000",
          "2021-04-01T00:00:00.000000",
          "2021-07-01T00:00:00.000000",
          "2021-10-01T00:00:00.000000",
          "2022-01-01T00:00:00.000000",
          "2022-04-01T00:00:00.000000",
          "2022-07-01T00:00:00.000000",
          "2022-10-01T00:00:00.000000",
          "2023-01-01T00:00:00.000000",
          "2023-04-01T00:00:00.000000",
          "2023-07-01T00:00:00.000000",
          "2023-10-01T00:00:00.000000",
          "2024-01-01T00:00:00.000000",
          "2024-04-01T00:00:00.000000",
          "2024-07-01T00:00:00.000000",
          "2024-10-01T00:00:00.000000",
          "2025-01-01T00:00:00.000000"
         ],
         "y": {
          "bdata": "AAAAAAAA+H8AAAAAAAD4fwAAAAAAAPh/AAAAAAAA+H8AAAAAAAD4fwAAAAAAAPh/AAAAAAAA+H8AAAAAAAD4fwAAAAAAAPh/AAAAAAAA+H8AAAAAAAD4fwAAAAAAAPh/AAAAAAAA+H8AAAAAAAD4fwAAAAAAAPh/AAAAAAAA+H8AAAAAAAD4fwAAAAAAAPh/AAAAAAAA+H8AAAAAAAD4fwAAAAAAAPh/AAAAAAAA+H8AAAAAAAD4fwAAAAAAAPh/AAAAAAAA+H8AAAAAAAD4fwAAAAAAAPh/AAAAAAAA+H8AAAAAAAD4fwAAAAAAAPh/AAAAAAAA+H8AAAAAAAD4fwAAAAAAAPh/AAAAAAAA+H8AAAAAAAD4fwAAAAAAAPh/AAAAAAAA+H8AAAAAAAD4fwAAAAAAAPh/AAAAAAAA+H8AAAAAAAD4fwAAAAAAAPh/AAAAAAAA+H8AAAAAAAD4fwAAAAAAAPh/AAAAAAAA+H8AAAAAAAD4fwAAAAAAAPh/AAAAAAAA+H8AAAAAAAD4fwAAAAAAAPh/AAAAAAAA+H/RRRdddNERQAAAAAAAABRAiIeHh4eHEkAAAAAAAAASQFMDe8fUwBBA1g2myGfdCECrqqqqqqoOQFjuaYTlngpAf+Q0X6tnB0AZgnW0eZ8GQOaeRljuaQRA5QpicgUxCUADYaQdKxAKQA==",
          "dtype": "f8"
         }
        },
        {
         "mode": "lines+markers",
         "name": ">45000",
         "type": "scatter",
         "x": [
          "2009-01-01T00:00:00.000000",
          "2009-04-01T00:00:00.000000",
          "2009-07-01T00:00:00.000000",
          "2009-10-01T00:00:00.000000",
          "2010-01-01T00:00:00.000000",
          "2010-04-01T00:00:00.000000",
          "2010-07-01T00:00:00.000000",
          "2010-10-01T00:00:00.000000",
          "2011-01-01T00:00:00.000000",
          "2011-04-01T00:00:00.000000",
          "2011-07-01T00:00:00.000000",
          "2011-10-01T00:00:00.000000",
          "2012-01-01T00:00:00.000000",
          "2012-04-01T00:00:00.000000",
          "2012-07-01T00:00:00.000000",
          "2012-10-01T00:00:00.000000",
          "2013-01-01T00:00:00.000000",
          "2013-04-01T00:00:00.000000",
          "2013-07-01T00:00:00.000000",
          "2013-10-01T00:00:00.000000",
          "2014-01-01T00:00:00.000000",
          "2014-04-01T00:00:00.000000",
          "2014-07-01T00:00:00.000000",
          "2014-10-01T00:00:00.000000",
          "2015-01-01T00:00:00.000000",
          "2015-04-01T00:00:00.000000",
          "2015-07-01T00:00:00.000000",
          "2015-10-01T00:00:00.000000",
          "2016-01-01T00:00:00.000000",
          "2016-04-01T00:00:00.000000",
          "2016-07-01T00:00:00.000000",
          "2016-10-01T00:00:00.000000",
          "2017-01-01T00:00:00.000000",
          "2017-04-01T00:00:00.000000",
          "2017-07-01T00:00:00.000000",
          "2017-10-01T00:00:00.000000",
          "2018-01-01T00:00:00.000000",
          "2018-04-01T00:00:00.000000",
          "2018-07-01T00:00:00.000000",
          "2018-10-01T00:00:00.000000",
          "2019-01-01T00:00:00.000000",
          "2019-04-01T00:00:00.000000",
          "2019-07-01T00:00:00.000000",
          "2019-10-01T00:00:00.000000",
          "2020-01-01T00:00:00.000000",
          "2020-04-01T00:00:00.000000",
          "2020-07-01T00:00:00.000000",
          "2020-10-01T00:00:00.000000",
          "2021-01-01T00:00:00.000000",
          "2021-04-01T00:00:00.000000",
          "2021-07-01T00:00:00.000000",
          "2021-10-01T00:00:00.000000",
          "2022-01-01T00:00:00.000000",
          "2022-04-01T00:00:00.000000",
          "2022-07-01T00:00:00.000000",
          "2022-10-01T00:00:00.000000",
          "2023-01-01T00:00:00.000000",
          "2023-04-01T00:00:00.000000",
          "2023-07-01T00:00:00.000000",
          "2023-10-01T00:00:00.000000",
          "2024-01-01T00:00:00.000000",
          "2024-04-01T00:00:00.000000",
          "2024-07-01T00:00:00.000000",
          "2024-10-01T00:00:00.000000",
          "2025-01-01T00:00:00.000000"
         ],
         "y": {
          "bdata": "AAAAAAAA+H8AAAAAAAD4fwAAAAAAAPh/AAAAAAAA+H8AAAAAAAD4fwAAAAAAAPh/AAAAAAAA+H8AAAAAAAD4fwAAAAAAAPh/AAAAAAAA+H8AAAAAAAD4fwAAAAAAAPh/AAAAAAAA+H8AAAAAAAD4fwAAAAAAAPh/AAAAAAAA+H8AAAAAAAD4fwAAAAAAAPh/AAAAAAAA+H8AAAAAAAD4fwAAAAAAAPh/AAAAAAAA+H8AAAAAAAD4fwAAAAAAAPh/AAAAAAAA+H8AAAAAAAD4fwAAAAAAAPh/AAAAAAAA+H8AAAAAAAD4fwAAAAAAAPh/AAAAAAAA+H8AAAAAAAD4fwAAAAAAAPh/AAAAAAAA+H8AAAAAAAD4fwAAAAAAAPh/AAAAAAAA+H8AAAAAAAD4fwAAAAAAAPh/AAAAAAAA+H8AAAAAAAD4fwAAAAAAAPh/AAAAAAAA+H8AAAAAAAD4fwAAAAAAAPh/AAAAAAAA+H8AAAAAAAD4fwAAAAAAAPh/AAAAAAAA+H8AAAAAAAD4fwAAAAAAAPh/AAAAAAAA+H+z/gx+Ez0RQLIVQcNJ3RFApJLzsohPEkB00UUXXXQTQMnIyMjIyA5AGFc/6KjAC0APctfPFisLQDTRRBNNNAlAT+zETuzEB0AAAAAAAIAGQJTXUF5DeQVA9DzP8zzPBkCW7g0oE1cKQA==",
          "dtype": "f8"
         }
        },
        {
         "mode": "lines+markers",
         "name": "<9999",
         "type": "scatter",
         "x": [
          "2009-01-01T00:00:00.000000",
          "2009-04-01T00:00:00.000000",
          "2009-07-01T00:00:00.000000",
          "2009-10-01T00:00:00.000000",
          "2010-01-01T00:00:00.000000",
          "2010-04-01T00:00:00.000000",
          "2010-07-01T00:00:00.000000",
          "2010-10-01T00:00:00.000000",
          "2011-01-01T00:00:00.000000",
          "2011-04-01T00:00:00.000000",
          "2011-07-01T00:00:00.000000",
          "2011-10-01T00:00:00.000000",
          "2012-01-01T00:00:00.000000",
          "2012-04-01T00:00:00.000000",
          "2012-07-01T00:00:00.000000",
          "2012-10-01T00:00:00.000000",
          "2013-01-01T00:00:00.000000",
          "2013-04-01T00:00:00.000000",
          "2013-07-01T00:00:00.000000",
          "2013-10-01T00:00:00.000000",
          "2014-01-01T00:00:00.000000",
          "2014-04-01T00:00:00.000000",
          "2014-07-01T00:00:00.000000",
          "2014-10-01T00:00:00.000000",
          "2015-01-01T00:00:00.000000",
          "2015-04-01T00:00:00.000000",
          "2015-07-01T00:00:00.000000",
          "2015-10-01T00:00:00.000000",
          "2016-01-01T00:00:00.000000",
          "2016-04-01T00:00:00.000000",
          "2016-07-01T00:00:00.000000",
          "2016-10-01T00:00:00.000000",
          "2017-01-01T00:00:00.000000",
          "2017-04-01T00:00:00.000000",
          "2017-07-01T00:00:00.000000",
          "2017-10-01T00:00:00.000000",
          "2018-01-01T00:00:00.000000",
          "2018-04-01T00:00:00.000000",
          "2018-07-01T00:00:00.000000",
          "2018-10-01T00:00:00.000000",
          "2019-01-01T00:00:00.000000",
          "2019-04-01T00:00:00.000000",
          "2019-07-01T00:00:00.000000",
          "2019-10-01T00:00:00.000000",
          "2020-01-01T00:00:00.000000",
          "2020-04-01T00:00:00.000000",
          "2020-07-01T00:00:00.000000",
          "2020-10-01T00:00:00.000000",
          "2021-01-01T00:00:00.000000",
          "2021-04-01T00:00:00.000000",
          "2021-07-01T00:00:00.000000",
          "2021-10-01T00:00:00.000000",
          "2022-01-01T00:00:00.000000",
          "2022-04-01T00:00:00.000000",
          "2022-07-01T00:00:00.000000",
          "2022-10-01T00:00:00.000000",
          "2023-01-01T00:00:00.000000",
          "2023-04-01T00:00:00.000000",
          "2023-07-01T00:00:00.000000",
          "2023-10-01T00:00:00.000000",
          "2024-01-01T00:00:00.000000",
          "2024-04-01T00:00:00.000000",
          "2024-07-01T00:00:00.000000",
          "2024-10-01T00:00:00.000000",
          "2025-01-01T00:00:00.000000"
         ],
         "y": {
          "bdata": "AAAAAAAA+H8AAAAAAAD4fwAAAAAAAPh/AAAAAAAA+H8AAAAAAAD4fwAAAAAAAPh/AAAAAAAA+H8AAAAAAAD4fwAAAAAAAPh/AAAAAAAA+H8AAAAAAAD4fwAAAAAAAPh/AAAAAAAA+H8AAAAAAAD4fwAAAAAAAPh/AAAAAAAA+H8AAAAAAAD4fwAAAAAAAPh/AAAAAAAA+H8AAAAAAAD4fwAAAAAAAPh/AAAAAAAA+H8AAAAAAAD4fwAAAAAAAPh/AAAAAAAA+H8AAAAAAAD4fwAAAAAAAPh/AAAAAAAA+H8AAAAAAAD4fwAAAAAAAPh/AAAAAAAA+H8AAAAAAAD4fwAAAAAAAPh/AAAAAAAA+H8AAAAAAAD4fwAAAAAAAPh/AAAAAAAA+H8AAAAAAAD4fwAAAAAAAPh/AAAAAAAA+H8AAAAAAAD4fwAAAAAAAPh/AAAAAAAA+H8AAAAAAAD4fwAAAAAAAPh/AAAAAAAA+H8AAAAAAAD4fwAAAAAAAPh/AAAAAAAA+H8AAAAAAAD4fwAAAAAAAPh/AAAAAAAA+H+f9Emf9EkPQOmiiy666A5At23btm3bE0AAAAAAAIATQLbWWmuttRBAVVVVVVVVDUBVVVVVVVURQGIndmIndgZASZIkSZIkDUCrqqqqqqoJQEmSJEmSJAlAVVVVVVXVB0ASlnsaYbkPQA==",
          "dtype": "f8"
         }
        },
        {
         "mode": "lines+markers",
         "name": "Prefer not to answer",
         "type": "scatter",
         "x": [
          "2009-01-01T00:00:00.000000",
          "2009-04-01T00:00:00.000000",
          "2009-07-01T00:00:00.000000",
          "2009-10-01T00:00:00.000000",
          "2010-01-01T00:00:00.000000",
          "2010-04-01T00:00:00.000000",
          "2010-07-01T00:00:00.000000",
          "2010-10-01T00:00:00.000000",
          "2011-01-01T00:00:00.000000",
          "2011-04-01T00:00:00.000000",
          "2011-07-01T00:00:00.000000",
          "2011-10-01T00:00:00.000000",
          "2012-01-01T00:00:00.000000",
          "2012-04-01T00:00:00.000000",
          "2012-07-01T00:00:00.000000",
          "2012-10-01T00:00:00.000000",
          "2013-01-01T00:00:00.000000",
          "2013-04-01T00:00:00.000000",
          "2013-07-01T00:00:00.000000",
          "2013-10-01T00:00:00.000000",
          "2014-01-01T00:00:00.000000",
          "2014-04-01T00:00:00.000000",
          "2014-07-01T00:00:00.000000",
          "2014-10-01T00:00:00.000000",
          "2015-01-01T00:00:00.000000",
          "2015-04-01T00:00:00.000000",
          "2015-07-01T00:00:00.000000",
          "2015-10-01T00:00:00.000000",
          "2016-01-01T00:00:00.000000",
          "2016-04-01T00:00:00.000000",
          "2016-07-01T00:00:00.000000",
          "2016-10-01T00:00:00.000000",
          "2017-01-01T00:00:00.000000",
          "2017-04-01T00:00:00.000000",
          "2017-07-01T00:00:00.000000",
          "2017-10-01T00:00:00.000000",
          "2018-01-01T00:00:00.000000",
          "2018-04-01T00:00:00.000000",
          "2018-07-01T00:00:00.000000",
          "2018-10-01T00:00:00.000000",
          "2019-01-01T00:00:00.000000",
          "2019-04-01T00:00:00.000000",
          "2019-07-01T00:00:00.000000",
          "2019-10-01T00:00:00.000000",
          "2020-01-01T00:00:00.000000",
          "2020-04-01T00:00:00.000000",
          "2020-07-01T00:00:00.000000",
          "2020-10-01T00:00:00.000000",
          "2021-01-01T00:00:00.000000",
          "2021-04-01T00:00:00.000000",
          "2021-07-01T00:00:00.000000",
          "2021-10-01T00:00:00.000000",
          "2022-01-01T00:00:00.000000",
          "2022-04-01T00:00:00.000000",
          "2022-07-01T00:00:00.000000",
          "2022-10-01T00:00:00.000000",
          "2023-01-01T00:00:00.000000",
          "2023-04-01T00:00:00.000000",
          "2023-07-01T00:00:00.000000",
          "2023-10-01T00:00:00.000000",
          "2024-01-01T00:00:00.000000",
          "2024-04-01T00:00:00.000000",
          "2024-07-01T00:00:00.000000",
          "2024-10-01T00:00:00.000000",
          "2025-01-01T00:00:00.000000"
         ],
         "y": {
          "bdata": "AAAAAAAA+H8AAAAAAAD4fwAAAAAAAPh/AAAAAAAA+H8AAAAAAAD4fwAAAAAAAPh/AAAAAAAA+H8AAAAAAAD4fwAAAAAAAPh/AAAAAAAA+H8AAAAAAAD4fwAAAAAAAPh/AAAAAAAA+H8AAAAAAAD4fwAAAAAAAPh/AAAAAAAA+H8AAAAAAAD4fwAAAAAAAPh/AAAAAAAA+H8AAAAAAAD4fwAAAAAAAPh/AAAAAAAA+H8AAAAAAAD4fwAAAAAAAPh/AAAAAAAA+H8AAAAAAAD4fwAAAAAAAPh/AAAAAAAA+H8AAAAAAAD4fwAAAAAAAPh/AAAAAAAA+H8AAAAAAAD4fwAAAAAAAPh/AAAAAAAA+H8AAAAAAAD4fwAAAAAAAPh/AAAAAAAA+H8AAAAAAAD4fwAAAAAAAPh/AAAAAAAA+H8AAAAAAAD4fwAAAAAAAPh/AAAAAAAA+H8AAAAAAAD4fwAAAAAAAPh/AAAAAAAA+H8AAAAAAAD4fwAAAAAAAPh/AAAAAAAA+H8AAAAAAAD4fwAAAAAAAPh/AAAAAAAA+H8svuIrvuITQDuxEzuxExVAAAAAAABAGUAtLS0tLS0TQHsUrkfhehBAAAAAAADADEAsZCELWcgOQLdt27Zt2xBAfPDBBx98CEAK16NwPQoHQIwuuuiiiwZAAAAAAAAACkCVNWVNWVMOQA==",
          "dtype": "f8"
         }
        },
        {
         "mode": "lines+markers",
         "name": "10000-19999",
         "type": "scatter",
         "x": [
          "2009-01-01T00:00:00.000000",
          "2009-04-01T00:00:00.000000",
          "2009-07-01T00:00:00.000000",
          "2009-10-01T00:00:00.000000",
          "2010-01-01T00:00:00.000000",
          "2010-04-01T00:00:00.000000",
          "2010-07-01T00:00:00.000000",
          "2010-10-01T00:00:00.000000",
          "2011-01-01T00:00:00.000000",
          "2011-04-01T00:00:00.000000",
          "2011-07-01T00:00:00.000000",
          "2011-10-01T00:00:00.000000",
          "2012-01-01T00:00:00.000000",
          "2012-04-01T00:00:00.000000",
          "2012-07-01T00:00:00.000000",
          "2012-10-01T00:00:00.000000",
          "2013-01-01T00:00:00.000000",
          "2013-04-01T00:00:00.000000",
          "2013-07-01T00:00:00.000000",
          "2013-10-01T00:00:00.000000",
          "2014-01-01T00:00:00.000000",
          "2014-04-01T00:00:00.000000",
          "2014-07-01T00:00:00.000000",
          "2014-10-01T00:00:00.000000",
          "2015-01-01T00:00:00.000000",
          "2015-04-01T00:00:00.000000",
          "2015-07-01T00:00:00.000000",
          "2015-10-01T00:00:00.000000",
          "2016-01-01T00:00:00.000000",
          "2016-04-01T00:00:00.000000",
          "2016-07-01T00:00:00.000000",
          "2016-10-01T00:00:00.000000",
          "2017-01-01T00:00:00.000000",
          "2017-04-01T00:00:00.000000",
          "2017-07-01T00:00:00.000000",
          "2017-10-01T00:00:00.000000",
          "2018-01-01T00:00:00.000000",
          "2018-04-01T00:00:00.000000",
          "2018-07-01T00:00:00.000000",
          "2018-10-01T00:00:00.000000",
          "2019-01-01T00:00:00.000000",
          "2019-04-01T00:00:00.000000",
          "2019-07-01T00:00:00.000000",
          "2019-10-01T00:00:00.000000",
          "2020-01-01T00:00:00.000000",
          "2020-04-01T00:00:00.000000",
          "2020-07-01T00:00:00.000000",
          "2020-10-01T00:00:00.000000",
          "2021-01-01T00:00:00.000000",
          "2021-04-01T00:00:00.000000",
          "2021-07-01T00:00:00.000000",
          "2021-10-01T00:00:00.000000",
          "2022-01-01T00:00:00.000000",
          "2022-04-01T00:00:00.000000",
          "2022-07-01T00:00:00.000000",
          "2022-10-01T00:00:00.000000",
          "2023-01-01T00:00:00.000000",
          "2023-04-01T00:00:00.000000",
          "2023-07-01T00:00:00.000000",
          "2023-10-01T00:00:00.000000",
          "2024-01-01T00:00:00.000000",
          "2024-04-01T00:00:00.000000",
          "2024-07-01T00:00:00.000000",
          "2024-10-01T00:00:00.000000",
          "2025-01-01T00:00:00.000000"
         ],
         "y": {
          "bdata": "AAAAAAAA+H8AAAAAAAD4fwAAAAAAAPh/AAAAAAAA+H8AAAAAAAD4fwAAAAAAAPh/AAAAAAAA+H8AAAAAAAD4fwAAAAAAAPh/AAAAAAAA+H8AAAAAAAD4fwAAAAAAAPh/AAAAAAAA+H8AAAAAAAD4fwAAAAAAAPh/AAAAAAAA+H8AAAAAAAD4fwAAAAAAAPh/AAAAAAAA+H8AAAAAAAD4fwAAAAAAAPh/AAAAAAAA+H8AAAAAAAD4fwAAAAAAAPh/AAAAAAAA+H8AAAAAAAD4fwAAAAAAAPh/AAAAAAAA+H8AAAAAAAD4fwAAAAAAAPh/AAAAAAAA+H8AAAAAAAD4fwAAAAAAAPh/AAAAAAAA+H8AAAAAAAD4fwAAAAAAAPh/AAAAAAAA+H8AAAAAAAD4fwAAAAAAAPh/AAAAAAAA+H8AAAAAAAD4fwAAAAAAAPh/AAAAAAAA+H8AAAAAAAD4fwAAAAAAAPh/AAAAAAAA+H8AAAAAAAD4fwAAAAAAAPh/AAAAAAAA+H8AAAAAAAD4fwAAAAAAAPh/AAAAAAAA+H9BohU2BxIRQAAAAAAAgBFAC1nIQhayFEBP7MRO7MQUQExoL6G9hBBAmpmZmZmZDUBmZmZmZmYMQDrnnHPOOQtAmpmZmZnZB0Aw6Av6gr4IQB+D8zE4HwdAwzAMwzAMCUA1wnJPIywLQA==",
          "dtype": "f8"
         }
        },
        {
         "mode": "lines+markers",
         "name": "20000-34999",
         "type": "scatter",
         "x": [
          "2009-01-01T00:00:00.000000",
          "2009-04-01T00:00:00.000000",
          "2009-07-01T00:00:00.000000",
          "2009-10-01T00:00:00.000000",
          "2010-01-01T00:00:00.000000",
          "2010-04-01T00:00:00.000000",
          "2010-07-01T00:00:00.000000",
          "2010-10-01T00:00:00.000000",
          "2011-01-01T00:00:00.000000",
          "2011-04-01T00:00:00.000000",
          "2011-07-01T00:00:00.000000",
          "2011-10-01T00:00:00.000000",
          "2012-01-01T00:00:00.000000",
          "2012-04-01T00:00:00.000000",
          "2012-07-01T00:00:00.000000",
          "2012-10-01T00:00:00.000000",
          "2013-01-01T00:00:00.000000",
          "2013-04-01T00:00:00.000000",
          "2013-07-01T00:00:00.000000",
          "2013-10-01T00:00:00.000000",
          "2014-01-01T00:00:00.000000",
          "2014-04-01T00:00:00.000000",
          "2014-07-01T00:00:00.000000",
          "2014-10-01T00:00:00.000000",
          "2015-01-01T00:00:00.000000",
          "2015-04-01T00:00:00.000000",
          "2015-07-01T00:00:00.000000",
          "2015-10-01T00:00:00.000000",
          "2016-01-01T00:00:00.000000",
          "2016-04-01T00:00:00.000000",
          "2016-07-01T00:00:00.000000",
          "2016-10-01T00:00:00.000000",
          "2017-01-01T00:00:00.000000",
          "2017-04-01T00:00:00.000000",
          "2017-07-01T00:00:00.000000",
          "2017-10-01T00:00:00.000000",
          "2018-01-01T00:00:00.000000",
          "2018-04-01T00:00:00.000000",
          "2018-07-01T00:00:00.000000",
          "2018-10-01T00:00:00.000000",
          "2019-01-01T00:00:00.000000",
          "2019-04-01T00:00:00.000000",
          "2019-07-01T00:00:00.000000",
          "2019-10-01T00:00:00.000000",
          "2020-01-01T00:00:00.000000",
          "2020-04-01T00:00:00.000000",
          "2020-07-01T00:00:00.000000",
          "2020-10-01T00:00:00.000000",
          "2021-01-01T00:00:00.000000",
          "2021-04-01T00:00:00.000000",
          "2021-07-01T00:00:00.000000",
          "2021-10-01T00:00:00.000000",
          "2022-01-01T00:00:00.000000",
          "2022-04-01T00:00:00.000000",
          "2022-07-01T00:00:00.000000",
          "2022-10-01T00:00:00.000000",
          "2023-01-01T00:00:00.000000",
          "2023-04-01T00:00:00.000000",
          "2023-07-01T00:00:00.000000",
          "2023-10-01T00:00:00.000000",
          "2024-01-01T00:00:00.000000",
          "2024-04-01T00:00:00.000000",
          "2024-07-01T00:00:00.000000",
          "2024-10-01T00:00:00.000000",
          "2025-01-01T00:00:00.000000"
         ],
         "y": {
          "bdata": "AAAAAAAA+H8AAAAAAAD4fwAAAAAAAPh/AAAAAAAA+H8AAAAAAAD4fwAAAAAAAPh/AAAAAAAA+H8AAAAAAAD4fwAAAAAAAPh/AAAAAAAA+H8AAAAAAAD4fwAAAAAAAPh/AAAAAAAA+H8AAAAAAAD4fwAAAAAAAPh/AAAAAAAA+H8AAAAAAAD4fwAAAAAAAPh/AAAAAAAA+H8AAAAAAAD4fwAAAAAAAPh/AAAAAAAA+H8AAAAAAAD4fwAAAAAAAPh/AAAAAAAA+H8AAAAAAAD4fwAAAAAAAPh/AAAAAAAA+H8AAAAAAAD4fwAAAAAAAPh/AAAAAAAA+H8AAAAAAAD4fwAAAAAAAPh/AAAAAAAA+H8AAAAAAAD4fwAAAAAAAPh/AAAAAAAA+H8AAAAAAAD4fwAAAAAAAPh/AAAAAAAA+H8AAAAAAAD4fwAAAAAAAPh/AAAAAAAA+H8AAAAAAAD4fwAAAAAAAPh/AAAAAAAA+H8AAAAAAAD4fwAAAAAAAPh/AAAAAAAA+H8AAAAAAAD4fwAAAAAAAPh/AAAAAAAA+H+5pxGWexoRQO7AXDsw1xJAIiIiIiKiE0AecUfcEXcUQAZpkAZpkA5AREREREREC0Dd0wjLPY0MQCDBfQT3EQxAymsor6G8CEA6smcgKh0FQN/ZqO9s1AVAAAAAAAAACEDDe+G98F4MQA==",
          "dtype": "f8"
         }
        }
       ],
       "layout": {
        "hovermode": "x unified",
        "legend": {
         "title": {
          "text": "Group"
         }
        },
        "template": {
         "data": {
          "bar": [
           {
            "error_x": {
             "color": "#2a3f5f"
            },
            "error_y": {
             "color": "#2a3f5f"
            },
            "marker": {
             "line": {
              "color": "white",
              "width": 0.5
             },
             "pattern": {
              "fillmode": "overlay",
              "size": 10,
              "solidity": 0.2
             }
            },
            "type": "bar"
           }
          ],
          "barpolar": [
           {
            "marker": {
             "line": {
              "color": "white",
              "width": 0.5
             },
             "pattern": {
              "fillmode": "overlay",
              "size": 10,
              "solidity": 0.2
             }
            },
            "type": "barpolar"
           }
          ],
          "carpet": [
           {
            "aaxis": {
             "endlinecolor": "#2a3f5f",
             "gridcolor": "#C8D4E3",
             "linecolor": "#C8D4E3",
             "minorgridcolor": "#C8D4E3",
             "startlinecolor": "#2a3f5f"
            },
            "baxis": {
             "endlinecolor": "#2a3f5f",
             "gridcolor": "#C8D4E3",
             "linecolor": "#C8D4E3",
             "minorgridcolor": "#C8D4E3",
             "startlinecolor": "#2a3f5f"
            },
            "type": "carpet"
           }
          ],
          "choropleth": [
           {
            "colorbar": {
             "outlinewidth": 0,
             "ticks": ""
            },
            "type": "choropleth"
           }
          ],
          "contour": [
           {
            "colorbar": {
             "outlinewidth": 0,
             "ticks": ""
            },
            "colorscale": [
             [
              0,
              "#0d0887"
             ],
             [
              0.1111111111111111,
              "#46039f"
             ],
             [
              0.2222222222222222,
              "#7201a8"
             ],
             [
              0.3333333333333333,
              "#9c179e"
             ],
             [
              0.4444444444444444,
              "#bd3786"
             ],
             [
              0.5555555555555556,
              "#d8576b"
             ],
             [
              0.6666666666666666,
              "#ed7953"
             ],
             [
              0.7777777777777778,
              "#fb9f3a"
             ],
             [
              0.8888888888888888,
              "#fdca26"
             ],
             [
              1,
              "#f0f921"
             ]
            ],
            "type": "contour"
           }
          ],
          "contourcarpet": [
           {
            "colorbar": {
             "outlinewidth": 0,
             "ticks": ""
            },
            "type": "contourcarpet"
           }
          ],
          "heatmap": [
           {
            "colorbar": {
             "outlinewidth": 0,
             "ticks": ""
            },
            "colorscale": [
             [
              0,
              "#0d0887"
             ],
             [
              0.1111111111111111,
              "#46039f"
             ],
             [
              0.2222222222222222,
              "#7201a8"
             ],
             [
              0.3333333333333333,
              "#9c179e"
             ],
             [
              0.4444444444444444,
              "#bd3786"
             ],
             [
              0.5555555555555556,
              "#d8576b"
             ],
             [
              0.6666666666666666,
              "#ed7953"
             ],
             [
              0.7777777777777778,
              "#fb9f3a"
             ],
             [
              0.8888888888888888,
              "#fdca26"
             ],
             [
              1,
              "#f0f921"
             ]
            ],
            "type": "heatmap"
           }
          ],
          "histogram": [
           {
            "marker": {
             "pattern": {
              "fillmode": "overlay",
              "size": 10,
              "solidity": 0.2
             }
            },
            "type": "histogram"
           }
          ],
          "histogram2d": [
           {
            "colorbar": {
             "outlinewidth": 0,
             "ticks": ""
            },
            "colorscale": [
             [
              0,
              "#0d0887"
             ],
             [
              0.1111111111111111,
              "#46039f"
             ],
             [
              0.2222222222222222,
              "#7201a8"
             ],
             [
              0.3333333333333333,
              "#9c179e"
             ],
             [
              0.4444444444444444,
              "#bd3786"
             ],
             [
              0.5555555555555556,
              "#d8576b"
             ],
             [
              0.6666666666666666,
              "#ed7953"
             ],
             [
              0.7777777777777778,
              "#fb9f3a"
             ],
             [
              0.8888888888888888,
              "#fdca26"
             ],
             [
              1,
              "#f0f921"
             ]
            ],
            "type": "histogram2d"
           }
          ],
          "histogram2dcontour": [
           {
            "colorbar": {
             "outlinewidth": 0,
             "ticks": ""
            },
            "colorscale": [
             [
              0,
              "#0d0887"
             ],
             [
              0.1111111111111111,
              "#46039f"
             ],
             [
              0.2222222222222222,
              "#7201a8"
             ],
             [
              0.3333333333333333,
              "#9c179e"
             ],
             [
              0.4444444444444444,
              "#bd3786"
             ],
             [
              0.5555555555555556,
              "#d8576b"
             ],
             [
              0.6666666666666666,
              "#ed7953"
             ],
             [
              0.7777777777777778,
              "#fb9f3a"
             ],
             [
              0.8888888888888888,
              "#fdca26"
             ],
             [
              1,
              "#f0f921"
             ]
            ],
            "type": "histogram2dcontour"
           }
          ],
          "mesh3d": [
           {
            "colorbar": {
             "outlinewidth": 0,
             "ticks": ""
            },
            "type": "mesh3d"
           }
          ],
          "parcoords": [
           {
            "line": {
             "colorbar": {
              "outlinewidth": 0,
              "ticks": ""
             }
            },
            "type": "parcoords"
           }
          ],
          "pie": [
           {
            "automargin": true,
            "type": "pie"
           }
          ],
          "scatter": [
           {
            "fillpattern": {
             "fillmode": "overlay",
             "size": 10,
             "solidity": 0.2
            },
            "type": "scatter"
           }
          ],
          "scatter3d": [
           {
            "line": {
             "colorbar": {
              "outlinewidth": 0,
              "ticks": ""
             }
            },
            "marker": {
             "colorbar": {
              "outlinewidth": 0,
              "ticks": ""
             }
            },
            "type": "scatter3d"
           }
          ],
          "scattercarpet": [
           {
            "marker": {
             "colorbar": {
              "outlinewidth": 0,
              "ticks": ""
             }
            },
            "type": "scattercarpet"
           }
          ],
          "scattergeo": [
           {
            "marker": {
             "colorbar": {
              "outlinewidth": 0,
              "ticks": ""
             }
            },
            "type": "scattergeo"
           }
          ],
          "scattergl": [
           {
            "marker": {
             "colorbar": {
              "outlinewidth": 0,
              "ticks": ""
             }
            },
            "type": "scattergl"
           }
          ],
          "scattermap": [
           {
            "marker": {
             "colorbar": {
              "outlinewidth": 0,
              "ticks": ""
             }
            },
            "type": "scattermap"
           }
          ],
          "scattermapbox": [
           {
            "marker": {
             "colorbar": {
              "outlinewidth": 0,
              "ticks": ""
             }
            },
            "type": "scattermapbox"
           }
          ],
          "scatterpolar": [
           {
            "marker": {
             "colorbar": {
              "outlinewidth": 0,
              "ticks": ""
             }
            },
            "type": "scatterpolar"
           }
          ],
          "scatterpolargl": [
           {
            "marker": {
             "colorbar": {
              "outlinewidth": 0,
              "ticks": ""
             }
            },
            "type": "scatterpolargl"
           }
          ],
          "scatterternary": [
           {
            "marker": {
             "colorbar": {
              "outlinewidth": 0,
              "ticks": ""
             }
            },
            "type": "scatterternary"
           }
          ],
          "surface": [
           {
            "colorbar": {
             "outlinewidth": 0,
             "ticks": ""
            },
            "colorscale": [
             [
              0,
              "#0d0887"
             ],
             [
              0.1111111111111111,
              "#46039f"
             ],
             [
              0.2222222222222222,
              "#7201a8"
             ],
             [
              0.3333333333333333,
              "#9c179e"
             ],
             [
              0.4444444444444444,
              "#bd3786"
             ],
             [
              0.5555555555555556,
              "#d8576b"
             ],
             [
              0.6666666666666666,
              "#ed7953"
             ],
             [
              0.7777777777777778,
              "#fb9f3a"
             ],
             [
              0.8888888888888888,
              "#fdca26"
             ],
             [
              1,
              "#f0f921"
             ]
            ],
            "type": "surface"
           }
          ],
          "table": [
           {
            "cells": {
             "fill": {
              "color": "#EBF0F8"
             },
             "line": {
              "color": "white"
             }
            },
            "header": {
             "fill": {
              "color": "#C8D4E3"
             },
             "line": {
              "color": "white"
             }
            },
            "type": "table"
           }
          ]
         },
         "layout": {
          "annotationdefaults": {
           "arrowcolor": "#2a3f5f",
           "arrowhead": 0,
           "arrowwidth": 1
          },
          "autotypenumbers": "strict",
          "coloraxis": {
           "colorbar": {
            "outlinewidth": 0,
            "ticks": ""
           }
          },
          "colorscale": {
           "diverging": [
            [
             0,
             "#8e0152"
            ],
            [
             0.1,
             "#c51b7d"
            ],
            [
             0.2,
             "#de77ae"
            ],
            [
             0.3,
             "#f1b6da"
            ],
            [
             0.4,
             "#fde0ef"
            ],
            [
             0.5,
             "#f7f7f7"
            ],
            [
             0.6,
             "#e6f5d0"
            ],
            [
             0.7,
             "#b8e186"
            ],
            [
             0.8,
             "#7fbc41"
            ],
            [
             0.9,
             "#4d9221"
            ],
            [
             1,
             "#276419"
            ]
           ],
           "sequential": [
            [
             0,
             "#0d0887"
            ],
            [
             0.1111111111111111,
             "#46039f"
            ],
            [
             0.2222222222222222,
             "#7201a8"
            ],
            [
             0.3333333333333333,
             "#9c179e"
            ],
            [
             0.4444444444444444,
             "#bd3786"
            ],
            [
             0.5555555555555556,
             "#d8576b"
            ],
            [
             0.6666666666666666,
             "#ed7953"
            ],
            [
             0.7777777777777778,
             "#fb9f3a"
            ],
            [
             0.8888888888888888,
             "#fdca26"
            ],
            [
             1,
             "#f0f921"
            ]
           ],
           "sequentialminus": [
            [
             0,
             "#0d0887"
            ],
            [
             0.1111111111111111,
             "#46039f"
            ],
            [
             0.2222222222222222,
             "#7201a8"
            ],
            [
             0.3333333333333333,
             "#9c179e"
            ],
            [
             0.4444444444444444,
             "#bd3786"
            ],
            [
             0.5555555555555556,
             "#d8576b"
            ],
            [
             0.6666666666666666,
             "#ed7953"
            ],
            [
             0.7777777777777778,
             "#fb9f3a"
            ],
            [
             0.8888888888888888,
             "#fdca26"
            ],
            [
             1,
             "#f0f921"
            ]
           ]
          },
          "colorway": [
           "#636efa",
           "#EF553B",
           "#00cc96",
           "#ab63fa",
           "#FFA15A",
           "#19d3f3",
           "#FF6692",
           "#B6E880",
           "#FF97FF",
           "#FECB52"
          ],
          "font": {
           "color": "#2a3f5f"
          },
          "geo": {
           "bgcolor": "white",
           "lakecolor": "white",
           "landcolor": "white",
           "showlakes": true,
           "showland": true,
           "subunitcolor": "#C8D4E3"
          },
          "hoverlabel": {
           "align": "left"
          },
          "hovermode": "closest",
          "mapbox": {
           "style": "light"
          },
          "paper_bgcolor": "white",
          "plot_bgcolor": "white",
          "polar": {
           "angularaxis": {
            "gridcolor": "#EBF0F8",
            "linecolor": "#EBF0F8",
            "ticks": ""
           },
           "bgcolor": "white",
           "radialaxis": {
            "gridcolor": "#EBF0F8",
            "linecolor": "#EBF0F8",
            "ticks": ""
           }
          },
          "scene": {
           "xaxis": {
            "backgroundcolor": "white",
            "gridcolor": "#DFE8F3",
            "gridwidth": 2,
            "linecolor": "#EBF0F8",
            "showbackground": true,
            "ticks": "",
            "zerolinecolor": "#EBF0F8"
           },
           "yaxis": {
            "backgroundcolor": "white",
            "gridcolor": "#DFE8F3",
            "gridwidth": 2,
            "linecolor": "#EBF0F8",
            "showbackground": true,
            "ticks": "",
            "zerolinecolor": "#EBF0F8"
           },
           "zaxis": {
            "backgroundcolor": "white",
            "gridcolor": "#DFE8F3",
            "gridwidth": 2,
            "linecolor": "#EBF0F8",
            "showbackground": true,
            "ticks": "",
            "zerolinecolor": "#EBF0F8"
           }
          },
          "shapedefaults": {
           "line": {
            "color": "#2a3f5f"
           }
          },
          "ternary": {
           "aaxis": {
            "gridcolor": "#DFE8F3",
            "linecolor": "#A2B1C6",
            "ticks": ""
           },
           "baxis": {
            "gridcolor": "#DFE8F3",
            "linecolor": "#A2B1C6",
            "ticks": ""
           },
           "bgcolor": "white",
           "caxis": {
            "gridcolor": "#DFE8F3",
            "linecolor": "#A2B1C6",
            "ticks": ""
           }
          },
          "title": {
           "x": 0.05
          },
          "xaxis": {
           "automargin": true,
           "gridcolor": "#EBF0F8",
           "linecolor": "#EBF0F8",
           "ticks": "",
           "title": {
            "standoff": 15
           },
           "zerolinecolor": "#EBF0F8",
           "zerolinewidth": 2
          },
          "yaxis": {
           "automargin": true,
           "gridcolor": "#EBF0F8",
           "linecolor": "#EBF0F8",
           "ticks": "",
           "title": {
            "standoff": 15
           },
           "zerolinecolor": "#EBF0F8",
           "zerolinewidth": 2
          }
         }
        },
        "title": {
         "text": "1 year ahead inflation expectations by income band"
        },
        "xaxis": {
         "title": {
          "text": "Quarter"
         }
        },
        "yaxis": {
         "title": {
          "text": "Grouped Median (Interpolated)"
         }
        }
       }
      }
     },
     "metadata": {},
     "output_type": "display_data"
    }
   ],
   "source": [
    "income_bands = {\n",
    "    \"1\": \"<9500\",\n",
    "    \"2\": \"9500-17499\",\n",
    "    \"3\": \"17500-24999\",\n",
    "    \"4\": \">25000\",\n",
    "    \"5\": \"25000-39999\",\n",
    "    \"6\": \">40000\",\n",
    "    \"7\": \"<9999\",\n",
    "    \"8\": \"10000-19999\",\n",
    "    \"9\": \"20000-34999\",\n",
    "    \"10\": \"35000-44999\",\n",
    "    \"11\": \">45000\",\n",
    "    \"12\": \"Prefer not to answer\"\n",
    "}\n",
    "\n",
    "plot_question_medians(median_dfs[0], income_bands, '1 year ahead inflation expectations by income band')"
   ]
  },
  {
   "cell_type": "code",
   "execution_count": 33,
   "metadata": {},
   "outputs": [
    {
     "data": {
      "application/vnd.plotly.v1+json": {
       "config": {
        "plotlyServerURL": "https://plot.ly"
       },
       "data": [
        {
         "mode": "lines+markers",
         "name": "<9500",
         "type": "scatter",
         "x": [
          "2009-01-01T00:00:00.000000",
          "2009-04-01T00:00:00.000000",
          "2009-07-01T00:00:00.000000",
          "2009-10-01T00:00:00.000000",
          "2010-01-01T00:00:00.000000",
          "2010-04-01T00:00:00.000000",
          "2010-07-01T00:00:00.000000",
          "2010-10-01T00:00:00.000000",
          "2011-01-01T00:00:00.000000",
          "2011-04-01T00:00:00.000000",
          "2011-07-01T00:00:00.000000",
          "2011-10-01T00:00:00.000000",
          "2012-01-01T00:00:00.000000",
          "2012-04-01T00:00:00.000000",
          "2012-07-01T00:00:00.000000",
          "2012-10-01T00:00:00.000000",
          "2013-01-01T00:00:00.000000",
          "2013-04-01T00:00:00.000000",
          "2013-07-01T00:00:00.000000",
          "2013-10-01T00:00:00.000000",
          "2014-01-01T00:00:00.000000",
          "2014-04-01T00:00:00.000000",
          "2014-07-01T00:00:00.000000",
          "2014-10-01T00:00:00.000000",
          "2015-01-01T00:00:00.000000",
          "2015-04-01T00:00:00.000000",
          "2015-07-01T00:00:00.000000",
          "2015-10-01T00:00:00.000000",
          "2016-01-01T00:00:00.000000",
          "2016-04-01T00:00:00.000000",
          "2016-07-01T00:00:00.000000",
          "2016-10-01T00:00:00.000000",
          "2017-01-01T00:00:00.000000",
          "2017-04-01T00:00:00.000000",
          "2017-07-01T00:00:00.000000",
          "2017-10-01T00:00:00.000000",
          "2018-01-01T00:00:00.000000",
          "2018-04-01T00:00:00.000000",
          "2018-07-01T00:00:00.000000",
          "2018-10-01T00:00:00.000000",
          "2019-01-01T00:00:00.000000",
          "2019-04-01T00:00:00.000000",
          "2019-07-01T00:00:00.000000",
          "2019-10-01T00:00:00.000000",
          "2020-01-01T00:00:00.000000",
          "2020-04-01T00:00:00.000000",
          "2020-07-01T00:00:00.000000",
          "2020-10-01T00:00:00.000000",
          "2021-01-01T00:00:00.000000",
          "2021-04-01T00:00:00.000000",
          "2021-07-01T00:00:00.000000",
          "2021-10-01T00:00:00.000000",
          "2022-01-01T00:00:00.000000",
          "2022-04-01T00:00:00.000000",
          "2022-07-01T00:00:00.000000",
          "2022-10-01T00:00:00.000000",
          "2023-01-01T00:00:00.000000",
          "2023-04-01T00:00:00.000000",
          "2023-07-01T00:00:00.000000",
          "2023-10-01T00:00:00.000000",
          "2024-01-01T00:00:00.000000",
          "2024-04-01T00:00:00.000000",
          "2024-07-01T00:00:00.000000",
          "2024-10-01T00:00:00.000000",
          "2025-01-01T00:00:00.000000"
         ],
         "y": {
          "bdata": "ZmZmZmZm/T8bymsor6ECQJTXUF5Def0/KaWUUkopAUDc0wjLPY38P4X2EtpLaAdAmNBeQnsJCUB00UUXXXQJQHkN5TWU1wpAAAAAAAAACEDv7u7u7u4KQEtLS0tLSwtAsRM7sRM7BkDYUF5DeQ0JQL7lW77lWwZAVVVVVVVVBkDe9KY3vekFQE/sxE7sxAhAOY7jOI7jB0CrqqqqqqoKQLuFX42J9ARApze96U1vAkCjiy666KIDQBljjDHGGANAvoT2EtpLAEAuuuiiiy4CQPEVX/EVXwFACu0ltJfQ/j9VVVVVVVUBQKuqqqqqqgFAq6qqqqqqAkC8u7u7u7sFQO/u7u7u7gdARERERERECEDNzMzMzMwIQNu2bdu2bQlAchzHcRzHCUCvobyG8hoKQDrnnHPOOQdAnN70pje9CUDRRRdddNEJQFVVVVVV1QtAq6qqqqqqDkDHcRzHcRwLQPyMEj+jxAdAT+zETuzEAkBVVVVVVdUBQMs9jbDc0wBAvqAv6Av6AkC0tLS0tLT8P6OLLrroogNAjuM4juM4BEAhC1nIQhYKQAAAAAAAgAlAmpmZmZmZCECXlpaWlpYKQCyIyRXE5ApAMQzDMAzDBEDHcRzHcRwJQEtLS0tLSwNApze96U1vCEDkOI7jOI4FQDBFPusGUwRAq6qqqqqqB0DHcRzHcRwJQA==",
          "dtype": "f8"
         }
        },
        {
         "mode": "lines+markers",
         "name": "17500-24999",
         "type": "scatter",
         "x": [
          "2009-01-01T00:00:00.000000",
          "2009-04-01T00:00:00.000000",
          "2009-07-01T00:00:00.000000",
          "2009-10-01T00:00:00.000000",
          "2010-01-01T00:00:00.000000",
          "2010-04-01T00:00:00.000000",
          "2010-07-01T00:00:00.000000",
          "2010-10-01T00:00:00.000000",
          "2011-01-01T00:00:00.000000",
          "2011-04-01T00:00:00.000000",
          "2011-07-01T00:00:00.000000",
          "2011-10-01T00:00:00.000000",
          "2012-01-01T00:00:00.000000",
          "2012-04-01T00:00:00.000000",
          "2012-07-01T00:00:00.000000",
          "2012-10-01T00:00:00.000000",
          "2013-01-01T00:00:00.000000",
          "2013-04-01T00:00:00.000000",
          "2013-07-01T00:00:00.000000",
          "2013-10-01T00:00:00.000000",
          "2014-01-01T00:00:00.000000",
          "2014-04-01T00:00:00.000000",
          "2014-07-01T00:00:00.000000",
          "2014-10-01T00:00:00.000000",
          "2015-01-01T00:00:00.000000",
          "2015-04-01T00:00:00.000000",
          "2015-07-01T00:00:00.000000",
          "2015-10-01T00:00:00.000000",
          "2016-01-01T00:00:00.000000",
          "2016-04-01T00:00:00.000000",
          "2016-07-01T00:00:00.000000",
          "2016-10-01T00:00:00.000000",
          "2017-01-01T00:00:00.000000",
          "2017-04-01T00:00:00.000000",
          "2017-07-01T00:00:00.000000",
          "2017-10-01T00:00:00.000000",
          "2018-01-01T00:00:00.000000",
          "2018-04-01T00:00:00.000000",
          "2018-07-01T00:00:00.000000",
          "2018-10-01T00:00:00.000000",
          "2019-01-01T00:00:00.000000",
          "2019-04-01T00:00:00.000000",
          "2019-07-01T00:00:00.000000",
          "2019-10-01T00:00:00.000000",
          "2020-01-01T00:00:00.000000",
          "2020-04-01T00:00:00.000000",
          "2020-07-01T00:00:00.000000",
          "2020-10-01T00:00:00.000000",
          "2021-01-01T00:00:00.000000",
          "2021-04-01T00:00:00.000000",
          "2021-07-01T00:00:00.000000",
          "2021-10-01T00:00:00.000000",
          "2022-01-01T00:00:00.000000",
          "2022-04-01T00:00:00.000000",
          "2022-07-01T00:00:00.000000",
          "2022-10-01T00:00:00.000000",
          "2023-01-01T00:00:00.000000",
          "2023-04-01T00:00:00.000000",
          "2023-07-01T00:00:00.000000",
          "2023-10-01T00:00:00.000000",
          "2024-01-01T00:00:00.000000",
          "2024-04-01T00:00:00.000000",
          "2024-07-01T00:00:00.000000",
          "2024-10-01T00:00:00.000000",
          "2025-01-01T00:00:00.000000"
         ],
         "y": {
          "bdata": "uSPuiDviAEDWDabIZ90AQAUxuYKYXAFA9ihcj8L1BED+cMDjDwcEQDXCck8jLAdAQh3UQR3UB0DqTW9605sMQCh2Yid2YgxAF1100UUXDUBvetOb3vQKQGppaWlpaQ1AkiRJkiRJDECkcD0K16MMQJqZmZmZmQpA6k1vetObDEDlCmJyBTEPQA3SIA3SIA1AJ3ZiJ3ZiCUBmZmZmZmYKQKDikiFYRwdAkYUsZCELBUB605ve9KYJQHhMDewdUwNAaAqBphBoAkAAAAAAAAAEQG8wRT7rBgNACcs9jbDcAUAM+oK+oC8AQGt+WKQMPAFAq6qqqqqqAUCSkZGRkZEDQMb60FgfGgVAjC666KKLBEBOzYPc9bMFQKB++umnnwZAfsPaN6x9B0Bedtlll10GQNgeclkxUAZAAAAAAACABkAxDMMwDEMHQAK1fqVArQdAc3YLvxoTCUBXG0PTHewHQEzNhv1dDAZAkvOyiE8g/T80EJWO7BkAQBzHcRzH8QBAQnsJ7SU0AUBg0Bf0BX39P5qZmZmZ2QFA7vrZYmX4AkD3WMvQAbsJQOd9ikuGYAlAIYQQQgghCkA9z/M8z/MMQAfPESjaaghAKVyPwvUoBEAAAAAAADAFQGjdYIp81gVAPBv1nY36BkCxEzuxE7sEQPRJn/RJnwRAKDDp1DzIBUC9evXq1asJQA==",
          "dtype": "f8"
         }
        },
        {
         "mode": "lines+markers",
         "name": "25000-39999",
         "type": "scatter",
         "x": [
          "2009-01-01T00:00:00.000000",
          "2009-04-01T00:00:00.000000",
          "2009-07-01T00:00:00.000000",
          "2009-10-01T00:00:00.000000",
          "2010-01-01T00:00:00.000000",
          "2010-04-01T00:00:00.000000",
          "2010-07-01T00:00:00.000000",
          "2010-10-01T00:00:00.000000",
          "2011-01-01T00:00:00.000000",
          "2011-04-01T00:00:00.000000",
          "2011-07-01T00:00:00.000000",
          "2011-10-01T00:00:00.000000",
          "2012-01-01T00:00:00.000000",
          "2012-04-01T00:00:00.000000",
          "2012-07-01T00:00:00.000000",
          "2012-10-01T00:00:00.000000",
          "2013-01-01T00:00:00.000000",
          "2013-04-01T00:00:00.000000",
          "2013-07-01T00:00:00.000000",
          "2013-10-01T00:00:00.000000",
          "2014-01-01T00:00:00.000000",
          "2014-04-01T00:00:00.000000",
          "2014-07-01T00:00:00.000000",
          "2014-10-01T00:00:00.000000",
          "2015-01-01T00:00:00.000000",
          "2015-04-01T00:00:00.000000",
          "2015-07-01T00:00:00.000000",
          "2015-10-01T00:00:00.000000",
          "2016-01-01T00:00:00.000000",
          "2016-04-01T00:00:00.000000",
          "2016-07-01T00:00:00.000000",
          "2016-10-01T00:00:00.000000",
          "2017-01-01T00:00:00.000000",
          "2017-04-01T00:00:00.000000",
          "2017-07-01T00:00:00.000000",
          "2017-10-01T00:00:00.000000",
          "2018-01-01T00:00:00.000000",
          "2018-04-01T00:00:00.000000",
          "2018-07-01T00:00:00.000000",
          "2018-10-01T00:00:00.000000",
          "2019-01-01T00:00:00.000000",
          "2019-04-01T00:00:00.000000",
          "2019-07-01T00:00:00.000000",
          "2019-10-01T00:00:00.000000",
          "2020-01-01T00:00:00.000000",
          "2020-04-01T00:00:00.000000",
          "2020-07-01T00:00:00.000000",
          "2020-10-01T00:00:00.000000",
          "2021-01-01T00:00:00.000000",
          "2021-04-01T00:00:00.000000",
          "2021-07-01T00:00:00.000000",
          "2021-10-01T00:00:00.000000",
          "2022-01-01T00:00:00.000000",
          "2022-04-01T00:00:00.000000",
          "2022-07-01T00:00:00.000000",
          "2022-10-01T00:00:00.000000",
          "2023-01-01T00:00:00.000000",
          "2023-04-01T00:00:00.000000",
          "2023-07-01T00:00:00.000000",
          "2023-10-01T00:00:00.000000",
          "2024-01-01T00:00:00.000000",
          "2024-04-01T00:00:00.000000",
          "2024-07-01T00:00:00.000000",
          "2024-10-01T00:00:00.000000",
          "2025-01-01T00:00:00.000000"
         ],
         "y": {
          "bdata": "cD4G52Nw/j+DwWAwGAwCQIwuuuiiiwFAzczMzMzMAkDaoMmXDZoEQHaM4lzHKAZAzzKiD6iOBUAF463sc0gHQPIaymsorwlAiHG/Lql8CEApXI/C9SgLQB6Yawfm2glAJBPonbqWBUCDNEiDNEgJQHTRRRdd9AVAcwpeTsHLB0C6fWX1LnkMQKuqqqqqagpANNaHxvrQCEDmSWQatpsJQFdye35/KgZAyOB8DM7HBECPvbVhmrsEQLdt27ZtGwVAa114Qq7WAUDP8zzP8zwDQKApBJpCoAFAtedk+iphBEC2WBm+EQUCQLKQhSxkIQRAFKEIRShCAUD2W20MTXcEQI7G5WhcjgZAZGRkZGRkBkDsZ4uV4RsFQK4gJlcQkwdAujU/LFIGCEDDMAzDMAwIQLPLLrvssgdAZmZmZmZmCEAJ5JoI5JoIQLIyfCMKTAZAAAAAAAAACEBeQ3kN5TUIQAAAAAAAAAhACYzACIzAAEB+fn5+fn4CQAAAAAAAwABA0NBn6DP0AUB5gUyKF8gAQKuqqqqqKgJAbtu2bdu2A0DtIZcVAyUIQFDCG02dXwtAWO5phOWeCkCXDME62rwLQP0F9BfQXwhAoQ7qoA7qBkAoxFn5CXEGQGZmZmZmZgZAHRX44uoHB0DmSWQatpsFQBhvZZ9DagRAKK+hvIbyBkAtLS0tLS0JQA==",
          "dtype": "f8"
         }
        },
        {
         "mode": "lines+markers",
         "name": "9500-17499",
         "type": "scatter",
         "x": [
          "2009-01-01T00:00:00.000000",
          "2009-04-01T00:00:00.000000",
          "2009-07-01T00:00:00.000000",
          "2009-10-01T00:00:00.000000",
          "2010-01-01T00:00:00.000000",
          "2010-04-01T00:00:00.000000",
          "2010-07-01T00:00:00.000000",
          "2010-10-01T00:00:00.000000",
          "2011-01-01T00:00:00.000000",
          "2011-04-01T00:00:00.000000",
          "2011-07-01T00:00:00.000000",
          "2011-10-01T00:00:00.000000",
          "2012-01-01T00:00:00.000000",
          "2012-04-01T00:00:00.000000",
          "2012-07-01T00:00:00.000000",
          "2012-10-01T00:00:00.000000",
          "2013-01-01T00:00:00.000000",
          "2013-04-01T00:00:00.000000",
          "2013-07-01T00:00:00.000000",
          "2013-10-01T00:00:00.000000",
          "2014-01-01T00:00:00.000000",
          "2014-04-01T00:00:00.000000",
          "2014-07-01T00:00:00.000000",
          "2014-10-01T00:00:00.000000",
          "2015-01-01T00:00:00.000000",
          "2015-04-01T00:00:00.000000",
          "2015-07-01T00:00:00.000000",
          "2015-10-01T00:00:00.000000",
          "2016-01-01T00:00:00.000000",
          "2016-04-01T00:00:00.000000",
          "2016-07-01T00:00:00.000000",
          "2016-10-01T00:00:00.000000",
          "2017-01-01T00:00:00.000000",
          "2017-04-01T00:00:00.000000",
          "2017-07-01T00:00:00.000000",
          "2017-10-01T00:00:00.000000",
          "2018-01-01T00:00:00.000000",
          "2018-04-01T00:00:00.000000",
          "2018-07-01T00:00:00.000000",
          "2018-10-01T00:00:00.000000",
          "2019-01-01T00:00:00.000000",
          "2019-04-01T00:00:00.000000",
          "2019-07-01T00:00:00.000000",
          "2019-10-01T00:00:00.000000",
          "2020-01-01T00:00:00.000000",
          "2020-04-01T00:00:00.000000",
          "2020-07-01T00:00:00.000000",
          "2020-10-01T00:00:00.000000",
          "2021-01-01T00:00:00.000000",
          "2021-04-01T00:00:00.000000",
          "2021-07-01T00:00:00.000000",
          "2021-10-01T00:00:00.000000",
          "2022-01-01T00:00:00.000000",
          "2022-04-01T00:00:00.000000",
          "2022-07-01T00:00:00.000000",
          "2022-10-01T00:00:00.000000",
          "2023-01-01T00:00:00.000000",
          "2023-04-01T00:00:00.000000",
          "2023-07-01T00:00:00.000000",
          "2023-10-01T00:00:00.000000",
          "2024-01-01T00:00:00.000000",
          "2024-04-01T00:00:00.000000",
          "2024-07-01T00:00:00.000000",
          "2024-10-01T00:00:00.000000",
          "2025-01-01T00:00:00.000000"
         ],
         "y": {
          "bdata": "YIgVpfGRAUAuuuiiiy4CQBdddNFFFwJAbGxsbGxsAEAHaZAGaZABQBiGYRiGYQVA1EEd1EEdCEDijrgj7ogLQAzBOtq8Tw1A89iKoOGkCkDtc0hNMN4OQIaTui+PrQxAt3hyiye3CEBddNFFF10MQMwuu+yyywZAcT0K16NwCUBNvmzQ5MsKQEhwH8F9BAtAs2XLli1bCkC0l9BeQnsNQNuFMNuFMAdAfvSjH/3oA0Afg/MxOB8HQKOLLrroIgRAO7ETO7ETAkDd0wjLPY0CQBnRB1TH3gJANu0nS2DT/j8tLS0tLS0BQH/u537u5wJAWqAFWqAFAkBSGZVRGZUFQNuBuXZgrgVAFK5H4XoUB0Ce8YxnPOMFQEmSJEmSJAdAb5YnkWnYBkBu27Zt27YHQE422WSTTQpApza1qU1tBkDohV7ohV4IQGZmZmZmZglA2jr0m61DB0AQOirwxdUHQFWuO15sCQZAnlpY6amF/T/LT4iz8hMCQA1EpSN7BgJAO5VHB97zAUCOQNFWg+cAQCEmVxCTKwJAonYlaleiBEDsuq7ruq4LQCAIgiAIggxA55xzzjnnCkCxEzuxEzsNQBdddNFFFwlAAAAAAAAABEBZyEIWspAFQMhWBA0ndQdAbHO6yjPxBUCOoekO9lsFQF4Z2+/olQVAcl4W8QmkBkDOOeecc84JQA==",
          "dtype": "f8"
         }
        },
        {
         "mode": "lines+markers",
         "name": ">25000",
         "type": "scatter",
         "x": [
          "2009-01-01T00:00:00.000000",
          "2009-04-01T00:00:00.000000",
          "2009-07-01T00:00:00.000000",
          "2009-10-01T00:00:00.000000",
          "2010-01-01T00:00:00.000000",
          "2010-04-01T00:00:00.000000",
          "2010-07-01T00:00:00.000000",
          "2010-10-01T00:00:00.000000",
          "2011-01-01T00:00:00.000000",
          "2011-04-01T00:00:00.000000",
          "2011-07-01T00:00:00.000000",
          "2011-10-01T00:00:00.000000",
          "2012-01-01T00:00:00.000000",
          "2012-04-01T00:00:00.000000",
          "2012-07-01T00:00:00.000000",
          "2012-10-01T00:00:00.000000",
          "2013-01-01T00:00:00.000000",
          "2013-04-01T00:00:00.000000",
          "2013-07-01T00:00:00.000000",
          "2013-10-01T00:00:00.000000",
          "2014-01-01T00:00:00.000000",
          "2014-04-01T00:00:00.000000",
          "2014-07-01T00:00:00.000000",
          "2014-10-01T00:00:00.000000",
          "2015-01-01T00:00:00.000000",
          "2015-04-01T00:00:00.000000",
          "2015-07-01T00:00:00.000000",
          "2015-10-01T00:00:00.000000",
          "2016-01-01T00:00:00.000000",
          "2016-04-01T00:00:00.000000",
          "2016-07-01T00:00:00.000000",
          "2016-10-01T00:00:00.000000",
          "2017-01-01T00:00:00.000000",
          "2017-04-01T00:00:00.000000",
          "2017-07-01T00:00:00.000000",
          "2017-10-01T00:00:00.000000",
          "2018-01-01T00:00:00.000000",
          "2018-04-01T00:00:00.000000",
          "2018-07-01T00:00:00.000000",
          "2018-10-01T00:00:00.000000",
          "2019-01-01T00:00:00.000000",
          "2019-04-01T00:00:00.000000",
          "2019-07-01T00:00:00.000000",
          "2019-10-01T00:00:00.000000",
          "2020-01-01T00:00:00.000000",
          "2020-04-01T00:00:00.000000",
          "2020-07-01T00:00:00.000000",
          "2020-10-01T00:00:00.000000",
          "2021-01-01T00:00:00.000000",
          "2021-04-01T00:00:00.000000",
          "2021-07-01T00:00:00.000000",
          "2021-10-01T00:00:00.000000",
          "2022-01-01T00:00:00.000000",
          "2022-04-01T00:00:00.000000",
          "2022-07-01T00:00:00.000000",
          "2022-10-01T00:00:00.000000",
          "2023-01-01T00:00:00.000000",
          "2023-04-01T00:00:00.000000",
          "2023-07-01T00:00:00.000000",
          "2023-10-01T00:00:00.000000",
          "2024-01-01T00:00:00.000000",
          "2024-04-01T00:00:00.000000",
          "2024-07-01T00:00:00.000000",
          "2024-10-01T00:00:00.000000",
          "2025-01-01T00:00:00.000000"
         ],
         "y": {
          "bdata": "7Ovr6+vr+z/poosuuugCQIZhGIZhGAJA8hrKayivA0D2KFyPwvUDQHh4eHh4eAhAwcspeDkFB0DkOI7jOI4KQAAAAAAAAAtA2qjvbNR3BkCKfNYNpsgLQJGFLGQhCw1A6aKLLrroCkCSJEmSJEkLQBvKayivoQhACe0ltJfQEEBRXkN5DeULQDMzMzMzMwlAIiIiIiIiCEBba6211loPQAAAAAAAQAZAOY7jOI7jBUAAAAAAAAAHQClcj8L1KARAZsuWLVu2AECO4ziO4zj+P8MwDMMwDAVAU9aUNWVNAUCrqqqqqioAQMMwDMMwDP8/r0TtStSu/D+n4OUUvJwCQEg/+tGPfgRAKCgoKCgoBEB877333nsDQKuqqqqqqgRAkiRJkiRJBkDyGsprKK8HQLyVfQ6pCQZAoryG8hrKA0BRXkN5DeUFQB4eHh4eHgZAzCl4OQUvB0C3bdu2bdsDQAAAAAAAAAZAnXPOOeec+z8cx3Ecx3H8P0MWspCFLAJAi+ksprOYAED29fX19fX9P9u2bdu2bQFAPzTWh8b6BEBOb3rTm94IQHZiJ3ZiJw5AZmZmZmZmDEDtJbSX0F4KQAAAAAAAAAZAWlpaWlpaAEBEREREREQIQLdt27Zt2wVAYPqlX/qlA0A2lNdQXkMFQEFBQUFBQQVAN5gin3WDCUCjiy666CIKQA==",
          "dtype": "f8"
         }
        }
       ],
       "layout": {
        "hovermode": "x unified",
        "legend": {
         "title": {
          "text": "Group"
         }
        },
        "template": {
         "data": {
          "bar": [
           {
            "error_x": {
             "color": "#2a3f5f"
            },
            "error_y": {
             "color": "#2a3f5f"
            },
            "marker": {
             "line": {
              "color": "white",
              "width": 0.5
             },
             "pattern": {
              "fillmode": "overlay",
              "size": 10,
              "solidity": 0.2
             }
            },
            "type": "bar"
           }
          ],
          "barpolar": [
           {
            "marker": {
             "line": {
              "color": "white",
              "width": 0.5
             },
             "pattern": {
              "fillmode": "overlay",
              "size": 10,
              "solidity": 0.2
             }
            },
            "type": "barpolar"
           }
          ],
          "carpet": [
           {
            "aaxis": {
             "endlinecolor": "#2a3f5f",
             "gridcolor": "#C8D4E3",
             "linecolor": "#C8D4E3",
             "minorgridcolor": "#C8D4E3",
             "startlinecolor": "#2a3f5f"
            },
            "baxis": {
             "endlinecolor": "#2a3f5f",
             "gridcolor": "#C8D4E3",
             "linecolor": "#C8D4E3",
             "minorgridcolor": "#C8D4E3",
             "startlinecolor": "#2a3f5f"
            },
            "type": "carpet"
           }
          ],
          "choropleth": [
           {
            "colorbar": {
             "outlinewidth": 0,
             "ticks": ""
            },
            "type": "choropleth"
           }
          ],
          "contour": [
           {
            "colorbar": {
             "outlinewidth": 0,
             "ticks": ""
            },
            "colorscale": [
             [
              0,
              "#0d0887"
             ],
             [
              0.1111111111111111,
              "#46039f"
             ],
             [
              0.2222222222222222,
              "#7201a8"
             ],
             [
              0.3333333333333333,
              "#9c179e"
             ],
             [
              0.4444444444444444,
              "#bd3786"
             ],
             [
              0.5555555555555556,
              "#d8576b"
             ],
             [
              0.6666666666666666,
              "#ed7953"
             ],
             [
              0.7777777777777778,
              "#fb9f3a"
             ],
             [
              0.8888888888888888,
              "#fdca26"
             ],
             [
              1,
              "#f0f921"
             ]
            ],
            "type": "contour"
           }
          ],
          "contourcarpet": [
           {
            "colorbar": {
             "outlinewidth": 0,
             "ticks": ""
            },
            "type": "contourcarpet"
           }
          ],
          "heatmap": [
           {
            "colorbar": {
             "outlinewidth": 0,
             "ticks": ""
            },
            "colorscale": [
             [
              0,
              "#0d0887"
             ],
             [
              0.1111111111111111,
              "#46039f"
             ],
             [
              0.2222222222222222,
              "#7201a8"
             ],
             [
              0.3333333333333333,
              "#9c179e"
             ],
             [
              0.4444444444444444,
              "#bd3786"
             ],
             [
              0.5555555555555556,
              "#d8576b"
             ],
             [
              0.6666666666666666,
              "#ed7953"
             ],
             [
              0.7777777777777778,
              "#fb9f3a"
             ],
             [
              0.8888888888888888,
              "#fdca26"
             ],
             [
              1,
              "#f0f921"
             ]
            ],
            "type": "heatmap"
           }
          ],
          "histogram": [
           {
            "marker": {
             "pattern": {
              "fillmode": "overlay",
              "size": 10,
              "solidity": 0.2
             }
            },
            "type": "histogram"
           }
          ],
          "histogram2d": [
           {
            "colorbar": {
             "outlinewidth": 0,
             "ticks": ""
            },
            "colorscale": [
             [
              0,
              "#0d0887"
             ],
             [
              0.1111111111111111,
              "#46039f"
             ],
             [
              0.2222222222222222,
              "#7201a8"
             ],
             [
              0.3333333333333333,
              "#9c179e"
             ],
             [
              0.4444444444444444,
              "#bd3786"
             ],
             [
              0.5555555555555556,
              "#d8576b"
             ],
             [
              0.6666666666666666,
              "#ed7953"
             ],
             [
              0.7777777777777778,
              "#fb9f3a"
             ],
             [
              0.8888888888888888,
              "#fdca26"
             ],
             [
              1,
              "#f0f921"
             ]
            ],
            "type": "histogram2d"
           }
          ],
          "histogram2dcontour": [
           {
            "colorbar": {
             "outlinewidth": 0,
             "ticks": ""
            },
            "colorscale": [
             [
              0,
              "#0d0887"
             ],
             [
              0.1111111111111111,
              "#46039f"
             ],
             [
              0.2222222222222222,
              "#7201a8"
             ],
             [
              0.3333333333333333,
              "#9c179e"
             ],
             [
              0.4444444444444444,
              "#bd3786"
             ],
             [
              0.5555555555555556,
              "#d8576b"
             ],
             [
              0.6666666666666666,
              "#ed7953"
             ],
             [
              0.7777777777777778,
              "#fb9f3a"
             ],
             [
              0.8888888888888888,
              "#fdca26"
             ],
             [
              1,
              "#f0f921"
             ]
            ],
            "type": "histogram2dcontour"
           }
          ],
          "mesh3d": [
           {
            "colorbar": {
             "outlinewidth": 0,
             "ticks": ""
            },
            "type": "mesh3d"
           }
          ],
          "parcoords": [
           {
            "line": {
             "colorbar": {
              "outlinewidth": 0,
              "ticks": ""
             }
            },
            "type": "parcoords"
           }
          ],
          "pie": [
           {
            "automargin": true,
            "type": "pie"
           }
          ],
          "scatter": [
           {
            "fillpattern": {
             "fillmode": "overlay",
             "size": 10,
             "solidity": 0.2
            },
            "type": "scatter"
           }
          ],
          "scatter3d": [
           {
            "line": {
             "colorbar": {
              "outlinewidth": 0,
              "ticks": ""
             }
            },
            "marker": {
             "colorbar": {
              "outlinewidth": 0,
              "ticks": ""
             }
            },
            "type": "scatter3d"
           }
          ],
          "scattercarpet": [
           {
            "marker": {
             "colorbar": {
              "outlinewidth": 0,
              "ticks": ""
             }
            },
            "type": "scattercarpet"
           }
          ],
          "scattergeo": [
           {
            "marker": {
             "colorbar": {
              "outlinewidth": 0,
              "ticks": ""
             }
            },
            "type": "scattergeo"
           }
          ],
          "scattergl": [
           {
            "marker": {
             "colorbar": {
              "outlinewidth": 0,
              "ticks": ""
             }
            },
            "type": "scattergl"
           }
          ],
          "scattermap": [
           {
            "marker": {
             "colorbar": {
              "outlinewidth": 0,
              "ticks": ""
             }
            },
            "type": "scattermap"
           }
          ],
          "scattermapbox": [
           {
            "marker": {
             "colorbar": {
              "outlinewidth": 0,
              "ticks": ""
             }
            },
            "type": "scattermapbox"
           }
          ],
          "scatterpolar": [
           {
            "marker": {
             "colorbar": {
              "outlinewidth": 0,
              "ticks": ""
             }
            },
            "type": "scatterpolar"
           }
          ],
          "scatterpolargl": [
           {
            "marker": {
             "colorbar": {
              "outlinewidth": 0,
              "ticks": ""
             }
            },
            "type": "scatterpolargl"
           }
          ],
          "scatterternary": [
           {
            "marker": {
             "colorbar": {
              "outlinewidth": 0,
              "ticks": ""
             }
            },
            "type": "scatterternary"
           }
          ],
          "surface": [
           {
            "colorbar": {
             "outlinewidth": 0,
             "ticks": ""
            },
            "colorscale": [
             [
              0,
              "#0d0887"
             ],
             [
              0.1111111111111111,
              "#46039f"
             ],
             [
              0.2222222222222222,
              "#7201a8"
             ],
             [
              0.3333333333333333,
              "#9c179e"
             ],
             [
              0.4444444444444444,
              "#bd3786"
             ],
             [
              0.5555555555555556,
              "#d8576b"
             ],
             [
              0.6666666666666666,
              "#ed7953"
             ],
             [
              0.7777777777777778,
              "#fb9f3a"
             ],
             [
              0.8888888888888888,
              "#fdca26"
             ],
             [
              1,
              "#f0f921"
             ]
            ],
            "type": "surface"
           }
          ],
          "table": [
           {
            "cells": {
             "fill": {
              "color": "#EBF0F8"
             },
             "line": {
              "color": "white"
             }
            },
            "header": {
             "fill": {
              "color": "#C8D4E3"
             },
             "line": {
              "color": "white"
             }
            },
            "type": "table"
           }
          ]
         },
         "layout": {
          "annotationdefaults": {
           "arrowcolor": "#2a3f5f",
           "arrowhead": 0,
           "arrowwidth": 1
          },
          "autotypenumbers": "strict",
          "coloraxis": {
           "colorbar": {
            "outlinewidth": 0,
            "ticks": ""
           }
          },
          "colorscale": {
           "diverging": [
            [
             0,
             "#8e0152"
            ],
            [
             0.1,
             "#c51b7d"
            ],
            [
             0.2,
             "#de77ae"
            ],
            [
             0.3,
             "#f1b6da"
            ],
            [
             0.4,
             "#fde0ef"
            ],
            [
             0.5,
             "#f7f7f7"
            ],
            [
             0.6,
             "#e6f5d0"
            ],
            [
             0.7,
             "#b8e186"
            ],
            [
             0.8,
             "#7fbc41"
            ],
            [
             0.9,
             "#4d9221"
            ],
            [
             1,
             "#276419"
            ]
           ],
           "sequential": [
            [
             0,
             "#0d0887"
            ],
            [
             0.1111111111111111,
             "#46039f"
            ],
            [
             0.2222222222222222,
             "#7201a8"
            ],
            [
             0.3333333333333333,
             "#9c179e"
            ],
            [
             0.4444444444444444,
             "#bd3786"
            ],
            [
             0.5555555555555556,
             "#d8576b"
            ],
            [
             0.6666666666666666,
             "#ed7953"
            ],
            [
             0.7777777777777778,
             "#fb9f3a"
            ],
            [
             0.8888888888888888,
             "#fdca26"
            ],
            [
             1,
             "#f0f921"
            ]
           ],
           "sequentialminus": [
            [
             0,
             "#0d0887"
            ],
            [
             0.1111111111111111,
             "#46039f"
            ],
            [
             0.2222222222222222,
             "#7201a8"
            ],
            [
             0.3333333333333333,
             "#9c179e"
            ],
            [
             0.4444444444444444,
             "#bd3786"
            ],
            [
             0.5555555555555556,
             "#d8576b"
            ],
            [
             0.6666666666666666,
             "#ed7953"
            ],
            [
             0.7777777777777778,
             "#fb9f3a"
            ],
            [
             0.8888888888888888,
             "#fdca26"
            ],
            [
             1,
             "#f0f921"
            ]
           ]
          },
          "colorway": [
           "#636efa",
           "#EF553B",
           "#00cc96",
           "#ab63fa",
           "#FFA15A",
           "#19d3f3",
           "#FF6692",
           "#B6E880",
           "#FF97FF",
           "#FECB52"
          ],
          "font": {
           "color": "#2a3f5f"
          },
          "geo": {
           "bgcolor": "white",
           "lakecolor": "white",
           "landcolor": "white",
           "showlakes": true,
           "showland": true,
           "subunitcolor": "#C8D4E3"
          },
          "hoverlabel": {
           "align": "left"
          },
          "hovermode": "closest",
          "mapbox": {
           "style": "light"
          },
          "paper_bgcolor": "white",
          "plot_bgcolor": "white",
          "polar": {
           "angularaxis": {
            "gridcolor": "#EBF0F8",
            "linecolor": "#EBF0F8",
            "ticks": ""
           },
           "bgcolor": "white",
           "radialaxis": {
            "gridcolor": "#EBF0F8",
            "linecolor": "#EBF0F8",
            "ticks": ""
           }
          },
          "scene": {
           "xaxis": {
            "backgroundcolor": "white",
            "gridcolor": "#DFE8F3",
            "gridwidth": 2,
            "linecolor": "#EBF0F8",
            "showbackground": true,
            "ticks": "",
            "zerolinecolor": "#EBF0F8"
           },
           "yaxis": {
            "backgroundcolor": "white",
            "gridcolor": "#DFE8F3",
            "gridwidth": 2,
            "linecolor": "#EBF0F8",
            "showbackground": true,
            "ticks": "",
            "zerolinecolor": "#EBF0F8"
           },
           "zaxis": {
            "backgroundcolor": "white",
            "gridcolor": "#DFE8F3",
            "gridwidth": 2,
            "linecolor": "#EBF0F8",
            "showbackground": true,
            "ticks": "",
            "zerolinecolor": "#EBF0F8"
           }
          },
          "shapedefaults": {
           "line": {
            "color": "#2a3f5f"
           }
          },
          "ternary": {
           "aaxis": {
            "gridcolor": "#DFE8F3",
            "linecolor": "#A2B1C6",
            "ticks": ""
           },
           "baxis": {
            "gridcolor": "#DFE8F3",
            "linecolor": "#A2B1C6",
            "ticks": ""
           },
           "bgcolor": "white",
           "caxis": {
            "gridcolor": "#DFE8F3",
            "linecolor": "#A2B1C6",
            "ticks": ""
           }
          },
          "title": {
           "x": 0.05
          },
          "xaxis": {
           "automargin": true,
           "gridcolor": "#EBF0F8",
           "linecolor": "#EBF0F8",
           "ticks": "",
           "title": {
            "standoff": 15
           },
           "zerolinecolor": "#EBF0F8",
           "zerolinewidth": 2
          },
          "yaxis": {
           "automargin": true,
           "gridcolor": "#EBF0F8",
           "linecolor": "#EBF0F8",
           "ticks": "",
           "title": {
            "standoff": 15
           },
           "zerolinecolor": "#EBF0F8",
           "zerolinewidth": 2
          }
         }
        },
        "title": {
         "text": "2 year ahead inflation expectations by income band"
        },
        "xaxis": {
         "title": {
          "text": "Quarter"
         }
        },
        "yaxis": {
         "title": {
          "text": "Grouped Median (Interpolated)"
         }
        }
       }
      }
     },
     "metadata": {},
     "output_type": "display_data"
    }
   ],
   "source": [
    "plot_question_medians(median_dfs[1], income_bands, '2 year ahead inflation expectations by income band')"
   ]
  },
  {
   "cell_type": "code",
   "execution_count": 36,
   "metadata": {},
   "outputs": [
    {
     "data": {
      "application/vnd.plotly.v1+json": {
       "config": {
        "plotlyServerURL": "https://plot.ly"
       },
       "data": [
        {
         "mode": "lines+markers",
         "name": "Other",
         "type": "scatter",
         "x": [
          "2009-01-01T00:00:00.000000",
          "2009-04-01T00:00:00.000000",
          "2009-07-01T00:00:00.000000",
          "2009-10-01T00:00:00.000000",
          "2010-01-01T00:00:00.000000",
          "2010-04-01T00:00:00.000000",
          "2010-07-01T00:00:00.000000",
          "2010-10-01T00:00:00.000000",
          "2011-01-01T00:00:00.000000",
          "2011-04-01T00:00:00.000000",
          "2011-07-01T00:00:00.000000",
          "2011-10-01T00:00:00.000000",
          "2012-01-01T00:00:00.000000",
          "2012-04-01T00:00:00.000000",
          "2012-07-01T00:00:00.000000",
          "2012-10-01T00:00:00.000000",
          "2013-01-01T00:00:00.000000",
          "2013-04-01T00:00:00.000000",
          "2013-07-01T00:00:00.000000",
          "2013-10-01T00:00:00.000000",
          "2014-01-01T00:00:00.000000",
          "2014-04-01T00:00:00.000000",
          "2014-07-01T00:00:00.000000",
          "2014-10-01T00:00:00.000000",
          "2015-01-01T00:00:00.000000",
          "2015-04-01T00:00:00.000000",
          "2015-07-01T00:00:00.000000",
          "2015-10-01T00:00:00.000000",
          "2016-01-01T00:00:00.000000",
          "2016-04-01T00:00:00.000000",
          "2016-07-01T00:00:00.000000",
          "2016-10-01T00:00:00.000000",
          "2017-01-01T00:00:00.000000",
          "2017-04-01T00:00:00.000000",
          "2017-07-01T00:00:00.000000",
          "2017-10-01T00:00:00.000000",
          "2018-01-01T00:00:00.000000",
          "2018-04-01T00:00:00.000000",
          "2018-07-01T00:00:00.000000",
          "2018-10-01T00:00:00.000000",
          "2019-01-01T00:00:00.000000",
          "2019-04-01T00:00:00.000000",
          "2019-07-01T00:00:00.000000",
          "2019-10-01T00:00:00.000000",
          "2020-01-01T00:00:00.000000",
          "2020-04-01T00:00:00.000000",
          "2020-07-01T00:00:00.000000",
          "2020-10-01T00:00:00.000000",
          "2021-01-01T00:00:00.000000",
          "2021-04-01T00:00:00.000000",
          "2021-07-01T00:00:00.000000",
          "2021-10-01T00:00:00.000000",
          "2022-01-01T00:00:00.000000",
          "2022-04-01T00:00:00.000000",
          "2022-07-01T00:00:00.000000",
          "2022-10-01T00:00:00.000000",
          "2023-01-01T00:00:00.000000",
          "2023-04-01T00:00:00.000000",
          "2023-07-01T00:00:00.000000",
          "2023-10-01T00:00:00.000000",
          "2024-01-01T00:00:00.000000",
          "2024-04-01T00:00:00.000000",
          "2024-07-01T00:00:00.000000",
          "2024-10-01T00:00:00.000000",
          "2025-01-01T00:00:00.000000"
         ],
         "y": {
          "bdata": "EBnuVTBLBkASlnsaYbkHQE4b6LSBTgdAdNFFF110CUDP91PjpZsIQDSe8YxnPAdAAAAAAAAACEAAAAAAAAAIQHUtBzf7hQhAH3JZMVDCB0Bu5EZu5EYKQAAAAAAAAApARkZGRkZGCEA5juM4juMIQBSuR+F6FAZAntiJndiJCUDWlDVlTVkJQGZmZmZmZgpApe7LYyuCCkDaqO9s1HcOQB+F61G4HglAMzMzMzMzB0CHtW9Y+4YJQHrTm970pgdAsHdMDewdB0APDw8PDw8HQDEMwzAMwwZAXonalahdBUAAAAAAAAD4fwAAAAAAAPh/AAAAAAAA+H8AAAAAAAD4fwAAAAAAAPh/AAAAAAAA+H8AAAAAAAD4fwAAAAAAAPh/AAAAAAAA+H8AAAAAAAD4fwAAAAAAAPh/AAAAAAAA+H8AAAAAAAD4fwAAAAAAAPh/AAAAAAAA+H8AAAAAAAD4fwAAAAAAAPh/AAAAAAAA+H8AAAAAAAD4fwAAAAAAAPh/AAAAAAAA+H8AAAAAAAD4fwAAAAAAAPh/AAAAAAAA+H8AAAAAAAD4fwAAAAAAAPh/AAAAAAAA+H8AAAAAAAD4fwAAAAAAAPh/AAAAAAAA+H8AAAAAAAD4fwAAAAAAAPh/AAAAAAAA+H8AAAAAAAD4fwAAAAAAAPh/AAAAAAAA+H8AAAAAAAD4fw==",
          "dtype": "f8"
         }
        },
        {
         "mode": "lines+markers",
         "name": "None",
         "type": "scatter",
         "x": [
          "2009-01-01T00:00:00.000000",
          "2009-04-01T00:00:00.000000",
          "2009-07-01T00:00:00.000000",
          "2009-10-01T00:00:00.000000",
          "2010-01-01T00:00:00.000000",
          "2010-04-01T00:00:00.000000",
          "2010-07-01T00:00:00.000000",
          "2010-10-01T00:00:00.000000",
          "2011-01-01T00:00:00.000000",
          "2011-04-01T00:00:00.000000",
          "2011-07-01T00:00:00.000000",
          "2011-10-01T00:00:00.000000",
          "2012-01-01T00:00:00.000000",
          "2012-04-01T00:00:00.000000",
          "2012-07-01T00:00:00.000000",
          "2012-10-01T00:00:00.000000",
          "2013-01-01T00:00:00.000000",
          "2013-04-01T00:00:00.000000",
          "2013-07-01T00:00:00.000000",
          "2013-10-01T00:00:00.000000",
          "2014-01-01T00:00:00.000000",
          "2014-04-01T00:00:00.000000",
          "2014-07-01T00:00:00.000000",
          "2014-10-01T00:00:00.000000",
          "2015-01-01T00:00:00.000000",
          "2015-04-01T00:00:00.000000",
          "2015-07-01T00:00:00.000000",
          "2015-10-01T00:00:00.000000",
          "2016-01-01T00:00:00.000000",
          "2016-04-01T00:00:00.000000",
          "2016-07-01T00:00:00.000000",
          "2016-10-01T00:00:00.000000",
          "2017-01-01T00:00:00.000000",
          "2017-04-01T00:00:00.000000",
          "2017-07-01T00:00:00.000000",
          "2017-10-01T00:00:00.000000",
          "2018-01-01T00:00:00.000000",
          "2018-04-01T00:00:00.000000",
          "2018-07-01T00:00:00.000000",
          "2018-10-01T00:00:00.000000",
          "2019-01-01T00:00:00.000000",
          "2019-04-01T00:00:00.000000",
          "2019-07-01T00:00:00.000000",
          "2019-10-01T00:00:00.000000",
          "2020-01-01T00:00:00.000000",
          "2020-04-01T00:00:00.000000",
          "2020-07-01T00:00:00.000000",
          "2020-10-01T00:00:00.000000",
          "2021-01-01T00:00:00.000000",
          "2021-04-01T00:00:00.000000",
          "2021-07-01T00:00:00.000000",
          "2021-10-01T00:00:00.000000",
          "2022-01-01T00:00:00.000000",
          "2022-04-01T00:00:00.000000",
          "2022-07-01T00:00:00.000000",
          "2022-10-01T00:00:00.000000",
          "2023-01-01T00:00:00.000000",
          "2023-04-01T00:00:00.000000",
          "2023-07-01T00:00:00.000000",
          "2023-10-01T00:00:00.000000",
          "2024-01-01T00:00:00.000000",
          "2024-04-01T00:00:00.000000",
          "2024-07-01T00:00:00.000000",
          "2024-10-01T00:00:00.000000",
          "2025-01-01T00:00:00.000000"
         ],
         "y": {
          "bdata": "3qe4ZAjWBUBITTDeyj4HQDx1LQc3+wVA9qGxPjTWB0DrBlPks24IQHg5BS+n4AlA+NwSp37PCUAa60NjfWgKQOLNiDcj3gxAdNFFF110C0AsUgaebs0LQAOZFC+QSQ1AfOG98F54C0C/UqDWrxQQQGF+V4ubMAtAcckQrKPND0C5CfO7WtwOQL9d6sn47Q5Az0Z9Z6O+C0A5juM4juMMQPQI1WfaGgtAjN8u9WT8BkDy26WejN8KQKbIZ91gighAoteFoteFBkAHRIZ7FcwGQFLyLCP6gAZAF1100UUXB0DlNZTXUF4HQGQhC1nIQgpAuxK1K1G7BkDhgw8++OAHQOQ4juM4TgpAtmzZsmXLCkDVSq3USq0IQP2wSBl4uglAsAVbsAVbDEBrrbXWWmsLQE5talOb2gxALFG7ErUrDUDG+tBYHxoLQEMWspCFLAxABeOt7HNIB0C4t7e3t7cLQF3KpVzKpQpAAAAAAAAABEAAAAAAAMAGQFVVVVVVVQxA+qRP+qRPBkAAAAAAAIAGQGZmZmZmZgpAAAAAAAAADEAAAAAAAAD4fwAAAAAAAPh/AAAAAAAA+H8AAAAAAAD4fwAAAAAAAPh/AAAAAAAA+H8AAAAAAAD4fwAAAAAAAPh/AAAAAAAA+H8AAAAAAAD4fwAAAAAAAPh/AAAAAAAA+H8AAAAAAAD4fw==",
          "dtype": "f8"
         }
        },
        {
         "mode": "lines+markers",
         "name": "Owned outright",
         "type": "scatter",
         "x": [
          "2009-01-01T00:00:00.000000",
          "2009-04-01T00:00:00.000000",
          "2009-07-01T00:00:00.000000",
          "2009-10-01T00:00:00.000000",
          "2010-01-01T00:00:00.000000",
          "2010-04-01T00:00:00.000000",
          "2010-07-01T00:00:00.000000",
          "2010-10-01T00:00:00.000000",
          "2011-01-01T00:00:00.000000",
          "2011-04-01T00:00:00.000000",
          "2011-07-01T00:00:00.000000",
          "2011-10-01T00:00:00.000000",
          "2012-01-01T00:00:00.000000",
          "2012-04-01T00:00:00.000000",
          "2012-07-01T00:00:00.000000",
          "2012-10-01T00:00:00.000000",
          "2013-01-01T00:00:00.000000",
          "2013-04-01T00:00:00.000000",
          "2013-07-01T00:00:00.000000",
          "2013-10-01T00:00:00.000000",
          "2014-01-01T00:00:00.000000",
          "2014-04-01T00:00:00.000000",
          "2014-07-01T00:00:00.000000",
          "2014-10-01T00:00:00.000000",
          "2015-01-01T00:00:00.000000",
          "2015-04-01T00:00:00.000000",
          "2015-07-01T00:00:00.000000",
          "2015-10-01T00:00:00.000000",
          "2016-01-01T00:00:00.000000",
          "2016-04-01T00:00:00.000000",
          "2016-07-01T00:00:00.000000",
          "2016-10-01T00:00:00.000000",
          "2017-01-01T00:00:00.000000",
          "2017-04-01T00:00:00.000000",
          "2017-07-01T00:00:00.000000",
          "2017-10-01T00:00:00.000000",
          "2018-01-01T00:00:00.000000",
          "2018-04-01T00:00:00.000000",
          "2018-07-01T00:00:00.000000",
          "2018-10-01T00:00:00.000000",
          "2019-01-01T00:00:00.000000",
          "2019-04-01T00:00:00.000000",
          "2019-07-01T00:00:00.000000",
          "2019-10-01T00:00:00.000000",
          "2020-01-01T00:00:00.000000",
          "2020-04-01T00:00:00.000000",
          "2020-07-01T00:00:00.000000",
          "2020-10-01T00:00:00.000000",
          "2021-01-01T00:00:00.000000",
          "2021-04-01T00:00:00.000000",
          "2021-07-01T00:00:00.000000",
          "2021-10-01T00:00:00.000000",
          "2022-01-01T00:00:00.000000",
          "2022-04-01T00:00:00.000000",
          "2022-07-01T00:00:00.000000",
          "2022-10-01T00:00:00.000000",
          "2023-01-01T00:00:00.000000",
          "2023-04-01T00:00:00.000000",
          "2023-07-01T00:00:00.000000",
          "2023-10-01T00:00:00.000000",
          "2024-01-01T00:00:00.000000",
          "2024-04-01T00:00:00.000000",
          "2024-07-01T00:00:00.000000",
          "2024-10-01T00:00:00.000000",
          "2025-01-01T00:00:00.000000"
         ],
         "y": {
          "bdata": "lpaWlpaWBECrqqqqqqoGQLETO7ETOwlAZmZmZmZmDkC3bdu2bdsIQNSb3vSmNw1Aq6qqqqqqDUAtLS0tLS0NQJ7neZ7neRBA3dMIyz2NDEDNzMzMzMwSQGZmZmZmZhBAREREREREEECMLrrooosOQM/zPM/zPAtA27Zt27ZtC0DpgcrZLfwQQBQ7sRM7sQ9AaZAGaZAGEUAyxhhjjDEOQCGEEEIIIQxA7mmE5Z5GCEBJkiRJkiQJQAAAAAAAgAVAaoTlnkZYBkAfg/MxOB8HQJGFLGQhCwlAAAAAAAAACkByIzdyIzcGQAAAAAAAAAtAMQzDMAzDDEC3bdu2bdsOQAT3EdxHcAtAq6qqqqoqDUBLS0tLS0sLQAAAAAAAAA5ALrrooosuCkAAAAAAAMAMQK+hvIbyGhBAAAAAAACADUDpoosuuugPQEmSJEmSpBBAF1100UUXDUBu27Zt27YNQHsJ7SW0lwxABjG5gphcBUC9hvIaymsEQHTRRRdddAVAXiCT4gUyBUBiJ3ZiJ3YAQBPaS2gvoQVAMzMzMzMzB0AAAAAAAAD4fwAAAAAAAPh/AAAAAAAA+H8AAAAAAAD4fwAAAAAAAPh/AAAAAAAA+H8AAAAAAAD4fwAAAAAAAPh/AAAAAAAA+H8AAAAAAAD4fwAAAAAAAPh/AAAAAAAA+H8AAAAAAAD4fw==",
          "dtype": "f8"
         }
        },
        {
         "mode": "lines+markers",
         "name": "Council Rent",
         "type": "scatter",
         "x": [
          "2009-01-01T00:00:00.000000",
          "2009-04-01T00:00:00.000000",
          "2009-07-01T00:00:00.000000",
          "2009-10-01T00:00:00.000000",
          "2010-01-01T00:00:00.000000",
          "2010-04-01T00:00:00.000000",
          "2010-07-01T00:00:00.000000",
          "2010-10-01T00:00:00.000000",
          "2011-01-01T00:00:00.000000",
          "2011-04-01T00:00:00.000000",
          "2011-07-01T00:00:00.000000",
          "2011-10-01T00:00:00.000000",
          "2012-01-01T00:00:00.000000",
          "2012-04-01T00:00:00.000000",
          "2012-07-01T00:00:00.000000",
          "2012-10-01T00:00:00.000000",
          "2013-01-01T00:00:00.000000",
          "2013-04-01T00:00:00.000000",
          "2013-07-01T00:00:00.000000",
          "2013-10-01T00:00:00.000000",
          "2014-01-01T00:00:00.000000",
          "2014-04-01T00:00:00.000000",
          "2014-07-01T00:00:00.000000",
          "2014-10-01T00:00:00.000000",
          "2015-01-01T00:00:00.000000",
          "2015-04-01T00:00:00.000000",
          "2015-07-01T00:00:00.000000",
          "2015-10-01T00:00:00.000000",
          "2016-01-01T00:00:00.000000",
          "2016-04-01T00:00:00.000000",
          "2016-07-01T00:00:00.000000",
          "2016-10-01T00:00:00.000000",
          "2017-01-01T00:00:00.000000",
          "2017-04-01T00:00:00.000000",
          "2017-07-01T00:00:00.000000",
          "2017-10-01T00:00:00.000000",
          "2018-01-01T00:00:00.000000",
          "2018-04-01T00:00:00.000000",
          "2018-07-01T00:00:00.000000",
          "2018-10-01T00:00:00.000000",
          "2019-01-01T00:00:00.000000",
          "2019-04-01T00:00:00.000000",
          "2019-07-01T00:00:00.000000",
          "2019-10-01T00:00:00.000000",
          "2020-01-01T00:00:00.000000",
          "2020-04-01T00:00:00.000000",
          "2020-07-01T00:00:00.000000",
          "2020-10-01T00:00:00.000000",
          "2021-01-01T00:00:00.000000",
          "2021-04-01T00:00:00.000000",
          "2021-07-01T00:00:00.000000",
          "2021-10-01T00:00:00.000000",
          "2022-01-01T00:00:00.000000",
          "2022-04-01T00:00:00.000000",
          "2022-07-01T00:00:00.000000",
          "2022-10-01T00:00:00.000000",
          "2023-01-01T00:00:00.000000",
          "2023-04-01T00:00:00.000000",
          "2023-07-01T00:00:00.000000",
          "2023-10-01T00:00:00.000000",
          "2024-01-01T00:00:00.000000",
          "2024-04-01T00:00:00.000000",
          "2024-07-01T00:00:00.000000",
          "2024-10-01T00:00:00.000000",
          "2025-01-01T00:00:00.000000"
         ],
         "y": {
          "bdata": "mpmZmZmZA0AAAAAAAMAIQLrooosuugRAZmZmZmZmBkCrqqqqqqoIQDMzMzMzMwdAAAAAAADAC0DlNZTXUF4LQCebbLLJJgtAzczMzMzMCUAAAAAAAAAMQKuqqqqqqg5AdmIndmInCkDkOI7jOI4LQAAAAAAAAAdAAAAAAACACkAAAAAAAIANQHh3d3d3dw9A6aKLLrroDEBmZmZmZmYOQJNNNtlkkwlAuuiiiy66BkBLS0tLS0sHQAAAAAAAAAhAKmvKmrKmBEBsKK+hvIYKQFpaWlpaWgZAERERERERBUCrqqqqqqoGQKuqqqqqqgxAq6qqqqoqCECIiIiIiIgKQML5GJyPwQlAsdzTCMs9CUARERERERENQLdt27Zt2wxAq6qqqqrqCUDNzMzMzMwMQNy2bdu2bQ9AAAAAAAAADEAK16NwPQoNQITlnkZY7g1ANpTXUF5DCUDHcRzHcRwNQJDB+Ricjw1AMEU+6wZTBEA5juM4juMHQHTRRRdddAlAAwsssMACB0C0mM5iOosFQLETO7ETOwdAg/MxOB+DC0AAAAAAAAD4fwAAAAAAAPh/AAAAAAAA+H8AAAAAAAD4fwAAAAAAAPh/AAAAAAAA+H8AAAAAAAD4fwAAAAAAAPh/AAAAAAAA+H8AAAAAAAD4fwAAAAAAAPh/AAAAAAAA+H8AAAAAAAD4fw==",
          "dtype": "f8"
         }
        },
        {
         "mode": "lines+markers",
         "name": "Mortgage",
         "type": "scatter",
         "x": [
          "2009-01-01T00:00:00.000000",
          "2009-04-01T00:00:00.000000",
          "2009-07-01T00:00:00.000000",
          "2009-10-01T00:00:00.000000",
          "2010-01-01T00:00:00.000000",
          "2010-04-01T00:00:00.000000",
          "2010-07-01T00:00:00.000000",
          "2010-10-01T00:00:00.000000",
          "2011-01-01T00:00:00.000000",
          "2011-04-01T00:00:00.000000",
          "2011-07-01T00:00:00.000000",
          "2011-10-01T00:00:00.000000",
          "2012-01-01T00:00:00.000000",
          "2012-04-01T00:00:00.000000",
          "2012-07-01T00:00:00.000000",
          "2012-10-01T00:00:00.000000",
          "2013-01-01T00:00:00.000000",
          "2013-04-01T00:00:00.000000",
          "2013-07-01T00:00:00.000000",
          "2013-10-01T00:00:00.000000",
          "2014-01-01T00:00:00.000000",
          "2014-04-01T00:00:00.000000",
          "2014-07-01T00:00:00.000000",
          "2014-10-01T00:00:00.000000",
          "2015-01-01T00:00:00.000000",
          "2015-04-01T00:00:00.000000",
          "2015-07-01T00:00:00.000000",
          "2015-10-01T00:00:00.000000",
          "2016-01-01T00:00:00.000000",
          "2016-04-01T00:00:00.000000",
          "2016-07-01T00:00:00.000000",
          "2016-10-01T00:00:00.000000",
          "2017-01-01T00:00:00.000000",
          "2017-04-01T00:00:00.000000",
          "2017-07-01T00:00:00.000000",
          "2017-10-01T00:00:00.000000",
          "2018-01-01T00:00:00.000000",
          "2018-04-01T00:00:00.000000",
          "2018-07-01T00:00:00.000000",
          "2018-10-01T00:00:00.000000",
          "2019-01-01T00:00:00.000000",
          "2019-04-01T00:00:00.000000",
          "2019-07-01T00:00:00.000000",
          "2019-10-01T00:00:00.000000",
          "2020-01-01T00:00:00.000000",
          "2020-04-01T00:00:00.000000",
          "2020-07-01T00:00:00.000000",
          "2020-10-01T00:00:00.000000",
          "2021-01-01T00:00:00.000000",
          "2021-04-01T00:00:00.000000",
          "2021-07-01T00:00:00.000000",
          "2021-10-01T00:00:00.000000",
          "2022-01-01T00:00:00.000000",
          "2022-04-01T00:00:00.000000",
          "2022-07-01T00:00:00.000000",
          "2022-10-01T00:00:00.000000",
          "2023-01-01T00:00:00.000000",
          "2023-04-01T00:00:00.000000",
          "2023-07-01T00:00:00.000000",
          "2023-10-01T00:00:00.000000",
          "2024-01-01T00:00:00.000000",
          "2024-04-01T00:00:00.000000",
          "2024-07-01T00:00:00.000000",
          "2024-10-01T00:00:00.000000",
          "2025-01-01T00:00:00.000000"
         ],
         "y": {
          "bdata": "mNBeQnsJBUA5juM4juMFQJIkSZIkSQhAq6qqqqqqCkDZiqDhpO4HQAAAAAAAAAlAYid2Yid2CkChvYT2EtoLQAAAAAAAIA1AjC666KKLDEAAAAAAAAAPQGZmZmZmZg5AXI/C9ShcCUCamZmZmZkKQKuqqqqqKgxAq6qqqqoqEUB+DqkJxlsNQLRuMEU+6w5AHh4eHh4eDkDalahdidoNQIZhGIZhGApAC1nIQhayBkBVVVVVVVUNQJIkSZIkSQhAhEM4hEM4BEB7FK5H4XoGQDMzMzMzMwdAttZaa621BkAgFikDT7cKQJtssskmmwxACtejcD0KCUDHcRzHcRwFQGwor6G8hglA55xzzjnnCEAQQgghhBAOQL2G8hrKaw5AKK+hvIbyC0AAAAAAAIAQQGZmZmZmZhBAxhhjjDHGDED4KS4ZgnUMQAbnY3A+BgtAzczMzMzMCkB2gynyWTcQQL2G8hrKawxArh2YawfmAkC0bjBFPusGQAzOx+B8DAZAUMIbTZ1fB0AAAAAAAAAHQHNPIyz3NApAq6qqqqqqB0AAAAAAAAD4fwAAAAAAAPh/AAAAAAAA+H8AAAAAAAD4fwAAAAAAAPh/AAAAAAAA+H8AAAAAAAD4fwAAAAAAAPh/AAAAAAAA+H8AAAAAAAD4fwAAAAAAAPh/AAAAAAAA+H8AAAAAAAD4fw==",
          "dtype": "f8"
         }
        },
        {
         "mode": "lines+markers",
         "name": "6",
         "type": "scatter",
         "x": [
          "2009-01-01T00:00:00.000000",
          "2009-04-01T00:00:00.000000",
          "2009-07-01T00:00:00.000000",
          "2009-10-01T00:00:00.000000",
          "2010-01-01T00:00:00.000000",
          "2010-04-01T00:00:00.000000",
          "2010-07-01T00:00:00.000000",
          "2010-10-01T00:00:00.000000",
          "2011-01-01T00:00:00.000000",
          "2011-04-01T00:00:00.000000",
          "2011-07-01T00:00:00.000000",
          "2011-10-01T00:00:00.000000",
          "2012-01-01T00:00:00.000000",
          "2012-04-01T00:00:00.000000",
          "2012-07-01T00:00:00.000000",
          "2012-10-01T00:00:00.000000",
          "2013-01-01T00:00:00.000000",
          "2013-04-01T00:00:00.000000",
          "2013-07-01T00:00:00.000000",
          "2013-10-01T00:00:00.000000",
          "2014-01-01T00:00:00.000000",
          "2014-04-01T00:00:00.000000",
          "2014-07-01T00:00:00.000000",
          "2014-10-01T00:00:00.000000",
          "2015-01-01T00:00:00.000000",
          "2015-04-01T00:00:00.000000",
          "2015-07-01T00:00:00.000000",
          "2015-10-01T00:00:00.000000",
          "2016-01-01T00:00:00.000000",
          "2016-04-01T00:00:00.000000",
          "2016-07-01T00:00:00.000000",
          "2016-10-01T00:00:00.000000",
          "2017-01-01T00:00:00.000000",
          "2017-04-01T00:00:00.000000",
          "2017-07-01T00:00:00.000000",
          "2017-10-01T00:00:00.000000",
          "2018-01-01T00:00:00.000000",
          "2018-04-01T00:00:00.000000",
          "2018-07-01T00:00:00.000000",
          "2018-10-01T00:00:00.000000",
          "2019-01-01T00:00:00.000000",
          "2019-04-01T00:00:00.000000",
          "2019-07-01T00:00:00.000000",
          "2019-10-01T00:00:00.000000",
          "2020-01-01T00:00:00.000000",
          "2020-04-01T00:00:00.000000",
          "2020-07-01T00:00:00.000000",
          "2020-10-01T00:00:00.000000",
          "2021-01-01T00:00:00.000000",
          "2021-04-01T00:00:00.000000",
          "2021-07-01T00:00:00.000000",
          "2021-10-01T00:00:00.000000",
          "2022-01-01T00:00:00.000000",
          "2022-04-01T00:00:00.000000",
          "2022-07-01T00:00:00.000000",
          "2022-10-01T00:00:00.000000",
          "2023-01-01T00:00:00.000000",
          "2023-04-01T00:00:00.000000",
          "2023-07-01T00:00:00.000000",
          "2023-10-01T00:00:00.000000",
          "2024-01-01T00:00:00.000000",
          "2024-04-01T00:00:00.000000",
          "2024-07-01T00:00:00.000000",
          "2024-10-01T00:00:00.000000",
          "2025-01-01T00:00:00.000000"
         ],
         "y": {
          "bdata": "AAAAAAAA+H8AAAAAAAD4fwAAAAAAAPh/AAAAAAAA+H8AAAAAAAD4fwAAAAAAAPh/AAAAAAAA+H8AAAAAAAD4fwAAAAAAAPh/AAAAAAAA+H8AAAAAAAD4fwAAAAAAAPh/AAAAAAAA+H8AAAAAAAD4fwAAAAAAAPh/AAAAAAAA+H8AAAAAAAD4fwAAAAAAAPh/AAAAAAAA+H8AAAAAAAD4fwAAAAAAAPh/AAAAAAAA+H8AAAAAAAD4fwAAAAAAAPh/AAAAAAAA+H8AAAAAAAD4fwAAAAAAAPh/AAAAAAAA+H8AAAAAAIAMQDuxEzuxEwtAMzMzMzMzBUBVVVVVVVUJQFVVVVVVVQZAAAAAAAAACkDHcRzHcRwLQNu2bdu2bQtAj8L1KFyPCkCamZmZmZkNQFVVVVVVVQ1AMzMzMzMzBUAlSZIkSZIIQKuqqqqqqgdAZmZmZmZmCkAAAAAAAAAIQAAAAAAAgAhA2FBeQ3kNBUAAAAAAAAAIQOLh4eHh4QdAQxaykIUsCEAAAAAAAAAIQIYsZCELWQhAchzHcRzHDUAAAAAAAAD4fwAAAAAAAPh/AAAAAAAA+H8AAAAAAAD4fwAAAAAAAPh/AAAAAAAA+H8AAAAAAAD4fwAAAAAAAPh/AAAAAAAA+H8AAAAAAAD4fwAAAAAAAPh/AAAAAAAA+H8AAAAAAAD4fw==",
          "dtype": "f8"
         }
        },
        {
         "mode": "lines+markers",
         "name": "5",
         "type": "scatter",
         "x": [
          "2009-01-01T00:00:00.000000",
          "2009-04-01T00:00:00.000000",
          "2009-07-01T00:00:00.000000",
          "2009-10-01T00:00:00.000000",
          "2010-01-01T00:00:00.000000",
          "2010-04-01T00:00:00.000000",
          "2010-07-01T00:00:00.000000",
          "2010-10-01T00:00:00.000000",
          "2011-01-01T00:00:00.000000",
          "2011-04-01T00:00:00.000000",
          "2011-07-01T00:00:00.000000",
          "2011-10-01T00:00:00.000000",
          "2012-01-01T00:00:00.000000",
          "2012-04-01T00:00:00.000000",
          "2012-07-01T00:00:00.000000",
          "2012-10-01T00:00:00.000000",
          "2013-01-01T00:00:00.000000",
          "2013-04-01T00:00:00.000000",
          "2013-07-01T00:00:00.000000",
          "2013-10-01T00:00:00.000000",
          "2014-01-01T00:00:00.000000",
          "2014-04-01T00:00:00.000000",
          "2014-07-01T00:00:00.000000",
          "2014-10-01T00:00:00.000000",
          "2015-01-01T00:00:00.000000",
          "2015-04-01T00:00:00.000000",
          "2015-07-01T00:00:00.000000",
          "2015-10-01T00:00:00.000000",
          "2016-01-01T00:00:00.000000",
          "2016-04-01T00:00:00.000000",
          "2016-07-01T00:00:00.000000",
          "2016-10-01T00:00:00.000000",
          "2017-01-01T00:00:00.000000",
          "2017-04-01T00:00:00.000000",
          "2017-07-01T00:00:00.000000",
          "2017-10-01T00:00:00.000000",
          "2018-01-01T00:00:00.000000",
          "2018-04-01T00:00:00.000000",
          "2018-07-01T00:00:00.000000",
          "2018-10-01T00:00:00.000000",
          "2019-01-01T00:00:00.000000",
          "2019-04-01T00:00:00.000000",
          "2019-07-01T00:00:00.000000",
          "2019-10-01T00:00:00.000000",
          "2020-01-01T00:00:00.000000",
          "2020-04-01T00:00:00.000000",
          "2020-07-01T00:00:00.000000",
          "2020-10-01T00:00:00.000000",
          "2021-01-01T00:00:00.000000",
          "2021-04-01T00:00:00.000000",
          "2021-07-01T00:00:00.000000",
          "2021-10-01T00:00:00.000000",
          "2022-01-01T00:00:00.000000",
          "2022-04-01T00:00:00.000000",
          "2022-07-01T00:00:00.000000",
          "2022-10-01T00:00:00.000000",
          "2023-01-01T00:00:00.000000",
          "2023-04-01T00:00:00.000000",
          "2023-07-01T00:00:00.000000",
          "2023-10-01T00:00:00.000000",
          "2024-01-01T00:00:00.000000",
          "2024-04-01T00:00:00.000000",
          "2024-07-01T00:00:00.000000",
          "2024-10-01T00:00:00.000000",
          "2025-01-01T00:00:00.000000"
         ],
         "y": {
          "bdata": "AAAAAAAA+H8AAAAAAAD4fwAAAAAAAPh/AAAAAAAA+H8AAAAAAAD4fwAAAAAAAPh/AAAAAAAA+H8AAAAAAAD4fwAAAAAAAPh/AAAAAAAA+H8AAAAAAAD4fwAAAAAAAPh/AAAAAAAA+H8AAAAAAAD4fwAAAAAAAPh/AAAAAAAA+H8AAAAAAAD4fwAAAAAAAPh/AAAAAAAA+H8AAAAAAAD4fwAAAAAAAPh/AAAAAAAA+H8AAAAAAAD4fwAAAAAAAPh/AAAAAAAA+H8AAAAAAAD4fwAAAAAAAPh/AAAAAAAA+H+rqqqqqqoGQEtLS0tLSwtAAAAAAAAABkDwvffee+8HQJGQkJCQkAhAfg6pCcZbCUDpoosuuugJQKuqqqqq6glAAAAAAAAACkCamZmZmZkNQGzBFmzBFgxAwhT5rBtMCUAAAAAAAMAKQPoYnI/B+QxABeOt7HNICUByHMdxHMcNQEN5DeU1lAhAvifBM6iiBECVUkoppZQGQBzHcRzHMQdAZ4L65zbwBkDKL5b8YskFQA6XAZ8cLgdA9TpSryP1BkAAAAAAAAD4fwAAAAAAAPh/AAAAAAAA+H8AAAAAAAD4fwAAAAAAAPh/AAAAAAAA+H8AAAAAAAD4fwAAAAAAAPh/AAAAAAAA+H8AAAAAAAD4fwAAAAAAAPh/AAAAAAAA+H8AAAAAAAD4fw==",
          "dtype": "f8"
         }
        },
        {
         "mode": "lines+markers",
         "name": "10",
         "type": "scatter",
         "x": [
          "2009-01-01T00:00:00.000000",
          "2009-04-01T00:00:00.000000",
          "2009-07-01T00:00:00.000000",
          "2009-10-01T00:00:00.000000",
          "2010-01-01T00:00:00.000000",
          "2010-04-01T00:00:00.000000",
          "2010-07-01T00:00:00.000000",
          "2010-10-01T00:00:00.000000",
          "2011-01-01T00:00:00.000000",
          "2011-04-01T00:00:00.000000",
          "2011-07-01T00:00:00.000000",
          "2011-10-01T00:00:00.000000",
          "2012-01-01T00:00:00.000000",
          "2012-04-01T00:00:00.000000",
          "2012-07-01T00:00:00.000000",
          "2012-10-01T00:00:00.000000",
          "2013-01-01T00:00:00.000000",
          "2013-04-01T00:00:00.000000",
          "2013-07-01T00:00:00.000000",
          "2013-10-01T00:00:00.000000",
          "2014-01-01T00:00:00.000000",
          "2014-04-01T00:00:00.000000",
          "2014-07-01T00:00:00.000000",
          "2014-10-01T00:00:00.000000",
          "2015-01-01T00:00:00.000000",
          "2015-04-01T00:00:00.000000",
          "2015-07-01T00:00:00.000000",
          "2015-10-01T00:00:00.000000",
          "2016-01-01T00:00:00.000000",
          "2016-04-01T00:00:00.000000",
          "2016-07-01T00:00:00.000000",
          "2016-10-01T00:00:00.000000",
          "2017-01-01T00:00:00.000000",
          "2017-04-01T00:00:00.000000",
          "2017-07-01T00:00:00.000000",
          "2017-10-01T00:00:00.000000",
          "2018-01-01T00:00:00.000000",
          "2018-04-01T00:00:00.000000",
          "2018-07-01T00:00:00.000000",
          "2018-10-01T00:00:00.000000",
          "2019-01-01T00:00:00.000000",
          "2019-04-01T00:00:00.000000",
          "2019-07-01T00:00:00.000000",
          "2019-10-01T00:00:00.000000",
          "2020-01-01T00:00:00.000000",
          "2020-04-01T00:00:00.000000",
          "2020-07-01T00:00:00.000000",
          "2020-10-01T00:00:00.000000",
          "2021-01-01T00:00:00.000000",
          "2021-04-01T00:00:00.000000",
          "2021-07-01T00:00:00.000000",
          "2021-10-01T00:00:00.000000",
          "2022-01-01T00:00:00.000000",
          "2022-04-01T00:00:00.000000",
          "2022-07-01T00:00:00.000000",
          "2022-10-01T00:00:00.000000",
          "2023-01-01T00:00:00.000000",
          "2023-04-01T00:00:00.000000",
          "2023-07-01T00:00:00.000000",
          "2023-10-01T00:00:00.000000",
          "2024-01-01T00:00:00.000000",
          "2024-04-01T00:00:00.000000",
          "2024-07-01T00:00:00.000000",
          "2024-10-01T00:00:00.000000",
          "2025-01-01T00:00:00.000000"
         ],
         "y": {
          "bdata": "AAAAAAAA+H8AAAAAAAD4fwAAAAAAAPh/AAAAAAAA+H8AAAAAAAD4fwAAAAAAAPh/AAAAAAAA+H8AAAAAAAD4fwAAAAAAAPh/AAAAAAAA+H8AAAAAAAD4fwAAAAAAAPh/AAAAAAAA+H8AAAAAAAD4fwAAAAAAAPh/AAAAAAAA+H8AAAAAAAD4fwAAAAAAAPh/AAAAAAAA+H8AAAAAAAD4fwAAAAAAAPh/AAAAAAAA+H8AAAAAAAD4fwAAAAAAAPh/AAAAAAAA+H8AAAAAAAD4fwAAAAAAAPh/AAAAAAAA+H8AAAAAAAD4fwAAAAAAAPh/AAAAAAAA+H8AAAAAAAD4fwAAAAAAAPh/AAAAAAAA+H8AAAAAAAD4fwAAAAAAAPh/AAAAAAAA+H8AAAAAAAD4fwAAAAAAAPh/AAAAAAAA+H8AAAAAAAD4fwAAAAAAAPh/AAAAAAAA+H8AAAAAAAD4fwAAAAAAAPh/AAAAAAAA+H8AAAAAAAD4fwAAAAAAAPh/AAAAAAAA+H8AAAAAAAD4fwAAAAAAAPh/AAAAAAAA+H8V+awbTJELQHh3d3d3dwtA9aY3velNB0AAAAAAAAAJQAAAAAAAgAdA+N577733BkAzMzMzM7MIQML5GJyPwQlAz/M8z/M8B0DqLKazmM4GQOaeRljuaQhAJUmSJEmSC0B8xVd8xVcKQA==",
          "dtype": "f8"
         }
        },
        {
         "mode": "lines+markers",
         "name": "11",
         "type": "scatter",
         "x": [
          "2009-01-01T00:00:00.000000",
          "2009-04-01T00:00:00.000000",
          "2009-07-01T00:00:00.000000",
          "2009-10-01T00:00:00.000000",
          "2010-01-01T00:00:00.000000",
          "2010-04-01T00:00:00.000000",
          "2010-07-01T00:00:00.000000",
          "2010-10-01T00:00:00.000000",
          "2011-01-01T00:00:00.000000",
          "2011-04-01T00:00:00.000000",
          "2011-07-01T00:00:00.000000",
          "2011-10-01T00:00:00.000000",
          "2012-01-01T00:00:00.000000",
          "2012-04-01T00:00:00.000000",
          "2012-07-01T00:00:00.000000",
          "2012-10-01T00:00:00.000000",
          "2013-01-01T00:00:00.000000",
          "2013-04-01T00:00:00.000000",
          "2013-07-01T00:00:00.000000",
          "2013-10-01T00:00:00.000000",
          "2014-01-01T00:00:00.000000",
          "2014-04-01T00:00:00.000000",
          "2014-07-01T00:00:00.000000",
          "2014-10-01T00:00:00.000000",
          "2015-01-01T00:00:00.000000",
          "2015-04-01T00:00:00.000000",
          "2015-07-01T00:00:00.000000",
          "2015-10-01T00:00:00.000000",
          "2016-01-01T00:00:00.000000",
          "2016-04-01T00:00:00.000000",
          "2016-07-01T00:00:00.000000",
          "2016-10-01T00:00:00.000000",
          "2017-01-01T00:00:00.000000",
          "2017-04-01T00:00:00.000000",
          "2017-07-01T00:00:00.000000",
          "2017-10-01T00:00:00.000000",
          "2018-01-01T00:00:00.000000",
          "2018-04-01T00:00:00.000000",
          "2018-07-01T00:00:00.000000",
          "2018-10-01T00:00:00.000000",
          "2019-01-01T00:00:00.000000",
          "2019-04-01T00:00:00.000000",
          "2019-07-01T00:00:00.000000",
          "2019-10-01T00:00:00.000000",
          "2020-01-01T00:00:00.000000",
          "2020-04-01T00:00:00.000000",
          "2020-07-01T00:00:00.000000",
          "2020-10-01T00:00:00.000000",
          "2021-01-01T00:00:00.000000",
          "2021-04-01T00:00:00.000000",
          "2021-07-01T00:00:00.000000",
          "2021-10-01T00:00:00.000000",
          "2022-01-01T00:00:00.000000",
          "2022-04-01T00:00:00.000000",
          "2022-07-01T00:00:00.000000",
          "2022-10-01T00:00:00.000000",
          "2023-01-01T00:00:00.000000",
          "2023-04-01T00:00:00.000000",
          "2023-07-01T00:00:00.000000",
          "2023-10-01T00:00:00.000000",
          "2024-01-01T00:00:00.000000",
          "2024-04-01T00:00:00.000000",
          "2024-07-01T00:00:00.000000",
          "2024-10-01T00:00:00.000000",
          "2025-01-01T00:00:00.000000"
         ],
         "y": {
          "bdata": "AAAAAAAA+H8AAAAAAAD4fwAAAAAAAPh/AAAAAAAA+H8AAAAAAAD4fwAAAAAAAPh/AAAAAAAA+H8AAAAAAAD4fwAAAAAAAPh/AAAAAAAA+H8AAAAAAAD4fwAAAAAAAPh/AAAAAAAA+H8AAAAAAAD4fwAAAAAAAPh/AAAAAAAA+H8AAAAAAAD4fwAAAAAAAPh/AAAAAAAA+H8AAAAAAAD4fwAAAAAAAPh/AAAAAAAA+H8AAAAAAAD4fwAAAAAAAPh/AAAAAAAA+H8AAAAAAAD4fwAAAAAAAPh/AAAAAAAA+H8AAAAAAAD4fwAAAAAAAPh/AAAAAAAA+H8AAAAAAAD4fwAAAAAAAPh/AAAAAAAA+H8AAAAAAAD4fwAAAAAAAPh/AAAAAAAA+H8AAAAAAAD4fwAAAAAAAPh/AAAAAAAA+H8AAAAAAAD4fwAAAAAAAPh/AAAAAAAA+H8AAAAAAAD4fwAAAAAAAPh/AAAAAAAA+H8AAAAAAAD4fwAAAAAAAPh/AAAAAAAA+H8AAAAAAAD4fwAAAAAAAPh/AAAAAAAA+H8XXXTRRZcJQNNZTGcxnQtAYu0b1r5hCUDI4HwMzscKQCg7crCJGwdAo66oK+qKBkAXXXTRRRcFQBdswRZswQZAkOoSsxYKCEAAAAAAAMgHQC+66KKLLghAqPUrBWr9CkAfqUYfqUYLQA==",
          "dtype": "f8"
         }
        },
        {
         "mode": "lines+markers",
         "name": "7",
         "type": "scatter",
         "x": [
          "2009-01-01T00:00:00.000000",
          "2009-04-01T00:00:00.000000",
          "2009-07-01T00:00:00.000000",
          "2009-10-01T00:00:00.000000",
          "2010-01-01T00:00:00.000000",
          "2010-04-01T00:00:00.000000",
          "2010-07-01T00:00:00.000000",
          "2010-10-01T00:00:00.000000",
          "2011-01-01T00:00:00.000000",
          "2011-04-01T00:00:00.000000",
          "2011-07-01T00:00:00.000000",
          "2011-10-01T00:00:00.000000",
          "2012-01-01T00:00:00.000000",
          "2012-04-01T00:00:00.000000",
          "2012-07-01T00:00:00.000000",
          "2012-10-01T00:00:00.000000",
          "2013-01-01T00:00:00.000000",
          "2013-04-01T00:00:00.000000",
          "2013-07-01T00:00:00.000000",
          "2013-10-01T00:00:00.000000",
          "2014-01-01T00:00:00.000000",
          "2014-04-01T00:00:00.000000",
          "2014-07-01T00:00:00.000000",
          "2014-10-01T00:00:00.000000",
          "2015-01-01T00:00:00.000000",
          "2015-04-01T00:00:00.000000",
          "2015-07-01T00:00:00.000000",
          "2015-10-01T00:00:00.000000",
          "2016-01-01T00:00:00.000000",
          "2016-04-01T00:00:00.000000",
          "2016-07-01T00:00:00.000000",
          "2016-10-01T00:00:00.000000",
          "2017-01-01T00:00:00.000000",
          "2017-04-01T00:00:00.000000",
          "2017-07-01T00:00:00.000000",
          "2017-10-01T00:00:00.000000",
          "2018-01-01T00:00:00.000000",
          "2018-04-01T00:00:00.000000",
          "2018-07-01T00:00:00.000000",
          "2018-10-01T00:00:00.000000",
          "2019-01-01T00:00:00.000000",
          "2019-04-01T00:00:00.000000",
          "2019-07-01T00:00:00.000000",
          "2019-10-01T00:00:00.000000",
          "2020-01-01T00:00:00.000000",
          "2020-04-01T00:00:00.000000",
          "2020-07-01T00:00:00.000000",
          "2020-10-01T00:00:00.000000",
          "2021-01-01T00:00:00.000000",
          "2021-04-01T00:00:00.000000",
          "2021-07-01T00:00:00.000000",
          "2021-10-01T00:00:00.000000",
          "2022-01-01T00:00:00.000000",
          "2022-04-01T00:00:00.000000",
          "2022-07-01T00:00:00.000000",
          "2022-10-01T00:00:00.000000",
          "2023-01-01T00:00:00.000000",
          "2023-04-01T00:00:00.000000",
          "2023-07-01T00:00:00.000000",
          "2023-10-01T00:00:00.000000",
          "2024-01-01T00:00:00.000000",
          "2024-04-01T00:00:00.000000",
          "2024-07-01T00:00:00.000000",
          "2024-10-01T00:00:00.000000",
          "2025-01-01T00:00:00.000000"
         ],
         "y": {
          "bdata": "AAAAAAAA+H8AAAAAAAD4fwAAAAAAAPh/AAAAAAAA+H8AAAAAAAD4fwAAAAAAAPh/AAAAAAAA+H8AAAAAAAD4fwAAAAAAAPh/AAAAAAAA+H8AAAAAAAD4fwAAAAAAAPh/AAAAAAAA+H8AAAAAAAD4fwAAAAAAAPh/AAAAAAAA+H8AAAAAAAD4fwAAAAAAAPh/AAAAAAAA+H8AAAAAAAD4fwAAAAAAAPh/AAAAAAAA+H8AAAAAAAD4fwAAAAAAAPh/AAAAAAAA+H8AAAAAAAD4fwAAAAAAAPh/AAAAAAAA+H8AAAAAAAD4fwAAAAAAAPh/AAAAAAAA+H8AAAAAAAD4fwAAAAAAAPh/AAAAAAAA+H8AAAAAAAD4fwAAAAAAAPh/AAAAAAAA+H8AAAAAAAD4fwAAAAAAAPh/AAAAAAAA+H8AAAAAAAD4fwAAAAAAAPh/AAAAAAAA+H8AAAAAAAD4fwAAAAAAAPh/AAAAAAAA+H8AAAAAAAD4fwAAAAAAAPh/AAAAAAAA+H8AAAAAAAD4fwAAAAAAAPh/AAAAAAAA+H9yHMdxHMcJQFVVVVVVVQxAWlpaWlpaCkAAAAAAAAAOQKuqqqqqKgpAT+zETuzEAkCSJEmSJEkKQAAAAAAAAAhAep7neZ7nDUByHMdxHMcNQFVVVVVV1RBAVVVVVVVVEUAAAAAAAMARQA==",
          "dtype": "f8"
         }
        },
        {
         "mode": "lines+markers",
         "name": "12",
         "type": "scatter",
         "x": [
          "2009-01-01T00:00:00.000000",
          "2009-04-01T00:00:00.000000",
          "2009-07-01T00:00:00.000000",
          "2009-10-01T00:00:00.000000",
          "2010-01-01T00:00:00.000000",
          "2010-04-01T00:00:00.000000",
          "2010-07-01T00:00:00.000000",
          "2010-10-01T00:00:00.000000",
          "2011-01-01T00:00:00.000000",
          "2011-04-01T00:00:00.000000",
          "2011-07-01T00:00:00.000000",
          "2011-10-01T00:00:00.000000",
          "2012-01-01T00:00:00.000000",
          "2012-04-01T00:00:00.000000",
          "2012-07-01T00:00:00.000000",
          "2012-10-01T00:00:00.000000",
          "2013-01-01T00:00:00.000000",
          "2013-04-01T00:00:00.000000",
          "2013-07-01T00:00:00.000000",
          "2013-10-01T00:00:00.000000",
          "2014-01-01T00:00:00.000000",
          "2014-04-01T00:00:00.000000",
          "2014-07-01T00:00:00.000000",
          "2014-10-01T00:00:00.000000",
          "2015-01-01T00:00:00.000000",
          "2015-04-01T00:00:00.000000",
          "2015-07-01T00:00:00.000000",
          "2015-10-01T00:00:00.000000",
          "2016-01-01T00:00:00.000000",
          "2016-04-01T00:00:00.000000",
          "2016-07-01T00:00:00.000000",
          "2016-10-01T00:00:00.000000",
          "2017-01-01T00:00:00.000000",
          "2017-04-01T00:00:00.000000",
          "2017-07-01T00:00:00.000000",
          "2017-10-01T00:00:00.000000",
          "2018-01-01T00:00:00.000000",
          "2018-04-01T00:00:00.000000",
          "2018-07-01T00:00:00.000000",
          "2018-10-01T00:00:00.000000",
          "2019-01-01T00:00:00.000000",
          "2019-04-01T00:00:00.000000",
          "2019-07-01T00:00:00.000000",
          "2019-10-01T00:00:00.000000",
          "2020-01-01T00:00:00.000000",
          "2020-04-01T00:00:00.000000",
          "2020-07-01T00:00:00.000000",
          "2020-10-01T00:00:00.000000",
          "2021-01-01T00:00:00.000000",
          "2021-04-01T00:00:00.000000",
          "2021-07-01T00:00:00.000000",
          "2021-10-01T00:00:00.000000",
          "2022-01-01T00:00:00.000000",
          "2022-04-01T00:00:00.000000",
          "2022-07-01T00:00:00.000000",
          "2022-10-01T00:00:00.000000",
          "2023-01-01T00:00:00.000000",
          "2023-04-01T00:00:00.000000",
          "2023-07-01T00:00:00.000000",
          "2023-10-01T00:00:00.000000",
          "2024-01-01T00:00:00.000000",
          "2024-04-01T00:00:00.000000",
          "2024-07-01T00:00:00.000000",
          "2024-10-01T00:00:00.000000",
          "2025-01-01T00:00:00.000000"
         ],
         "y": {
          "bdata": "AAAAAAAA+H8AAAAAAAD4fwAAAAAAAPh/AAAAAAAA+H8AAAAAAAD4fwAAAAAAAPh/AAAAAAAA+H8AAAAAAAD4fwAAAAAAAPh/AAAAAAAA+H8AAAAAAAD4fwAAAAAAAPh/AAAAAAAA+H8AAAAAAAD4fwAAAAAAAPh/AAAAAAAA+H8AAAAAAAD4fwAAAAAAAPh/AAAAAAAA+H8AAAAAAAD4fwAAAAAAAPh/AAAAAAAA+H8AAAAAAAD4fwAAAAAAAPh/AAAAAAAA+H8AAAAAAAD4fwAAAAAAAPh/AAAAAAAA+H8AAAAAAAD4fwAAAAAAAPh/AAAAAAAA+H8AAAAAAAD4fwAAAAAAAPh/AAAAAAAA+H8AAAAAAAD4fwAAAAAAAPh/AAAAAAAA+H8AAAAAAAD4fwAAAAAAAPh/AAAAAAAA+H8AAAAAAAD4fwAAAAAAAPh/AAAAAAAA+H8AAAAAAAD4fwAAAAAAAPh/AAAAAAAA+H8AAAAAAAD4fwAAAAAAAPh/AAAAAAAA+H8AAAAAAAD4fwAAAAAAAPh/AAAAAAAA+H/NzMzMzMwQQF5DeQ3lNQxAuuiiiy66CEAAAAAAAAAKQKK8hvIaygtAkiRJkiRJC0DNzMzMzMwKQDMzMzMzMxFAAAAAAACgDEAAAAAAAIAOQFVVVVVVVQ5ADw8PDw8PEUAAAAAAAIAQQA==",
          "dtype": "f8"
         }
        },
        {
         "mode": "lines+markers",
         "name": "8",
         "type": "scatter",
         "x": [
          "2009-01-01T00:00:00.000000",
          "2009-04-01T00:00:00.000000",
          "2009-07-01T00:00:00.000000",
          "2009-10-01T00:00:00.000000",
          "2010-01-01T00:00:00.000000",
          "2010-04-01T00:00:00.000000",
          "2010-07-01T00:00:00.000000",
          "2010-10-01T00:00:00.000000",
          "2011-01-01T00:00:00.000000",
          "2011-04-01T00:00:00.000000",
          "2011-07-01T00:00:00.000000",
          "2011-10-01T00:00:00.000000",
          "2012-01-01T00:00:00.000000",
          "2012-04-01T00:00:00.000000",
          "2012-07-01T00:00:00.000000",
          "2012-10-01T00:00:00.000000",
          "2013-01-01T00:00:00.000000",
          "2013-04-01T00:00:00.000000",
          "2013-07-01T00:00:00.000000",
          "2013-10-01T00:00:00.000000",
          "2014-01-01T00:00:00.000000",
          "2014-04-01T00:00:00.000000",
          "2014-07-01T00:00:00.000000",
          "2014-10-01T00:00:00.000000",
          "2015-01-01T00:00:00.000000",
          "2015-04-01T00:00:00.000000",
          "2015-07-01T00:00:00.000000",
          "2015-10-01T00:00:00.000000",
          "2016-01-01T00:00:00.000000",
          "2016-04-01T00:00:00.000000",
          "2016-07-01T00:00:00.000000",
          "2016-10-01T00:00:00.000000",
          "2017-01-01T00:00:00.000000",
          "2017-04-01T00:00:00.000000",
          "2017-07-01T00:00:00.000000",
          "2017-10-01T00:00:00.000000",
          "2018-01-01T00:00:00.000000",
          "2018-04-01T00:00:00.000000",
          "2018-07-01T00:00:00.000000",
          "2018-10-01T00:00:00.000000",
          "2019-01-01T00:00:00.000000",
          "2019-04-01T00:00:00.000000",
          "2019-07-01T00:00:00.000000",
          "2019-10-01T00:00:00.000000",
          "2020-01-01T00:00:00.000000",
          "2020-04-01T00:00:00.000000",
          "2020-07-01T00:00:00.000000",
          "2020-10-01T00:00:00.000000",
          "2021-01-01T00:00:00.000000",
          "2021-04-01T00:00:00.000000",
          "2021-07-01T00:00:00.000000",
          "2021-10-01T00:00:00.000000",
          "2022-01-01T00:00:00.000000",
          "2022-04-01T00:00:00.000000",
          "2022-07-01T00:00:00.000000",
          "2022-10-01T00:00:00.000000",
          "2023-01-01T00:00:00.000000",
          "2023-04-01T00:00:00.000000",
          "2023-07-01T00:00:00.000000",
          "2023-10-01T00:00:00.000000",
          "2024-01-01T00:00:00.000000",
          "2024-04-01T00:00:00.000000",
          "2024-07-01T00:00:00.000000",
          "2024-10-01T00:00:00.000000",
          "2025-01-01T00:00:00.000000"
         ],
         "y": {
          "bdata": "AAAAAAAA+H8AAAAAAAD4fwAAAAAAAPh/AAAAAAAA+H8AAAAAAAD4fwAAAAAAAPh/AAAAAAAA+H8AAAAAAAD4fwAAAAAAAPh/AAAAAAAA+H8AAAAAAAD4fwAAAAAAAPh/AAAAAAAA+H8AAAAAAAD4fwAAAAAAAPh/AAAAAAAA+H8AAAAAAAD4fwAAAAAAAPh/AAAAAAAA+H8AAAAAAAD4fwAAAAAAAPh/AAAAAAAA+H8AAAAAAAD4fwAAAAAAAPh/AAAAAAAA+H8AAAAAAAD4fwAAAAAAAPh/AAAAAAAA+H8AAAAAAAD4fwAAAAAAAPh/AAAAAAAA+H8AAAAAAAD4fwAAAAAAAPh/AAAAAAAA+H8AAAAAAAD4fwAAAAAAAPh/AAAAAAAA+H8AAAAAAAD4fwAAAAAAAPh/AAAAAAAA+H8AAAAAAAD4fwAAAAAAAPh/AAAAAAAA+H8AAAAAAAD4fwAAAAAAAPh/AAAAAAAA+H8AAAAAAAD4fwAAAAAAAPh/AAAAAAAA+H8AAAAAAAD4fwAAAAAAAPh/AAAAAAAA+H822WSTTTYLQNu2bdu2bQtA16NwPQrXB0BiGIZhGIYNQAkaTuq+PApAHMdxHMdxCEAzMzMzMzMLQNy2bdu2bQ9AdM4555xzCkCLr/iKr/gKQLETO7ETOwtA2FBeQ3kNC0Bu27Zt27YNQA==",
          "dtype": "f8"
         }
        },
        {
         "mode": "lines+markers",
         "name": "9",
         "type": "scatter",
         "x": [
          "2009-01-01T00:00:00.000000",
          "2009-04-01T00:00:00.000000",
          "2009-07-01T00:00:00.000000",
          "2009-10-01T00:00:00.000000",
          "2010-01-01T00:00:00.000000",
          "2010-04-01T00:00:00.000000",
          "2010-07-01T00:00:00.000000",
          "2010-10-01T00:00:00.000000",
          "2011-01-01T00:00:00.000000",
          "2011-04-01T00:00:00.000000",
          "2011-07-01T00:00:00.000000",
          "2011-10-01T00:00:00.000000",
          "2012-01-01T00:00:00.000000",
          "2012-04-01T00:00:00.000000",
          "2012-07-01T00:00:00.000000",
          "2012-10-01T00:00:00.000000",
          "2013-01-01T00:00:00.000000",
          "2013-04-01T00:00:00.000000",
          "2013-07-01T00:00:00.000000",
          "2013-10-01T00:00:00.000000",
          "2014-01-01T00:00:00.000000",
          "2014-04-01T00:00:00.000000",
          "2014-07-01T00:00:00.000000",
          "2014-10-01T00:00:00.000000",
          "2015-01-01T00:00:00.000000",
          "2015-04-01T00:00:00.000000",
          "2015-07-01T00:00:00.000000",
          "2015-10-01T00:00:00.000000",
          "2016-01-01T00:00:00.000000",
          "2016-04-01T00:00:00.000000",
          "2016-07-01T00:00:00.000000",
          "2016-10-01T00:00:00.000000",
          "2017-01-01T00:00:00.000000",
          "2017-04-01T00:00:00.000000",
          "2017-07-01T00:00:00.000000",
          "2017-10-01T00:00:00.000000",
          "2018-01-01T00:00:00.000000",
          "2018-04-01T00:00:00.000000",
          "2018-07-01T00:00:00.000000",
          "2018-10-01T00:00:00.000000",
          "2019-01-01T00:00:00.000000",
          "2019-04-01T00:00:00.000000",
          "2019-07-01T00:00:00.000000",
          "2019-10-01T00:00:00.000000",
          "2020-01-01T00:00:00.000000",
          "2020-04-01T00:00:00.000000",
          "2020-07-01T00:00:00.000000",
          "2020-10-01T00:00:00.000000",
          "2021-01-01T00:00:00.000000",
          "2021-04-01T00:00:00.000000",
          "2021-07-01T00:00:00.000000",
          "2021-10-01T00:00:00.000000",
          "2022-01-01T00:00:00.000000",
          "2022-04-01T00:00:00.000000",
          "2022-07-01T00:00:00.000000",
          "2022-10-01T00:00:00.000000",
          "2023-01-01T00:00:00.000000",
          "2023-04-01T00:00:00.000000",
          "2023-07-01T00:00:00.000000",
          "2023-10-01T00:00:00.000000",
          "2024-01-01T00:00:00.000000",
          "2024-04-01T00:00:00.000000",
          "2024-07-01T00:00:00.000000",
          "2024-10-01T00:00:00.000000",
          "2025-01-01T00:00:00.000000"
         ],
         "y": {
          "bdata": "AAAAAAAA+H8AAAAAAAD4fwAAAAAAAPh/AAAAAAAA+H8AAAAAAAD4fwAAAAAAAPh/AAAAAAAA+H8AAAAAAAD4fwAAAAAAAPh/AAAAAAAA+H8AAAAAAAD4fwAAAAAAAPh/AAAAAAAA+H8AAAAAAAD4fwAAAAAAAPh/AAAAAAAA+H8AAAAAAAD4fwAAAAAAAPh/AAAAAAAA+H8AAAAAAAD4fwAAAAAAAPh/AAAAAAAA+H8AAAAAAAD4fwAAAAAAAPh/AAAAAAAA+H8AAAAAAAD4fwAAAAAAAPh/AAAAAAAA+H8AAAAAAAD4fwAAAAAAAPh/AAAAAAAA+H8AAAAAAAD4fwAAAAAAAPh/AAAAAAAA+H8AAAAAAAD4fwAAAAAAAPh/AAAAAAAA+H8AAAAAAAD4fwAAAAAAAPh/AAAAAAAA+H8AAAAAAAD4fwAAAAAAAPh/AAAAAAAA+H8AAAAAAAD4fwAAAAAAAPh/AAAAAAAA+H8AAAAAAAD4fwAAAAAAAPh/AAAAAAAA+H8AAAAAAAD4fwAAAAAAAPh/AAAAAAAA+H+rqqqqqqoKQL1PcckQrAtAchzHcRzHCUA7sRM7sRMLQFpaWlpa2gdAsskmm2yyB0AUFBQUFBQIQDCPrQgaTgpAO7ETO7ETCUDu3Llz584JQEYXXXTRRQlAVM5u4VdjCkDmsRVBw0kNQA==",
          "dtype": "f8"
         }
        }
       ],
       "layout": {
        "hovermode": "x unified",
        "legend": {
         "title": {
          "text": "Group"
         }
        },
        "template": {
         "data": {
          "bar": [
           {
            "error_x": {
             "color": "#2a3f5f"
            },
            "error_y": {
             "color": "#2a3f5f"
            },
            "marker": {
             "line": {
              "color": "white",
              "width": 0.5
             },
             "pattern": {
              "fillmode": "overlay",
              "size": 10,
              "solidity": 0.2
             }
            },
            "type": "bar"
           }
          ],
          "barpolar": [
           {
            "marker": {
             "line": {
              "color": "white",
              "width": 0.5
             },
             "pattern": {
              "fillmode": "overlay",
              "size": 10,
              "solidity": 0.2
             }
            },
            "type": "barpolar"
           }
          ],
          "carpet": [
           {
            "aaxis": {
             "endlinecolor": "#2a3f5f",
             "gridcolor": "#C8D4E3",
             "linecolor": "#C8D4E3",
             "minorgridcolor": "#C8D4E3",
             "startlinecolor": "#2a3f5f"
            },
            "baxis": {
             "endlinecolor": "#2a3f5f",
             "gridcolor": "#C8D4E3",
             "linecolor": "#C8D4E3",
             "minorgridcolor": "#C8D4E3",
             "startlinecolor": "#2a3f5f"
            },
            "type": "carpet"
           }
          ],
          "choropleth": [
           {
            "colorbar": {
             "outlinewidth": 0,
             "ticks": ""
            },
            "type": "choropleth"
           }
          ],
          "contour": [
           {
            "colorbar": {
             "outlinewidth": 0,
             "ticks": ""
            },
            "colorscale": [
             [
              0,
              "#0d0887"
             ],
             [
              0.1111111111111111,
              "#46039f"
             ],
             [
              0.2222222222222222,
              "#7201a8"
             ],
             [
              0.3333333333333333,
              "#9c179e"
             ],
             [
              0.4444444444444444,
              "#bd3786"
             ],
             [
              0.5555555555555556,
              "#d8576b"
             ],
             [
              0.6666666666666666,
              "#ed7953"
             ],
             [
              0.7777777777777778,
              "#fb9f3a"
             ],
             [
              0.8888888888888888,
              "#fdca26"
             ],
             [
              1,
              "#f0f921"
             ]
            ],
            "type": "contour"
           }
          ],
          "contourcarpet": [
           {
            "colorbar": {
             "outlinewidth": 0,
             "ticks": ""
            },
            "type": "contourcarpet"
           }
          ],
          "heatmap": [
           {
            "colorbar": {
             "outlinewidth": 0,
             "ticks": ""
            },
            "colorscale": [
             [
              0,
              "#0d0887"
             ],
             [
              0.1111111111111111,
              "#46039f"
             ],
             [
              0.2222222222222222,
              "#7201a8"
             ],
             [
              0.3333333333333333,
              "#9c179e"
             ],
             [
              0.4444444444444444,
              "#bd3786"
             ],
             [
              0.5555555555555556,
              "#d8576b"
             ],
             [
              0.6666666666666666,
              "#ed7953"
             ],
             [
              0.7777777777777778,
              "#fb9f3a"
             ],
             [
              0.8888888888888888,
              "#fdca26"
             ],
             [
              1,
              "#f0f921"
             ]
            ],
            "type": "heatmap"
           }
          ],
          "histogram": [
           {
            "marker": {
             "pattern": {
              "fillmode": "overlay",
              "size": 10,
              "solidity": 0.2
             }
            },
            "type": "histogram"
           }
          ],
          "histogram2d": [
           {
            "colorbar": {
             "outlinewidth": 0,
             "ticks": ""
            },
            "colorscale": [
             [
              0,
              "#0d0887"
             ],
             [
              0.1111111111111111,
              "#46039f"
             ],
             [
              0.2222222222222222,
              "#7201a8"
             ],
             [
              0.3333333333333333,
              "#9c179e"
             ],
             [
              0.4444444444444444,
              "#bd3786"
             ],
             [
              0.5555555555555556,
              "#d8576b"
             ],
             [
              0.6666666666666666,
              "#ed7953"
             ],
             [
              0.7777777777777778,
              "#fb9f3a"
             ],
             [
              0.8888888888888888,
              "#fdca26"
             ],
             [
              1,
              "#f0f921"
             ]
            ],
            "type": "histogram2d"
           }
          ],
          "histogram2dcontour": [
           {
            "colorbar": {
             "outlinewidth": 0,
             "ticks": ""
            },
            "colorscale": [
             [
              0,
              "#0d0887"
             ],
             [
              0.1111111111111111,
              "#46039f"
             ],
             [
              0.2222222222222222,
              "#7201a8"
             ],
             [
              0.3333333333333333,
              "#9c179e"
             ],
             [
              0.4444444444444444,
              "#bd3786"
             ],
             [
              0.5555555555555556,
              "#d8576b"
             ],
             [
              0.6666666666666666,
              "#ed7953"
             ],
             [
              0.7777777777777778,
              "#fb9f3a"
             ],
             [
              0.8888888888888888,
              "#fdca26"
             ],
             [
              1,
              "#f0f921"
             ]
            ],
            "type": "histogram2dcontour"
           }
          ],
          "mesh3d": [
           {
            "colorbar": {
             "outlinewidth": 0,
             "ticks": ""
            },
            "type": "mesh3d"
           }
          ],
          "parcoords": [
           {
            "line": {
             "colorbar": {
              "outlinewidth": 0,
              "ticks": ""
             }
            },
            "type": "parcoords"
           }
          ],
          "pie": [
           {
            "automargin": true,
            "type": "pie"
           }
          ],
          "scatter": [
           {
            "fillpattern": {
             "fillmode": "overlay",
             "size": 10,
             "solidity": 0.2
            },
            "type": "scatter"
           }
          ],
          "scatter3d": [
           {
            "line": {
             "colorbar": {
              "outlinewidth": 0,
              "ticks": ""
             }
            },
            "marker": {
             "colorbar": {
              "outlinewidth": 0,
              "ticks": ""
             }
            },
            "type": "scatter3d"
           }
          ],
          "scattercarpet": [
           {
            "marker": {
             "colorbar": {
              "outlinewidth": 0,
              "ticks": ""
             }
            },
            "type": "scattercarpet"
           }
          ],
          "scattergeo": [
           {
            "marker": {
             "colorbar": {
              "outlinewidth": 0,
              "ticks": ""
             }
            },
            "type": "scattergeo"
           }
          ],
          "scattergl": [
           {
            "marker": {
             "colorbar": {
              "outlinewidth": 0,
              "ticks": ""
             }
            },
            "type": "scattergl"
           }
          ],
          "scattermap": [
           {
            "marker": {
             "colorbar": {
              "outlinewidth": 0,
              "ticks": ""
             }
            },
            "type": "scattermap"
           }
          ],
          "scattermapbox": [
           {
            "marker": {
             "colorbar": {
              "outlinewidth": 0,
              "ticks": ""
             }
            },
            "type": "scattermapbox"
           }
          ],
          "scatterpolar": [
           {
            "marker": {
             "colorbar": {
              "outlinewidth": 0,
              "ticks": ""
             }
            },
            "type": "scatterpolar"
           }
          ],
          "scatterpolargl": [
           {
            "marker": {
             "colorbar": {
              "outlinewidth": 0,
              "ticks": ""
             }
            },
            "type": "scatterpolargl"
           }
          ],
          "scatterternary": [
           {
            "marker": {
             "colorbar": {
              "outlinewidth": 0,
              "ticks": ""
             }
            },
            "type": "scatterternary"
           }
          ],
          "surface": [
           {
            "colorbar": {
             "outlinewidth": 0,
             "ticks": ""
            },
            "colorscale": [
             [
              0,
              "#0d0887"
             ],
             [
              0.1111111111111111,
              "#46039f"
             ],
             [
              0.2222222222222222,
              "#7201a8"
             ],
             [
              0.3333333333333333,
              "#9c179e"
             ],
             [
              0.4444444444444444,
              "#bd3786"
             ],
             [
              0.5555555555555556,
              "#d8576b"
             ],
             [
              0.6666666666666666,
              "#ed7953"
             ],
             [
              0.7777777777777778,
              "#fb9f3a"
             ],
             [
              0.8888888888888888,
              "#fdca26"
             ],
             [
              1,
              "#f0f921"
             ]
            ],
            "type": "surface"
           }
          ],
          "table": [
           {
            "cells": {
             "fill": {
              "color": "#EBF0F8"
             },
             "line": {
              "color": "white"
             }
            },
            "header": {
             "fill": {
              "color": "#C8D4E3"
             },
             "line": {
              "color": "white"
             }
            },
            "type": "table"
           }
          ]
         },
         "layout": {
          "annotationdefaults": {
           "arrowcolor": "#2a3f5f",
           "arrowhead": 0,
           "arrowwidth": 1
          },
          "autotypenumbers": "strict",
          "coloraxis": {
           "colorbar": {
            "outlinewidth": 0,
            "ticks": ""
           }
          },
          "colorscale": {
           "diverging": [
            [
             0,
             "#8e0152"
            ],
            [
             0.1,
             "#c51b7d"
            ],
            [
             0.2,
             "#de77ae"
            ],
            [
             0.3,
             "#f1b6da"
            ],
            [
             0.4,
             "#fde0ef"
            ],
            [
             0.5,
             "#f7f7f7"
            ],
            [
             0.6,
             "#e6f5d0"
            ],
            [
             0.7,
             "#b8e186"
            ],
            [
             0.8,
             "#7fbc41"
            ],
            [
             0.9,
             "#4d9221"
            ],
            [
             1,
             "#276419"
            ]
           ],
           "sequential": [
            [
             0,
             "#0d0887"
            ],
            [
             0.1111111111111111,
             "#46039f"
            ],
            [
             0.2222222222222222,
             "#7201a8"
            ],
            [
             0.3333333333333333,
             "#9c179e"
            ],
            [
             0.4444444444444444,
             "#bd3786"
            ],
            [
             0.5555555555555556,
             "#d8576b"
            ],
            [
             0.6666666666666666,
             "#ed7953"
            ],
            [
             0.7777777777777778,
             "#fb9f3a"
            ],
            [
             0.8888888888888888,
             "#fdca26"
            ],
            [
             1,
             "#f0f921"
            ]
           ],
           "sequentialminus": [
            [
             0,
             "#0d0887"
            ],
            [
             0.1111111111111111,
             "#46039f"
            ],
            [
             0.2222222222222222,
             "#7201a8"
            ],
            [
             0.3333333333333333,
             "#9c179e"
            ],
            [
             0.4444444444444444,
             "#bd3786"
            ],
            [
             0.5555555555555556,
             "#d8576b"
            ],
            [
             0.6666666666666666,
             "#ed7953"
            ],
            [
             0.7777777777777778,
             "#fb9f3a"
            ],
            [
             0.8888888888888888,
             "#fdca26"
            ],
            [
             1,
             "#f0f921"
            ]
           ]
          },
          "colorway": [
           "#636efa",
           "#EF553B",
           "#00cc96",
           "#ab63fa",
           "#FFA15A",
           "#19d3f3",
           "#FF6692",
           "#B6E880",
           "#FF97FF",
           "#FECB52"
          ],
          "font": {
           "color": "#2a3f5f"
          },
          "geo": {
           "bgcolor": "white",
           "lakecolor": "white",
           "landcolor": "white",
           "showlakes": true,
           "showland": true,
           "subunitcolor": "#C8D4E3"
          },
          "hoverlabel": {
           "align": "left"
          },
          "hovermode": "closest",
          "mapbox": {
           "style": "light"
          },
          "paper_bgcolor": "white",
          "plot_bgcolor": "white",
          "polar": {
           "angularaxis": {
            "gridcolor": "#EBF0F8",
            "linecolor": "#EBF0F8",
            "ticks": ""
           },
           "bgcolor": "white",
           "radialaxis": {
            "gridcolor": "#EBF0F8",
            "linecolor": "#EBF0F8",
            "ticks": ""
           }
          },
          "scene": {
           "xaxis": {
            "backgroundcolor": "white",
            "gridcolor": "#DFE8F3",
            "gridwidth": 2,
            "linecolor": "#EBF0F8",
            "showbackground": true,
            "ticks": "",
            "zerolinecolor": "#EBF0F8"
           },
           "yaxis": {
            "backgroundcolor": "white",
            "gridcolor": "#DFE8F3",
            "gridwidth": 2,
            "linecolor": "#EBF0F8",
            "showbackground": true,
            "ticks": "",
            "zerolinecolor": "#EBF0F8"
           },
           "zaxis": {
            "backgroundcolor": "white",
            "gridcolor": "#DFE8F3",
            "gridwidth": 2,
            "linecolor": "#EBF0F8",
            "showbackground": true,
            "ticks": "",
            "zerolinecolor": "#EBF0F8"
           }
          },
          "shapedefaults": {
           "line": {
            "color": "#2a3f5f"
           }
          },
          "ternary": {
           "aaxis": {
            "gridcolor": "#DFE8F3",
            "linecolor": "#A2B1C6",
            "ticks": ""
           },
           "baxis": {
            "gridcolor": "#DFE8F3",
            "linecolor": "#A2B1C6",
            "ticks": ""
           },
           "bgcolor": "white",
           "caxis": {
            "gridcolor": "#DFE8F3",
            "linecolor": "#A2B1C6",
            "ticks": ""
           }
          },
          "title": {
           "x": 0.05
          },
          "xaxis": {
           "automargin": true,
           "gridcolor": "#EBF0F8",
           "linecolor": "#EBF0F8",
           "ticks": "",
           "title": {
            "standoff": 15
           },
           "zerolinecolor": "#EBF0F8",
           "zerolinewidth": 2
          },
          "yaxis": {
           "automargin": true,
           "gridcolor": "#EBF0F8",
           "linecolor": "#EBF0F8",
           "ticks": "",
           "title": {
            "standoff": 15
           },
           "zerolinecolor": "#EBF0F8",
           "zerolinewidth": 2
          }
         }
        },
        "title": {
         "text": "5 year ahead inflation expectations by income band"
        },
        "xaxis": {
         "title": {
          "text": "Quarter"
         }
        },
        "yaxis": {
         "title": {
          "text": "Grouped Median (Interpolated)"
         }
        }
       }
      }
     },
     "metadata": {},
     "output_type": "display_data"
    }
   ],
   "source": [
    "plot_question_medians(median_dfs[2], housing_mapping, '5 year ahead inflation expectations by income band')"
   ]
  },
  {
   "cell_type": "markdown",
   "metadata": {},
   "source": [
    "## Region"
   ]
  },
  {
   "cell_type": "code",
   "execution_count": 29,
   "metadata": {},
   "outputs": [
    {
     "name": "stderr",
     "output_type": "stream",
     "text": [
      "Could not determine dtype for column 172, falling back to string\n",
      "Could not determine dtype for column 174, falling back to string\n",
      "Could not determine dtype for column 176, falling back to string\n"
     ]
    }
   ],
   "source": [
    "ias_raw = pl.read_excel(\n",
    "    '/Users/lukasalemu/Downloads/Inflation Attitudes Survey Feb 2025.xlsx', \n",
    "    sheet_name='Dataset', \n",
    "    columns=['yyyyqq', 'sreg', 'q2a_agg1', 'q2b_agg1', 'q2c_agg1']\n",
    ")\n",
    "ias_raw.head()\n",
    "\n",
    "df_clean = clean_ias(ias_raw, 'sreg')\n",
    "median_dfs = comp_grouped_medians(df_clean, q2_agg_ias_class_bounds, disagg_col=\"sreg\")"
   ]
  },
  {
   "cell_type": "code",
   "execution_count": 30,
   "metadata": {},
   "outputs": [
    {
     "data": {
      "application/vnd.plotly.v1+json": {
       "config": {
        "plotlyServerURL": "https://plot.ly"
       },
       "data": [
        {
         "mode": "lines+markers",
         "name": "Scotland",
         "type": "scatter",
         "x": [
          "2009-01-01T00:00:00.000000",
          "2009-04-01T00:00:00.000000",
          "2009-07-01T00:00:00.000000",
          "2009-10-01T00:00:00.000000",
          "2010-01-01T00:00:00.000000",
          "2010-04-01T00:00:00.000000",
          "2010-07-01T00:00:00.000000",
          "2010-10-01T00:00:00.000000",
          "2011-01-01T00:00:00.000000",
          "2011-04-01T00:00:00.000000",
          "2011-07-01T00:00:00.000000",
          "2011-10-01T00:00:00.000000",
          "2012-01-01T00:00:00.000000",
          "2012-04-01T00:00:00.000000",
          "2012-07-01T00:00:00.000000",
          "2012-10-01T00:00:00.000000",
          "2013-01-01T00:00:00.000000",
          "2013-04-01T00:00:00.000000",
          "2013-07-01T00:00:00.000000",
          "2013-10-01T00:00:00.000000",
          "2014-01-01T00:00:00.000000",
          "2014-04-01T00:00:00.000000",
          "2014-07-01T00:00:00.000000",
          "2014-10-01T00:00:00.000000",
          "2015-01-01T00:00:00.000000",
          "2015-04-01T00:00:00.000000",
          "2015-07-01T00:00:00.000000",
          "2015-10-01T00:00:00.000000",
          "2016-01-01T00:00:00.000000",
          "2016-04-01T00:00:00.000000",
          "2016-07-01T00:00:00.000000",
          "2016-10-01T00:00:00.000000",
          "2017-01-01T00:00:00.000000",
          "2017-04-01T00:00:00.000000",
          "2017-07-01T00:00:00.000000",
          "2017-10-01T00:00:00.000000",
          "2018-01-01T00:00:00.000000",
          "2018-04-01T00:00:00.000000",
          "2018-07-01T00:00:00.000000",
          "2018-10-01T00:00:00.000000",
          "2019-01-01T00:00:00.000000",
          "2019-04-01T00:00:00.000000",
          "2019-07-01T00:00:00.000000",
          "2019-10-01T00:00:00.000000",
          "2020-01-01T00:00:00.000000",
          "2020-04-01T00:00:00.000000",
          "2020-07-01T00:00:00.000000",
          "2020-10-01T00:00:00.000000",
          "2021-01-01T00:00:00.000000",
          "2021-04-01T00:00:00.000000",
          "2021-07-01T00:00:00.000000",
          "2021-10-01T00:00:00.000000",
          "2022-01-01T00:00:00.000000",
          "2022-04-01T00:00:00.000000",
          "2022-07-01T00:00:00.000000",
          "2022-10-01T00:00:00.000000",
          "2023-01-01T00:00:00.000000",
          "2023-04-01T00:00:00.000000",
          "2023-07-01T00:00:00.000000",
          "2023-10-01T00:00:00.000000",
          "2024-01-01T00:00:00.000000",
          "2024-04-01T00:00:00.000000",
          "2024-07-01T00:00:00.000000",
          "2024-10-01T00:00:00.000000",
          "2025-01-01T00:00:00.000000"
         ],
         "y": {
          "bdata": "55xzzjnnAkCEOqiDOqgDQGZmZmZmZgVAhCnyWTeYAkAAAAAAAIABQMMwDMMwDAtA0UUXXXTRCUAXXXTRRRcRQCS4j+A+gg9AT+zETuzEDECGYRiGYRgQQOQ4juM4jhBAjC666KKLC0Cjiy666KINQM3MzMzMzAhAchzHcRzHCUARQgghhBAIQOh5nud5ngtAmpmZmZmZCUA1wnJPIywLQD1QObuFXwVAR1juaYTlAkA+BudjcD4CQM3MzMzMTARArkfhehSu+z+rqqqqqqoAQMprKK+hvABAMKG9hPYS+j+0tLS0tLT8P6iDOqiDOgBAVVVVVVVVA0DkOI7jOI4HQHsUrkfheghAAAAAAAAAB0AAAAAAACAHQFVVVVVVVQlAmpmZmZmZCUCe2Imd2IkJQDMzMzMzswZA9DzP8zzPC0Auuuiiiy4MQLdt27Zt2wtAxhhjjDHGEECrqqqqqioPQBY2BxKtsAlAZmZmZmZmCUBVVVVVVVUGQE/sxE7sxAJAbm5ubm5uBkBoL6G9hPYCQAAAAAAAwAhAexSuR+F6DEDpoosuumgSQAAAAAAAABJAAAAAAAAAGUAAAAAAAAAUQOh5nud5nhFAOY7jOI7jDEDNzMzMzMwMQFVVVVVVVQpAq6qqqqpqCUDNzMzMzMwGQKuqqqqqqgRAzczMzMzMCEAlyFOCPCUMQA==",
          "dtype": "f8"
         }
        },
        {
         "mode": "lines+markers",
         "name": "Midlands",
         "type": "scatter",
         "x": [
          "2009-01-01T00:00:00.000000",
          "2009-04-01T00:00:00.000000",
          "2009-07-01T00:00:00.000000",
          "2009-10-01T00:00:00.000000",
          "2010-01-01T00:00:00.000000",
          "2010-04-01T00:00:00.000000",
          "2010-07-01T00:00:00.000000",
          "2010-10-01T00:00:00.000000",
          "2011-01-01T00:00:00.000000",
          "2011-04-01T00:00:00.000000",
          "2011-07-01T00:00:00.000000",
          "2011-10-01T00:00:00.000000",
          "2012-01-01T00:00:00.000000",
          "2012-04-01T00:00:00.000000",
          "2012-07-01T00:00:00.000000",
          "2012-10-01T00:00:00.000000",
          "2013-01-01T00:00:00.000000",
          "2013-04-01T00:00:00.000000",
          "2013-07-01T00:00:00.000000",
          "2013-10-01T00:00:00.000000",
          "2014-01-01T00:00:00.000000",
          "2014-04-01T00:00:00.000000",
          "2014-07-01T00:00:00.000000",
          "2014-10-01T00:00:00.000000",
          "2015-01-01T00:00:00.000000",
          "2015-04-01T00:00:00.000000",
          "2015-07-01T00:00:00.000000",
          "2015-10-01T00:00:00.000000",
          "2016-01-01T00:00:00.000000",
          "2016-04-01T00:00:00.000000",
          "2016-07-01T00:00:00.000000",
          "2016-10-01T00:00:00.000000",
          "2017-01-01T00:00:00.000000",
          "2017-04-01T00:00:00.000000",
          "2017-07-01T00:00:00.000000",
          "2017-10-01T00:00:00.000000",
          "2018-01-01T00:00:00.000000",
          "2018-04-01T00:00:00.000000",
          "2018-07-01T00:00:00.000000",
          "2018-10-01T00:00:00.000000",
          "2019-01-01T00:00:00.000000",
          "2019-04-01T00:00:00.000000",
          "2019-07-01T00:00:00.000000",
          "2019-10-01T00:00:00.000000",
          "2020-01-01T00:00:00.000000",
          "2020-04-01T00:00:00.000000",
          "2020-07-01T00:00:00.000000",
          "2020-10-01T00:00:00.000000",
          "2021-01-01T00:00:00.000000",
          "2021-04-01T00:00:00.000000",
          "2021-07-01T00:00:00.000000",
          "2021-10-01T00:00:00.000000",
          "2022-01-01T00:00:00.000000",
          "2022-04-01T00:00:00.000000",
          "2022-07-01T00:00:00.000000",
          "2022-10-01T00:00:00.000000",
          "2023-01-01T00:00:00.000000",
          "2023-04-01T00:00:00.000000",
          "2023-07-01T00:00:00.000000",
          "2023-10-01T00:00:00.000000",
          "2024-01-01T00:00:00.000000",
          "2024-04-01T00:00:00.000000",
          "2024-07-01T00:00:00.000000",
          "2024-10-01T00:00:00.000000",
          "2025-01-01T00:00:00.000000"
         ],
         "y": {
          "bdata": "TJHPusEUA0B+fX19fX0FQHHJEKyjzQNANu9TXDIEB0DduXPnzp0FQE/sxE7sxApAsPiKr/iKDUBmxUAJbzQRQJqZmZmZmRBA8TNK/IwSEUAAAAAAANAQQLETO7ETOxFA16NwPQpXEEAAAAAAAAAQQOzETuzETg1AAAAAAAAAEEChL+gL+oIQQITlnkZY7hBAUFBQUFBQCEC/PLYiaDgNQCd2Yid2YghAJO6IO+KOBEBjjDHGGGMGQIQp8lk3mAJAv2HtG9a+/T+uHZhrB+YCQFh8xVd8xf8/fAntJbSX/D/oqMAXVz/8PwAAAAAAgABATGgvob2EAUDsUbgehesFQFPks24wRQZAYTAYDAaDBUBaWlpaWloGQLKmrClrygZA0DxaVCL5BkAk8PZDAm8HQN3TCMs9jQhANFihM1ihB0DzLd/yLd8KQFQ6smcgKglAYsSIESNGDEAnTZo0adIIQJghv5chvwdASODthwTeBkCamZmZmRkGQOzr6+vr6wVA+Y1tRq2BBEALncEKncECQDwb9Z2N+gRAxhhjjDHGB0BgLPnFkl8RQMVO7MRObBJAhl+NifRAE0Acx3Ecx3ETQO/u7u7u7g9A+awbTJHPCkA/xSVDsI4KQBzWvmHtGwpAinzWDabIB0C+uPpBRwUGQBEREREREQVAZHA+BudjCEB8A8rEle4JQA==",
          "dtype": "f8"
         }
        },
        {
         "mode": "lines+markers",
         "name": "South East",
         "type": "scatter",
         "x": [
          "2009-01-01T00:00:00.000000",
          "2009-04-01T00:00:00.000000",
          "2009-07-01T00:00:00.000000",
          "2009-10-01T00:00:00.000000",
          "2010-01-01T00:00:00.000000",
          "2010-04-01T00:00:00.000000",
          "2010-07-01T00:00:00.000000",
          "2010-10-01T00:00:00.000000",
          "2011-01-01T00:00:00.000000",
          "2011-04-01T00:00:00.000000",
          "2011-07-01T00:00:00.000000",
          "2011-10-01T00:00:00.000000",
          "2012-01-01T00:00:00.000000",
          "2012-04-01T00:00:00.000000",
          "2012-07-01T00:00:00.000000",
          "2012-10-01T00:00:00.000000",
          "2013-01-01T00:00:00.000000",
          "2013-04-01T00:00:00.000000",
          "2013-07-01T00:00:00.000000",
          "2013-10-01T00:00:00.000000",
          "2014-01-01T00:00:00.000000",
          "2014-04-01T00:00:00.000000",
          "2014-07-01T00:00:00.000000",
          "2014-10-01T00:00:00.000000",
          "2015-01-01T00:00:00.000000",
          "2015-04-01T00:00:00.000000",
          "2015-07-01T00:00:00.000000",
          "2015-10-01T00:00:00.000000",
          "2016-01-01T00:00:00.000000",
          "2016-04-01T00:00:00.000000",
          "2016-07-01T00:00:00.000000",
          "2016-10-01T00:00:00.000000",
          "2017-01-01T00:00:00.000000",
          "2017-04-01T00:00:00.000000",
          "2017-07-01T00:00:00.000000",
          "2017-10-01T00:00:00.000000",
          "2018-01-01T00:00:00.000000",
          "2018-04-01T00:00:00.000000",
          "2018-07-01T00:00:00.000000",
          "2018-10-01T00:00:00.000000",
          "2019-01-01T00:00:00.000000",
          "2019-04-01T00:00:00.000000",
          "2019-07-01T00:00:00.000000",
          "2019-10-01T00:00:00.000000",
          "2020-01-01T00:00:00.000000",
          "2020-04-01T00:00:00.000000",
          "2020-07-01T00:00:00.000000",
          "2020-10-01T00:00:00.000000",
          "2021-01-01T00:00:00.000000",
          "2021-04-01T00:00:00.000000",
          "2021-07-01T00:00:00.000000",
          "2021-10-01T00:00:00.000000",
          "2022-01-01T00:00:00.000000",
          "2022-04-01T00:00:00.000000",
          "2022-07-01T00:00:00.000000",
          "2022-10-01T00:00:00.000000",
          "2023-01-01T00:00:00.000000",
          "2023-04-01T00:00:00.000000",
          "2023-07-01T00:00:00.000000",
          "2023-10-01T00:00:00.000000",
          "2024-01-01T00:00:00.000000",
          "2024-04-01T00:00:00.000000",
          "2024-07-01T00:00:00.000000",
          "2024-10-01T00:00:00.000000",
          "2025-01-01T00:00:00.000000"
         ],
         "y": {
          "bdata": "AAAAAACAAEBANV66SQwCQKG9hPYS2gJAMjIyMjIyAkBO9wDHIvwDQBPYtJ8sgQlApJLzsohPCEB9PzVeukkMQO0ltJfQXg5AzczMzMzMDUDXRCDXRCAPQMmegah0ZA9AVVVVVVUVCUBzNVdzNVcLQLxa3IT5XQlAZmZmZmamCkAAAAAAAAAOQBDjfl1S+QxAKqMyKqMyCkDd3Nzc3NwMQOILKQI2RgdA2FBeQ3kNBUAg0QqbA4kGQBa+3BAD0gVAtJfQXkJ7AUAfF/ZxYR8DQKVP+qRP+gBAgkQrbA4kBEDIfuzHfuz/PxkZGRkZGQFA435dUvkwAkBoL6G9hPYFQC5wgQtc4AZAnTFnzBlzBkCDwWAwGAwGQN9777333gZAVVVVVVVVB0BhuacRlnsHQDxHoGirwQdARhdddNFFC0DEWfkJcVYKQGwor6G8hgZA+awbTJHPCEDwdGt+WKQIQOxPwP4E7AdAAAAAAACAB0DSK2P7Hb0GQNgeclkxUAZA9SxMz8L0BEBDYt7OkJgDQD/99NNPPwVANHV+7SGXCUD1oJF3/hYPQNAX9AV9QRFAsTmQaIXNEUBqhOWeRlgTQFVVVVVVVQ5AivRA5ewWDkBeQ3kN5TUNQOQ4juM4jgpAt23btm3bCEAq5lZnpGIGQGCXVD6M+wVATdM0TdM0B0BD0x3st9oKQA==",
          "dtype": "f8"
         }
        },
        {
         "mode": "lines+markers",
         "name": "North & NI",
         "type": "scatter",
         "x": [
          "2009-01-01T00:00:00.000000",
          "2009-04-01T00:00:00.000000",
          "2009-07-01T00:00:00.000000",
          "2009-10-01T00:00:00.000000",
          "2010-01-01T00:00:00.000000",
          "2010-04-01T00:00:00.000000",
          "2010-07-01T00:00:00.000000",
          "2010-10-01T00:00:00.000000",
          "2011-01-01T00:00:00.000000",
          "2011-04-01T00:00:00.000000",
          "2011-07-01T00:00:00.000000",
          "2011-10-01T00:00:00.000000",
          "2012-01-01T00:00:00.000000",
          "2012-04-01T00:00:00.000000",
          "2012-07-01T00:00:00.000000",
          "2012-10-01T00:00:00.000000",
          "2013-01-01T00:00:00.000000",
          "2013-04-01T00:00:00.000000",
          "2013-07-01T00:00:00.000000",
          "2013-10-01T00:00:00.000000",
          "2014-01-01T00:00:00.000000",
          "2014-04-01T00:00:00.000000",
          "2014-07-01T00:00:00.000000",
          "2014-10-01T00:00:00.000000",
          "2015-01-01T00:00:00.000000",
          "2015-04-01T00:00:00.000000",
          "2015-07-01T00:00:00.000000",
          "2015-10-01T00:00:00.000000",
          "2016-01-01T00:00:00.000000",
          "2016-04-01T00:00:00.000000",
          "2016-07-01T00:00:00.000000",
          "2016-10-01T00:00:00.000000",
          "2017-01-01T00:00:00.000000",
          "2017-04-01T00:00:00.000000",
          "2017-07-01T00:00:00.000000",
          "2017-10-01T00:00:00.000000",
          "2018-01-01T00:00:00.000000",
          "2018-04-01T00:00:00.000000",
          "2018-07-01T00:00:00.000000",
          "2018-10-01T00:00:00.000000",
          "2019-01-01T00:00:00.000000",
          "2019-04-01T00:00:00.000000",
          "2019-07-01T00:00:00.000000",
          "2019-10-01T00:00:00.000000",
          "2020-01-01T00:00:00.000000",
          "2020-04-01T00:00:00.000000",
          "2020-07-01T00:00:00.000000",
          "2020-10-01T00:00:00.000000",
          "2021-01-01T00:00:00.000000",
          "2021-04-01T00:00:00.000000",
          "2021-07-01T00:00:00.000000",
          "2021-10-01T00:00:00.000000",
          "2022-01-01T00:00:00.000000",
          "2022-04-01T00:00:00.000000",
          "2022-07-01T00:00:00.000000",
          "2022-10-01T00:00:00.000000",
          "2023-01-01T00:00:00.000000",
          "2023-04-01T00:00:00.000000",
          "2023-07-01T00:00:00.000000",
          "2023-10-01T00:00:00.000000",
          "2024-01-01T00:00:00.000000",
          "2024-04-01T00:00:00.000000",
          "2024-07-01T00:00:00.000000",
          "2024-10-01T00:00:00.000000",
          "2025-01-01T00:00:00.000000"
         ],
         "y": {
          "bdata": "zCl4OQUvA0CQHz9+/PgBQH/66aeffgJAvLu7u7u7AUBrrbXWWmsDQDCPrQgaTgpAF1100UUXDUBEY31orA8QQFVVVVVVVRFAZmZmZmbmEEAcx3Ecx3ERQHi6NT8sUhBA5ifEWfkJDUBlk0022WQPQDBFPusGUwpAytkt/GpMDEBv7HtEThAOQOJXYyI9UA1AiIiIiIiIDEBo3WCKfNYNQDr56OSjkwdAwaRT8yB3BUA/h9QE460GQAAAAAAAAARActfPFivD/z95PB6Px+MBQHfBX8UJKQFAsRM7sRM7/T8KozpNDjL/P3E9CtejcAFAGh+ZQO/UAUC6n/u5n/sFQLy7u7u7ewZAoOKSIVhHB0BrtEZrtEYHQAAAAAAAiAZAUwN7x9TABkD2flnvl/UGQJIkSZIkSQlAsK+vr6+vB0CrqqqqqmoJQOh5nud5nglABEEQBEEQCEAAAAAAAAAJQPRJn/RJnwZAdmIndmInCEAaYbmnEZYHQOfm5ubm5gZAncEKncEKB0CKS4ZgHW0EQOMrvuIrvgZA0VgfGutDC0CZSA9Uzm4SQKzFTZjf1RJAfPDBBx98E0DEw8PDw8MTQJQ+6ZM+6Q9AhBBCCCGECkA8PDw8PDwNQPxqTKQHKgtAXXTRRRfdB0AAAAAAAAAIQJBMoHfqWgZARGqC8Vb2B0AKXk7ByykMQA==",
          "dtype": "f8"
         }
        },
        {
         "mode": "lines+markers",
         "name": "Wales and West",
         "type": "scatter",
         "x": [
          "2009-01-01T00:00:00.000000",
          "2009-04-01T00:00:00.000000",
          "2009-07-01T00:00:00.000000",
          "2009-10-01T00:00:00.000000",
          "2010-01-01T00:00:00.000000",
          "2010-04-01T00:00:00.000000",
          "2010-07-01T00:00:00.000000",
          "2010-10-01T00:00:00.000000",
          "2011-01-01T00:00:00.000000",
          "2011-04-01T00:00:00.000000",
          "2011-07-01T00:00:00.000000",
          "2011-10-01T00:00:00.000000",
          "2012-01-01T00:00:00.000000",
          "2012-04-01T00:00:00.000000",
          "2012-07-01T00:00:00.000000",
          "2012-10-01T00:00:00.000000",
          "2013-01-01T00:00:00.000000",
          "2013-04-01T00:00:00.000000",
          "2013-07-01T00:00:00.000000",
          "2013-10-01T00:00:00.000000",
          "2014-01-01T00:00:00.000000",
          "2014-04-01T00:00:00.000000",
          "2014-07-01T00:00:00.000000",
          "2014-10-01T00:00:00.000000",
          "2015-01-01T00:00:00.000000",
          "2015-04-01T00:00:00.000000",
          "2015-07-01T00:00:00.000000",
          "2015-10-01T00:00:00.000000",
          "2016-01-01T00:00:00.000000",
          "2016-04-01T00:00:00.000000",
          "2016-07-01T00:00:00.000000",
          "2016-10-01T00:00:00.000000",
          "2017-01-01T00:00:00.000000",
          "2017-04-01T00:00:00.000000",
          "2017-07-01T00:00:00.000000",
          "2017-10-01T00:00:00.000000",
          "2018-01-01T00:00:00.000000",
          "2018-04-01T00:00:00.000000",
          "2018-07-01T00:00:00.000000",
          "2018-10-01T00:00:00.000000",
          "2019-01-01T00:00:00.000000",
          "2019-04-01T00:00:00.000000",
          "2019-07-01T00:00:00.000000",
          "2019-10-01T00:00:00.000000",
          "2020-01-01T00:00:00.000000",
          "2020-04-01T00:00:00.000000",
          "2020-07-01T00:00:00.000000",
          "2020-10-01T00:00:00.000000",
          "2021-01-01T00:00:00.000000",
          "2021-04-01T00:00:00.000000",
          "2021-07-01T00:00:00.000000",
          "2021-10-01T00:00:00.000000",
          "2022-01-01T00:00:00.000000",
          "2022-04-01T00:00:00.000000",
          "2022-07-01T00:00:00.000000",
          "2022-10-01T00:00:00.000000",
          "2023-01-01T00:00:00.000000",
          "2023-04-01T00:00:00.000000",
          "2023-07-01T00:00:00.000000",
          "2023-10-01T00:00:00.000000",
          "2024-01-01T00:00:00.000000",
          "2024-04-01T00:00:00.000000",
          "2024-07-01T00:00:00.000000",
          "2024-10-01T00:00:00.000000",
          "2025-01-01T00:00:00.000000"
         ],
         "y": {
          "bdata": "/Ia1b1j7/j8wRT7rBlMEQDZlTVlT1gRA9aY3velNBUBP7MRO7EQFQAZ9QV/QFwxA8hrKayivDUC8nIKXU/AOQGQhC1nIQhBANcJyTyMsEEBMaC+hvYQRQLdt27Zt2xFAb2WfQ2qCDUAAAAAAAAAPQPqkT/qkTwpAEEIIIYQQEkDXWmuttdYMQEmSJEmSJAlAB3VQB3VQC0Bba6211loRQCI1wXgr+wRAPgbnY3A+BkAeHh4eHh4GQDi96U1vegNA463sc0hN+D+amZmZmZn9P9Sb3vSmNwNAmFxBTK4g/j/iIHp8Fw76P5jOYjqL6fw/qqqqqqqq/T/d3Nzc3NwEQHsUrkfhegZA0HBS9+WxBUDalahdidoFQAAAAAAAYAZAUCMs9zTCB0B7FK5H4XoIQEFUOrJnIAZAdmIndmInBkDzGsprKK8IQAAAAAAAAAhA3/SmN73pC0CogzqogzoIQAAAAAAAAAhATA3sHVMDB0CGYRiGYRgGQL+zUd/ZqAdA4uHh4eFhBUDqOxv1nY0CQDY2NjY2NgZA9DE4H4PzCUCttdZaa60SQAAAAAAAABZAO7ETO7ETFEAUrkfhehQUQJo0adKkSQ9AYid2Yid2CEDT0tLS0tIOQCxkIQtZyApAMVDCG02dB0BiJ3ZiJ3YFQBzHcRzHcQZASZIkSZKkB0BeQ3kN5TUMQA==",
          "dtype": "f8"
         }
        }
       ],
       "layout": {
        "hovermode": "x unified",
        "legend": {
         "title": {
          "text": "Group"
         }
        },
        "template": {
         "data": {
          "bar": [
           {
            "error_x": {
             "color": "#2a3f5f"
            },
            "error_y": {
             "color": "#2a3f5f"
            },
            "marker": {
             "line": {
              "color": "white",
              "width": 0.5
             },
             "pattern": {
              "fillmode": "overlay",
              "size": 10,
              "solidity": 0.2
             }
            },
            "type": "bar"
           }
          ],
          "barpolar": [
           {
            "marker": {
             "line": {
              "color": "white",
              "width": 0.5
             },
             "pattern": {
              "fillmode": "overlay",
              "size": 10,
              "solidity": 0.2
             }
            },
            "type": "barpolar"
           }
          ],
          "carpet": [
           {
            "aaxis": {
             "endlinecolor": "#2a3f5f",
             "gridcolor": "#C8D4E3",
             "linecolor": "#C8D4E3",
             "minorgridcolor": "#C8D4E3",
             "startlinecolor": "#2a3f5f"
            },
            "baxis": {
             "endlinecolor": "#2a3f5f",
             "gridcolor": "#C8D4E3",
             "linecolor": "#C8D4E3",
             "minorgridcolor": "#C8D4E3",
             "startlinecolor": "#2a3f5f"
            },
            "type": "carpet"
           }
          ],
          "choropleth": [
           {
            "colorbar": {
             "outlinewidth": 0,
             "ticks": ""
            },
            "type": "choropleth"
           }
          ],
          "contour": [
           {
            "colorbar": {
             "outlinewidth": 0,
             "ticks": ""
            },
            "colorscale": [
             [
              0,
              "#0d0887"
             ],
             [
              0.1111111111111111,
              "#46039f"
             ],
             [
              0.2222222222222222,
              "#7201a8"
             ],
             [
              0.3333333333333333,
              "#9c179e"
             ],
             [
              0.4444444444444444,
              "#bd3786"
             ],
             [
              0.5555555555555556,
              "#d8576b"
             ],
             [
              0.6666666666666666,
              "#ed7953"
             ],
             [
              0.7777777777777778,
              "#fb9f3a"
             ],
             [
              0.8888888888888888,
              "#fdca26"
             ],
             [
              1,
              "#f0f921"
             ]
            ],
            "type": "contour"
           }
          ],
          "contourcarpet": [
           {
            "colorbar": {
             "outlinewidth": 0,
             "ticks": ""
            },
            "type": "contourcarpet"
           }
          ],
          "heatmap": [
           {
            "colorbar": {
             "outlinewidth": 0,
             "ticks": ""
            },
            "colorscale": [
             [
              0,
              "#0d0887"
             ],
             [
              0.1111111111111111,
              "#46039f"
             ],
             [
              0.2222222222222222,
              "#7201a8"
             ],
             [
              0.3333333333333333,
              "#9c179e"
             ],
             [
              0.4444444444444444,
              "#bd3786"
             ],
             [
              0.5555555555555556,
              "#d8576b"
             ],
             [
              0.6666666666666666,
              "#ed7953"
             ],
             [
              0.7777777777777778,
              "#fb9f3a"
             ],
             [
              0.8888888888888888,
              "#fdca26"
             ],
             [
              1,
              "#f0f921"
             ]
            ],
            "type": "heatmap"
           }
          ],
          "histogram": [
           {
            "marker": {
             "pattern": {
              "fillmode": "overlay",
              "size": 10,
              "solidity": 0.2
             }
            },
            "type": "histogram"
           }
          ],
          "histogram2d": [
           {
            "colorbar": {
             "outlinewidth": 0,
             "ticks": ""
            },
            "colorscale": [
             [
              0,
              "#0d0887"
             ],
             [
              0.1111111111111111,
              "#46039f"
             ],
             [
              0.2222222222222222,
              "#7201a8"
             ],
             [
              0.3333333333333333,
              "#9c179e"
             ],
             [
              0.4444444444444444,
              "#bd3786"
             ],
             [
              0.5555555555555556,
              "#d8576b"
             ],
             [
              0.6666666666666666,
              "#ed7953"
             ],
             [
              0.7777777777777778,
              "#fb9f3a"
             ],
             [
              0.8888888888888888,
              "#fdca26"
             ],
             [
              1,
              "#f0f921"
             ]
            ],
            "type": "histogram2d"
           }
          ],
          "histogram2dcontour": [
           {
            "colorbar": {
             "outlinewidth": 0,
             "ticks": ""
            },
            "colorscale": [
             [
              0,
              "#0d0887"
             ],
             [
              0.1111111111111111,
              "#46039f"
             ],
             [
              0.2222222222222222,
              "#7201a8"
             ],
             [
              0.3333333333333333,
              "#9c179e"
             ],
             [
              0.4444444444444444,
              "#bd3786"
             ],
             [
              0.5555555555555556,
              "#d8576b"
             ],
             [
              0.6666666666666666,
              "#ed7953"
             ],
             [
              0.7777777777777778,
              "#fb9f3a"
             ],
             [
              0.8888888888888888,
              "#fdca26"
             ],
             [
              1,
              "#f0f921"
             ]
            ],
            "type": "histogram2dcontour"
           }
          ],
          "mesh3d": [
           {
            "colorbar": {
             "outlinewidth": 0,
             "ticks": ""
            },
            "type": "mesh3d"
           }
          ],
          "parcoords": [
           {
            "line": {
             "colorbar": {
              "outlinewidth": 0,
              "ticks": ""
             }
            },
            "type": "parcoords"
           }
          ],
          "pie": [
           {
            "automargin": true,
            "type": "pie"
           }
          ],
          "scatter": [
           {
            "fillpattern": {
             "fillmode": "overlay",
             "size": 10,
             "solidity": 0.2
            },
            "type": "scatter"
           }
          ],
          "scatter3d": [
           {
            "line": {
             "colorbar": {
              "outlinewidth": 0,
              "ticks": ""
             }
            },
            "marker": {
             "colorbar": {
              "outlinewidth": 0,
              "ticks": ""
             }
            },
            "type": "scatter3d"
           }
          ],
          "scattercarpet": [
           {
            "marker": {
             "colorbar": {
              "outlinewidth": 0,
              "ticks": ""
             }
            },
            "type": "scattercarpet"
           }
          ],
          "scattergeo": [
           {
            "marker": {
             "colorbar": {
              "outlinewidth": 0,
              "ticks": ""
             }
            },
            "type": "scattergeo"
           }
          ],
          "scattergl": [
           {
            "marker": {
             "colorbar": {
              "outlinewidth": 0,
              "ticks": ""
             }
            },
            "type": "scattergl"
           }
          ],
          "scattermap": [
           {
            "marker": {
             "colorbar": {
              "outlinewidth": 0,
              "ticks": ""
             }
            },
            "type": "scattermap"
           }
          ],
          "scattermapbox": [
           {
            "marker": {
             "colorbar": {
              "outlinewidth": 0,
              "ticks": ""
             }
            },
            "type": "scattermapbox"
           }
          ],
          "scatterpolar": [
           {
            "marker": {
             "colorbar": {
              "outlinewidth": 0,
              "ticks": ""
             }
            },
            "type": "scatterpolar"
           }
          ],
          "scatterpolargl": [
           {
            "marker": {
             "colorbar": {
              "outlinewidth": 0,
              "ticks": ""
             }
            },
            "type": "scatterpolargl"
           }
          ],
          "scatterternary": [
           {
            "marker": {
             "colorbar": {
              "outlinewidth": 0,
              "ticks": ""
             }
            },
            "type": "scatterternary"
           }
          ],
          "surface": [
           {
            "colorbar": {
             "outlinewidth": 0,
             "ticks": ""
            },
            "colorscale": [
             [
              0,
              "#0d0887"
             ],
             [
              0.1111111111111111,
              "#46039f"
             ],
             [
              0.2222222222222222,
              "#7201a8"
             ],
             [
              0.3333333333333333,
              "#9c179e"
             ],
             [
              0.4444444444444444,
              "#bd3786"
             ],
             [
              0.5555555555555556,
              "#d8576b"
             ],
             [
              0.6666666666666666,
              "#ed7953"
             ],
             [
              0.7777777777777778,
              "#fb9f3a"
             ],
             [
              0.8888888888888888,
              "#fdca26"
             ],
             [
              1,
              "#f0f921"
             ]
            ],
            "type": "surface"
           }
          ],
          "table": [
           {
            "cells": {
             "fill": {
              "color": "#EBF0F8"
             },
             "line": {
              "color": "white"
             }
            },
            "header": {
             "fill": {
              "color": "#C8D4E3"
             },
             "line": {
              "color": "white"
             }
            },
            "type": "table"
           }
          ]
         },
         "layout": {
          "annotationdefaults": {
           "arrowcolor": "#2a3f5f",
           "arrowhead": 0,
           "arrowwidth": 1
          },
          "autotypenumbers": "strict",
          "coloraxis": {
           "colorbar": {
            "outlinewidth": 0,
            "ticks": ""
           }
          },
          "colorscale": {
           "diverging": [
            [
             0,
             "#8e0152"
            ],
            [
             0.1,
             "#c51b7d"
            ],
            [
             0.2,
             "#de77ae"
            ],
            [
             0.3,
             "#f1b6da"
            ],
            [
             0.4,
             "#fde0ef"
            ],
            [
             0.5,
             "#f7f7f7"
            ],
            [
             0.6,
             "#e6f5d0"
            ],
            [
             0.7,
             "#b8e186"
            ],
            [
             0.8,
             "#7fbc41"
            ],
            [
             0.9,
             "#4d9221"
            ],
            [
             1,
             "#276419"
            ]
           ],
           "sequential": [
            [
             0,
             "#0d0887"
            ],
            [
             0.1111111111111111,
             "#46039f"
            ],
            [
             0.2222222222222222,
             "#7201a8"
            ],
            [
             0.3333333333333333,
             "#9c179e"
            ],
            [
             0.4444444444444444,
             "#bd3786"
            ],
            [
             0.5555555555555556,
             "#d8576b"
            ],
            [
             0.6666666666666666,
             "#ed7953"
            ],
            [
             0.7777777777777778,
             "#fb9f3a"
            ],
            [
             0.8888888888888888,
             "#fdca26"
            ],
            [
             1,
             "#f0f921"
            ]
           ],
           "sequentialminus": [
            [
             0,
             "#0d0887"
            ],
            [
             0.1111111111111111,
             "#46039f"
            ],
            [
             0.2222222222222222,
             "#7201a8"
            ],
            [
             0.3333333333333333,
             "#9c179e"
            ],
            [
             0.4444444444444444,
             "#bd3786"
            ],
            [
             0.5555555555555556,
             "#d8576b"
            ],
            [
             0.6666666666666666,
             "#ed7953"
            ],
            [
             0.7777777777777778,
             "#fb9f3a"
            ],
            [
             0.8888888888888888,
             "#fdca26"
            ],
            [
             1,
             "#f0f921"
            ]
           ]
          },
          "colorway": [
           "#636efa",
           "#EF553B",
           "#00cc96",
           "#ab63fa",
           "#FFA15A",
           "#19d3f3",
           "#FF6692",
           "#B6E880",
           "#FF97FF",
           "#FECB52"
          ],
          "font": {
           "color": "#2a3f5f"
          },
          "geo": {
           "bgcolor": "white",
           "lakecolor": "white",
           "landcolor": "white",
           "showlakes": true,
           "showland": true,
           "subunitcolor": "#C8D4E3"
          },
          "hoverlabel": {
           "align": "left"
          },
          "hovermode": "closest",
          "mapbox": {
           "style": "light"
          },
          "paper_bgcolor": "white",
          "plot_bgcolor": "white",
          "polar": {
           "angularaxis": {
            "gridcolor": "#EBF0F8",
            "linecolor": "#EBF0F8",
            "ticks": ""
           },
           "bgcolor": "white",
           "radialaxis": {
            "gridcolor": "#EBF0F8",
            "linecolor": "#EBF0F8",
            "ticks": ""
           }
          },
          "scene": {
           "xaxis": {
            "backgroundcolor": "white",
            "gridcolor": "#DFE8F3",
            "gridwidth": 2,
            "linecolor": "#EBF0F8",
            "showbackground": true,
            "ticks": "",
            "zerolinecolor": "#EBF0F8"
           },
           "yaxis": {
            "backgroundcolor": "white",
            "gridcolor": "#DFE8F3",
            "gridwidth": 2,
            "linecolor": "#EBF0F8",
            "showbackground": true,
            "ticks": "",
            "zerolinecolor": "#EBF0F8"
           },
           "zaxis": {
            "backgroundcolor": "white",
            "gridcolor": "#DFE8F3",
            "gridwidth": 2,
            "linecolor": "#EBF0F8",
            "showbackground": true,
            "ticks": "",
            "zerolinecolor": "#EBF0F8"
           }
          },
          "shapedefaults": {
           "line": {
            "color": "#2a3f5f"
           }
          },
          "ternary": {
           "aaxis": {
            "gridcolor": "#DFE8F3",
            "linecolor": "#A2B1C6",
            "ticks": ""
           },
           "baxis": {
            "gridcolor": "#DFE8F3",
            "linecolor": "#A2B1C6",
            "ticks": ""
           },
           "bgcolor": "white",
           "caxis": {
            "gridcolor": "#DFE8F3",
            "linecolor": "#A2B1C6",
            "ticks": ""
           }
          },
          "title": {
           "x": 0.05
          },
          "xaxis": {
           "automargin": true,
           "gridcolor": "#EBF0F8",
           "linecolor": "#EBF0F8",
           "ticks": "",
           "title": {
            "standoff": 15
           },
           "zerolinecolor": "#EBF0F8",
           "zerolinewidth": 2
          },
          "yaxis": {
           "automargin": true,
           "gridcolor": "#EBF0F8",
           "linecolor": "#EBF0F8",
           "ticks": "",
           "title": {
            "standoff": 15
           },
           "zerolinecolor": "#EBF0F8",
           "zerolinewidth": 2
          }
         }
        },
        "title": {
         "text": "1 year ahead inflation expectations by region"
        },
        "xaxis": {
         "title": {
          "text": "Quarter"
         }
        },
        "yaxis": {
         "title": {
          "text": "Grouped Median (Interpolated)"
         }
        }
       }
      }
     },
     "metadata": {},
     "output_type": "display_data"
    }
   ],
   "source": [
    "sreg_bands = {\n",
    "    \"1\": \"Scotland\",\n",
    "    \"2\": \"North & NI\",\n",
    "    \"3\": \"Midlands\",\n",
    "    \"4\": \"Wales and West\",\n",
    "    \"5\": \"South East\"\n",
    "}\n",
    "\n",
    "\n",
    "plot_question_medians(median_dfs[0], sreg_bands, '1 year ahead inflation expectations by region')"
   ]
  },
  {
   "cell_type": "code",
   "execution_count": 31,
   "metadata": {},
   "outputs": [
    {
     "data": {
      "application/vnd.plotly.v1+json": {
       "config": {
        "plotlyServerURL": "https://plot.ly"
       },
       "data": [
        {
         "mode": "lines+markers",
         "name": "Owned outright",
         "type": "scatter",
         "x": [
          "2009-01-01T00:00:00.000000",
          "2009-04-01T00:00:00.000000",
          "2009-07-01T00:00:00.000000",
          "2009-10-01T00:00:00.000000",
          "2010-01-01T00:00:00.000000",
          "2010-04-01T00:00:00.000000",
          "2010-07-01T00:00:00.000000",
          "2010-10-01T00:00:00.000000",
          "2011-01-01T00:00:00.000000",
          "2011-04-01T00:00:00.000000",
          "2011-07-01T00:00:00.000000",
          "2011-10-01T00:00:00.000000",
          "2012-01-01T00:00:00.000000",
          "2012-04-01T00:00:00.000000",
          "2012-07-01T00:00:00.000000",
          "2012-10-01T00:00:00.000000",
          "2013-01-01T00:00:00.000000",
          "2013-04-01T00:00:00.000000",
          "2013-07-01T00:00:00.000000",
          "2013-10-01T00:00:00.000000",
          "2014-01-01T00:00:00.000000",
          "2014-04-01T00:00:00.000000",
          "2014-07-01T00:00:00.000000",
          "2014-10-01T00:00:00.000000",
          "2015-01-01T00:00:00.000000",
          "2015-04-01T00:00:00.000000",
          "2015-07-01T00:00:00.000000",
          "2015-10-01T00:00:00.000000",
          "2016-01-01T00:00:00.000000",
          "2016-04-01T00:00:00.000000",
          "2016-07-01T00:00:00.000000",
          "2016-10-01T00:00:00.000000",
          "2017-01-01T00:00:00.000000",
          "2017-04-01T00:00:00.000000",
          "2017-07-01T00:00:00.000000",
          "2017-10-01T00:00:00.000000",
          "2018-01-01T00:00:00.000000",
          "2018-04-01T00:00:00.000000",
          "2018-07-01T00:00:00.000000",
          "2018-10-01T00:00:00.000000",
          "2019-01-01T00:00:00.000000",
          "2019-04-01T00:00:00.000000",
          "2019-07-01T00:00:00.000000",
          "2019-10-01T00:00:00.000000",
          "2020-01-01T00:00:00.000000",
          "2020-04-01T00:00:00.000000",
          "2020-07-01T00:00:00.000000",
          "2020-10-01T00:00:00.000000",
          "2021-01-01T00:00:00.000000",
          "2021-04-01T00:00:00.000000",
          "2021-07-01T00:00:00.000000",
          "2021-10-01T00:00:00.000000",
          "2022-01-01T00:00:00.000000",
          "2022-04-01T00:00:00.000000",
          "2022-07-01T00:00:00.000000",
          "2022-10-01T00:00:00.000000",
          "2023-01-01T00:00:00.000000",
          "2023-04-01T00:00:00.000000",
          "2023-07-01T00:00:00.000000",
          "2023-10-01T00:00:00.000000",
          "2024-01-01T00:00:00.000000",
          "2024-04-01T00:00:00.000000",
          "2024-07-01T00:00:00.000000",
          "2024-10-01T00:00:00.000000",
          "2025-01-01T00:00:00.000000"
         ],
         "y": {
          "bdata": "ZmZmZmZm/T8bymsor6ECQJTXUF5Def0/KaWUUkopAUDc0wjLPY38P4X2EtpLaAdAmNBeQnsJCUB00UUXXXQJQHkN5TWU1wpAAAAAAAAACEDv7u7u7u4KQEtLS0tLSwtAsRM7sRM7BkDYUF5DeQ0JQL7lW77lWwZAVVVVVVVVBkDe9KY3vekFQE/sxE7sxAhAOY7jOI7jB0CrqqqqqqoKQLuFX42J9ARApze96U1vAkCjiy666KIDQBljjDHGGANAvoT2EtpLAEAuuuiiiy4CQPEVX/EVXwFACu0ltJfQ/j9VVVVVVVUBQKuqqqqqqgFAq6qqqqqqAkC8u7u7u7sFQO/u7u7u7gdARERERERECEDNzMzMzMwIQNu2bdu2bQlAchzHcRzHCUCvobyG8hoKQDrnnHPOOQdAnN70pje9CUDRRRdddNEJQFVVVVVV1QtAq6qqqqqqDkDHcRzHcRwLQPyMEj+jxAdAT+zETuzEAkBVVVVVVdUBQMs9jbDc0wBAvqAv6Av6AkC0tLS0tLT8P6OLLrroogNAjuM4juM4BEAhC1nIQhYKQAAAAAAAgAlAmpmZmZmZCECXlpaWlpYKQCyIyRXE5ApAMQzDMAzDBEDHcRzHcRwJQEtLS0tLSwNApze96U1vCEDkOI7jOI4FQDBFPusGUwRAq6qqqqqqB0DHcRzHcRwJQA==",
          "dtype": "f8"
         }
        },
        {
         "mode": "lines+markers",
         "name": "Council Rent",
         "type": "scatter",
         "x": [
          "2009-01-01T00:00:00.000000",
          "2009-04-01T00:00:00.000000",
          "2009-07-01T00:00:00.000000",
          "2009-10-01T00:00:00.000000",
          "2010-01-01T00:00:00.000000",
          "2010-04-01T00:00:00.000000",
          "2010-07-01T00:00:00.000000",
          "2010-10-01T00:00:00.000000",
          "2011-01-01T00:00:00.000000",
          "2011-04-01T00:00:00.000000",
          "2011-07-01T00:00:00.000000",
          "2011-10-01T00:00:00.000000",
          "2012-01-01T00:00:00.000000",
          "2012-04-01T00:00:00.000000",
          "2012-07-01T00:00:00.000000",
          "2012-10-01T00:00:00.000000",
          "2013-01-01T00:00:00.000000",
          "2013-04-01T00:00:00.000000",
          "2013-07-01T00:00:00.000000",
          "2013-10-01T00:00:00.000000",
          "2014-01-01T00:00:00.000000",
          "2014-04-01T00:00:00.000000",
          "2014-07-01T00:00:00.000000",
          "2014-10-01T00:00:00.000000",
          "2015-01-01T00:00:00.000000",
          "2015-04-01T00:00:00.000000",
          "2015-07-01T00:00:00.000000",
          "2015-10-01T00:00:00.000000",
          "2016-01-01T00:00:00.000000",
          "2016-04-01T00:00:00.000000",
          "2016-07-01T00:00:00.000000",
          "2016-10-01T00:00:00.000000",
          "2017-01-01T00:00:00.000000",
          "2017-04-01T00:00:00.000000",
          "2017-07-01T00:00:00.000000",
          "2017-10-01T00:00:00.000000",
          "2018-01-01T00:00:00.000000",
          "2018-04-01T00:00:00.000000",
          "2018-07-01T00:00:00.000000",
          "2018-10-01T00:00:00.000000",
          "2019-01-01T00:00:00.000000",
          "2019-04-01T00:00:00.000000",
          "2019-07-01T00:00:00.000000",
          "2019-10-01T00:00:00.000000",
          "2020-01-01T00:00:00.000000",
          "2020-04-01T00:00:00.000000",
          "2020-07-01T00:00:00.000000",
          "2020-10-01T00:00:00.000000",
          "2021-01-01T00:00:00.000000",
          "2021-04-01T00:00:00.000000",
          "2021-07-01T00:00:00.000000",
          "2021-10-01T00:00:00.000000",
          "2022-01-01T00:00:00.000000",
          "2022-04-01T00:00:00.000000",
          "2022-07-01T00:00:00.000000",
          "2022-10-01T00:00:00.000000",
          "2023-01-01T00:00:00.000000",
          "2023-04-01T00:00:00.000000",
          "2023-07-01T00:00:00.000000",
          "2023-10-01T00:00:00.000000",
          "2024-01-01T00:00:00.000000",
          "2024-04-01T00:00:00.000000",
          "2024-07-01T00:00:00.000000",
          "2024-10-01T00:00:00.000000",
          "2025-01-01T00:00:00.000000"
         ],
         "y": {
          "bdata": "uSPuiDviAEDWDabIZ90AQAUxuYKYXAFA9ihcj8L1BED+cMDjDwcEQDXCck8jLAdAQh3UQR3UB0DqTW9605sMQCh2Yid2YgxAF1100UUXDUBvetOb3vQKQGppaWlpaQ1AkiRJkiRJDECkcD0K16MMQJqZmZmZmQpA6k1vetObDEDlCmJyBTEPQA3SIA3SIA1AJ3ZiJ3ZiCUBmZmZmZmYKQKDikiFYRwdAkYUsZCELBUB605ve9KYJQHhMDewdUwNAaAqBphBoAkAAAAAAAAAEQG8wRT7rBgNACcs9jbDcAUAM+oK+oC8AQGt+WKQMPAFAq6qqqqqqAUCSkZGRkZEDQMb60FgfGgVAjC666KKLBEBOzYPc9bMFQKB++umnnwZAfsPaN6x9B0Bedtlll10GQNgeclkxUAZAAAAAAACABkAxDMMwDEMHQAK1fqVArQdAc3YLvxoTCUBXG0PTHewHQEzNhv1dDAZAkvOyiE8g/T80EJWO7BkAQBzHcRzH8QBAQnsJ7SU0AUBg0Bf0BX39P5qZmZmZ2QFA7vrZYmX4AkD3WMvQAbsJQOd9ikuGYAlAIYQQQgghCkA9z/M8z/MMQAfPESjaaghAKVyPwvUoBEAAAAAAADAFQGjdYIp81gVAPBv1nY36BkCxEzuxE7sEQPRJn/RJnwRAKDDp1DzIBUC9evXq1asJQA==",
          "dtype": "f8"
         }
        },
        {
         "mode": "lines+markers",
         "name": "5",
         "type": "scatter",
         "x": [
          "2009-01-01T00:00:00.000000",
          "2009-04-01T00:00:00.000000",
          "2009-07-01T00:00:00.000000",
          "2009-10-01T00:00:00.000000",
          "2010-01-01T00:00:00.000000",
          "2010-04-01T00:00:00.000000",
          "2010-07-01T00:00:00.000000",
          "2010-10-01T00:00:00.000000",
          "2011-01-01T00:00:00.000000",
          "2011-04-01T00:00:00.000000",
          "2011-07-01T00:00:00.000000",
          "2011-10-01T00:00:00.000000",
          "2012-01-01T00:00:00.000000",
          "2012-04-01T00:00:00.000000",
          "2012-07-01T00:00:00.000000",
          "2012-10-01T00:00:00.000000",
          "2013-01-01T00:00:00.000000",
          "2013-04-01T00:00:00.000000",
          "2013-07-01T00:00:00.000000",
          "2013-10-01T00:00:00.000000",
          "2014-01-01T00:00:00.000000",
          "2014-04-01T00:00:00.000000",
          "2014-07-01T00:00:00.000000",
          "2014-10-01T00:00:00.000000",
          "2015-01-01T00:00:00.000000",
          "2015-04-01T00:00:00.000000",
          "2015-07-01T00:00:00.000000",
          "2015-10-01T00:00:00.000000",
          "2016-01-01T00:00:00.000000",
          "2016-04-01T00:00:00.000000",
          "2016-07-01T00:00:00.000000",
          "2016-10-01T00:00:00.000000",
          "2017-01-01T00:00:00.000000",
          "2017-04-01T00:00:00.000000",
          "2017-07-01T00:00:00.000000",
          "2017-10-01T00:00:00.000000",
          "2018-01-01T00:00:00.000000",
          "2018-04-01T00:00:00.000000",
          "2018-07-01T00:00:00.000000",
          "2018-10-01T00:00:00.000000",
          "2019-01-01T00:00:00.000000",
          "2019-04-01T00:00:00.000000",
          "2019-07-01T00:00:00.000000",
          "2019-10-01T00:00:00.000000",
          "2020-01-01T00:00:00.000000",
          "2020-04-01T00:00:00.000000",
          "2020-07-01T00:00:00.000000",
          "2020-10-01T00:00:00.000000",
          "2021-01-01T00:00:00.000000",
          "2021-04-01T00:00:00.000000",
          "2021-07-01T00:00:00.000000",
          "2021-10-01T00:00:00.000000",
          "2022-01-01T00:00:00.000000",
          "2022-04-01T00:00:00.000000",
          "2022-07-01T00:00:00.000000",
          "2022-10-01T00:00:00.000000",
          "2023-01-01T00:00:00.000000",
          "2023-04-01T00:00:00.000000",
          "2023-07-01T00:00:00.000000",
          "2023-10-01T00:00:00.000000",
          "2024-01-01T00:00:00.000000",
          "2024-04-01T00:00:00.000000",
          "2024-07-01T00:00:00.000000",
          "2024-10-01T00:00:00.000000",
          "2025-01-01T00:00:00.000000"
         ],
         "y": {
          "bdata": "cD4G52Nw/j+DwWAwGAwCQIwuuuiiiwFAzczMzMzMAkDaoMmXDZoEQHaM4lzHKAZAzzKiD6iOBUAF463sc0gHQPIaymsorwlAiHG/Lql8CEApXI/C9SgLQB6Yawfm2glAJBPonbqWBUCDNEiDNEgJQHTRRRdd9AVAcwpeTsHLB0C6fWX1LnkMQKuqqqqqagpANNaHxvrQCEDmSWQatpsJQFdye35/KgZAyOB8DM7HBECPvbVhmrsEQLdt27ZtGwVAa114Qq7WAUDP8zzP8zwDQKApBJpCoAFAtedk+iphBEC2WBm+EQUCQLKQhSxkIQRAFKEIRShCAUD2W20MTXcEQI7G5WhcjgZAZGRkZGRkBkDsZ4uV4RsFQK4gJlcQkwdAujU/LFIGCEDDMAzDMAwIQLPLLrvssgdAZmZmZmZmCEAJ5JoI5JoIQLIyfCMKTAZAAAAAAAAACEBeQ3kN5TUIQAAAAAAAAAhACYzACIzAAEB+fn5+fn4CQAAAAAAAwABA0NBn6DP0AUB5gUyKF8gAQKuqqqqqKgJAbtu2bdu2A0DtIZcVAyUIQFDCG02dXwtAWO5phOWeCkCXDME62rwLQP0F9BfQXwhAoQ7qoA7qBkAoxFn5CXEGQGZmZmZmZgZAHRX44uoHB0DmSWQatpsFQBhvZZ9DagRAKK+hvIbyBkAtLS0tLS0JQA==",
          "dtype": "f8"
         }
        },
        {
         "mode": "lines+markers",
         "name": "Mortgage",
         "type": "scatter",
         "x": [
          "2009-01-01T00:00:00.000000",
          "2009-04-01T00:00:00.000000",
          "2009-07-01T00:00:00.000000",
          "2009-10-01T00:00:00.000000",
          "2010-01-01T00:00:00.000000",
          "2010-04-01T00:00:00.000000",
          "2010-07-01T00:00:00.000000",
          "2010-10-01T00:00:00.000000",
          "2011-01-01T00:00:00.000000",
          "2011-04-01T00:00:00.000000",
          "2011-07-01T00:00:00.000000",
          "2011-10-01T00:00:00.000000",
          "2012-01-01T00:00:00.000000",
          "2012-04-01T00:00:00.000000",
          "2012-07-01T00:00:00.000000",
          "2012-10-01T00:00:00.000000",
          "2013-01-01T00:00:00.000000",
          "2013-04-01T00:00:00.000000",
          "2013-07-01T00:00:00.000000",
          "2013-10-01T00:00:00.000000",
          "2014-01-01T00:00:00.000000",
          "2014-04-01T00:00:00.000000",
          "2014-07-01T00:00:00.000000",
          "2014-10-01T00:00:00.000000",
          "2015-01-01T00:00:00.000000",
          "2015-04-01T00:00:00.000000",
          "2015-07-01T00:00:00.000000",
          "2015-10-01T00:00:00.000000",
          "2016-01-01T00:00:00.000000",
          "2016-04-01T00:00:00.000000",
          "2016-07-01T00:00:00.000000",
          "2016-10-01T00:00:00.000000",
          "2017-01-01T00:00:00.000000",
          "2017-04-01T00:00:00.000000",
          "2017-07-01T00:00:00.000000",
          "2017-10-01T00:00:00.000000",
          "2018-01-01T00:00:00.000000",
          "2018-04-01T00:00:00.000000",
          "2018-07-01T00:00:00.000000",
          "2018-10-01T00:00:00.000000",
          "2019-01-01T00:00:00.000000",
          "2019-04-01T00:00:00.000000",
          "2019-07-01T00:00:00.000000",
          "2019-10-01T00:00:00.000000",
          "2020-01-01T00:00:00.000000",
          "2020-04-01T00:00:00.000000",
          "2020-07-01T00:00:00.000000",
          "2020-10-01T00:00:00.000000",
          "2021-01-01T00:00:00.000000",
          "2021-04-01T00:00:00.000000",
          "2021-07-01T00:00:00.000000",
          "2021-10-01T00:00:00.000000",
          "2022-01-01T00:00:00.000000",
          "2022-04-01T00:00:00.000000",
          "2022-07-01T00:00:00.000000",
          "2022-10-01T00:00:00.000000",
          "2023-01-01T00:00:00.000000",
          "2023-04-01T00:00:00.000000",
          "2023-07-01T00:00:00.000000",
          "2023-10-01T00:00:00.000000",
          "2024-01-01T00:00:00.000000",
          "2024-04-01T00:00:00.000000",
          "2024-07-01T00:00:00.000000",
          "2024-10-01T00:00:00.000000",
          "2025-01-01T00:00:00.000000"
         ],
         "y": {
          "bdata": "YIgVpfGRAUAuuuiiiy4CQBdddNFFFwJAbGxsbGxsAEAHaZAGaZABQBiGYRiGYQVA1EEd1EEdCEDijrgj7ogLQAzBOtq8Tw1A89iKoOGkCkDtc0hNMN4OQIaTui+PrQxAt3hyiye3CEBddNFFF10MQMwuu+yyywZAcT0K16NwCUBNvmzQ5MsKQEhwH8F9BAtAs2XLli1bCkC0l9BeQnsNQNuFMNuFMAdAfvSjH/3oA0Afg/MxOB8HQKOLLrroIgRAO7ETO7ETAkDd0wjLPY0CQBnRB1TH3gJANu0nS2DT/j8tLS0tLS0BQH/u537u5wJAWqAFWqAFAkBSGZVRGZUFQNuBuXZgrgVAFK5H4XoUB0Ce8YxnPOMFQEmSJEmSJAdAb5YnkWnYBkBu27Zt27YHQE422WSTTQpApza1qU1tBkDohV7ohV4IQGZmZmZmZglA2jr0m61DB0AQOirwxdUHQFWuO15sCQZAnlpY6amF/T/LT4iz8hMCQA1EpSN7BgJAO5VHB97zAUCOQNFWg+cAQCEmVxCTKwJAonYlaleiBEDsuq7ruq4LQCAIgiAIggxA55xzzjnnCkCxEzuxEzsNQBdddNFFFwlAAAAAAAAABEBZyEIWspAFQMhWBA0ndQdAbHO6yjPxBUCOoekO9lsFQF4Z2+/olQVAcl4W8QmkBkDOOeecc84JQA==",
          "dtype": "f8"
         }
        },
        {
         "mode": "lines+markers",
         "name": "Other",
         "type": "scatter",
         "x": [
          "2009-01-01T00:00:00.000000",
          "2009-04-01T00:00:00.000000",
          "2009-07-01T00:00:00.000000",
          "2009-10-01T00:00:00.000000",
          "2010-01-01T00:00:00.000000",
          "2010-04-01T00:00:00.000000",
          "2010-07-01T00:00:00.000000",
          "2010-10-01T00:00:00.000000",
          "2011-01-01T00:00:00.000000",
          "2011-04-01T00:00:00.000000",
          "2011-07-01T00:00:00.000000",
          "2011-10-01T00:00:00.000000",
          "2012-01-01T00:00:00.000000",
          "2012-04-01T00:00:00.000000",
          "2012-07-01T00:00:00.000000",
          "2012-10-01T00:00:00.000000",
          "2013-01-01T00:00:00.000000",
          "2013-04-01T00:00:00.000000",
          "2013-07-01T00:00:00.000000",
          "2013-10-01T00:00:00.000000",
          "2014-01-01T00:00:00.000000",
          "2014-04-01T00:00:00.000000",
          "2014-07-01T00:00:00.000000",
          "2014-10-01T00:00:00.000000",
          "2015-01-01T00:00:00.000000",
          "2015-04-01T00:00:00.000000",
          "2015-07-01T00:00:00.000000",
          "2015-10-01T00:00:00.000000",
          "2016-01-01T00:00:00.000000",
          "2016-04-01T00:00:00.000000",
          "2016-07-01T00:00:00.000000",
          "2016-10-01T00:00:00.000000",
          "2017-01-01T00:00:00.000000",
          "2017-04-01T00:00:00.000000",
          "2017-07-01T00:00:00.000000",
          "2017-10-01T00:00:00.000000",
          "2018-01-01T00:00:00.000000",
          "2018-04-01T00:00:00.000000",
          "2018-07-01T00:00:00.000000",
          "2018-10-01T00:00:00.000000",
          "2019-01-01T00:00:00.000000",
          "2019-04-01T00:00:00.000000",
          "2019-07-01T00:00:00.000000",
          "2019-10-01T00:00:00.000000",
          "2020-01-01T00:00:00.000000",
          "2020-04-01T00:00:00.000000",
          "2020-07-01T00:00:00.000000",
          "2020-10-01T00:00:00.000000",
          "2021-01-01T00:00:00.000000",
          "2021-04-01T00:00:00.000000",
          "2021-07-01T00:00:00.000000",
          "2021-10-01T00:00:00.000000",
          "2022-01-01T00:00:00.000000",
          "2022-04-01T00:00:00.000000",
          "2022-07-01T00:00:00.000000",
          "2022-10-01T00:00:00.000000",
          "2023-01-01T00:00:00.000000",
          "2023-04-01T00:00:00.000000",
          "2023-07-01T00:00:00.000000",
          "2023-10-01T00:00:00.000000",
          "2024-01-01T00:00:00.000000",
          "2024-04-01T00:00:00.000000",
          "2024-07-01T00:00:00.000000",
          "2024-10-01T00:00:00.000000",
          "2025-01-01T00:00:00.000000"
         ],
         "y": {
          "bdata": "7Ovr6+vr+z/poosuuugCQIZhGIZhGAJA8hrKayivA0D2KFyPwvUDQHh4eHh4eAhAwcspeDkFB0DkOI7jOI4KQAAAAAAAAAtA2qjvbNR3BkCKfNYNpsgLQJGFLGQhCw1A6aKLLrroCkCSJEmSJEkLQBvKayivoQhACe0ltJfQEEBRXkN5DeULQDMzMzMzMwlAIiIiIiIiCEBba6211loPQAAAAAAAQAZAOY7jOI7jBUAAAAAAAAAHQClcj8L1KARAZsuWLVu2AECO4ziO4zj+P8MwDMMwDAVAU9aUNWVNAUCrqqqqqioAQMMwDMMwDP8/r0TtStSu/D+n4OUUvJwCQEg/+tGPfgRAKCgoKCgoBEB877333nsDQKuqqqqqqgRAkiRJkiRJBkDyGsprKK8HQLyVfQ6pCQZAoryG8hrKA0BRXkN5DeUFQB4eHh4eHgZAzCl4OQUvB0C3bdu2bdsDQAAAAAAAAAZAnXPOOeec+z8cx3Ecx3H8P0MWspCFLAJAi+ksprOYAED29fX19fX9P9u2bdu2bQFAPzTWh8b6BEBOb3rTm94IQHZiJ3ZiJw5AZmZmZmZmDEDtJbSX0F4KQAAAAAAAAAZAWlpaWlpaAEBEREREREQIQLdt27Zt2wVAYPqlX/qlA0A2lNdQXkMFQEFBQUFBQQVAN5gin3WDCUCjiy666CIKQA==",
          "dtype": "f8"
         }
        }
       ],
       "layout": {
        "hovermode": "x unified",
        "legend": {
         "title": {
          "text": "Group"
         }
        },
        "template": {
         "data": {
          "bar": [
           {
            "error_x": {
             "color": "#2a3f5f"
            },
            "error_y": {
             "color": "#2a3f5f"
            },
            "marker": {
             "line": {
              "color": "white",
              "width": 0.5
             },
             "pattern": {
              "fillmode": "overlay",
              "size": 10,
              "solidity": 0.2
             }
            },
            "type": "bar"
           }
          ],
          "barpolar": [
           {
            "marker": {
             "line": {
              "color": "white",
              "width": 0.5
             },
             "pattern": {
              "fillmode": "overlay",
              "size": 10,
              "solidity": 0.2
             }
            },
            "type": "barpolar"
           }
          ],
          "carpet": [
           {
            "aaxis": {
             "endlinecolor": "#2a3f5f",
             "gridcolor": "#C8D4E3",
             "linecolor": "#C8D4E3",
             "minorgridcolor": "#C8D4E3",
             "startlinecolor": "#2a3f5f"
            },
            "baxis": {
             "endlinecolor": "#2a3f5f",
             "gridcolor": "#C8D4E3",
             "linecolor": "#C8D4E3",
             "minorgridcolor": "#C8D4E3",
             "startlinecolor": "#2a3f5f"
            },
            "type": "carpet"
           }
          ],
          "choropleth": [
           {
            "colorbar": {
             "outlinewidth": 0,
             "ticks": ""
            },
            "type": "choropleth"
           }
          ],
          "contour": [
           {
            "colorbar": {
             "outlinewidth": 0,
             "ticks": ""
            },
            "colorscale": [
             [
              0,
              "#0d0887"
             ],
             [
              0.1111111111111111,
              "#46039f"
             ],
             [
              0.2222222222222222,
              "#7201a8"
             ],
             [
              0.3333333333333333,
              "#9c179e"
             ],
             [
              0.4444444444444444,
              "#bd3786"
             ],
             [
              0.5555555555555556,
              "#d8576b"
             ],
             [
              0.6666666666666666,
              "#ed7953"
             ],
             [
              0.7777777777777778,
              "#fb9f3a"
             ],
             [
              0.8888888888888888,
              "#fdca26"
             ],
             [
              1,
              "#f0f921"
             ]
            ],
            "type": "contour"
           }
          ],
          "contourcarpet": [
           {
            "colorbar": {
             "outlinewidth": 0,
             "ticks": ""
            },
            "type": "contourcarpet"
           }
          ],
          "heatmap": [
           {
            "colorbar": {
             "outlinewidth": 0,
             "ticks": ""
            },
            "colorscale": [
             [
              0,
              "#0d0887"
             ],
             [
              0.1111111111111111,
              "#46039f"
             ],
             [
              0.2222222222222222,
              "#7201a8"
             ],
             [
              0.3333333333333333,
              "#9c179e"
             ],
             [
              0.4444444444444444,
              "#bd3786"
             ],
             [
              0.5555555555555556,
              "#d8576b"
             ],
             [
              0.6666666666666666,
              "#ed7953"
             ],
             [
              0.7777777777777778,
              "#fb9f3a"
             ],
             [
              0.8888888888888888,
              "#fdca26"
             ],
             [
              1,
              "#f0f921"
             ]
            ],
            "type": "heatmap"
           }
          ],
          "histogram": [
           {
            "marker": {
             "pattern": {
              "fillmode": "overlay",
              "size": 10,
              "solidity": 0.2
             }
            },
            "type": "histogram"
           }
          ],
          "histogram2d": [
           {
            "colorbar": {
             "outlinewidth": 0,
             "ticks": ""
            },
            "colorscale": [
             [
              0,
              "#0d0887"
             ],
             [
              0.1111111111111111,
              "#46039f"
             ],
             [
              0.2222222222222222,
              "#7201a8"
             ],
             [
              0.3333333333333333,
              "#9c179e"
             ],
             [
              0.4444444444444444,
              "#bd3786"
             ],
             [
              0.5555555555555556,
              "#d8576b"
             ],
             [
              0.6666666666666666,
              "#ed7953"
             ],
             [
              0.7777777777777778,
              "#fb9f3a"
             ],
             [
              0.8888888888888888,
              "#fdca26"
             ],
             [
              1,
              "#f0f921"
             ]
            ],
            "type": "histogram2d"
           }
          ],
          "histogram2dcontour": [
           {
            "colorbar": {
             "outlinewidth": 0,
             "ticks": ""
            },
            "colorscale": [
             [
              0,
              "#0d0887"
             ],
             [
              0.1111111111111111,
              "#46039f"
             ],
             [
              0.2222222222222222,
              "#7201a8"
             ],
             [
              0.3333333333333333,
              "#9c179e"
             ],
             [
              0.4444444444444444,
              "#bd3786"
             ],
             [
              0.5555555555555556,
              "#d8576b"
             ],
             [
              0.6666666666666666,
              "#ed7953"
             ],
             [
              0.7777777777777778,
              "#fb9f3a"
             ],
             [
              0.8888888888888888,
              "#fdca26"
             ],
             [
              1,
              "#f0f921"
             ]
            ],
            "type": "histogram2dcontour"
           }
          ],
          "mesh3d": [
           {
            "colorbar": {
             "outlinewidth": 0,
             "ticks": ""
            },
            "type": "mesh3d"
           }
          ],
          "parcoords": [
           {
            "line": {
             "colorbar": {
              "outlinewidth": 0,
              "ticks": ""
             }
            },
            "type": "parcoords"
           }
          ],
          "pie": [
           {
            "automargin": true,
            "type": "pie"
           }
          ],
          "scatter": [
           {
            "fillpattern": {
             "fillmode": "overlay",
             "size": 10,
             "solidity": 0.2
            },
            "type": "scatter"
           }
          ],
          "scatter3d": [
           {
            "line": {
             "colorbar": {
              "outlinewidth": 0,
              "ticks": ""
             }
            },
            "marker": {
             "colorbar": {
              "outlinewidth": 0,
              "ticks": ""
             }
            },
            "type": "scatter3d"
           }
          ],
          "scattercarpet": [
           {
            "marker": {
             "colorbar": {
              "outlinewidth": 0,
              "ticks": ""
             }
            },
            "type": "scattercarpet"
           }
          ],
          "scattergeo": [
           {
            "marker": {
             "colorbar": {
              "outlinewidth": 0,
              "ticks": ""
             }
            },
            "type": "scattergeo"
           }
          ],
          "scattergl": [
           {
            "marker": {
             "colorbar": {
              "outlinewidth": 0,
              "ticks": ""
             }
            },
            "type": "scattergl"
           }
          ],
          "scattermap": [
           {
            "marker": {
             "colorbar": {
              "outlinewidth": 0,
              "ticks": ""
             }
            },
            "type": "scattermap"
           }
          ],
          "scattermapbox": [
           {
            "marker": {
             "colorbar": {
              "outlinewidth": 0,
              "ticks": ""
             }
            },
            "type": "scattermapbox"
           }
          ],
          "scatterpolar": [
           {
            "marker": {
             "colorbar": {
              "outlinewidth": 0,
              "ticks": ""
             }
            },
            "type": "scatterpolar"
           }
          ],
          "scatterpolargl": [
           {
            "marker": {
             "colorbar": {
              "outlinewidth": 0,
              "ticks": ""
             }
            },
            "type": "scatterpolargl"
           }
          ],
          "scatterternary": [
           {
            "marker": {
             "colorbar": {
              "outlinewidth": 0,
              "ticks": ""
             }
            },
            "type": "scatterternary"
           }
          ],
          "surface": [
           {
            "colorbar": {
             "outlinewidth": 0,
             "ticks": ""
            },
            "colorscale": [
             [
              0,
              "#0d0887"
             ],
             [
              0.1111111111111111,
              "#46039f"
             ],
             [
              0.2222222222222222,
              "#7201a8"
             ],
             [
              0.3333333333333333,
              "#9c179e"
             ],
             [
              0.4444444444444444,
              "#bd3786"
             ],
             [
              0.5555555555555556,
              "#d8576b"
             ],
             [
              0.6666666666666666,
              "#ed7953"
             ],
             [
              0.7777777777777778,
              "#fb9f3a"
             ],
             [
              0.8888888888888888,
              "#fdca26"
             ],
             [
              1,
              "#f0f921"
             ]
            ],
            "type": "surface"
           }
          ],
          "table": [
           {
            "cells": {
             "fill": {
              "color": "#EBF0F8"
             },
             "line": {
              "color": "white"
             }
            },
            "header": {
             "fill": {
              "color": "#C8D4E3"
             },
             "line": {
              "color": "white"
             }
            },
            "type": "table"
           }
          ]
         },
         "layout": {
          "annotationdefaults": {
           "arrowcolor": "#2a3f5f",
           "arrowhead": 0,
           "arrowwidth": 1
          },
          "autotypenumbers": "strict",
          "coloraxis": {
           "colorbar": {
            "outlinewidth": 0,
            "ticks": ""
           }
          },
          "colorscale": {
           "diverging": [
            [
             0,
             "#8e0152"
            ],
            [
             0.1,
             "#c51b7d"
            ],
            [
             0.2,
             "#de77ae"
            ],
            [
             0.3,
             "#f1b6da"
            ],
            [
             0.4,
             "#fde0ef"
            ],
            [
             0.5,
             "#f7f7f7"
            ],
            [
             0.6,
             "#e6f5d0"
            ],
            [
             0.7,
             "#b8e186"
            ],
            [
             0.8,
             "#7fbc41"
            ],
            [
             0.9,
             "#4d9221"
            ],
            [
             1,
             "#276419"
            ]
           ],
           "sequential": [
            [
             0,
             "#0d0887"
            ],
            [
             0.1111111111111111,
             "#46039f"
            ],
            [
             0.2222222222222222,
             "#7201a8"
            ],
            [
             0.3333333333333333,
             "#9c179e"
            ],
            [
             0.4444444444444444,
             "#bd3786"
            ],
            [
             0.5555555555555556,
             "#d8576b"
            ],
            [
             0.6666666666666666,
             "#ed7953"
            ],
            [
             0.7777777777777778,
             "#fb9f3a"
            ],
            [
             0.8888888888888888,
             "#fdca26"
            ],
            [
             1,
             "#f0f921"
            ]
           ],
           "sequentialminus": [
            [
             0,
             "#0d0887"
            ],
            [
             0.1111111111111111,
             "#46039f"
            ],
            [
             0.2222222222222222,
             "#7201a8"
            ],
            [
             0.3333333333333333,
             "#9c179e"
            ],
            [
             0.4444444444444444,
             "#bd3786"
            ],
            [
             0.5555555555555556,
             "#d8576b"
            ],
            [
             0.6666666666666666,
             "#ed7953"
            ],
            [
             0.7777777777777778,
             "#fb9f3a"
            ],
            [
             0.8888888888888888,
             "#fdca26"
            ],
            [
             1,
             "#f0f921"
            ]
           ]
          },
          "colorway": [
           "#636efa",
           "#EF553B",
           "#00cc96",
           "#ab63fa",
           "#FFA15A",
           "#19d3f3",
           "#FF6692",
           "#B6E880",
           "#FF97FF",
           "#FECB52"
          ],
          "font": {
           "color": "#2a3f5f"
          },
          "geo": {
           "bgcolor": "white",
           "lakecolor": "white",
           "landcolor": "white",
           "showlakes": true,
           "showland": true,
           "subunitcolor": "#C8D4E3"
          },
          "hoverlabel": {
           "align": "left"
          },
          "hovermode": "closest",
          "mapbox": {
           "style": "light"
          },
          "paper_bgcolor": "white",
          "plot_bgcolor": "white",
          "polar": {
           "angularaxis": {
            "gridcolor": "#EBF0F8",
            "linecolor": "#EBF0F8",
            "ticks": ""
           },
           "bgcolor": "white",
           "radialaxis": {
            "gridcolor": "#EBF0F8",
            "linecolor": "#EBF0F8",
            "ticks": ""
           }
          },
          "scene": {
           "xaxis": {
            "backgroundcolor": "white",
            "gridcolor": "#DFE8F3",
            "gridwidth": 2,
            "linecolor": "#EBF0F8",
            "showbackground": true,
            "ticks": "",
            "zerolinecolor": "#EBF0F8"
           },
           "yaxis": {
            "backgroundcolor": "white",
            "gridcolor": "#DFE8F3",
            "gridwidth": 2,
            "linecolor": "#EBF0F8",
            "showbackground": true,
            "ticks": "",
            "zerolinecolor": "#EBF0F8"
           },
           "zaxis": {
            "backgroundcolor": "white",
            "gridcolor": "#DFE8F3",
            "gridwidth": 2,
            "linecolor": "#EBF0F8",
            "showbackground": true,
            "ticks": "",
            "zerolinecolor": "#EBF0F8"
           }
          },
          "shapedefaults": {
           "line": {
            "color": "#2a3f5f"
           }
          },
          "ternary": {
           "aaxis": {
            "gridcolor": "#DFE8F3",
            "linecolor": "#A2B1C6",
            "ticks": ""
           },
           "baxis": {
            "gridcolor": "#DFE8F3",
            "linecolor": "#A2B1C6",
            "ticks": ""
           },
           "bgcolor": "white",
           "caxis": {
            "gridcolor": "#DFE8F3",
            "linecolor": "#A2B1C6",
            "ticks": ""
           }
          },
          "title": {
           "x": 0.05
          },
          "xaxis": {
           "automargin": true,
           "gridcolor": "#EBF0F8",
           "linecolor": "#EBF0F8",
           "ticks": "",
           "title": {
            "standoff": 15
           },
           "zerolinecolor": "#EBF0F8",
           "zerolinewidth": 2
          },
          "yaxis": {
           "automargin": true,
           "gridcolor": "#EBF0F8",
           "linecolor": "#EBF0F8",
           "ticks": "",
           "title": {
            "standoff": 15
           },
           "zerolinecolor": "#EBF0F8",
           "zerolinewidth": 2
          }
         }
        },
        "title": {
         "text": "2 year ahead inflation expectations by housing status"
        },
        "xaxis": {
         "title": {
          "text": "Quarter"
         }
        },
        "yaxis": {
         "title": {
          "text": "Grouped Median (Interpolated)"
         }
        }
       }
      }
     },
     "metadata": {},
     "output_type": "display_data"
    }
   ],
   "source": [
    "plot_question_medians(median_dfs[1], housing_mapping, '2 year ahead inflation expectations by housing status')"
   ]
  },
  {
   "cell_type": "code",
   "execution_count": 32,
   "metadata": {},
   "outputs": [
    {
     "data": {
      "application/vnd.plotly.v1+json": {
       "config": {
        "plotlyServerURL": "https://plot.ly"
       },
       "data": [
        {
         "mode": "lines+markers",
         "name": "Owned outright",
         "type": "scatter",
         "x": [
          "2009-01-01T00:00:00.000000",
          "2009-04-01T00:00:00.000000",
          "2009-07-01T00:00:00.000000",
          "2009-10-01T00:00:00.000000",
          "2010-01-01T00:00:00.000000",
          "2010-04-01T00:00:00.000000",
          "2010-07-01T00:00:00.000000",
          "2010-10-01T00:00:00.000000",
          "2011-01-01T00:00:00.000000",
          "2011-04-01T00:00:00.000000",
          "2011-07-01T00:00:00.000000",
          "2011-10-01T00:00:00.000000",
          "2012-01-01T00:00:00.000000",
          "2012-04-01T00:00:00.000000",
          "2012-07-01T00:00:00.000000",
          "2012-10-01T00:00:00.000000",
          "2013-01-01T00:00:00.000000",
          "2013-04-01T00:00:00.000000",
          "2013-07-01T00:00:00.000000",
          "2013-10-01T00:00:00.000000",
          "2014-01-01T00:00:00.000000",
          "2014-04-01T00:00:00.000000",
          "2014-07-01T00:00:00.000000",
          "2014-10-01T00:00:00.000000",
          "2015-01-01T00:00:00.000000",
          "2015-04-01T00:00:00.000000",
          "2015-07-01T00:00:00.000000",
          "2015-10-01T00:00:00.000000",
          "2016-01-01T00:00:00.000000",
          "2016-04-01T00:00:00.000000",
          "2016-07-01T00:00:00.000000",
          "2016-10-01T00:00:00.000000",
          "2017-01-01T00:00:00.000000",
          "2017-04-01T00:00:00.000000",
          "2017-07-01T00:00:00.000000",
          "2017-10-01T00:00:00.000000",
          "2018-01-01T00:00:00.000000",
          "2018-04-01T00:00:00.000000",
          "2018-07-01T00:00:00.000000",
          "2018-10-01T00:00:00.000000",
          "2019-01-01T00:00:00.000000",
          "2019-04-01T00:00:00.000000",
          "2019-07-01T00:00:00.000000",
          "2019-10-01T00:00:00.000000",
          "2020-01-01T00:00:00.000000",
          "2020-04-01T00:00:00.000000",
          "2020-07-01T00:00:00.000000",
          "2020-10-01T00:00:00.000000",
          "2021-01-01T00:00:00.000000",
          "2021-04-01T00:00:00.000000",
          "2021-07-01T00:00:00.000000",
          "2021-10-01T00:00:00.000000",
          "2022-01-01T00:00:00.000000",
          "2022-04-01T00:00:00.000000",
          "2022-07-01T00:00:00.000000",
          "2022-10-01T00:00:00.000000",
          "2023-01-01T00:00:00.000000",
          "2023-04-01T00:00:00.000000",
          "2023-07-01T00:00:00.000000",
          "2023-10-01T00:00:00.000000",
          "2024-01-01T00:00:00.000000",
          "2024-04-01T00:00:00.000000",
          "2024-07-01T00:00:00.000000",
          "2024-10-01T00:00:00.000000",
          "2025-01-01T00:00:00.000000"
         ],
         "y": {
          "bdata": "bCivobyGBEBu27Zt27YFQAAAAAAAAARAq6qqqqqqBkDnnHPOOecEQAAAAAAAAAhAO7ETO7ETB0AMwzAMwzAIQKuqqqqqqghAo4suuuiiB0DsxE7sxE4MQAAAAAAAAApAmpmZmZmZCUAzMzMzMzMHQArXo3A9CgdAKK+hvIbyCkDgPoL7CO4HQBzHcRzHcQpA5DiO4ziOB0BJkiRJkiQNQML1KFyPwgVAdmIndmInBkAAAAAAAAAFQJTXUF5DeQlAchzHcRzHBUAAAAAAAIAHQBQ7sRM7sQVAbtu2bdu2BUBiJ3ZiJ3YGQG7btm3btgZAkiRJkiRJCkDFTuzETuwIQNJFF1100Q1A7+7u7u7uCkAAAAAAAAANQOmiiy666A5AwzAMwzAMDUAXXXTRRRcNQAAAAAAAgBFAymsor6G8EEARERERERENQKK8hvIayg9ApHA9CtejDEDoeZ7neZ4PQFVVVVVVlQxAAAAAAAAABkC8u7u7u7sHQGZmZmZmZgZAtbS0tLS0CEAAAAAAAAAEQKuqqqqqKgtAOY7jOI7jB0CWlpaWlpYMQML1KFyPwg1AvelNb3rTB0CamZmZmZkMQEYXXXTRRQpAAAAAAAAACEAzMzMzMzMMQIwuuuiiiwZA3dMIyz2NCEDNzMzMzMwKQEJ7Ce0ltAdA6aKLLrroEEBS39mo72wMQA==",
          "dtype": "f8"
         }
        },
        {
         "mode": "lines+markers",
         "name": "Council Rent",
         "type": "scatter",
         "x": [
          "2009-01-01T00:00:00.000000",
          "2009-04-01T00:00:00.000000",
          "2009-07-01T00:00:00.000000",
          "2009-10-01T00:00:00.000000",
          "2010-01-01T00:00:00.000000",
          "2010-04-01T00:00:00.000000",
          "2010-07-01T00:00:00.000000",
          "2010-10-01T00:00:00.000000",
          "2011-01-01T00:00:00.000000",
          "2011-04-01T00:00:00.000000",
          "2011-07-01T00:00:00.000000",
          "2011-10-01T00:00:00.000000",
          "2012-01-01T00:00:00.000000",
          "2012-04-01T00:00:00.000000",
          "2012-07-01T00:00:00.000000",
          "2012-10-01T00:00:00.000000",
          "2013-01-01T00:00:00.000000",
          "2013-04-01T00:00:00.000000",
          "2013-07-01T00:00:00.000000",
          "2013-10-01T00:00:00.000000",
          "2014-01-01T00:00:00.000000",
          "2014-04-01T00:00:00.000000",
          "2014-07-01T00:00:00.000000",
          "2014-10-01T00:00:00.000000",
          "2015-01-01T00:00:00.000000",
          "2015-04-01T00:00:00.000000",
          "2015-07-01T00:00:00.000000",
          "2015-10-01T00:00:00.000000",
          "2016-01-01T00:00:00.000000",
          "2016-04-01T00:00:00.000000",
          "2016-07-01T00:00:00.000000",
          "2016-10-01T00:00:00.000000",
          "2017-01-01T00:00:00.000000",
          "2017-04-01T00:00:00.000000",
          "2017-07-01T00:00:00.000000",
          "2017-10-01T00:00:00.000000",
          "2018-01-01T00:00:00.000000",
          "2018-04-01T00:00:00.000000",
          "2018-07-01T00:00:00.000000",
          "2018-10-01T00:00:00.000000",
          "2019-01-01T00:00:00.000000",
          "2019-04-01T00:00:00.000000",
          "2019-07-01T00:00:00.000000",
          "2019-10-01T00:00:00.000000",
          "2020-01-01T00:00:00.000000",
          "2020-04-01T00:00:00.000000",
          "2020-07-01T00:00:00.000000",
          "2020-10-01T00:00:00.000000",
          "2021-01-01T00:00:00.000000",
          "2021-04-01T00:00:00.000000",
          "2021-07-01T00:00:00.000000",
          "2021-10-01T00:00:00.000000",
          "2022-01-01T00:00:00.000000",
          "2022-04-01T00:00:00.000000",
          "2022-07-01T00:00:00.000000",
          "2022-10-01T00:00:00.000000",
          "2023-01-01T00:00:00.000000",
          "2023-04-01T00:00:00.000000",
          "2023-07-01T00:00:00.000000",
          "2023-10-01T00:00:00.000000",
          "2024-01-01T00:00:00.000000",
          "2024-04-01T00:00:00.000000",
          "2024-07-01T00:00:00.000000",
          "2024-10-01T00:00:00.000000",
          "2025-01-01T00:00:00.000000"
         ],
         "y": {
          "bdata": "a6211lprBUAAAAAAAAAHQBdswRZswQZAPDw8PDw8CkDRWB8a60MHQNC6wRT5rAtA6jsb9Z2NCkAzMzMzMzMNQK9E7UrUrgxAEJMriMkVEEAppZRSSikNQAAAAAAAoA5AOL3pTW96D0CbsqasKWsOQHIcx3EcxwpAIiIiIiIiEEDCSDtWIIwQQDi96U1vehBAntiJndiJDUB00UUXXXQNQH0MzsfgfApAsNzTCMs9B0DtJbSX0F4KQGZmZmZmZgZAW7AFW7AFB0A8G/WdjfoGQF5DeQ3lNQhAZmZmZmZmBkBX9jmkJhgHQOzETuzETgxA4YMPPvjgB0AkN3IjN3IHQGIfF/ZxYQdAhBBCCCGECEDZiZ3YiZ0LQI7cyI3cyAlAnUxfJYzNCkAsZCELWcgMQK0pa8qasg5AHMdxHMdxDkAq8lk3mCILQAAAAAAAQAxAcckQrKPNB0De3d3d3d0NQHHq99wSpwpA4D6C+wjuA0AsvuIrvuIFQFMDe8fUwAZAY7X1twc2BkD2KFyPwvUEQPhGFJh0agZAbbLJJptsCECO4ziO4zgKQDMzMzMzcwpAXXTRRRddCEAfhetRuB4JQOpNb3rTmwZAzsfgfAzOBUBNmjRp0qQFQDCPrQgaTgpA/HapJ+O3CUBjyS+W/GIJQBljjDHGGAtAAAAAAACgCkBQIyz3NMIMQA==",
          "dtype": "f8"
         }
        },
        {
         "mode": "lines+markers",
         "name": "5",
         "type": "scatter",
         "x": [
          "2009-01-01T00:00:00.000000",
          "2009-04-01T00:00:00.000000",
          "2009-07-01T00:00:00.000000",
          "2009-10-01T00:00:00.000000",
          "2010-01-01T00:00:00.000000",
          "2010-04-01T00:00:00.000000",
          "2010-07-01T00:00:00.000000",
          "2010-10-01T00:00:00.000000",
          "2011-01-01T00:00:00.000000",
          "2011-04-01T00:00:00.000000",
          "2011-07-01T00:00:00.000000",
          "2011-10-01T00:00:00.000000",
          "2012-01-01T00:00:00.000000",
          "2012-04-01T00:00:00.000000",
          "2012-07-01T00:00:00.000000",
          "2012-10-01T00:00:00.000000",
          "2013-01-01T00:00:00.000000",
          "2013-04-01T00:00:00.000000",
          "2013-07-01T00:00:00.000000",
          "2013-10-01T00:00:00.000000",
          "2014-01-01T00:00:00.000000",
          "2014-04-01T00:00:00.000000",
          "2014-07-01T00:00:00.000000",
          "2014-10-01T00:00:00.000000",
          "2015-01-01T00:00:00.000000",
          "2015-04-01T00:00:00.000000",
          "2015-07-01T00:00:00.000000",
          "2015-10-01T00:00:00.000000",
          "2016-01-01T00:00:00.000000",
          "2016-04-01T00:00:00.000000",
          "2016-07-01T00:00:00.000000",
          "2016-10-01T00:00:00.000000",
          "2017-01-01T00:00:00.000000",
          "2017-04-01T00:00:00.000000",
          "2017-07-01T00:00:00.000000",
          "2017-10-01T00:00:00.000000",
          "2018-01-01T00:00:00.000000",
          "2018-04-01T00:00:00.000000",
          "2018-07-01T00:00:00.000000",
          "2018-10-01T00:00:00.000000",
          "2019-01-01T00:00:00.000000",
          "2019-04-01T00:00:00.000000",
          "2019-07-01T00:00:00.000000",
          "2019-10-01T00:00:00.000000",
          "2020-01-01T00:00:00.000000",
          "2020-04-01T00:00:00.000000",
          "2020-07-01T00:00:00.000000",
          "2020-10-01T00:00:00.000000",
          "2021-01-01T00:00:00.000000",
          "2021-04-01T00:00:00.000000",
          "2021-07-01T00:00:00.000000",
          "2021-10-01T00:00:00.000000",
          "2022-01-01T00:00:00.000000",
          "2022-04-01T00:00:00.000000",
          "2022-07-01T00:00:00.000000",
          "2022-10-01T00:00:00.000000",
          "2023-01-01T00:00:00.000000",
          "2023-04-01T00:00:00.000000",
          "2023-07-01T00:00:00.000000",
          "2023-10-01T00:00:00.000000",
          "2024-01-01T00:00:00.000000",
          "2024-04-01T00:00:00.000000",
          "2024-07-01T00:00:00.000000",
          "2024-10-01T00:00:00.000000",
          "2025-01-01T00:00:00.000000"
         ],
         "y": {
          "bdata": "sChYFCwKBkCO4ziO4zgGQAy2YAu2YAdAu4VfjYn0CEA1XrpJDAILQKK8hvIayghAAAAAAACACED6+fn5+fkJQIWJ9yOn+QpASpMmTZo0CUDIpHiBTIoLQGmQBmmQBgtAWVPWlDVlB0AVvJyCl1MMQCVJkiRJkghABTG5gphcCUCjrqgr6ooOQKzFTZjf1Q5AaC+hvYT2DUAAAAAAAAAMQDw8PDw8PApA5ne1uAnzB0AgFikDT7cKQG0d+s3WoQdATwnylCBPBUCE5Z5GWO4GQCbFC2RSvARAjC666KKLBkDjXMcoznUIQEmSJEmSpAxAZQjW0eZ9BkB+NSbSA5UHQNcxinMdowhAsRM7sRM7C0AkN3IjN3IHQLsStStRuwpAHh4eHh4eC0C66KKLLroMQDMzMzMzMwtAQnsJ7SW0C0A9vgsH0eMLQCa0l9BeQgtAlnsaYbmnCUBjfWisD40NQEeaI82R5gxAbtZmbdZmBUCKndiJndgHQJtgvJV9DglA7tZ5BTTuBkDTL/3SL/0GQFYMlPBGUwdABw4cOHDgCEAd1EEd1EEJQHIcx3EcRwxAZmZmZmamCUBSSimllFIMQBUqVKhQoQhAh/IaymsoCUAu2IIt2IIHQNlkk0022QhA+aNO+aNOCUAAAAAAAEAJQGDvmBrYOwpAjDHGGGOMCUCf9Emf9EkLQA==",
          "dtype": "f8"
         }
        },
        {
         "mode": "lines+markers",
         "name": "Mortgage",
         "type": "scatter",
         "x": [
          "2009-01-01T00:00:00.000000",
          "2009-04-01T00:00:00.000000",
          "2009-07-01T00:00:00.000000",
          "2009-10-01T00:00:00.000000",
          "2010-01-01T00:00:00.000000",
          "2010-04-01T00:00:00.000000",
          "2010-07-01T00:00:00.000000",
          "2010-10-01T00:00:00.000000",
          "2011-01-01T00:00:00.000000",
          "2011-04-01T00:00:00.000000",
          "2011-07-01T00:00:00.000000",
          "2011-10-01T00:00:00.000000",
          "2012-01-01T00:00:00.000000",
          "2012-04-01T00:00:00.000000",
          "2012-07-01T00:00:00.000000",
          "2012-10-01T00:00:00.000000",
          "2013-01-01T00:00:00.000000",
          "2013-04-01T00:00:00.000000",
          "2013-07-01T00:00:00.000000",
          "2013-10-01T00:00:00.000000",
          "2014-01-01T00:00:00.000000",
          "2014-04-01T00:00:00.000000",
          "2014-07-01T00:00:00.000000",
          "2014-10-01T00:00:00.000000",
          "2015-01-01T00:00:00.000000",
          "2015-04-01T00:00:00.000000",
          "2015-07-01T00:00:00.000000",
          "2015-10-01T00:00:00.000000",
          "2016-01-01T00:00:00.000000",
          "2016-04-01T00:00:00.000000",
          "2016-07-01T00:00:00.000000",
          "2016-10-01T00:00:00.000000",
          "2017-01-01T00:00:00.000000",
          "2017-04-01T00:00:00.000000",
          "2017-07-01T00:00:00.000000",
          "2017-10-01T00:00:00.000000",
          "2018-01-01T00:00:00.000000",
          "2018-04-01T00:00:00.000000",
          "2018-07-01T00:00:00.000000",
          "2018-10-01T00:00:00.000000",
          "2019-01-01T00:00:00.000000",
          "2019-04-01T00:00:00.000000",
          "2019-07-01T00:00:00.000000",
          "2019-10-01T00:00:00.000000",
          "2020-01-01T00:00:00.000000",
          "2020-04-01T00:00:00.000000",
          "2020-07-01T00:00:00.000000",
          "2020-10-01T00:00:00.000000",
          "2021-01-01T00:00:00.000000",
          "2021-04-01T00:00:00.000000",
          "2021-07-01T00:00:00.000000",
          "2021-10-01T00:00:00.000000",
          "2022-01-01T00:00:00.000000",
          "2022-04-01T00:00:00.000000",
          "2022-07-01T00:00:00.000000",
          "2022-10-01T00:00:00.000000",
          "2023-01-01T00:00:00.000000",
          "2023-04-01T00:00:00.000000",
          "2023-07-01T00:00:00.000000",
          "2023-10-01T00:00:00.000000",
          "2024-01-01T00:00:00.000000",
          "2024-04-01T00:00:00.000000",
          "2024-07-01T00:00:00.000000",
          "2024-10-01T00:00:00.000000",
          "2025-01-01T00:00:00.000000"
         ],
         "y": {
          "bdata": "8fDw8PDwBkAlyFOCPCUIQFMDe8fUwAZAIyz3NMJyB0Dq2FsbprkHQJh6Mn671AdAGmG5pxGWC0DhehSuR+EMQLx+tlgZvg1APbYiaDipC0BddNFFF10MQFnIQhaykA9AjzzyyCOPDEBY7mmE5Z4OQN+w9g1r3whAkMH5GJyPDUBkAr1T13IMQLdt27Zt2wxA463sc0hNDEAzMzMzMzMPQOQ4juM4jgxA6qAO6qAOBkDNzMzMzMwNQFVVVVVVVQlAOEYw0d/JBkDWDabIZ90IQJzUfXlsRQhABS+n4OUUCEDWDabIZ90HQBZBw0ndlwtAlnsaYbmnCUBCewntJbQLQDwlyFOCPAtAAAAAAAAADECMLrrooosNQLW0tLS0tAxAERERERERC0BDsI4271MMQJGaYLyVfQ5A4XoUrkfhCEC0l9BeQnsNQHTRRRdddA9AZCELWchCCECDmFxBTK4MQLfEqd9zSwhA6FUWZ7R7BEDWDabIZ90GQBrYO6YG9gZAoXsRuhehB0CRmLczJOYFQGvKmrKmrAdAvLu7u7u7CUA22WSTTTYMQCu1Uiu1UgtA0LrBFPmsB0Bu27Zt27YKQPHkFk9u8QhA+IEf+IEfCEAykR6onN0GQOQ4juM4jglAas/J9FXCCEDBXDsw1w4IQOq+PLYiaAhAh/IaymsoC0DuwFw7MNcMQA==",
          "dtype": "f8"
         }
        },
        {
         "mode": "lines+markers",
         "name": "Other",
         "type": "scatter",
         "x": [
          "2009-01-01T00:00:00.000000",
          "2009-04-01T00:00:00.000000",
          "2009-07-01T00:00:00.000000",
          "2009-10-01T00:00:00.000000",
          "2010-01-01T00:00:00.000000",
          "2010-04-01T00:00:00.000000",
          "2010-07-01T00:00:00.000000",
          "2010-10-01T00:00:00.000000",
          "2011-01-01T00:00:00.000000",
          "2011-04-01T00:00:00.000000",
          "2011-07-01T00:00:00.000000",
          "2011-10-01T00:00:00.000000",
          "2012-01-01T00:00:00.000000",
          "2012-04-01T00:00:00.000000",
          "2012-07-01T00:00:00.000000",
          "2012-10-01T00:00:00.000000",
          "2013-01-01T00:00:00.000000",
          "2013-04-01T00:00:00.000000",
          "2013-07-01T00:00:00.000000",
          "2013-10-01T00:00:00.000000",
          "2014-01-01T00:00:00.000000",
          "2014-04-01T00:00:00.000000",
          "2014-07-01T00:00:00.000000",
          "2014-10-01T00:00:00.000000",
          "2015-01-01T00:00:00.000000",
          "2015-04-01T00:00:00.000000",
          "2015-07-01T00:00:00.000000",
          "2015-10-01T00:00:00.000000",
          "2016-01-01T00:00:00.000000",
          "2016-04-01T00:00:00.000000",
          "2016-07-01T00:00:00.000000",
          "2016-10-01T00:00:00.000000",
          "2017-01-01T00:00:00.000000",
          "2017-04-01T00:00:00.000000",
          "2017-07-01T00:00:00.000000",
          "2017-10-01T00:00:00.000000",
          "2018-01-01T00:00:00.000000",
          "2018-04-01T00:00:00.000000",
          "2018-07-01T00:00:00.000000",
          "2018-10-01T00:00:00.000000",
          "2019-01-01T00:00:00.000000",
          "2019-04-01T00:00:00.000000",
          "2019-07-01T00:00:00.000000",
          "2019-10-01T00:00:00.000000",
          "2020-01-01T00:00:00.000000",
          "2020-04-01T00:00:00.000000",
          "2020-07-01T00:00:00.000000",
          "2020-10-01T00:00:00.000000",
          "2021-01-01T00:00:00.000000",
          "2021-04-01T00:00:00.000000",
          "2021-07-01T00:00:00.000000",
          "2021-10-01T00:00:00.000000",
          "2022-01-01T00:00:00.000000",
          "2022-04-01T00:00:00.000000",
          "2022-07-01T00:00:00.000000",
          "2022-10-01T00:00:00.000000",
          "2023-01-01T00:00:00.000000",
          "2023-04-01T00:00:00.000000",
          "2023-07-01T00:00:00.000000",
          "2023-10-01T00:00:00.000000",
          "2024-01-01T00:00:00.000000",
          "2024-04-01T00:00:00.000000",
          "2024-07-01T00:00:00.000000",
          "2024-10-01T00:00:00.000000",
          "2025-01-01T00:00:00.000000"
         ],
         "y": {
          "bdata": "eHd3d3d3A0As9zTCck8LQHIcx3EcxwZAPgrXo3A9DkC7L4+tCBoKQM4555xzzglAmpmZmZmZDEBMaC+hvYQGQC2ms5jOYgpAH4PzMTgfB0Aor6G8hvIOQOQ4juM4jg1ASZIkSZIkC0AXXXTRRRcNQDrnnHPOOQtAAAAAAAAAEkC0l9BeQnsNQCRJkiRJkgxAlNdQXkN5CUCO4ziO4zgRQHTRRRdddAlAAAAAAAAACECSJEmSJEkIQF100UUXXQhAq6qqqqqqBkDRXkJ7Ce0BQJ9GWO5phAlASZIkSZIkBkBbtmzZsmUHQDuxEzuxEwlA33vvvffeA0CrqqqqqioGQMhCFrKQhQpAt23btm3bBkBVVVVVVdUIQCVJkiRJkglAtStRuxK1C0CykIUsZCELQE/sxE7sxAxAOuecc845B0DYUF5DeQ0JQHkN5TWU1whADw8PDw8PB0AAAAAAAAAHQBaykIUsZAdAiFxWDJTwAkA8PDw8PDwEQJqZmZmZGQhAdmIndmKnBUAuuuiiiy4FQDmO4ziO4whA6aKLLrroB0Be6sn47VILQOaeRljuaQxAfPDBBx98DEBkIQtZyEIKQP2EOCs/IQZAq6qqqqqqBEBjjDHGGGMIQBzHcRzHcQhAbdR3Nuo7B0BaN5gin3UHQOKOuCPuiAdACu0ltJfQDkDUm970pjcNQA==",
          "dtype": "f8"
         }
        }
       ],
       "layout": {
        "hovermode": "x unified",
        "legend": {
         "title": {
          "text": "Group"
         }
        },
        "template": {
         "data": {
          "bar": [
           {
            "error_x": {
             "color": "#2a3f5f"
            },
            "error_y": {
             "color": "#2a3f5f"
            },
            "marker": {
             "line": {
              "color": "white",
              "width": 0.5
             },
             "pattern": {
              "fillmode": "overlay",
              "size": 10,
              "solidity": 0.2
             }
            },
            "type": "bar"
           }
          ],
          "barpolar": [
           {
            "marker": {
             "line": {
              "color": "white",
              "width": 0.5
             },
             "pattern": {
              "fillmode": "overlay",
              "size": 10,
              "solidity": 0.2
             }
            },
            "type": "barpolar"
           }
          ],
          "carpet": [
           {
            "aaxis": {
             "endlinecolor": "#2a3f5f",
             "gridcolor": "#C8D4E3",
             "linecolor": "#C8D4E3",
             "minorgridcolor": "#C8D4E3",
             "startlinecolor": "#2a3f5f"
            },
            "baxis": {
             "endlinecolor": "#2a3f5f",
             "gridcolor": "#C8D4E3",
             "linecolor": "#C8D4E3",
             "minorgridcolor": "#C8D4E3",
             "startlinecolor": "#2a3f5f"
            },
            "type": "carpet"
           }
          ],
          "choropleth": [
           {
            "colorbar": {
             "outlinewidth": 0,
             "ticks": ""
            },
            "type": "choropleth"
           }
          ],
          "contour": [
           {
            "colorbar": {
             "outlinewidth": 0,
             "ticks": ""
            },
            "colorscale": [
             [
              0,
              "#0d0887"
             ],
             [
              0.1111111111111111,
              "#46039f"
             ],
             [
              0.2222222222222222,
              "#7201a8"
             ],
             [
              0.3333333333333333,
              "#9c179e"
             ],
             [
              0.4444444444444444,
              "#bd3786"
             ],
             [
              0.5555555555555556,
              "#d8576b"
             ],
             [
              0.6666666666666666,
              "#ed7953"
             ],
             [
              0.7777777777777778,
              "#fb9f3a"
             ],
             [
              0.8888888888888888,
              "#fdca26"
             ],
             [
              1,
              "#f0f921"
             ]
            ],
            "type": "contour"
           }
          ],
          "contourcarpet": [
           {
            "colorbar": {
             "outlinewidth": 0,
             "ticks": ""
            },
            "type": "contourcarpet"
           }
          ],
          "heatmap": [
           {
            "colorbar": {
             "outlinewidth": 0,
             "ticks": ""
            },
            "colorscale": [
             [
              0,
              "#0d0887"
             ],
             [
              0.1111111111111111,
              "#46039f"
             ],
             [
              0.2222222222222222,
              "#7201a8"
             ],
             [
              0.3333333333333333,
              "#9c179e"
             ],
             [
              0.4444444444444444,
              "#bd3786"
             ],
             [
              0.5555555555555556,
              "#d8576b"
             ],
             [
              0.6666666666666666,
              "#ed7953"
             ],
             [
              0.7777777777777778,
              "#fb9f3a"
             ],
             [
              0.8888888888888888,
              "#fdca26"
             ],
             [
              1,
              "#f0f921"
             ]
            ],
            "type": "heatmap"
           }
          ],
          "histogram": [
           {
            "marker": {
             "pattern": {
              "fillmode": "overlay",
              "size": 10,
              "solidity": 0.2
             }
            },
            "type": "histogram"
           }
          ],
          "histogram2d": [
           {
            "colorbar": {
             "outlinewidth": 0,
             "ticks": ""
            },
            "colorscale": [
             [
              0,
              "#0d0887"
             ],
             [
              0.1111111111111111,
              "#46039f"
             ],
             [
              0.2222222222222222,
              "#7201a8"
             ],
             [
              0.3333333333333333,
              "#9c179e"
             ],
             [
              0.4444444444444444,
              "#bd3786"
             ],
             [
              0.5555555555555556,
              "#d8576b"
             ],
             [
              0.6666666666666666,
              "#ed7953"
             ],
             [
              0.7777777777777778,
              "#fb9f3a"
             ],
             [
              0.8888888888888888,
              "#fdca26"
             ],
             [
              1,
              "#f0f921"
             ]
            ],
            "type": "histogram2d"
           }
          ],
          "histogram2dcontour": [
           {
            "colorbar": {
             "outlinewidth": 0,
             "ticks": ""
            },
            "colorscale": [
             [
              0,
              "#0d0887"
             ],
             [
              0.1111111111111111,
              "#46039f"
             ],
             [
              0.2222222222222222,
              "#7201a8"
             ],
             [
              0.3333333333333333,
              "#9c179e"
             ],
             [
              0.4444444444444444,
              "#bd3786"
             ],
             [
              0.5555555555555556,
              "#d8576b"
             ],
             [
              0.6666666666666666,
              "#ed7953"
             ],
             [
              0.7777777777777778,
              "#fb9f3a"
             ],
             [
              0.8888888888888888,
              "#fdca26"
             ],
             [
              1,
              "#f0f921"
             ]
            ],
            "type": "histogram2dcontour"
           }
          ],
          "mesh3d": [
           {
            "colorbar": {
             "outlinewidth": 0,
             "ticks": ""
            },
            "type": "mesh3d"
           }
          ],
          "parcoords": [
           {
            "line": {
             "colorbar": {
              "outlinewidth": 0,
              "ticks": ""
             }
            },
            "type": "parcoords"
           }
          ],
          "pie": [
           {
            "automargin": true,
            "type": "pie"
           }
          ],
          "scatter": [
           {
            "fillpattern": {
             "fillmode": "overlay",
             "size": 10,
             "solidity": 0.2
            },
            "type": "scatter"
           }
          ],
          "scatter3d": [
           {
            "line": {
             "colorbar": {
              "outlinewidth": 0,
              "ticks": ""
             }
            },
            "marker": {
             "colorbar": {
              "outlinewidth": 0,
              "ticks": ""
             }
            },
            "type": "scatter3d"
           }
          ],
          "scattercarpet": [
           {
            "marker": {
             "colorbar": {
              "outlinewidth": 0,
              "ticks": ""
             }
            },
            "type": "scattercarpet"
           }
          ],
          "scattergeo": [
           {
            "marker": {
             "colorbar": {
              "outlinewidth": 0,
              "ticks": ""
             }
            },
            "type": "scattergeo"
           }
          ],
          "scattergl": [
           {
            "marker": {
             "colorbar": {
              "outlinewidth": 0,
              "ticks": ""
             }
            },
            "type": "scattergl"
           }
          ],
          "scattermap": [
           {
            "marker": {
             "colorbar": {
              "outlinewidth": 0,
              "ticks": ""
             }
            },
            "type": "scattermap"
           }
          ],
          "scattermapbox": [
           {
            "marker": {
             "colorbar": {
              "outlinewidth": 0,
              "ticks": ""
             }
            },
            "type": "scattermapbox"
           }
          ],
          "scatterpolar": [
           {
            "marker": {
             "colorbar": {
              "outlinewidth": 0,
              "ticks": ""
             }
            },
            "type": "scatterpolar"
           }
          ],
          "scatterpolargl": [
           {
            "marker": {
             "colorbar": {
              "outlinewidth": 0,
              "ticks": ""
             }
            },
            "type": "scatterpolargl"
           }
          ],
          "scatterternary": [
           {
            "marker": {
             "colorbar": {
              "outlinewidth": 0,
              "ticks": ""
             }
            },
            "type": "scatterternary"
           }
          ],
          "surface": [
           {
            "colorbar": {
             "outlinewidth": 0,
             "ticks": ""
            },
            "colorscale": [
             [
              0,
              "#0d0887"
             ],
             [
              0.1111111111111111,
              "#46039f"
             ],
             [
              0.2222222222222222,
              "#7201a8"
             ],
             [
              0.3333333333333333,
              "#9c179e"
             ],
             [
              0.4444444444444444,
              "#bd3786"
             ],
             [
              0.5555555555555556,
              "#d8576b"
             ],
             [
              0.6666666666666666,
              "#ed7953"
             ],
             [
              0.7777777777777778,
              "#fb9f3a"
             ],
             [
              0.8888888888888888,
              "#fdca26"
             ],
             [
              1,
              "#f0f921"
             ]
            ],
            "type": "surface"
           }
          ],
          "table": [
           {
            "cells": {
             "fill": {
              "color": "#EBF0F8"
             },
             "line": {
              "color": "white"
             }
            },
            "header": {
             "fill": {
              "color": "#C8D4E3"
             },
             "line": {
              "color": "white"
             }
            },
            "type": "table"
           }
          ]
         },
         "layout": {
          "annotationdefaults": {
           "arrowcolor": "#2a3f5f",
           "arrowhead": 0,
           "arrowwidth": 1
          },
          "autotypenumbers": "strict",
          "coloraxis": {
           "colorbar": {
            "outlinewidth": 0,
            "ticks": ""
           }
          },
          "colorscale": {
           "diverging": [
            [
             0,
             "#8e0152"
            ],
            [
             0.1,
             "#c51b7d"
            ],
            [
             0.2,
             "#de77ae"
            ],
            [
             0.3,
             "#f1b6da"
            ],
            [
             0.4,
             "#fde0ef"
            ],
            [
             0.5,
             "#f7f7f7"
            ],
            [
             0.6,
             "#e6f5d0"
            ],
            [
             0.7,
             "#b8e186"
            ],
            [
             0.8,
             "#7fbc41"
            ],
            [
             0.9,
             "#4d9221"
            ],
            [
             1,
             "#276419"
            ]
           ],
           "sequential": [
            [
             0,
             "#0d0887"
            ],
            [
             0.1111111111111111,
             "#46039f"
            ],
            [
             0.2222222222222222,
             "#7201a8"
            ],
            [
             0.3333333333333333,
             "#9c179e"
            ],
            [
             0.4444444444444444,
             "#bd3786"
            ],
            [
             0.5555555555555556,
             "#d8576b"
            ],
            [
             0.6666666666666666,
             "#ed7953"
            ],
            [
             0.7777777777777778,
             "#fb9f3a"
            ],
            [
             0.8888888888888888,
             "#fdca26"
            ],
            [
             1,
             "#f0f921"
            ]
           ],
           "sequentialminus": [
            [
             0,
             "#0d0887"
            ],
            [
             0.1111111111111111,
             "#46039f"
            ],
            [
             0.2222222222222222,
             "#7201a8"
            ],
            [
             0.3333333333333333,
             "#9c179e"
            ],
            [
             0.4444444444444444,
             "#bd3786"
            ],
            [
             0.5555555555555556,
             "#d8576b"
            ],
            [
             0.6666666666666666,
             "#ed7953"
            ],
            [
             0.7777777777777778,
             "#fb9f3a"
            ],
            [
             0.8888888888888888,
             "#fdca26"
            ],
            [
             1,
             "#f0f921"
            ]
           ]
          },
          "colorway": [
           "#636efa",
           "#EF553B",
           "#00cc96",
           "#ab63fa",
           "#FFA15A",
           "#19d3f3",
           "#FF6692",
           "#B6E880",
           "#FF97FF",
           "#FECB52"
          ],
          "font": {
           "color": "#2a3f5f"
          },
          "geo": {
           "bgcolor": "white",
           "lakecolor": "white",
           "landcolor": "white",
           "showlakes": true,
           "showland": true,
           "subunitcolor": "#C8D4E3"
          },
          "hoverlabel": {
           "align": "left"
          },
          "hovermode": "closest",
          "mapbox": {
           "style": "light"
          },
          "paper_bgcolor": "white",
          "plot_bgcolor": "white",
          "polar": {
           "angularaxis": {
            "gridcolor": "#EBF0F8",
            "linecolor": "#EBF0F8",
            "ticks": ""
           },
           "bgcolor": "white",
           "radialaxis": {
            "gridcolor": "#EBF0F8",
            "linecolor": "#EBF0F8",
            "ticks": ""
           }
          },
          "scene": {
           "xaxis": {
            "backgroundcolor": "white",
            "gridcolor": "#DFE8F3",
            "gridwidth": 2,
            "linecolor": "#EBF0F8",
            "showbackground": true,
            "ticks": "",
            "zerolinecolor": "#EBF0F8"
           },
           "yaxis": {
            "backgroundcolor": "white",
            "gridcolor": "#DFE8F3",
            "gridwidth": 2,
            "linecolor": "#EBF0F8",
            "showbackground": true,
            "ticks": "",
            "zerolinecolor": "#EBF0F8"
           },
           "zaxis": {
            "backgroundcolor": "white",
            "gridcolor": "#DFE8F3",
            "gridwidth": 2,
            "linecolor": "#EBF0F8",
            "showbackground": true,
            "ticks": "",
            "zerolinecolor": "#EBF0F8"
           }
          },
          "shapedefaults": {
           "line": {
            "color": "#2a3f5f"
           }
          },
          "ternary": {
           "aaxis": {
            "gridcolor": "#DFE8F3",
            "linecolor": "#A2B1C6",
            "ticks": ""
           },
           "baxis": {
            "gridcolor": "#DFE8F3",
            "linecolor": "#A2B1C6",
            "ticks": ""
           },
           "bgcolor": "white",
           "caxis": {
            "gridcolor": "#DFE8F3",
            "linecolor": "#A2B1C6",
            "ticks": ""
           }
          },
          "title": {
           "x": 0.05
          },
          "xaxis": {
           "automargin": true,
           "gridcolor": "#EBF0F8",
           "linecolor": "#EBF0F8",
           "ticks": "",
           "title": {
            "standoff": 15
           },
           "zerolinecolor": "#EBF0F8",
           "zerolinewidth": 2
          },
          "yaxis": {
           "automargin": true,
           "gridcolor": "#EBF0F8",
           "linecolor": "#EBF0F8",
           "ticks": "",
           "title": {
            "standoff": 15
           },
           "zerolinecolor": "#EBF0F8",
           "zerolinewidth": 2
          }
         }
        },
        "title": {
         "text": "5 year ahead inflation expectations by housing status"
        },
        "xaxis": {
         "title": {
          "text": "Quarter"
         }
        },
        "yaxis": {
         "title": {
          "text": "Grouped Median (Interpolated)"
         }
        }
       }
      }
     },
     "metadata": {},
     "output_type": "display_data"
    }
   ],
   "source": [
    "plot_question_medians(median_dfs[2], housing_mapping, '5 year ahead inflation expectations by housing status')"
   ]
  }
 ],
 "metadata": {
  "kernelspec": {
   "display_name": "abm_econ",
   "language": "python",
   "name": "python3"
  },
  "language_info": {
   "codemirror_mode": {
    "name": "ipython",
    "version": 3
   },
   "file_extension": ".py",
   "mimetype": "text/x-python",
   "name": "python",
   "nbconvert_exporter": "python",
   "pygments_lexer": "ipython3",
   "version": "3.12.5"
  }
 },
 "nbformat": 4,
 "nbformat_minor": 2
}
